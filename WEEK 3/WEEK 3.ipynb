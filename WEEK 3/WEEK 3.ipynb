{
  "nbformat": 4,
  "nbformat_minor": 0,
  "metadata": {
    "kernelspec": {
      "display_name": "Python 3",
      "language": "python",
      "name": "python3"
    },
    "language_info": {
      "codemirror_mode": {
        "name": "ipython",
        "version": 3
      },
      "file_extension": ".py",
      "mimetype": "text/x-python",
      "name": "python",
      "nbconvert_exporter": "python",
      "pygments_lexer": "ipython3",
      "version": "3.6.12"
    },
    "colab": {
      "name": "WEEK2.ipynb",
      "provenance": [],
      "collapsed_sections": []
    }
  },
  "cells": [
    {
      "cell_type": "markdown",
      "metadata": {
        "id": "2GKIJx3sYNC0"
      },
      "source": [
        "# Task 2\n",
        "This week you have learnt about various types of ML models. <br>\n",
        "Let us focus on two of them."
      ]
    },
    {
      "cell_type": "code",
      "metadata": {
        "colab": {
          "base_uri": "https://localhost:8080/"
        },
        "id": "PQ4lXvV6YW_5",
        "outputId": "7b8f8554-2f9e-4a73-b378-dc3f2986812f"
      },
      "source": [
        "from google.colab import drive\n",
        "drive.mount(\"/content/gdrive\")"
      ],
      "execution_count": null,
      "outputs": [
        {
          "output_type": "stream",
          "name": "stdout",
          "text": [
            "Mounted at /content/gdrive\n"
          ]
        }
      ]
    },
    {
      "cell_type": "markdown",
      "metadata": {
        "id": "fKEbTpqVYg8m"
      },
      "source": [
        "# Instructions\n",
        "1. create a folder called synapse_w2 in your drive\n",
        "2. add housing_data.csv, classified_data.txt, titanic_data.csv in the folder.\n",
        "3. You will use the data from this path in this notebook"
      ]
    },
    {
      "cell_type": "code",
      "metadata": {
        "id": "88aLM-5hYgVL"
      },
      "source": [
        "housing_path = \"/content/housing_data.csv\"\n",
        "titanic_path = \"/content/titanic_data.csv\"\n",
        "classify_path = \"/content/classified_data.txt\"\n"
      ],
      "execution_count": null,
      "outputs": []
    },
    {
      "cell_type": "markdown",
      "metadata": {
        "id": "yJqOW8lFYNC3"
      },
      "source": [
        "# 1)  Linear Regression on Housing Price"
      ]
    },
    {
      "cell_type": "markdown",
      "metadata": {
        "id": "hZGyek2wYNC4"
      },
      "source": [
        "### Import packages and dataset"
      ]
    },
    {
      "cell_type": "code",
      "metadata": {
        "id": "C--rF9aZYNC4"
      },
      "source": [
        "# import numpy, pandas, matplotlib, seaborn\n",
        "# add code here\n",
        "import pandas as pd\n",
        "import numpy as np\n",
        "import matplotlib.pyplot as plt\n",
        "import seaborn as sns\n",
        "\n",
        "\n",
        "%matplotlib inline"
      ],
      "execution_count": null,
      "outputs": []
    },
    {
      "cell_type": "markdown",
      "metadata": {
        "id": "P8Kgu-VJYNC5"
      },
      "source": [
        "**Read housing_data.csv using pandas and call head() to show first few records.**"
      ]
    },
    {
      "cell_type": "code",
      "metadata": {
        "id": "qrdEbQKxYNC5",
        "colab": {
          "base_uri": "https://localhost:8080/",
          "height": 310
        },
        "outputId": "f064140b-0029-4b19-f253-f8e9fff740c6"
      },
      "source": [
        "# add code here\n",
        "housing_df = pd.read_csv(housing_path)\n",
        "\n",
        "housing_df.head()"
      ],
      "execution_count": null,
      "outputs": [
        {
          "output_type": "execute_result",
          "data": {
            "text/html": [
              "<div>\n",
              "<style scoped>\n",
              "    .dataframe tbody tr th:only-of-type {\n",
              "        vertical-align: middle;\n",
              "    }\n",
              "\n",
              "    .dataframe tbody tr th {\n",
              "        vertical-align: top;\n",
              "    }\n",
              "\n",
              "    .dataframe thead th {\n",
              "        text-align: right;\n",
              "    }\n",
              "</style>\n",
              "<table border=\"1\" class=\"dataframe\">\n",
              "  <thead>\n",
              "    <tr style=\"text-align: right;\">\n",
              "      <th></th>\n",
              "      <th>Avg. Area Income</th>\n",
              "      <th>Avg. Area House Age</th>\n",
              "      <th>Avg. Area Number of Rooms</th>\n",
              "      <th>Avg. Area Number of Bedrooms</th>\n",
              "      <th>Area Population</th>\n",
              "      <th>Price</th>\n",
              "      <th>Address</th>\n",
              "    </tr>\n",
              "  </thead>\n",
              "  <tbody>\n",
              "    <tr>\n",
              "      <th>0</th>\n",
              "      <td>79545.458574</td>\n",
              "      <td>5.682861</td>\n",
              "      <td>7.009188</td>\n",
              "      <td>4.09</td>\n",
              "      <td>23086.800503</td>\n",
              "      <td>1.059034e+06</td>\n",
              "      <td>208 Michael Ferry Apt. 674\\nLaurabury, NE 3701...</td>\n",
              "    </tr>\n",
              "    <tr>\n",
              "      <th>1</th>\n",
              "      <td>79248.642455</td>\n",
              "      <td>6.002900</td>\n",
              "      <td>6.730821</td>\n",
              "      <td>3.09</td>\n",
              "      <td>40173.072174</td>\n",
              "      <td>1.505891e+06</td>\n",
              "      <td>188 Johnson Views Suite 079\\nLake Kathleen, CA...</td>\n",
              "    </tr>\n",
              "    <tr>\n",
              "      <th>2</th>\n",
              "      <td>61287.067179</td>\n",
              "      <td>5.865890</td>\n",
              "      <td>8.512727</td>\n",
              "      <td>5.13</td>\n",
              "      <td>36882.159400</td>\n",
              "      <td>1.058988e+06</td>\n",
              "      <td>9127 Elizabeth Stravenue\\nDanieltown, WI 06482...</td>\n",
              "    </tr>\n",
              "    <tr>\n",
              "      <th>3</th>\n",
              "      <td>63345.240046</td>\n",
              "      <td>7.188236</td>\n",
              "      <td>5.586729</td>\n",
              "      <td>3.26</td>\n",
              "      <td>34310.242831</td>\n",
              "      <td>1.260617e+06</td>\n",
              "      <td>USS Barnett\\nFPO AP 44820</td>\n",
              "    </tr>\n",
              "    <tr>\n",
              "      <th>4</th>\n",
              "      <td>59982.197226</td>\n",
              "      <td>5.040555</td>\n",
              "      <td>7.839388</td>\n",
              "      <td>4.23</td>\n",
              "      <td>26354.109472</td>\n",
              "      <td>6.309435e+05</td>\n",
              "      <td>USNS Raymond\\nFPO AE 09386</td>\n",
              "    </tr>\n",
              "  </tbody>\n",
              "</table>\n",
              "</div>"
            ],
            "text/plain": [
              "   Avg. Area Income  ...                                            Address\n",
              "0      79545.458574  ...  208 Michael Ferry Apt. 674\\nLaurabury, NE 3701...\n",
              "1      79248.642455  ...  188 Johnson Views Suite 079\\nLake Kathleen, CA...\n",
              "2      61287.067179  ...  9127 Elizabeth Stravenue\\nDanieltown, WI 06482...\n",
              "3      63345.240046  ...                          USS Barnett\\nFPO AP 44820\n",
              "4      59982.197226  ...                         USNS Raymond\\nFPO AE 09386\n",
              "\n",
              "[5 rows x 7 columns]"
            ]
          },
          "metadata": {},
          "execution_count": 159
        }
      ]
    },
    {
      "cell_type": "markdown",
      "metadata": {
        "id": "_158HqRTYNC6"
      },
      "source": [
        "### Exloratory Data Analysis (EDA)"
      ]
    },
    {
      "cell_type": "markdown",
      "metadata": {
        "id": "YbmnOZ48YNC6"
      },
      "source": [
        "**'info()' method to check the data types and number**"
      ]
    },
    {
      "cell_type": "code",
      "metadata": {
        "id": "7YWr6trZYNC6",
        "colab": {
          "base_uri": "https://localhost:8080/"
        },
        "outputId": "ff94f66e-b698-4c24-bd2b-0ecb5b71ab39"
      },
      "source": [
        "# add code here\n",
        "\n",
        "housing_df.info()"
      ],
      "execution_count": null,
      "outputs": [
        {
          "output_type": "stream",
          "name": "stdout",
          "text": [
            "<class 'pandas.core.frame.DataFrame'>\n",
            "RangeIndex: 5000 entries, 0 to 4999\n",
            "Data columns (total 7 columns):\n",
            " #   Column                        Non-Null Count  Dtype  \n",
            "---  ------                        --------------  -----  \n",
            " 0   Avg. Area Income              5000 non-null   float64\n",
            " 1   Avg. Area House Age           5000 non-null   float64\n",
            " 2   Avg. Area Number of Rooms     5000 non-null   float64\n",
            " 3   Avg. Area Number of Bedrooms  5000 non-null   float64\n",
            " 4   Area Population               5000 non-null   float64\n",
            " 5   Price                         5000 non-null   float64\n",
            " 6   Address                       5000 non-null   object \n",
            "dtypes: float64(6), object(1)\n",
            "memory usage: 273.6+ KB\n"
          ]
        }
      ]
    },
    {
      "cell_type": "markdown",
      "metadata": {
        "id": "-XVB-HteYNC7"
      },
      "source": [
        "**Get the statistical summary of the data set** <br>\n",
        "Hint: describe()"
      ]
    },
    {
      "cell_type": "code",
      "metadata": {
        "id": "XZPbIjgYYNC7",
        "colab": {
          "base_uri": "https://localhost:8080/",
          "height": 318
        },
        "outputId": "6d6dcf4d-b1bb-477f-bab0-faee7183219a"
      },
      "source": [
        "# add code here\n",
        "housing_df.describe()"
      ],
      "execution_count": null,
      "outputs": [
        {
          "output_type": "execute_result",
          "data": {
            "text/html": [
              "<div>\n",
              "<style scoped>\n",
              "    .dataframe tbody tr th:only-of-type {\n",
              "        vertical-align: middle;\n",
              "    }\n",
              "\n",
              "    .dataframe tbody tr th {\n",
              "        vertical-align: top;\n",
              "    }\n",
              "\n",
              "    .dataframe thead th {\n",
              "        text-align: right;\n",
              "    }\n",
              "</style>\n",
              "<table border=\"1\" class=\"dataframe\">\n",
              "  <thead>\n",
              "    <tr style=\"text-align: right;\">\n",
              "      <th></th>\n",
              "      <th>Avg. Area Income</th>\n",
              "      <th>Avg. Area House Age</th>\n",
              "      <th>Avg. Area Number of Rooms</th>\n",
              "      <th>Avg. Area Number of Bedrooms</th>\n",
              "      <th>Area Population</th>\n",
              "      <th>Price</th>\n",
              "    </tr>\n",
              "  </thead>\n",
              "  <tbody>\n",
              "    <tr>\n",
              "      <th>count</th>\n",
              "      <td>5000.000000</td>\n",
              "      <td>5000.000000</td>\n",
              "      <td>5000.000000</td>\n",
              "      <td>5000.000000</td>\n",
              "      <td>5000.000000</td>\n",
              "      <td>5.000000e+03</td>\n",
              "    </tr>\n",
              "    <tr>\n",
              "      <th>mean</th>\n",
              "      <td>68583.108984</td>\n",
              "      <td>5.977222</td>\n",
              "      <td>6.987792</td>\n",
              "      <td>3.981330</td>\n",
              "      <td>36163.516039</td>\n",
              "      <td>1.232073e+06</td>\n",
              "    </tr>\n",
              "    <tr>\n",
              "      <th>std</th>\n",
              "      <td>10657.991214</td>\n",
              "      <td>0.991456</td>\n",
              "      <td>1.005833</td>\n",
              "      <td>1.234137</td>\n",
              "      <td>9925.650114</td>\n",
              "      <td>3.531176e+05</td>\n",
              "    </tr>\n",
              "    <tr>\n",
              "      <th>min</th>\n",
              "      <td>17796.631190</td>\n",
              "      <td>2.644304</td>\n",
              "      <td>3.236194</td>\n",
              "      <td>2.000000</td>\n",
              "      <td>172.610686</td>\n",
              "      <td>1.593866e+04</td>\n",
              "    </tr>\n",
              "    <tr>\n",
              "      <th>25%</th>\n",
              "      <td>61480.562388</td>\n",
              "      <td>5.322283</td>\n",
              "      <td>6.299250</td>\n",
              "      <td>3.140000</td>\n",
              "      <td>29403.928702</td>\n",
              "      <td>9.975771e+05</td>\n",
              "    </tr>\n",
              "    <tr>\n",
              "      <th>50%</th>\n",
              "      <td>68804.286404</td>\n",
              "      <td>5.970429</td>\n",
              "      <td>7.002902</td>\n",
              "      <td>4.050000</td>\n",
              "      <td>36199.406689</td>\n",
              "      <td>1.232669e+06</td>\n",
              "    </tr>\n",
              "    <tr>\n",
              "      <th>75%</th>\n",
              "      <td>75783.338666</td>\n",
              "      <td>6.650808</td>\n",
              "      <td>7.665871</td>\n",
              "      <td>4.490000</td>\n",
              "      <td>42861.290769</td>\n",
              "      <td>1.471210e+06</td>\n",
              "    </tr>\n",
              "    <tr>\n",
              "      <th>max</th>\n",
              "      <td>107701.748378</td>\n",
              "      <td>9.519088</td>\n",
              "      <td>10.759588</td>\n",
              "      <td>6.500000</td>\n",
              "      <td>69621.713378</td>\n",
              "      <td>2.469066e+06</td>\n",
              "    </tr>\n",
              "  </tbody>\n",
              "</table>\n",
              "</div>"
            ],
            "text/plain": [
              "       Avg. Area Income  Avg. Area House Age  ...  Area Population         Price\n",
              "count       5000.000000          5000.000000  ...      5000.000000  5.000000e+03\n",
              "mean       68583.108984             5.977222  ...     36163.516039  1.232073e+06\n",
              "std        10657.991214             0.991456  ...      9925.650114  3.531176e+05\n",
              "min        17796.631190             2.644304  ...       172.610686  1.593866e+04\n",
              "25%        61480.562388             5.322283  ...     29403.928702  9.975771e+05\n",
              "50%        68804.286404             5.970429  ...     36199.406689  1.232669e+06\n",
              "75%        75783.338666             6.650808  ...     42861.290769  1.471210e+06\n",
              "max       107701.748378             9.519088  ...     69621.713378  2.469066e+06\n",
              "\n",
              "[8 rows x 6 columns]"
            ]
          },
          "metadata": {},
          "execution_count": 197
        }
      ]
    },
    {
      "cell_type": "markdown",
      "metadata": {
        "id": "DfSgsewYYNC7"
      },
      "source": [
        "**Print the names of the columns(features)**"
      ]
    },
    {
      "cell_type": "code",
      "metadata": {
        "id": "9ss5VF20YNC8",
        "colab": {
          "base_uri": "https://localhost:8080/"
        },
        "outputId": "3458bb6f-77eb-4faf-e12e-b8502be75ba3"
      },
      "source": [
        "# add code here\n",
        "col_names = list(housing_df.columns)\n",
        "print(\"List of col names : \",col_names)\n",
        "for i in range(len(col_names)):\n",
        "  print(col_names[i])"
      ],
      "execution_count": null,
      "outputs": [
        {
          "output_type": "stream",
          "name": "stdout",
          "text": [
            "List of col names :  ['Avg. Area Income', 'Avg. Area House Age', 'Avg. Area Number of Rooms', 'Avg. Area Number of Bedrooms', 'Area Population', 'Price', 'Address']\n",
            "Avg. Area Income\n",
            "Avg. Area House Age\n",
            "Avg. Area Number of Rooms\n",
            "Avg. Area Number of Bedrooms\n",
            "Area Population\n",
            "Price\n",
            "Address\n"
          ]
        }
      ]
    },
    {
      "cell_type": "markdown",
      "metadata": {
        "id": "p0HiN5NeYNC8"
      },
      "source": [
        "### Basic plotting and visualization"
      ]
    },
    {
      "cell_type": "markdown",
      "metadata": {
        "id": "-rumpxTXYNC8"
      },
      "source": [
        "**The target quantity is price. Let us see its distribution.** <br>\n",
        "Plot a histogram of Price. Choose the number of bins by experimenting a little. (Expected: a bell curve shape)"
      ]
    },
    {
      "cell_type": "code",
      "metadata": {
        "id": "8BGkFMVBYNC8",
        "colab": {
          "base_uri": "https://localhost:8080/",
          "height": 661
        },
        "outputId": "a0ae576d-f4fd-458a-c2d1-31a710167e0d"
      },
      "source": [
        "# add code here\n",
        "from scipy.stats import norm\n",
        "import statistics\n",
        "\n",
        "a = housing_df[\"Price\"]\n",
        "n_bins = 30\n",
        "# Creating histogram\n",
        "print(a)\n",
        "fig, ax = plt.subplots(figsize =(10, 7))\n",
        "ax.hist(a,bins = n_bins)\n",
        " \n",
        "# Show plot\n",
        "plt.show()\n",
        "\n"
      ],
      "execution_count": null,
      "outputs": [
        {
          "output_type": "stream",
          "name": "stdout",
          "text": [
            "0       1.059034e+06\n",
            "1       1.505891e+06\n",
            "2       1.058988e+06\n",
            "3       1.260617e+06\n",
            "4       6.309435e+05\n",
            "            ...     \n",
            "4995    1.060194e+06\n",
            "4996    1.482618e+06\n",
            "4997    1.030730e+06\n",
            "4998    1.198657e+06\n",
            "4999    1.298950e+06\n",
            "Name: Price, Length: 5000, dtype: float64\n"
          ]
        },
        {
          "output_type": "display_data",
          "data": {
            "image/png": "[encoded data removed]",
            "text/plain": [
              "<Figure size 720x504 with 1 Axes>"
            ]
          },
          "metadata": {
            "needs_background": "light"
          }
        }
      ]
    },
    {
      "cell_type": "markdown",
      "metadata": {
        "id": "Al174yCyYNC9"
      },
      "source": [
        "**Let us see how the different features are correlated with each other by printing a Correlation Matrix**<br>\n",
        "Hint: corr()"
      ]
    },
    {
      "cell_type": "code",
      "metadata": {
        "scrolled": false,
        "id": "aaLwISKZYNC9",
        "colab": {
          "base_uri": "https://localhost:8080/",
          "height": 290
        },
        "outputId": "a45f9337-a5c3-4d4b-ddcf-5c3773c511dc"
      },
      "source": [
        "# add code here\n",
        "\n",
        "housing_df.corr()"
      ],
      "execution_count": null,
      "outputs": [
        {
          "output_type": "execute_result",
          "data": {
            "text/html": [
              "<div>\n",
              "<style scoped>\n",
              "    .dataframe tbody tr th:only-of-type {\n",
              "        vertical-align: middle;\n",
              "    }\n",
              "\n",
              "    .dataframe tbody tr th {\n",
              "        vertical-align: top;\n",
              "    }\n",
              "\n",
              "    .dataframe thead th {\n",
              "        text-align: right;\n",
              "    }\n",
              "</style>\n",
              "<table border=\"1\" class=\"dataframe\">\n",
              "  <thead>\n",
              "    <tr style=\"text-align: right;\">\n",
              "      <th></th>\n",
              "      <th>Avg. Area Income</th>\n",
              "      <th>Avg. Area House Age</th>\n",
              "      <th>Avg. Area Number of Rooms</th>\n",
              "      <th>Avg. Area Number of Bedrooms</th>\n",
              "      <th>Area Population</th>\n",
              "      <th>Price</th>\n",
              "    </tr>\n",
              "  </thead>\n",
              "  <tbody>\n",
              "    <tr>\n",
              "      <th>Avg. Area Income</th>\n",
              "      <td>1.000000</td>\n",
              "      <td>-0.002007</td>\n",
              "      <td>-0.011032</td>\n",
              "      <td>0.019788</td>\n",
              "      <td>-0.016234</td>\n",
              "      <td>0.639734</td>\n",
              "    </tr>\n",
              "    <tr>\n",
              "      <th>Avg. Area House Age</th>\n",
              "      <td>-0.002007</td>\n",
              "      <td>1.000000</td>\n",
              "      <td>-0.009428</td>\n",
              "      <td>0.006149</td>\n",
              "      <td>-0.018743</td>\n",
              "      <td>0.452543</td>\n",
              "    </tr>\n",
              "    <tr>\n",
              "      <th>Avg. Area Number of Rooms</th>\n",
              "      <td>-0.011032</td>\n",
              "      <td>-0.009428</td>\n",
              "      <td>1.000000</td>\n",
              "      <td>0.462695</td>\n",
              "      <td>0.002040</td>\n",
              "      <td>0.335664</td>\n",
              "    </tr>\n",
              "    <tr>\n",
              "      <th>Avg. Area Number of Bedrooms</th>\n",
              "      <td>0.019788</td>\n",
              "      <td>0.006149</td>\n",
              "      <td>0.462695</td>\n",
              "      <td>1.000000</td>\n",
              "      <td>-0.022168</td>\n",
              "      <td>0.171071</td>\n",
              "    </tr>\n",
              "    <tr>\n",
              "      <th>Area Population</th>\n",
              "      <td>-0.016234</td>\n",
              "      <td>-0.018743</td>\n",
              "      <td>0.002040</td>\n",
              "      <td>-0.022168</td>\n",
              "      <td>1.000000</td>\n",
              "      <td>0.408556</td>\n",
              "    </tr>\n",
              "    <tr>\n",
              "      <th>Price</th>\n",
              "      <td>0.639734</td>\n",
              "      <td>0.452543</td>\n",
              "      <td>0.335664</td>\n",
              "      <td>0.171071</td>\n",
              "      <td>0.408556</td>\n",
              "      <td>1.000000</td>\n",
              "    </tr>\n",
              "  </tbody>\n",
              "</table>\n",
              "</div>"
            ],
            "text/plain": [
              "                              Avg. Area Income  ...     Price\n",
              "Avg. Area Income                      1.000000  ...  0.639734\n",
              "Avg. Area House Age                  -0.002007  ...  0.452543\n",
              "Avg. Area Number of Rooms            -0.011032  ...  0.335664\n",
              "Avg. Area Number of Bedrooms          0.019788  ...  0.171071\n",
              "Area Population                      -0.016234  ...  0.408556\n",
              "Price                                 0.639734  ...  1.000000\n",
              "\n",
              "[6 rows x 6 columns]"
            ]
          },
          "metadata": {},
          "execution_count": 207
        }
      ]
    },
    {
      "cell_type": "markdown",
      "metadata": {
        "id": "niwpNf_EYNC9"
      },
      "source": [
        "### Feature and variable sets"
      ]
    },
    {
      "cell_type": "markdown",
      "metadata": {
        "id": "YZRq4NakYNC9"
      },
      "source": [
        "**Make a list of data frame column names**\n",
        "**Create a new dataframe containing all the numerical training features(note that Address is a string so ignore that) and store it in a variable called \"X\"**<br><br>\n",
        "**Then create a new dataframe containing the target (Price) and store it in a variable called \"y\"**"
      ]
    },
    {
      "cell_type": "code",
      "metadata": {
        "id": "KBKubTuLYNC-"
      },
      "source": [
        "# add code here\n",
        "\"\"\"X = pd.DataFrame(housing_df)\n",
        "X.drop('Price',axis=1,inplace=True)\n",
        "X.drop('Address',axis=1,inplace=True)\n",
        "X\n",
        "y=housing_df[\"Price\"]\n",
        "print(type(y))\"\"\"\n",
        "l_column = list(housing_df.columns) # Making a list out of column names\n",
        "len_feature = len(l_column) # Length of column vector list\n",
        "X = housing_df[l_column[0:len_feature-2]]\n",
        "y = housing_df[l_column[len_feature-2]]\n",
        "\n"
      ],
      "execution_count": null,
      "outputs": []
    },
    {
      "cell_type": "code",
      "metadata": {
        "id": "2w-pU7UhYNC-",
        "colab": {
          "base_uri": "https://localhost:8080/"
        },
        "outputId": "7916bd4e-7232-47b8-b939-b949ded3fbe2"
      },
      "source": [
        "# This code should print (5000, 5) and (5000,) if everything is correct\n",
        "\n",
        "print(X.shape,y.shape)"
      ],
      "execution_count": null,
      "outputs": [
        {
          "output_type": "stream",
          "name": "stdout",
          "text": [
            "(5000, 5) (5000,)\n"
          ]
        }
      ]
    },
    {
      "cell_type": "code",
      "metadata": {
        "id": "qC6JzmuDYNC-",
        "colab": {
          "base_uri": "https://localhost:8080/"
        },
        "outputId": "bca1f363-cc61-4c7a-e7ff-2cbfaf64e2ff"
      },
      "source": [
        "# print a few record of X\n",
        "# add code here\n",
        "\n",
        "print(X.head(10))"
      ],
      "execution_count": null,
      "outputs": [
        {
          "output_type": "stream",
          "name": "stdout",
          "text": [
            "   Avg. Area Income  ...  Area Population\n",
            "0      79545.458574  ...     23086.800503\n",
            "1      79248.642455  ...     40173.072174\n",
            "2      61287.067179  ...     36882.159400\n",
            "3      63345.240046  ...     34310.242831\n",
            "4      59982.197226  ...     26354.109472\n",
            "5      80175.754159  ...     26748.428425\n",
            "6      64698.463428  ...     60828.249085\n",
            "7      78394.339278  ...     36516.358972\n",
            "8      59927.660813  ...     29387.396003\n",
            "9      81885.927184  ...     40149.965749\n",
            "\n",
            "[10 rows x 5 columns]\n"
          ]
        }
      ]
    },
    {
      "cell_type": "code",
      "metadata": {
        "id": "rQ9RkZ1-YNC-",
        "colab": {
          "base_uri": "https://localhost:8080/"
        },
        "outputId": "5d7d543e-7049-4982-9932-2b90ec1e9a90"
      },
      "source": [
        "# print a few record of y\n",
        "# add code here\n",
        "print(y.head(10))"
      ],
      "execution_count": null,
      "outputs": [
        {
          "output_type": "stream",
          "name": "stdout",
          "text": [
            "0    1.059034e+06\n",
            "1    1.505891e+06\n",
            "2    1.058988e+06\n",
            "3    1.260617e+06\n",
            "4    6.309435e+05\n",
            "5    1.068138e+06\n",
            "6    1.502056e+06\n",
            "7    1.573937e+06\n",
            "8    7.988695e+05\n",
            "9    1.545155e+06\n",
            "Name: Price, dtype: float64\n"
          ]
        }
      ]
    },
    {
      "cell_type": "markdown",
      "metadata": {
        "id": "TvhXRmGyYNC_"
      },
      "source": [
        "### Test-train split"
      ]
    },
    {
      "cell_type": "markdown",
      "metadata": {
        "id": "A-I6E4XuYNC_"
      },
      "source": [
        "**Import train_test_split function from scikit-learn**"
      ]
    },
    {
      "cell_type": "code",
      "metadata": {
        "id": "SJ2t9WC4YNC_"
      },
      "source": [
        "# add code here\n",
        "from sklearn.model_selection import train_test_split\n"
      ],
      "execution_count": null,
      "outputs": []
    },
    {
      "cell_type": "markdown",
      "metadata": {
        "id": "wTHAGB7pYNC_"
      },
      "source": [
        "**Create X and y train and test splits in one command using a test size of 0.3 and a random seed**<br>\n",
        "They should be called X_train, X_test, y_train, y_test"
      ]
    },
    {
      "cell_type": "code",
      "metadata": {
        "id": "gZWMHfPcYNC_"
      },
      "source": [
        "# add code here\n",
        "X_train, X_test, y_train, y_test = train_test_split(X,y,test_size= 0.3,random_state=21)"
      ],
      "execution_count": null,
      "outputs": []
    },
    {
      "cell_type": "markdown",
      "metadata": {
        "id": "xyfldBi7YNDA"
      },
      "source": [
        "**Print the size and shape of each of the train/test splits (it should be in the ratio as per test_size parameter above)**"
      ]
    },
    {
      "cell_type": "code",
      "metadata": {
        "id": "PTMhv-xlYNDA",
        "colab": {
          "base_uri": "https://localhost:8080/"
        },
        "outputId": "69d8a0f7-4e07-4249-8cb7-5291707dd00c"
      },
      "source": [
        "# add code here\n",
        "print(X_train.shape, X_test.shape, y_train.shape, y_test.shape)\n",
        "print(X_train.size, X_test.size, y_train.size, y_test.size)"
      ],
      "execution_count": null,
      "outputs": [
        {
          "output_type": "stream",
          "name": "stdout",
          "text": [
            "(3500, 5) (1500, 5) (3500,) (1500,)\n",
            "17500 7500 3500 1500\n"
          ]
        }
      ]
    },
    {
      "cell_type": "markdown",
      "metadata": {
        "id": "ZBLwVsQIYNDA"
      },
      "source": [
        "### Model fit and training"
      ]
    },
    {
      "cell_type": "markdown",
      "metadata": {
        "id": "uNPr5Xb0YNDA"
      },
      "source": [
        "**Import LinearRegression and metrics from scikit-learn**"
      ]
    },
    {
      "cell_type": "code",
      "metadata": {
        "id": "llBzX5-EYNDA"
      },
      "source": [
        "# add code for imports here\n",
        "from sklearn.linear_model import LinearRegression\n",
        "# Create a Linear Regression object 'lm' by calling LinearRegression()\n",
        "# add code here\n",
        "lm = LinearRegression()"
      ],
      "execution_count": null,
      "outputs": []
    },
    {
      "cell_type": "markdown",
      "metadata": {
        "id": "rRzoOJXhYNDA"
      },
      "source": [
        "**Fit the model on to the instantiated object itself using the X_train and y_train created earlier. No need to create another variable**<br>\n",
        "Hint: lm.fit()"
      ]
    },
    {
      "cell_type": "code",
      "metadata": {
        "id": "R9U1pME1YNDB",
        "colab": {
          "base_uri": "https://localhost:8080/"
        },
        "outputId": "be6e17ce-1bd9-4dbf-8644-d7e95d39c0fe"
      },
      "source": [
        "# add code here\n",
        "lm.fit(X_train,y_train)"
      ],
      "execution_count": null,
      "outputs": [
        {
          "output_type": "execute_result",
          "data": {
            "text/plain": [
              "LinearRegression(copy_X=True, fit_intercept=True, n_jobs=None, normalize=False)"
            ]
          },
          "metadata": {},
          "execution_count": 217
        }
      ]
    },
    {
      "cell_type": "markdown",
      "metadata": {
        "id": "a7pxLfloYNDM"
      },
      "source": [
        "### Prediction, error estimate, and regression evaluation matrices"
      ]
    },
    {
      "cell_type": "markdown",
      "metadata": {
        "id": "rOXcTK_iYNDN"
      },
      "source": [
        "**Prediction using the lm model**<br>\n",
        "Use model.predict() on X_test and store them in a variable called \"predictions\".<br>\n",
        "Print type and size of the predictions. Size should be (1500,) if everything is correct."
      ]
    },
    {
      "cell_type": "code",
      "metadata": {
        "id": "ef28Cy7pYNDP",
        "colab": {
          "base_uri": "https://localhost:8080/"
        },
        "outputId": "96c7a48c-12d3-41ef-82e0-ec61c0ffcd03"
      },
      "source": [
        "# add code here\n",
        "predictions = lm.predict(X_test)\n",
        "predictions.size"
      ],
      "execution_count": null,
      "outputs": [
        {
          "output_type": "execute_result",
          "data": {
            "text/plain": [
              "1500"
            ]
          },
          "metadata": {},
          "execution_count": 218
        }
      ]
    },
    {
      "cell_type": "markdown",
      "metadata": {
        "id": "rPM6_2M5YNDQ"
      },
      "source": [
        "**Since we're done with our predictions, let's compare it with y_test and see how accurate our predictions are.<br> Plot a Scatter plot of predicted price and y_test set to see if the data fall on a 45 degree straight line**"
      ]
    },
    {
      "cell_type": "code",
      "metadata": {
        "id": "weZveuSxiKIG"
      },
      "source": [
        ""
      ],
      "execution_count": null,
      "outputs": []
    },
    {
      "cell_type": "code",
      "metadata": {
        "scrolled": false,
        "id": "2T7YcpWMYNDQ",
        "colab": {
          "base_uri": "https://localhost:8080/",
          "height": 312
        },
        "outputId": "f9b8768c-cf11-4000-8463-ad6e3603c9af"
      },
      "source": [
        "# add code here\n",
        "\n",
        "Y = predictions\n",
        "X = y_test\n",
        "colors = np.random.randint(1500, size=(1500))\n",
        "plt.title(\"Actual vs. predicted house prices\",fontsize=25)\n",
        "plt.xlabel(\"Actual test set house prices\",fontsize=18)\n",
        "plt.ylabel(\"Predicted house prices\", fontsize=18)\n",
        "plt.scatter(X,Y)\n",
        "\n",
        "\n",
        "plt.show() "
      ],
      "execution_count": null,
      "outputs": [
        {
          "output_type": "display_data",
          "data": {
            "image/png": "[encoded data removed]",
            "text/plain": [
              "<Figure size 432x288 with 1 Axes>"
            ]
          },
          "metadata": {
            "needs_background": "light"
          }
        }
      ]
    },
    {
      "cell_type": "markdown",
      "metadata": {
        "id": "LZtFB738YNDS"
      },
      "source": [
        "**Print the R-square value and round it to 3 decimal places**<br>\n",
        "Hint: sklearn metrics.r2_score"
      ]
    },
    {
      "cell_type": "code",
      "metadata": {
        "id": "IGKgAkCDYNDS",
        "cellView": "code",
        "colab": {
          "base_uri": "https://localhost:8080/"
        },
        "outputId": "6913b1c6-38b3-44d4-ae0e-8d88cb4ba597"
      },
      "source": [
        "#@title Default title text\n",
        "# add code here\n",
        "from sklearn.metrics import r2_score\n",
        "res = r2_score(y_test, predictions)\n",
        "print(round(res,3))"
      ],
      "execution_count": null,
      "outputs": [
        {
          "output_type": "stream",
          "name": "stdout",
          "text": [
            "0.922\n"
          ]
        }
      ]
    },
    {
      "cell_type": "code",
      "metadata": {
        "id": "eLfIq3zPjAID",
        "colab": {
          "base_uri": "https://localhost:8080/"
        },
        "outputId": "01c7c0c0-6d63-483b-abfc-0ff81a82c787"
      },
      "source": [
        "#kn-fold\n",
        "\n",
        "from numpy import mean\n",
        "from numpy import std\n",
        "from sklearn.datasets import make_classification\n",
        "from sklearn.model_selection import KFold\n",
        "from sklearn.model_selection import cross_val_score\n",
        "from sklearn.linear_model import LogisticRegression\n",
        "# create dataset\n",
        "X, y = make_classification(n_samples=1000, n_features=20, n_informative=15, n_redundant=5, random_state=1)\n",
        "\n",
        "cv = KFold(n_splits=10, random_state=1, shuffle=True)\n",
        "\n",
        "scores = cross_val_score(model, X, y, scoring='accuracy', cv=cv, n_jobs=-1)\n",
        "\n",
        "print('Accuracy: %.3f (%.3f)' % (mean(scores),std(scores)))"
      ],
      "execution_count": null,
      "outputs": [
        {
          "output_type": "stream",
          "name": "stdout",
          "text": [
            "Accuracy: 0.909 (0.023)\n"
          ]
        }
      ]
    },
    {
      "cell_type": "markdown",
      "metadata": {
        "id": "2jroGWezYNDT"
      },
      "source": [
        "# 2) K-nearest neighbor Classification"
      ]
    },
    {
      "cell_type": "markdown",
      "metadata": {
        "id": "WHlWn6YXYNDU"
      },
      "source": [
        "### Import packages and dataset"
      ]
    },
    {
      "cell_type": "code",
      "metadata": {
        "id": "xJAjpGbYYNDU"
      },
      "source": [
        "# import numpy, pandas, matplotlib, seaborn\n",
        "# add code here\n",
        "import pandas as pd\n",
        "import numpy as np\n",
        "import matplotlib.pyplot as plt\n",
        "import seaborn as sns\n",
        "%matplotlib inline"
      ],
      "execution_count": null,
      "outputs": []
    },
    {
      "cell_type": "markdown",
      "metadata": {
        "id": "8RWyQOGrYNDV"
      },
      "source": [
        "**Read classified_data.txt using pandas and call head() to show first few records. Call this dataframe \"df\"** <br>\n",
        "Use \"index_col\" parameter to index the dataframe according to the first column. Otherwise, a new column would get created."
      ]
    },
    {
      "cell_type": "code",
      "metadata": {
        "id": "0GDXB_9GYNDV"
      },
      "source": [
        "# add code here\n",
        "\n",
        "df =  pd.read_csv(\"classified_data.txt\")"
      ],
      "execution_count": null,
      "outputs": []
    },
    {
      "cell_type": "markdown",
      "metadata": {
        "id": "QPOM6rXpYNDW"
      },
      "source": [
        "### Exloratory Data Analysis (EDA)"
      ]
    },
    {
      "cell_type": "markdown",
      "metadata": {
        "id": "2J-RhwE5YNDW"
      },
      "source": [
        "**'info()' method to check the data types and number**"
      ]
    },
    {
      "cell_type": "code",
      "metadata": {
        "id": "LQ27teSgYNDW",
        "colab": {
          "base_uri": "https://localhost:8080/"
        },
        "outputId": "908f46d6-cc72-4112-96d3-acaf762577bb"
      },
      "source": [
        "# add code here\n",
        "\n",
        "df.info()"
      ],
      "execution_count": null,
      "outputs": [
        {
          "output_type": "stream",
          "name": "stdout",
          "text": [
            "<class 'pandas.core.frame.DataFrame'>\n",
            "RangeIndex: 1000 entries, 0 to 999\n",
            "Data columns (total 12 columns):\n",
            " #   Column        Non-Null Count  Dtype  \n",
            "---  ------        --------------  -----  \n",
            " 0   Unnamed: 0    1000 non-null   int64  \n",
            " 1   WTT           1000 non-null   float64\n",
            " 2   PTI           1000 non-null   float64\n",
            " 3   EQW           1000 non-null   float64\n",
            " 4   SBI           1000 non-null   float64\n",
            " 5   LQE           1000 non-null   float64\n",
            " 6   QWG           1000 non-null   float64\n",
            " 7   FDJ           1000 non-null   float64\n",
            " 8   PJF           1000 non-null   float64\n",
            " 9   HQE           1000 non-null   float64\n",
            " 10  NXJ           1000 non-null   float64\n",
            " 11  TARGET CLASS  1000 non-null   int64  \n",
            "dtypes: float64(10), int64(2)\n",
            "memory usage: 93.9 KB\n"
          ]
        }
      ]
    },
    {
      "cell_type": "markdown",
      "metadata": {
        "id": "lwSF-PxbYNDX"
      },
      "source": [
        "**Get the statistical summary of the data set** <br>\n",
        "Hint: describe()"
      ]
    },
    {
      "cell_type": "code",
      "metadata": {
        "id": "g7XvMQ5eYNDX",
        "colab": {
          "base_uri": "https://localhost:8080/",
          "height": 338
        },
        "outputId": "0d674b9b-78ea-4c6a-e126-5674a3a7a02a"
      },
      "source": [
        "# add code here\n",
        "df.describe()"
      ],
      "execution_count": null,
      "outputs": [
        {
          "output_type": "execute_result",
          "data": {
            "text/html": [
              "<div>\n",
              "<style scoped>\n",
              "    .dataframe tbody tr th:only-of-type {\n",
              "        vertical-align: middle;\n",
              "    }\n",
              "\n",
              "    .dataframe tbody tr th {\n",
              "        vertical-align: top;\n",
              "    }\n",
              "\n",
              "    .dataframe thead th {\n",
              "        text-align: right;\n",
              "    }\n",
              "</style>\n",
              "<table border=\"1\" class=\"dataframe\">\n",
              "  <thead>\n",
              "    <tr style=\"text-align: right;\">\n",
              "      <th></th>\n",
              "      <th>Unnamed: 0</th>\n",
              "      <th>WTT</th>\n",
              "      <th>PTI</th>\n",
              "      <th>EQW</th>\n",
              "      <th>SBI</th>\n",
              "      <th>LQE</th>\n",
              "      <th>QWG</th>\n",
              "      <th>FDJ</th>\n",
              "      <th>PJF</th>\n",
              "      <th>HQE</th>\n",
              "      <th>NXJ</th>\n",
              "      <th>TARGET CLASS</th>\n",
              "    </tr>\n",
              "  </thead>\n",
              "  <tbody>\n",
              "    <tr>\n",
              "      <th>count</th>\n",
              "      <td>1000.000000</td>\n",
              "      <td>1000.000000</td>\n",
              "      <td>1000.000000</td>\n",
              "      <td>1000.000000</td>\n",
              "      <td>1000.000000</td>\n",
              "      <td>1000.000000</td>\n",
              "      <td>1000.000000</td>\n",
              "      <td>1000.000000</td>\n",
              "      <td>1000.000000</td>\n",
              "      <td>1000.000000</td>\n",
              "      <td>1000.000000</td>\n",
              "      <td>1000.00000</td>\n",
              "    </tr>\n",
              "    <tr>\n",
              "      <th>mean</th>\n",
              "      <td>499.500000</td>\n",
              "      <td>0.949682</td>\n",
              "      <td>1.114303</td>\n",
              "      <td>0.834127</td>\n",
              "      <td>0.682099</td>\n",
              "      <td>1.032336</td>\n",
              "      <td>0.943534</td>\n",
              "      <td>0.963422</td>\n",
              "      <td>1.071960</td>\n",
              "      <td>1.158251</td>\n",
              "      <td>1.362725</td>\n",
              "      <td>0.50000</td>\n",
              "    </tr>\n",
              "    <tr>\n",
              "      <th>std</th>\n",
              "      <td>288.819436</td>\n",
              "      <td>0.289635</td>\n",
              "      <td>0.257085</td>\n",
              "      <td>0.291554</td>\n",
              "      <td>0.229645</td>\n",
              "      <td>0.243413</td>\n",
              "      <td>0.256121</td>\n",
              "      <td>0.255118</td>\n",
              "      <td>0.288982</td>\n",
              "      <td>0.293738</td>\n",
              "      <td>0.204225</td>\n",
              "      <td>0.50025</td>\n",
              "    </tr>\n",
              "    <tr>\n",
              "      <th>min</th>\n",
              "      <td>0.000000</td>\n",
              "      <td>0.174412</td>\n",
              "      <td>0.441398</td>\n",
              "      <td>0.170924</td>\n",
              "      <td>0.045027</td>\n",
              "      <td>0.315307</td>\n",
              "      <td>0.262389</td>\n",
              "      <td>0.295228</td>\n",
              "      <td>0.299476</td>\n",
              "      <td>0.365157</td>\n",
              "      <td>0.639693</td>\n",
              "      <td>0.00000</td>\n",
              "    </tr>\n",
              "    <tr>\n",
              "      <th>25%</th>\n",
              "      <td>249.750000</td>\n",
              "      <td>0.742358</td>\n",
              "      <td>0.942071</td>\n",
              "      <td>0.615451</td>\n",
              "      <td>0.515010</td>\n",
              "      <td>0.870855</td>\n",
              "      <td>0.761064</td>\n",
              "      <td>0.784407</td>\n",
              "      <td>0.866306</td>\n",
              "      <td>0.934340</td>\n",
              "      <td>1.222623</td>\n",
              "      <td>0.00000</td>\n",
              "    </tr>\n",
              "    <tr>\n",
              "      <th>50%</th>\n",
              "      <td>499.500000</td>\n",
              "      <td>0.940475</td>\n",
              "      <td>1.118486</td>\n",
              "      <td>0.813264</td>\n",
              "      <td>0.676835</td>\n",
              "      <td>1.035824</td>\n",
              "      <td>0.941502</td>\n",
              "      <td>0.945333</td>\n",
              "      <td>1.065500</td>\n",
              "      <td>1.165556</td>\n",
              "      <td>1.375368</td>\n",
              "      <td>0.50000</td>\n",
              "    </tr>\n",
              "    <tr>\n",
              "      <th>75%</th>\n",
              "      <td>749.250000</td>\n",
              "      <td>1.163295</td>\n",
              "      <td>1.307904</td>\n",
              "      <td>1.028340</td>\n",
              "      <td>0.834317</td>\n",
              "      <td>1.198270</td>\n",
              "      <td>1.123060</td>\n",
              "      <td>1.134852</td>\n",
              "      <td>1.283156</td>\n",
              "      <td>1.383173</td>\n",
              "      <td>1.504832</td>\n",
              "      <td>1.00000</td>\n",
              "    </tr>\n",
              "    <tr>\n",
              "      <th>max</th>\n",
              "      <td>999.000000</td>\n",
              "      <td>1.721779</td>\n",
              "      <td>1.833757</td>\n",
              "      <td>1.722725</td>\n",
              "      <td>1.634884</td>\n",
              "      <td>1.650050</td>\n",
              "      <td>1.666902</td>\n",
              "      <td>1.713342</td>\n",
              "      <td>1.785420</td>\n",
              "      <td>1.885690</td>\n",
              "      <td>1.893950</td>\n",
              "      <td>1.00000</td>\n",
              "    </tr>\n",
              "  </tbody>\n",
              "</table>\n",
              "</div>"
            ],
            "text/plain": [
              "        Unnamed: 0          WTT  ...          NXJ  TARGET CLASS\n",
              "count  1000.000000  1000.000000  ...  1000.000000    1000.00000\n",
              "mean    499.500000     0.949682  ...     1.362725       0.50000\n",
              "std     288.819436     0.289635  ...     0.204225       0.50025\n",
              "min       0.000000     0.174412  ...     0.639693       0.00000\n",
              "25%     249.750000     0.742358  ...     1.222623       0.00000\n",
              "50%     499.500000     0.940475  ...     1.375368       0.50000\n",
              "75%     749.250000     1.163295  ...     1.504832       1.00000\n",
              "max     999.000000     1.721779  ...     1.893950       1.00000\n",
              "\n",
              "[8 rows x 12 columns]"
            ]
          },
          "metadata": {},
          "execution_count": 142
        }
      ]
    },
    {
      "cell_type": "markdown",
      "metadata": {
        "id": "LDYWYnvwYNDY"
      },
      "source": [
        "### Check the spread of the features"
      ]
    },
    {
      "cell_type": "markdown",
      "metadata": {
        "id": "Q0hgD8wlYNDY"
      },
      "source": [
        "**Store the column names in a list**"
      ]
    },
    {
      "cell_type": "code",
      "metadata": {
        "id": "rxAYeNSzYNDY",
        "colab": {
          "base_uri": "https://localhost:8080/"
        },
        "outputId": "bc8809d0-35bf-4cb6-c9b0-91a99dc6bd71"
      },
      "source": [
        "# add code here\n",
        "col_names = list(df.columns)\n",
        "print(\"List of col names : \",col_names)\n",
        "for i in range(len(col_names)):\n",
        "  print(col_names[i])"
      ],
      "execution_count": null,
      "outputs": [
        {
          "output_type": "stream",
          "name": "stdout",
          "text": [
            "List of col names :  ['Unnamed: 0', 'WTT', 'PTI', 'EQW', 'SBI', 'LQE', 'QWG', 'FDJ', 'PJF', 'HQE', 'NXJ', 'TARGET CLASS']\n",
            "Unnamed: 0\n",
            "WTT\n",
            "PTI\n",
            "EQW\n",
            "SBI\n",
            "LQE\n",
            "QWG\n",
            "FDJ\n",
            "PJF\n",
            "HQE\n",
            "NXJ\n",
            "TARGET CLASS\n"
          ]
        }
      ]
    },
    {
      "cell_type": "markdown",
      "metadata": {
        "id": "N3g0ISUGYNDZ"
      },
      "source": [
        "**Run a 'for' loop to draw boxplots of all the features for '0' and '1' TARGET CLASS**<br>\n",
        "Hint: Loop through each of the 10 features and draw a separate boxplot. You should have 10 boxplots in total. <br>\n",
        "Refer seaborn boxplot() "
      ]
    },
    {
      "cell_type": "code",
      "metadata": {
        "scrolled": false,
        "id": "kORQOo9gYNDZ",
        "colab": {
          "base_uri": "https://localhost:8080/",
          "height": 1000
        },
        "outputId": "da83c49f-27b4-42fa-c2eb-09d8ef7ba076"
      },
      "source": [
        "# add code here\n",
        "\n",
        "for column in col_names:\n",
        "    x=df[column].values\n",
        "    sns.boxplot(x=x, data=df)\n",
        "    plt.show()\n"
      ],
      "execution_count": null,
      "outputs": [
        {
          "output_type": "display_data",
          "data": {
            "image/png": "[encoded data removed]",
            "text/plain": [
              "<Figure size 432x288 with 1 Axes>"
            ]
          },
          "metadata": {
            "needs_background": "light"
          }
        },
        {
          "output_type": "display_data",
          "data": {
            "image/png": "[encoded data removed]",
            "text/plain": [
              "<Figure size 432x288 with 1 Axes>"
            ]
          },
          "metadata": {
            "needs_background": "light"
          }
        },
        {
          "output_type": "display_data",
          "data": {
            "image/png": "[encoded data removed]",
            "text/plain": [
              "<Figure size 432x288 with 1 Axes>"
            ]
          },
          "metadata": {
            "needs_background": "light"
          }
        },
        {
          "output_type": "display_data",
          "data": {
            "image/png": "[encoded data removed]",
            "text/plain": [
              "<Figure size 432x288 with 1 Axes>"
            ]
          },
          "metadata": {
            "needs_background": "light"
          }
        },
        {
          "output_type": "display_data",
          "data": {
            "image/png": "[encoded data removed]",
            "text/plain": [
              "<Figure size 432x288 with 1 Axes>"
            ]
          },
          "metadata": {
            "needs_background": "light"
          }
        },
        {
          "output_type": "display_data",
          "data": {
            "image/png": "[encoded data removed]",
            "text/plain": [
              "<Figure size 432x288 with 1 Axes>"
            ]
          },
          "metadata": {
            "needs_background": "light"
          }
        },
        {
          "output_type": "display_data",
          "data": {
            "image/png": "[encoded data removed]",
            "text/plain": [
              "<Figure size 432x288 with 1 Axes>"
            ]
          },
          "metadata": {
            "needs_background": "light"
          }
        },
        {
          "output_type": "display_data",
          "data": {
            "image/png": "[encoded data removed]",
            "text/plain": [
              "<Figure size 432x288 with 1 Axes>"
            ]
          },
          "metadata": {
            "needs_background": "light"
          }
        },
        {
          "output_type": "display_data",
          "data": {
            "image/png": "[encoded data removed]",
            "text/plain": [
              "<Figure size 432x288 with 1 Axes>"
            ]
          },
          "metadata": {
            "needs_background": "light"
          }
        },
        {
          "output_type": "display_data",
          "data": {
            "image/png": "[encoded data removed]",
            "text/plain": [
              "<Figure size 432x288 with 1 Axes>"
            ]
          },
          "metadata": {
            "needs_background": "light"
          }
        },
        {
          "output_type": "display_data",
          "data": {
            "image/png": "[encoded data removed]",
            "text/plain": [
              "<Figure size 432x288 with 1 Axes>"
            ]
          },
          "metadata": {
            "needs_background": "light"
          }
        },
        {
          "output_type": "display_data",
          "data": {
            "image/png": "[encoded data removed]",
            "text/plain": [
              "<Figure size 432x288 with 1 Axes>"
            ]
          },
          "metadata": {
            "needs_background": "light"
          }
        }
      ]
    },
    {
      "cell_type": "markdown",
      "metadata": {
        "id": "OIFaYgUWYNDa"
      },
      "source": [
        "### Standardize the features using sklearn.preprocessing \n",
        "Why should we standardize?<br>\n",
        "Variables that are measured at different scales do not contribute equally to the model fitting & model learned function and might end up creating a bias. Thus, to deal with this potential problem feature-wise standardized (μ=0, σ=1) is usually used prior to model fitting.<br>\n",
        "<br>\n",
        "Go through this link for a better understanding:<br>\n",
        "https://towardsdatascience.com/how-and-why-to-standardize-your-data-996926c2c832"
      ]
    },
    {
      "cell_type": "markdown",
      "metadata": {
        "id": "EzMEGA9fYNDa"
      },
      "source": [
        "**import StandardScaler from Sklearn and instantiate it to a variable called \"scaler\"**"
      ]
    },
    {
      "cell_type": "code",
      "metadata": {
        "id": "HVWU81uvYNDb"
      },
      "source": [
        "# add code here\n",
        "\n",
        "from sklearn.preprocessing import StandardScaler\n",
        "\n",
        "scaler = StandardScaler()"
      ],
      "execution_count": null,
      "outputs": []
    },
    {
      "cell_type": "markdown",
      "metadata": {
        "id": "HlKUjW9XYNDb"
      },
      "source": [
        "**Fit only the features data to this scaler (leaving the TARGET CLASS column out) and then transform**<br>\n",
        "Hint: scaler.fit() and scaler.transform()"
      ]
    },
    {
      "cell_type": "code",
      "metadata": {
        "id": "MCbkapp4YNDb",
        "colab": {
          "base_uri": "https://localhost:8080/"
        },
        "outputId": "b139aa5d-43f1-4f4d-e9d9-564f39743cc0"
      },
      "source": [
        "# add code here\n",
        "\n",
        "X = pd.DataFrame(df)\n",
        "X.drop('TARGET CLASS',axis=1,inplace=True)\n",
        "col_names = list(X.columns)\n",
        "print(\"List of col names : \",col_names)\n",
        "scaled_data = scaler.fit(X)\n",
        "scaled_data = scaler.transform(X)\n",
        "\n",
        "print(scaled_data)"
      ],
      "execution_count": null,
      "outputs": [
        {
          "output_type": "stream",
          "name": "stdout",
          "text": [
            "List of col names :  ['Unnamed: 0', 'WTT', 'PTI', 'EQW', 'SBI', 'LQE', 'QWG', 'FDJ', 'PJF', 'HQE', 'NXJ']\n",
            "[[-1.73031962 -0.12354188  0.18590747 ... -1.48236813 -0.9497194\n",
            "  -0.64331425]\n",
            " [-1.72685552 -1.08483602 -0.43034845 ... -0.20224031 -1.82805088\n",
            "   0.63675862]\n",
            " [-1.72339142 -0.78870217  0.33931821 ...  0.28570652 -0.68249379\n",
            "  -0.37784986]\n",
            " ...\n",
            " [ 1.72339142  0.64177714 -0.51308341 ... -2.36249443 -0.81426092\n",
            "   0.11159651]\n",
            " [ 1.72685552  0.46707241 -0.98278576 ... -0.03677699  0.40602453\n",
            "  -0.85567   ]\n",
            " [ 1.73031962 -0.38765353 -0.59589427 ... -0.56778932  0.3369971\n",
            "   0.01034996]]\n"
          ]
        }
      ]
    },
    {
      "cell_type": "markdown",
      "metadata": {
        "id": "uZTbl8UBYNDc"
      },
      "source": [
        "**Scaler.transform() will return an array. We need to convert this into a dataframe. Do this and add the column names to the dataframe. Call this new dataframe as \"df_feat\". Call head() on this df**<br>\n",
        "Note: The final dataframe will have the initial columns except the \"TARGET CLASS\"."
      ]
    },
    {
      "cell_type": "code",
      "metadata": {
        "id": "m6DnntqtYNDc",
        "colab": {
          "base_uri": "https://localhost:8080/",
          "height": 206
        },
        "outputId": "d6da7450-c217-4cda-8212-024795b060c8"
      },
      "source": [
        "# add code here\n",
        "\n",
        "df_feat = pd.DataFrame(scaled_data,columns = col_names)\n",
        "\n",
        "df_feat.head()"
      ],
      "execution_count": null,
      "outputs": [
        {
          "output_type": "execute_result",
          "data": {
            "text/html": [
              "<div>\n",
              "<style scoped>\n",
              "    .dataframe tbody tr th:only-of-type {\n",
              "        vertical-align: middle;\n",
              "    }\n",
              "\n",
              "    .dataframe tbody tr th {\n",
              "        vertical-align: top;\n",
              "    }\n",
              "\n",
              "    .dataframe thead th {\n",
              "        text-align: right;\n",
              "    }\n",
              "</style>\n",
              "<table border=\"1\" class=\"dataframe\">\n",
              "  <thead>\n",
              "    <tr style=\"text-align: right;\">\n",
              "      <th></th>\n",
              "      <th>Unnamed: 0</th>\n",
              "      <th>WTT</th>\n",
              "      <th>PTI</th>\n",
              "      <th>EQW</th>\n",
              "      <th>SBI</th>\n",
              "      <th>LQE</th>\n",
              "      <th>QWG</th>\n",
              "      <th>FDJ</th>\n",
              "      <th>PJF</th>\n",
              "      <th>HQE</th>\n",
              "      <th>NXJ</th>\n",
              "    </tr>\n",
              "  </thead>\n",
              "  <tbody>\n",
              "    <tr>\n",
              "      <th>0</th>\n",
              "      <td>-1.730320</td>\n",
              "      <td>-0.123542</td>\n",
              "      <td>0.185907</td>\n",
              "      <td>-0.913431</td>\n",
              "      <td>0.319629</td>\n",
              "      <td>-1.033637</td>\n",
              "      <td>-2.308375</td>\n",
              "      <td>-0.798951</td>\n",
              "      <td>-1.482368</td>\n",
              "      <td>-0.949719</td>\n",
              "      <td>-0.643314</td>\n",
              "    </tr>\n",
              "    <tr>\n",
              "      <th>1</th>\n",
              "      <td>-1.726856</td>\n",
              "      <td>-1.084836</td>\n",
              "      <td>-0.430348</td>\n",
              "      <td>-1.025313</td>\n",
              "      <td>0.625388</td>\n",
              "      <td>-0.444847</td>\n",
              "      <td>-1.152706</td>\n",
              "      <td>-1.129797</td>\n",
              "      <td>-0.202240</td>\n",
              "      <td>-1.828051</td>\n",
              "      <td>0.636759</td>\n",
              "    </tr>\n",
              "    <tr>\n",
              "      <th>2</th>\n",
              "      <td>-1.723391</td>\n",
              "      <td>-0.788702</td>\n",
              "      <td>0.339318</td>\n",
              "      <td>0.301511</td>\n",
              "      <td>0.755873</td>\n",
              "      <td>2.031693</td>\n",
              "      <td>-0.870156</td>\n",
              "      <td>2.599818</td>\n",
              "      <td>0.285707</td>\n",
              "      <td>-0.682494</td>\n",
              "      <td>-0.377850</td>\n",
              "    </tr>\n",
              "    <tr>\n",
              "      <th>3</th>\n",
              "      <td>-1.719927</td>\n",
              "      <td>0.982841</td>\n",
              "      <td>1.060193</td>\n",
              "      <td>-0.621399</td>\n",
              "      <td>0.625299</td>\n",
              "      <td>0.452820</td>\n",
              "      <td>-0.267220</td>\n",
              "      <td>1.750208</td>\n",
              "      <td>1.066491</td>\n",
              "      <td>1.241325</td>\n",
              "      <td>-1.026987</td>\n",
              "    </tr>\n",
              "    <tr>\n",
              "      <th>4</th>\n",
              "      <td>-1.716463</td>\n",
              "      <td>1.139275</td>\n",
              "      <td>-0.640392</td>\n",
              "      <td>-0.709819</td>\n",
              "      <td>-0.057175</td>\n",
              "      <td>0.822886</td>\n",
              "      <td>-0.936773</td>\n",
              "      <td>0.596782</td>\n",
              "      <td>-1.472352</td>\n",
              "      <td>1.040772</td>\n",
              "      <td>0.276510</td>\n",
              "    </tr>\n",
              "  </tbody>\n",
              "</table>\n",
              "</div>"
            ],
            "text/plain": [
              "   Unnamed: 0       WTT       PTI  ...       PJF       HQE       NXJ\n",
              "0   -1.730320 -0.123542  0.185907  ... -1.482368 -0.949719 -0.643314\n",
              "1   -1.726856 -1.084836 -0.430348  ... -0.202240 -1.828051  0.636759\n",
              "2   -1.723391 -0.788702  0.339318  ...  0.285707 -0.682494 -0.377850\n",
              "3   -1.719927  0.982841  1.060193  ...  1.066491  1.241325 -1.026987\n",
              "4   -1.716463  1.139275 -0.640392  ... -1.472352  1.040772  0.276510\n",
              "\n",
              "[5 rows x 11 columns]"
            ]
          },
          "metadata": {},
          "execution_count": 147
        }
      ]
    },
    {
      "cell_type": "markdown",
      "metadata": {
        "id": "vWiXgySxYNDd"
      },
      "source": [
        "### Train/Test split"
      ]
    },
    {
      "cell_type": "markdown",
      "metadata": {
        "id": "xgJQPOfXYNDd"
      },
      "source": [
        "**Set X to be equal to df_feat and set y accordingly. As you know, X contains our training features and y contains our target.**<br>\n",
        "Hint: y can be taken directly from the initaial dataframe \"df\""
      ]
    },
    {
      "cell_type": "code",
      "metadata": {
        "id": "W94s-2-jYNDd"
      },
      "source": [
        "# add code here\n",
        "\n",
        "X = df_feat\n",
        "y = df[\"TARGET CLASS\"]\n",
        "\n"
      ],
      "execution_count": null,
      "outputs": []
    },
    {
      "cell_type": "markdown",
      "metadata": {
        "id": "5tyZdg0nYNDd"
      },
      "source": [
        "**Import train_test_split function from scikit-learn**<br>\n",
        "**Create X and y train and test splits in one command using a test size of 0.3 and a random seed**<br>\n",
        "They should be called X_train, X_test, y_train, y_test"
      ]
    },
    {
      "cell_type": "code",
      "metadata": {
        "id": "wiNlmT2IYNDe"
      },
      "source": [
        "# add code here\n",
        "from sklearn.model_selection import train_test_split\n",
        "X_train, X_test, y_train, y_test = train_test_split(X,y,test_size= 0.3)\n",
        "\n"
      ],
      "execution_count": null,
      "outputs": []
    },
    {
      "cell_type": "markdown",
      "metadata": {
        "id": "N6tS1j4iYNDe"
      },
      "source": [
        "### Model fit and training"
      ]
    },
    {
      "cell_type": "markdown",
      "metadata": {
        "id": "7A_LeaNAYNDe"
      },
      "source": [
        "**import KNeighborsClassifier from sklearn and initialize it with neighbours = 1. Fit this on X_train and y_train**"
      ]
    },
    {
      "cell_type": "code",
      "metadata": {
        "id": "kaSJJTYDYNDf",
        "colab": {
          "base_uri": "https://localhost:8080/"
        },
        "outputId": "4f6f4c95-2aca-4b81-e4a9-be00bd803413"
      },
      "source": [
        "# add code here\n",
        "from sklearn.neighbors import KNeighborsClassifier\n",
        "\n",
        "model = KNeighborsClassifier(n_neighbors=1)\n",
        "model.fit(X_train,y_train)"
      ],
      "execution_count": null,
      "outputs": [
        {
          "output_type": "execute_result",
          "data": {
            "text/plain": [
              "KNeighborsClassifier(algorithm='auto', leaf_size=30, metric='minkowski',\n",
              "                     metric_params=None, n_jobs=None, n_neighbors=1, p=2,\n",
              "                     weights='uniform')"
            ]
          },
          "metadata": {},
          "execution_count": 150
        }
      ]
    },
    {
      "cell_type": "markdown",
      "metadata": {
        "id": "eAEVkt6LYNDf"
      },
      "source": [
        "**Using this fitted model, predict on X_test. Store these predictions in variable called pred.**"
      ]
    },
    {
      "cell_type": "code",
      "metadata": {
        "id": "rsnjjXaMYNDf",
        "colab": {
          "base_uri": "https://localhost:8080/"
        },
        "outputId": "1a1ffc52-53c6-4bc5-84be-ffba998a904d"
      },
      "source": [
        "# add code here\n",
        "pred = model.predict(X_test)\n",
        "pred.size"
      ],
      "execution_count": null,
      "outputs": [
        {
          "output_type": "execute_result",
          "data": {
            "text/plain": [
              "300"
            ]
          },
          "metadata": {},
          "execution_count": 151
        }
      ]
    },
    {
      "cell_type": "markdown",
      "metadata": {
        "id": "7IcCOyuOYNDf"
      },
      "source": [
        "**Let us check how correct these predictions are.<br>\n",
        "Print a classification report of y_test and pred**<br>\n",
        "Hint: sklearn classification_report"
      ]
    },
    {
      "cell_type": "code",
      "metadata": {
        "id": "HC-20WeuYNDg",
        "colab": {
          "base_uri": "https://localhost:8080/"
        },
        "outputId": "657bc74b-1675-42cc-9226-3dd4e0e59e13"
      },
      "source": [
        "# add code here\n",
        "from sklearn.metrics import confusion_matrix\n",
        "cm = confusion_matrix(y_test , pred)\n",
        "print(cm)\n",
        "\n",
        "from sklearn import metrics\n",
        "print(metrics.classification_report(y_test,pred))"
      ],
      "execution_count": null,
      "outputs": [
        {
          "output_type": "stream",
          "name": "stdout",
          "text": [
            "[[126  18]\n",
            " [ 15 141]]\n",
            "              precision    recall  f1-score   support\n",
            "\n",
            "           0       0.89      0.88      0.88       144\n",
            "           1       0.89      0.90      0.90       156\n",
            "\n",
            "    accuracy                           0.89       300\n",
            "   macro avg       0.89      0.89      0.89       300\n",
            "weighted avg       0.89      0.89      0.89       300\n",
            "\n"
          ]
        }
      ]
    },
    {
      "cell_type": "markdown",
      "metadata": {
        "id": "exGvX0C5YNDg"
      },
      "source": [
        "**Print the accuracy using numpy and round it to 3 decimal places.**"
      ]
    },
    {
      "cell_type": "code",
      "metadata": {
        "id": "sSoOx6MiYNDg",
        "colab": {
          "base_uri": "https://localhost:8080/"
        },
        "outputId": "44a45f62-c87b-407c-c39b-fe431e0c46b8"
      },
      "source": [
        "# add code here\n",
        "print(round(metrics.accuracy_score(y_test,pred),3))\n"
      ],
      "execution_count": null,
      "outputs": [
        {
          "output_type": "stream",
          "name": "stdout",
          "text": [
            "0.89\n"
          ]
        }
      ]
    },
    {
      "cell_type": "code",
      "metadata": {
        "id": "Fb4LL4zOj1IJ",
        "colab": {
          "base_uri": "https://localhost:8080/"
        },
        "outputId": "e04dac73-8f21-478e-d464-1617e40eb9b0"
      },
      "source": [
        "from numpy import mean\n",
        "from numpy import std\n",
        "from sklearn.datasets import make_classification\n",
        "from sklearn.model_selection import KFold\n",
        "from sklearn.model_selection import cross_val_score\n",
        "from sklearn.linear_model import LogisticRegression\n",
        "# create dataset\n",
        "X, y = make_classification(n_samples=1000, n_features=20, n_informative=15, n_redundant=5, random_state=1)\n",
        "\n",
        "cv = KFold(n_splits=10, random_state=1, shuffle=True)\n",
        "\n",
        "scores = cross_val_score(model, X, y, scoring='accuracy', cv=cv, n_jobs=-1)\n",
        "\n",
        "print('Accuracy: %.3f (%.3f)' % (mean(scores), std(scores)))"
      ],
      "execution_count": null,
      "outputs": [
        {
          "output_type": "stream",
          "name": "stdout",
          "text": [
            "Accuracy: 0.909 (0.023)\n"
          ]
        }
      ]
    },
    {
      "cell_type": "markdown",
      "metadata": {
        "id": "h2YBXAYi7IB9"
      },
      "source": [
        "### HyperParameters Tuning "
      ]
    },
    {
      "cell_type": "code",
      "metadata": {
        "id": "QLLe_t2K7SQE"
      },
      "source": [
        "from sklearn import svm\n",
        "from sklearn.ensemble import RandomForestClassifier\n",
        "from sklearn.linear_model import LogisticRegression\n",
        "from sklearn.tree import DecisionTreeClassifier\n",
        "from sklearn.neighbors import KNeighborsClassifier"
      ],
      "execution_count": null,
      "outputs": []
    },
    {
      "cell_type": "code",
      "metadata": {
        "id": "6wudBGcQ7SHh"
      },
      "source": [
        "model_hyperpara = {\n",
        "    'svm':{\n",
        "        'model':svm.SVC(gamma='auto'),\n",
        "        'params':{\n",
        "            'C':[1,15,25],\n",
        "            'kernel':['rbf','linear']\n",
        "        }\n",
        "    },\n",
        "    'random_forest':{\n",
        "        'model':RandomForestClassifier(),\n",
        "        'params':{\n",
        "            'n_estimators':[1,15,25],\n",
        "            'max_depth':[1,5,15,20,25],\n",
        "            'max_leaf_nodes':[15,20,25,30],\n",
        "            'random_state':[1,10,21,42],\n",
        "        }\n",
        "    },\n",
        "    \n",
        "    'logitic_regression':{\n",
        "        'model':LogisticRegression(),\n",
        "        'params':{\n",
        "            'C':[1,15,25],\n",
        "            'max_iter':[200],\n",
        "        }\n",
        "    },\n",
        "    'knn':{\n",
        "        'model':KNeighborsClassifier(),\n",
        "        'params':{\n",
        "            'n_neighbors':[1,5,10,15,25],\n",
        "            'weights':['uniform','distance'],\n",
        "            'metric':['minkowski','euclidean','manhattan'],\n",
        "            'leaf_size':[50]\n",
        "        }\n",
        "    }\n",
        "}\n",
        "\n"
      ],
      "execution_count": null,
      "outputs": []
    },
    {
      "cell_type": "code",
      "metadata": {
        "colab": {
          "base_uri": "https://localhost:8080/"
        },
        "id": "E477F7NS7R0i",
        "outputId": "9105c833-b4a0-4bfe-e15e-f760bcac907b"
      },
      "source": [
        "acc_scores=[]\n",
        "for model_name , map in model_hyperpara.items():\n",
        "  clf = GridSearchCV(map['model'],map['params'],cv=5,return_train_score=False)\n",
        "  clf.fit(X_train,y_train)\n",
        "  print(model_name , \" :\" ,clf.best_score_)\n",
        "  print(\"Best Params : \" , clf.best_params_)"
      ],
      "execution_count": null,
      "outputs": [
        {
          "output_type": "stream",
          "name": "stdout",
          "text": [
            "svm  : 0.95\n",
            "Best Params :  {'C': 15, 'kernel': 'linear'}\n",
            "random_forest  : 0.9428571428571428\n",
            "Best Params :  {'max_depth': 15, 'max_leaf_nodes': 30, 'n_estimators': 25, 'random_state': 1}\n",
            "logitic_regression  : 0.9514285714285714\n",
            "Best Params :  {'C': 15, 'max_iter': 200}\n",
            "knn  : 0.9385714285714286\n",
            "Best Params :  {'leaf_size': 50, 'metric': 'minkowski', 'n_neighbors': 10, 'weights': 'uniform'}\n"
          ]
        }
      ]
    },
    {
      "cell_type": "markdown",
      "metadata": {
        "id": "UWjjrBrbYNDh"
      },
      "source": [
        "### Choosing optimal 'k'"
      ]
    },
    {
      "cell_type": "markdown",
      "metadata": {
        "id": "IT_5lBDVYNDh"
      },
      "source": [
        "**Above, we chose n_neighbours to be equal to 1. Choosing a small value of K leads to unstable decision boundaries. <br>\n",
        "We need to select n_neighbours by calculating the accuracy for every value of n from 1 to 60 and then choosing the one which gives the highest accuracy.**"
      ]
    },
    {
      "cell_type": "code",
      "metadata": {
        "id": "xPKm3inZYNDh"
      },
      "source": [
        "# Do the same as we did above, but this time make a loop from n = 1 to n = 60 and append the accuracy\n",
        "# for each in a list\n",
        "ar_kvalue = [0]*60\n",
        "ar_neighvalue = [0]*60\n",
        "for i in range(0,60):\n",
        "  from sklearn.neighbors import KNeighborsClassifier\n",
        "  model = KNeighborsClassifier(n_neighbors=i+1)\n",
        "  model.fit(X_train,y_train)\n",
        "  pred = model.predict(X_test)\n",
        "  from sklearn import metrics\n",
        "  ar_kvalue[i] = metrics.accuracy_score(y_test,pred)\n",
        "  ar_neighvalue[i]=i+1\n",
        "  #print( i+1 ,ar_kvalue[i])\n"
      ],
      "execution_count": null,
      "outputs": []
    },
    {
      "cell_type": "markdown",
      "metadata": {
        "id": "5LUl_JMUYNDi"
      },
      "source": [
        "**Plot a graph of K value vs Accuracy**"
      ]
    },
    {
      "cell_type": "code",
      "metadata": {
        "id": "DvsbINxsYNDi",
        "colab": {
          "base_uri": "https://localhost:8080/",
          "height": 265
        },
        "outputId": "5f6bacd2-5e01-4134-cfd1-ad2968298cc6"
      },
      "source": [
        "# add code here\n",
        "kval = ar_kvalue\n",
        "neighval = ar_neighvalue\n",
        "\n",
        "plt.plot( neighval , kval)\n",
        "plt.show()"
      ],
      "execution_count": null,
      "outputs": [
        {
          "output_type": "display_data",
          "data": {
            "image/png": "[encoded data removed]",
            "text/plain": [
              "<Figure size 432x288 with 1 Axes>"
            ]
          },
          "metadata": {
            "needs_background": "light"
          }
        }
      ]
    },
    {
      "cell_type": "markdown",
      "metadata": {
        "id": "KO4KK1WEYNDi"
      },
      "source": [
        "**Choose the best value of n_neighbours and give a reason why and also print the accuracy**"
      ]
    },
    {
      "cell_type": "code",
      "metadata": {
        "id": "SWf5hh-jYNDj"
      },
      "source": [
        "# add code here \n",
        "import numpy as np\n",
        "\n",
        "karr = np.array(ar_kvalue)\n",
        "max = np.argmax(karr)"
      ],
      "execution_count": null,
      "outputs": []
    },
    {
      "cell_type": "code",
      "metadata": {
        "id": "8gIMbzLJd8bu",
        "colab": {
          "base_uri": "https://localhost:8080/"
        },
        "outputId": "38938625-9973-43d5-8605-f18c791952bd"
      },
      "source": [
        "print(\"Accuracy is highest at K value \" ,max , \"and its value is \",ar_kvalue[max])"
      ],
      "execution_count": null,
      "outputs": [
        {
          "output_type": "stream",
          "name": "stdout",
          "text": [
            "Accuracy is highest at K value  7 and its value is  0.94\n"
          ]
        }
      ]
    },
    {
      "cell_type": "markdown",
      "metadata": {
        "id": "z4CBOAiOd9is"
      },
      "source": [
        "# 3). Decision Tree Classifier"
      ]
    },
    {
      "cell_type": "markdown",
      "metadata": {
        "id": "UXCHg4IQewph"
      },
      "source": [
        "<b>read the titanic_data.csv using pandas and show the dataframe</b>"
      ]
    },
    {
      "cell_type": "code",
      "metadata": {
        "id": "8dGi9n5meB94",
        "colab": {
          "base_uri": "https://localhost:8080/",
          "height": 580
        },
        "outputId": "15b9fd9a-f5e3-4ccc-f68c-38353e1bd353"
      },
      "source": [
        "#write code here\n",
        "\n",
        "train_df = pd.read_csv(\"titanic_data.csv\")\n",
        "train_df"
      ],
      "execution_count": null,
      "outputs": [
        {
          "output_type": "execute_result",
          "data": {
            "text/html": [
              "<div>\n",
              "<style scoped>\n",
              "    .dataframe tbody tr th:only-of-type {\n",
              "        vertical-align: middle;\n",
              "    }\n",
              "\n",
              "    .dataframe tbody tr th {\n",
              "        vertical-align: top;\n",
              "    }\n",
              "\n",
              "    .dataframe thead th {\n",
              "        text-align: right;\n",
              "    }\n",
              "</style>\n",
              "<table border=\"1\" class=\"dataframe\">\n",
              "  <thead>\n",
              "    <tr style=\"text-align: right;\">\n",
              "      <th></th>\n",
              "      <th>PassengerId</th>\n",
              "      <th>Survived</th>\n",
              "      <th>Pclass</th>\n",
              "      <th>Name</th>\n",
              "      <th>Sex</th>\n",
              "      <th>Age</th>\n",
              "      <th>SibSp</th>\n",
              "      <th>Parch</th>\n",
              "      <th>Ticket</th>\n",
              "      <th>Fare</th>\n",
              "      <th>Cabin</th>\n",
              "      <th>Embarked</th>\n",
              "    </tr>\n",
              "  </thead>\n",
              "  <tbody>\n",
              "    <tr>\n",
              "      <th>0</th>\n",
              "      <td>1</td>\n",
              "      <td>0</td>\n",
              "      <td>3</td>\n",
              "      <td>Braund, Mr. Owen Harris</td>\n",
              "      <td>male</td>\n",
              "      <td>22.0</td>\n",
              "      <td>1</td>\n",
              "      <td>0</td>\n",
              "      <td>A/5 21171</td>\n",
              "      <td>7.2500</td>\n",
              "      <td>NaN</td>\n",
              "      <td>S</td>\n",
              "    </tr>\n",
              "    <tr>\n",
              "      <th>1</th>\n",
              "      <td>2</td>\n",
              "      <td>1</td>\n",
              "      <td>1</td>\n",
              "      <td>Cumings, Mrs. John Bradley (Florence Briggs Th...</td>\n",
              "      <td>female</td>\n",
              "      <td>38.0</td>\n",
              "      <td>1</td>\n",
              "      <td>0</td>\n",
              "      <td>PC 17599</td>\n",
              "      <td>71.2833</td>\n",
              "      <td>C85</td>\n",
              "      <td>C</td>\n",
              "    </tr>\n",
              "    <tr>\n",
              "      <th>2</th>\n",
              "      <td>3</td>\n",
              "      <td>1</td>\n",
              "      <td>3</td>\n",
              "      <td>Heikkinen, Miss. Laina</td>\n",
              "      <td>female</td>\n",
              "      <td>26.0</td>\n",
              "      <td>0</td>\n",
              "      <td>0</td>\n",
              "      <td>STON/O2. 3101282</td>\n",
              "      <td>7.9250</td>\n",
              "      <td>NaN</td>\n",
              "      <td>S</td>\n",
              "    </tr>\n",
              "    <tr>\n",
              "      <th>3</th>\n",
              "      <td>4</td>\n",
              "      <td>1</td>\n",
              "      <td>1</td>\n",
              "      <td>Futrelle, Mrs. Jacques Heath (Lily May Peel)</td>\n",
              "      <td>female</td>\n",
              "      <td>35.0</td>\n",
              "      <td>1</td>\n",
              "      <td>0</td>\n",
              "      <td>113803</td>\n",
              "      <td>53.1000</td>\n",
              "      <td>C123</td>\n",
              "      <td>S</td>\n",
              "    </tr>\n",
              "    <tr>\n",
              "      <th>4</th>\n",
              "      <td>5</td>\n",
              "      <td>0</td>\n",
              "      <td>3</td>\n",
              "      <td>Allen, Mr. William Henry</td>\n",
              "      <td>male</td>\n",
              "      <td>35.0</td>\n",
              "      <td>0</td>\n",
              "      <td>0</td>\n",
              "      <td>373450</td>\n",
              "      <td>8.0500</td>\n",
              "      <td>NaN</td>\n",
              "      <td>S</td>\n",
              "    </tr>\n",
              "    <tr>\n",
              "      <th>...</th>\n",
              "      <td>...</td>\n",
              "      <td>...</td>\n",
              "      <td>...</td>\n",
              "      <td>...</td>\n",
              "      <td>...</td>\n",
              "      <td>...</td>\n",
              "      <td>...</td>\n",
              "      <td>...</td>\n",
              "      <td>...</td>\n",
              "      <td>...</td>\n",
              "      <td>...</td>\n",
              "      <td>...</td>\n",
              "    </tr>\n",
              "    <tr>\n",
              "      <th>886</th>\n",
              "      <td>887</td>\n",
              "      <td>0</td>\n",
              "      <td>2</td>\n",
              "      <td>Montvila, Rev. Juozas</td>\n",
              "      <td>male</td>\n",
              "      <td>27.0</td>\n",
              "      <td>0</td>\n",
              "      <td>0</td>\n",
              "      <td>211536</td>\n",
              "      <td>13.0000</td>\n",
              "      <td>NaN</td>\n",
              "      <td>S</td>\n",
              "    </tr>\n",
              "    <tr>\n",
              "      <th>887</th>\n",
              "      <td>888</td>\n",
              "      <td>1</td>\n",
              "      <td>1</td>\n",
              "      <td>Graham, Miss. Margaret Edith</td>\n",
              "      <td>female</td>\n",
              "      <td>19.0</td>\n",
              "      <td>0</td>\n",
              "      <td>0</td>\n",
              "      <td>112053</td>\n",
              "      <td>30.0000</td>\n",
              "      <td>B42</td>\n",
              "      <td>S</td>\n",
              "    </tr>\n",
              "    <tr>\n",
              "      <th>888</th>\n",
              "      <td>889</td>\n",
              "      <td>0</td>\n",
              "      <td>3</td>\n",
              "      <td>Johnston, Miss. Catherine Helen \"Carrie\"</td>\n",
              "      <td>female</td>\n",
              "      <td>NaN</td>\n",
              "      <td>1</td>\n",
              "      <td>2</td>\n",
              "      <td>W./C. 6607</td>\n",
              "      <td>23.4500</td>\n",
              "      <td>NaN</td>\n",
              "      <td>S</td>\n",
              "    </tr>\n",
              "    <tr>\n",
              "      <th>889</th>\n",
              "      <td>890</td>\n",
              "      <td>1</td>\n",
              "      <td>1</td>\n",
              "      <td>Behr, Mr. Karl Howell</td>\n",
              "      <td>male</td>\n",
              "      <td>26.0</td>\n",
              "      <td>0</td>\n",
              "      <td>0</td>\n",
              "      <td>111369</td>\n",
              "      <td>30.0000</td>\n",
              "      <td>C148</td>\n",
              "      <td>C</td>\n",
              "    </tr>\n",
              "    <tr>\n",
              "      <th>890</th>\n",
              "      <td>891</td>\n",
              "      <td>0</td>\n",
              "      <td>3</td>\n",
              "      <td>Dooley, Mr. Patrick</td>\n",
              "      <td>male</td>\n",
              "      <td>32.0</td>\n",
              "      <td>0</td>\n",
              "      <td>0</td>\n",
              "      <td>370376</td>\n",
              "      <td>7.7500</td>\n",
              "      <td>NaN</td>\n",
              "      <td>Q</td>\n",
              "    </tr>\n",
              "  </tbody>\n",
              "</table>\n",
              "<p>891 rows × 12 columns</p>\n",
              "</div>"
            ],
            "text/plain": [
              "     PassengerId  Survived  Pclass  ...     Fare Cabin  Embarked\n",
              "0              1         0       3  ...   7.2500   NaN         S\n",
              "1              2         1       1  ...  71.2833   C85         C\n",
              "2              3         1       3  ...   7.9250   NaN         S\n",
              "3              4         1       1  ...  53.1000  C123         S\n",
              "4              5         0       3  ...   8.0500   NaN         S\n",
              "..           ...       ...     ...  ...      ...   ...       ...\n",
              "886          887         0       2  ...  13.0000   NaN         S\n",
              "887          888         1       1  ...  30.0000   B42         S\n",
              "888          889         0       3  ...  23.4500   NaN         S\n",
              "889          890         1       1  ...  30.0000  C148         C\n",
              "890          891         0       3  ...   7.7500   NaN         Q\n",
              "\n",
              "[891 rows x 12 columns]"
            ]
          },
          "metadata": {},
          "execution_count": 266
        }
      ]
    },
    {
      "cell_type": "markdown",
      "metadata": {
        "id": "ph135_ppe2I4"
      },
      "source": [
        "<b>Write a function which accepts a dataframe, preprocesses the data (use task 1 notebook) and returns a new dataframe. </b> <br>\n",
        "you may need a helper function for normalizing data so feel free to define that as well"
      ]
    },
    {
      "cell_type": "code",
      "metadata": {
        "id": "nEgFQI3se0dn",
        "colab": {
          "base_uri": "https://localhost:8080/",
          "height": 827
        },
        "outputId": "f74e0cd0-32d4-430b-da83-919770a25188"
      },
      "source": [
        "import pandas as pd\n",
        "import numpy as np\n",
        "import matplotlib.pyplot as plt\n",
        "import seaborn as sns\n",
        "\n",
        "train_df[\"Name\"]\n",
        "train_df[\"Title\"]=''\n",
        "for i in range(len(train_df)):\n",
        "  title_search = train_df[\"Name\"][i]\n",
        "  title = str(title_search).split(\",\")\n",
        "  finaltitle = title[1].split(\".\")\n",
        "  train_df[\"Title\"][i]=finaltitle[0]\n",
        "\n",
        "\n",
        "  #remove nan values\n",
        "nan_values = train_df.isna()\n",
        "more = nan_values.mean().round(5)*100\n",
        "print(more)\n",
        "for i in range(len(more)):\n",
        "  if(more[i] >= 50):\n",
        "    remove = train_df.columns[i]\n",
        "    \n",
        "train_df.drop(remove, inplace=True, axis=1)\n",
        "\n",
        "\n",
        "  ##filling nans\n",
        "embark_col = train_df[\"Embarked\"]\n",
        "for i in range(len(embark_col)):\n",
        "  if train_df[\"Embarked\"].isnull().any():\n",
        "    train_df[\"Embarked\"]=train_df[\"Embarked\"].fillna(train_df[\"Embarked\"].mode()[0])\n",
        "for i in range(len(train_df)):\n",
        "  if train_df[\"Age\"].isnull().any():\n",
        "    train_df[\"Age\"]=train_df[\"Age\"].fillna(train_df[\"Age\"].mean())\n",
        "\n",
        "  ##merging family_mebers\n",
        "train_df[\"Family_members\"]=train_df[\"SibSp\"]+train_df[\"Parch\"]\n",
        "train_df.drop(\"SibSp\", inplace=True, axis=1)\n",
        "train_df.drop(\"Parch\", inplace=True, axis=1)\n",
        "train_df.drop(\"Name\", inplace=True, axis=1)\n",
        "train_df.drop(\"Ticket\", inplace=True, axis=1)\n",
        "train_df.drop(\"PassengerId\" , inplace = True ,axis=1)\n",
        "\n",
        "  ##Nomralizing\n",
        "def normalize(data_list):\n",
        "  X_new = []\n",
        "  X_max = data_list[0]\n",
        "  for i in range(1, len(data_list)):\n",
        "        if data_list[i] > X_max:\n",
        "            X_max = data_list[i]\n",
        "  \n",
        "\n",
        "  X_min = min(data_list)\n",
        "  for i in data_list:\n",
        "    X_new.append( (i - X_min)/(X_max - X_min) )\n",
        "  return X_new\n",
        "\n",
        "train_df[\"Age\"] = normalize(train_df[\"Age\"])\n",
        "train_df[\"Fare\"] = normalize(train_df[\"Fare\"])\n",
        "train_df[\"Family_members\"] = normalize(train_df[\"Family_members\"])\n",
        "  \n",
        "train_df = pd.get_dummies(train_df, columns=[\"Pclass\", \"Sex\", \"Title\", \"Embarked\"])\n",
        "train_df\n",
        "\n"
      ],
      "execution_count": null,
      "outputs": [
        {
          "output_type": "stream",
          "name": "stderr",
          "text": [
            "/usr/local/lib/python3.7/dist-packages/ipykernel_launcher.py:12: SettingWithCopyWarning: \n",
            "A value is trying to be set on a copy of a slice from a DataFrame\n",
            "\n",
            "See the caveats in the documentation: https://pandas.pydata.org/pandas-docs/stable/user_guide/indexing.html#returning-a-view-versus-a-copy\n",
            "  if sys.path[0] == '':\n"
          ]
        },
        {
          "output_type": "stream",
          "name": "stdout",
          "text": [
            "PassengerId     0.000\n",
            "Survived        0.000\n",
            "Pclass          0.000\n",
            "Name            0.000\n",
            "Sex             0.000\n",
            "Age            19.865\n",
            "SibSp           0.000\n",
            "Parch           0.000\n",
            "Ticket          0.000\n",
            "Fare            0.000\n",
            "Cabin          77.104\n",
            "Embarked        0.224\n",
            "Title           0.000\n",
            "dtype: float64\n"
          ]
        },
        {
          "output_type": "execute_result",
          "data": {
            "text/html": [
              "<div>\n",
              "<style scoped>\n",
              "    .dataframe tbody tr th:only-of-type {\n",
              "        vertical-align: middle;\n",
              "    }\n",
              "\n",
              "    .dataframe tbody tr th {\n",
              "        vertical-align: top;\n",
              "    }\n",
              "\n",
              "    .dataframe thead th {\n",
              "        text-align: right;\n",
              "    }\n",
              "</style>\n",
              "<table border=\"1\" class=\"dataframe\">\n",
              "  <thead>\n",
              "    <tr style=\"text-align: right;\">\n",
              "      <th></th>\n",
              "      <th>Survived</th>\n",
              "      <th>Age</th>\n",
              "      <th>Fare</th>\n",
              "      <th>Family_members</th>\n",
              "      <th>Pclass_1</th>\n",
              "      <th>Pclass_2</th>\n",
              "      <th>Pclass_3</th>\n",
              "      <th>Sex_female</th>\n",
              "      <th>Sex_male</th>\n",
              "      <th>Title_ Capt</th>\n",
              "      <th>Title_ Col</th>\n",
              "      <th>Title_ Don</th>\n",
              "      <th>Title_ Dr</th>\n",
              "      <th>Title_ Jonkheer</th>\n",
              "      <th>Title_ Lady</th>\n",
              "      <th>Title_ Major</th>\n",
              "      <th>Title_ Master</th>\n",
              "      <th>Title_ Miss</th>\n",
              "      <th>Title_ Mlle</th>\n",
              "      <th>Title_ Mme</th>\n",
              "      <th>Title_ Mr</th>\n",
              "      <th>Title_ Mrs</th>\n",
              "      <th>Title_ Ms</th>\n",
              "      <th>Title_ Rev</th>\n",
              "      <th>Title_ Sir</th>\n",
              "      <th>Title_ the Countess</th>\n",
              "      <th>Embarked_C</th>\n",
              "      <th>Embarked_Q</th>\n",
              "      <th>Embarked_S</th>\n",
              "    </tr>\n",
              "  </thead>\n",
              "  <tbody>\n",
              "    <tr>\n",
              "      <th>0</th>\n",
              "      <td>0</td>\n",
              "      <td>0.271174</td>\n",
              "      <td>0.014151</td>\n",
              "      <td>0.1</td>\n",
              "      <td>0</td>\n",
              "      <td>0</td>\n",
              "      <td>1</td>\n",
              "      <td>0</td>\n",
              "      <td>1</td>\n",
              "      <td>0</td>\n",
              "      <td>0</td>\n",
              "      <td>0</td>\n",
              "      <td>0</td>\n",
              "      <td>0</td>\n",
              "      <td>0</td>\n",
              "      <td>0</td>\n",
              "      <td>0</td>\n",
              "      <td>0</td>\n",
              "      <td>0</td>\n",
              "      <td>0</td>\n",
              "      <td>1</td>\n",
              "      <td>0</td>\n",
              "      <td>0</td>\n",
              "      <td>0</td>\n",
              "      <td>0</td>\n",
              "      <td>0</td>\n",
              "      <td>0</td>\n",
              "      <td>0</td>\n",
              "      <td>1</td>\n",
              "    </tr>\n",
              "    <tr>\n",
              "      <th>1</th>\n",
              "      <td>1</td>\n",
              "      <td>0.472229</td>\n",
              "      <td>0.139136</td>\n",
              "      <td>0.1</td>\n",
              "      <td>1</td>\n",
              "      <td>0</td>\n",
              "      <td>0</td>\n",
              "      <td>1</td>\n",
              "      <td>0</td>\n",
              "      <td>0</td>\n",
              "      <td>0</td>\n",
              "      <td>0</td>\n",
              "      <td>0</td>\n",
              "      <td>0</td>\n",
              "      <td>0</td>\n",
              "      <td>0</td>\n",
              "      <td>0</td>\n",
              "      <td>0</td>\n",
              "      <td>0</td>\n",
              "      <td>0</td>\n",
              "      <td>0</td>\n",
              "      <td>1</td>\n",
              "      <td>0</td>\n",
              "      <td>0</td>\n",
              "      <td>0</td>\n",
              "      <td>0</td>\n",
              "      <td>1</td>\n",
              "      <td>0</td>\n",
              "      <td>0</td>\n",
              "    </tr>\n",
              "    <tr>\n",
              "      <th>2</th>\n",
              "      <td>1</td>\n",
              "      <td>0.321438</td>\n",
              "      <td>0.015469</td>\n",
              "      <td>0.0</td>\n",
              "      <td>0</td>\n",
              "      <td>0</td>\n",
              "      <td>1</td>\n",
              "      <td>1</td>\n",
              "      <td>0</td>\n",
              "      <td>0</td>\n",
              "      <td>0</td>\n",
              "      <td>0</td>\n",
              "      <td>0</td>\n",
              "      <td>0</td>\n",
              "      <td>0</td>\n",
              "      <td>0</td>\n",
              "      <td>0</td>\n",
              "      <td>1</td>\n",
              "      <td>0</td>\n",
              "      <td>0</td>\n",
              "      <td>0</td>\n",
              "      <td>0</td>\n",
              "      <td>0</td>\n",
              "      <td>0</td>\n",
              "      <td>0</td>\n",
              "      <td>0</td>\n",
              "      <td>0</td>\n",
              "      <td>0</td>\n",
              "      <td>1</td>\n",
              "    </tr>\n",
              "    <tr>\n",
              "      <th>3</th>\n",
              "      <td>1</td>\n",
              "      <td>0.434531</td>\n",
              "      <td>0.103644</td>\n",
              "      <td>0.1</td>\n",
              "      <td>1</td>\n",
              "      <td>0</td>\n",
              "      <td>0</td>\n",
              "      <td>1</td>\n",
              "      <td>0</td>\n",
              "      <td>0</td>\n",
              "      <td>0</td>\n",
              "      <td>0</td>\n",
              "      <td>0</td>\n",
              "      <td>0</td>\n",
              "      <td>0</td>\n",
              "      <td>0</td>\n",
              "      <td>0</td>\n",
              "      <td>0</td>\n",
              "      <td>0</td>\n",
              "      <td>0</td>\n",
              "      <td>0</td>\n",
              "      <td>1</td>\n",
              "      <td>0</td>\n",
              "      <td>0</td>\n",
              "      <td>0</td>\n",
              "      <td>0</td>\n",
              "      <td>0</td>\n",
              "      <td>0</td>\n",
              "      <td>1</td>\n",
              "    </tr>\n",
              "    <tr>\n",
              "      <th>4</th>\n",
              "      <td>0</td>\n",
              "      <td>0.434531</td>\n",
              "      <td>0.015713</td>\n",
              "      <td>0.0</td>\n",
              "      <td>0</td>\n",
              "      <td>0</td>\n",
              "      <td>1</td>\n",
              "      <td>0</td>\n",
              "      <td>1</td>\n",
              "      <td>0</td>\n",
              "      <td>0</td>\n",
              "      <td>0</td>\n",
              "      <td>0</td>\n",
              "      <td>0</td>\n",
              "      <td>0</td>\n",
              "      <td>0</td>\n",
              "      <td>0</td>\n",
              "      <td>0</td>\n",
              "      <td>0</td>\n",
              "      <td>0</td>\n",
              "      <td>1</td>\n",
              "      <td>0</td>\n",
              "      <td>0</td>\n",
              "      <td>0</td>\n",
              "      <td>0</td>\n",
              "      <td>0</td>\n",
              "      <td>0</td>\n",
              "      <td>0</td>\n",
              "      <td>1</td>\n",
              "    </tr>\n",
              "    <tr>\n",
              "      <th>...</th>\n",
              "      <td>...</td>\n",
              "      <td>...</td>\n",
              "      <td>...</td>\n",
              "      <td>...</td>\n",
              "      <td>...</td>\n",
              "      <td>...</td>\n",
              "      <td>...</td>\n",
              "      <td>...</td>\n",
              "      <td>...</td>\n",
              "      <td>...</td>\n",
              "      <td>...</td>\n",
              "      <td>...</td>\n",
              "      <td>...</td>\n",
              "      <td>...</td>\n",
              "      <td>...</td>\n",
              "      <td>...</td>\n",
              "      <td>...</td>\n",
              "      <td>...</td>\n",
              "      <td>...</td>\n",
              "      <td>...</td>\n",
              "      <td>...</td>\n",
              "      <td>...</td>\n",
              "      <td>...</td>\n",
              "      <td>...</td>\n",
              "      <td>...</td>\n",
              "      <td>...</td>\n",
              "      <td>...</td>\n",
              "      <td>...</td>\n",
              "      <td>...</td>\n",
              "    </tr>\n",
              "    <tr>\n",
              "      <th>886</th>\n",
              "      <td>0</td>\n",
              "      <td>0.334004</td>\n",
              "      <td>0.025374</td>\n",
              "      <td>0.0</td>\n",
              "      <td>0</td>\n",
              "      <td>1</td>\n",
              "      <td>0</td>\n",
              "      <td>0</td>\n",
              "      <td>1</td>\n",
              "      <td>0</td>\n",
              "      <td>0</td>\n",
              "      <td>0</td>\n",
              "      <td>0</td>\n",
              "      <td>0</td>\n",
              "      <td>0</td>\n",
              "      <td>0</td>\n",
              "      <td>0</td>\n",
              "      <td>0</td>\n",
              "      <td>0</td>\n",
              "      <td>0</td>\n",
              "      <td>0</td>\n",
              "      <td>0</td>\n",
              "      <td>0</td>\n",
              "      <td>1</td>\n",
              "      <td>0</td>\n",
              "      <td>0</td>\n",
              "      <td>0</td>\n",
              "      <td>0</td>\n",
              "      <td>1</td>\n",
              "    </tr>\n",
              "    <tr>\n",
              "      <th>887</th>\n",
              "      <td>1</td>\n",
              "      <td>0.233476</td>\n",
              "      <td>0.058556</td>\n",
              "      <td>0.0</td>\n",
              "      <td>1</td>\n",
              "      <td>0</td>\n",
              "      <td>0</td>\n",
              "      <td>1</td>\n",
              "      <td>0</td>\n",
              "      <td>0</td>\n",
              "      <td>0</td>\n",
              "      <td>0</td>\n",
              "      <td>0</td>\n",
              "      <td>0</td>\n",
              "      <td>0</td>\n",
              "      <td>0</td>\n",
              "      <td>0</td>\n",
              "      <td>1</td>\n",
              "      <td>0</td>\n",
              "      <td>0</td>\n",
              "      <td>0</td>\n",
              "      <td>0</td>\n",
              "      <td>0</td>\n",
              "      <td>0</td>\n",
              "      <td>0</td>\n",
              "      <td>0</td>\n",
              "      <td>0</td>\n",
              "      <td>0</td>\n",
              "      <td>1</td>\n",
              "    </tr>\n",
              "    <tr>\n",
              "      <th>888</th>\n",
              "      <td>0</td>\n",
              "      <td>0.367921</td>\n",
              "      <td>0.045771</td>\n",
              "      <td>0.3</td>\n",
              "      <td>0</td>\n",
              "      <td>0</td>\n",
              "      <td>1</td>\n",
              "      <td>1</td>\n",
              "      <td>0</td>\n",
              "      <td>0</td>\n",
              "      <td>0</td>\n",
              "      <td>0</td>\n",
              "      <td>0</td>\n",
              "      <td>0</td>\n",
              "      <td>0</td>\n",
              "      <td>0</td>\n",
              "      <td>0</td>\n",
              "      <td>1</td>\n",
              "      <td>0</td>\n",
              "      <td>0</td>\n",
              "      <td>0</td>\n",
              "      <td>0</td>\n",
              "      <td>0</td>\n",
              "      <td>0</td>\n",
              "      <td>0</td>\n",
              "      <td>0</td>\n",
              "      <td>0</td>\n",
              "      <td>0</td>\n",
              "      <td>1</td>\n",
              "    </tr>\n",
              "    <tr>\n",
              "      <th>889</th>\n",
              "      <td>1</td>\n",
              "      <td>0.321438</td>\n",
              "      <td>0.058556</td>\n",
              "      <td>0.0</td>\n",
              "      <td>1</td>\n",
              "      <td>0</td>\n",
              "      <td>0</td>\n",
              "      <td>0</td>\n",
              "      <td>1</td>\n",
              "      <td>0</td>\n",
              "      <td>0</td>\n",
              "      <td>0</td>\n",
              "      <td>0</td>\n",
              "      <td>0</td>\n",
              "      <td>0</td>\n",
              "      <td>0</td>\n",
              "      <td>0</td>\n",
              "      <td>0</td>\n",
              "      <td>0</td>\n",
              "      <td>0</td>\n",
              "      <td>1</td>\n",
              "      <td>0</td>\n",
              "      <td>0</td>\n",
              "      <td>0</td>\n",
              "      <td>0</td>\n",
              "      <td>0</td>\n",
              "      <td>1</td>\n",
              "      <td>0</td>\n",
              "      <td>0</td>\n",
              "    </tr>\n",
              "    <tr>\n",
              "      <th>890</th>\n",
              "      <td>0</td>\n",
              "      <td>0.396833</td>\n",
              "      <td>0.015127</td>\n",
              "      <td>0.0</td>\n",
              "      <td>0</td>\n",
              "      <td>0</td>\n",
              "      <td>1</td>\n",
              "      <td>0</td>\n",
              "      <td>1</td>\n",
              "      <td>0</td>\n",
              "      <td>0</td>\n",
              "      <td>0</td>\n",
              "      <td>0</td>\n",
              "      <td>0</td>\n",
              "      <td>0</td>\n",
              "      <td>0</td>\n",
              "      <td>0</td>\n",
              "      <td>0</td>\n",
              "      <td>0</td>\n",
              "      <td>0</td>\n",
              "      <td>1</td>\n",
              "      <td>0</td>\n",
              "      <td>0</td>\n",
              "      <td>0</td>\n",
              "      <td>0</td>\n",
              "      <td>0</td>\n",
              "      <td>0</td>\n",
              "      <td>1</td>\n",
              "      <td>0</td>\n",
              "    </tr>\n",
              "  </tbody>\n",
              "</table>\n",
              "<p>891 rows × 29 columns</p>\n",
              "</div>"
            ],
            "text/plain": [
              "     Survived       Age      Fare  ...  Embarked_C  Embarked_Q  Embarked_S\n",
              "0           0  0.271174  0.014151  ...           0           0           1\n",
              "1           1  0.472229  0.139136  ...           1           0           0\n",
              "2           1  0.321438  0.015469  ...           0           0           1\n",
              "3           1  0.434531  0.103644  ...           0           0           1\n",
              "4           0  0.434531  0.015713  ...           0           0           1\n",
              "..        ...       ...       ...  ...         ...         ...         ...\n",
              "886         0  0.334004  0.025374  ...           0           0           1\n",
              "887         1  0.233476  0.058556  ...           0           0           1\n",
              "888         0  0.367921  0.045771  ...           0           0           1\n",
              "889         1  0.321438  0.058556  ...           1           0           0\n",
              "890         0  0.396833  0.015127  ...           0           1           0\n",
              "\n",
              "[891 rows x 29 columns]"
            ]
          },
          "metadata": {},
          "execution_count": 267
        }
      ]
    },
    {
      "cell_type": "markdown",
      "metadata": {
        "id": "Rlnz6P-xh1SA"
      },
      "source": [
        "<b>extract the y label (survived) from the dataframe and store it in a new variable</b>"
      ]
    },
    {
      "cell_type": "code",
      "metadata": {
        "id": "R0WuPt4DhpOx"
      },
      "source": [
        "#write code here\n",
        "\n",
        "titanic_df = pd.DataFrame(train_df)\n",
        "y = titanic_df[\"Survived\"]"
      ],
      "execution_count": null,
      "outputs": []
    },
    {
      "cell_type": "markdown",
      "metadata": {
        "id": "NzP6YHDTiC--"
      },
      "source": [
        "<b>remove the y_label (survived) from the dataframe</b>"
      ]
    },
    {
      "cell_type": "code",
      "metadata": {
        "id": "DI0KwhYHiIBT",
        "colab": {
          "base_uri": "https://localhost:8080/",
          "height": 479
        },
        "outputId": "a3a7ef52-03a4-4e5e-822a-7edc7247d1d3"
      },
      "source": [
        "#write code here\n",
        "\n",
        "titanic_df.drop(\"Survived\", inplace=True, axis=1)\n",
        "X = titanic_df\n",
        "X"
      ],
      "execution_count": null,
      "outputs": [
        {
          "output_type": "execute_result",
          "data": {
            "text/html": [
              "<div>\n",
              "<style scoped>\n",
              "    .dataframe tbody tr th:only-of-type {\n",
              "        vertical-align: middle;\n",
              "    }\n",
              "\n",
              "    .dataframe tbody tr th {\n",
              "        vertical-align: top;\n",
              "    }\n",
              "\n",
              "    .dataframe thead th {\n",
              "        text-align: right;\n",
              "    }\n",
              "</style>\n",
              "<table border=\"1\" class=\"dataframe\">\n",
              "  <thead>\n",
              "    <tr style=\"text-align: right;\">\n",
              "      <th></th>\n",
              "      <th>Age</th>\n",
              "      <th>Fare</th>\n",
              "      <th>Family_members</th>\n",
              "      <th>Pclass_1</th>\n",
              "      <th>Pclass_2</th>\n",
              "      <th>Pclass_3</th>\n",
              "      <th>Sex_female</th>\n",
              "      <th>Sex_male</th>\n",
              "      <th>Title_ Capt</th>\n",
              "      <th>Title_ Col</th>\n",
              "      <th>Title_ Don</th>\n",
              "      <th>Title_ Dr</th>\n",
              "      <th>Title_ Jonkheer</th>\n",
              "      <th>Title_ Lady</th>\n",
              "      <th>Title_ Major</th>\n",
              "      <th>Title_ Master</th>\n",
              "      <th>Title_ Miss</th>\n",
              "      <th>Title_ Mlle</th>\n",
              "      <th>Title_ Mme</th>\n",
              "      <th>Title_ Mr</th>\n",
              "      <th>Title_ Mrs</th>\n",
              "      <th>Title_ Ms</th>\n",
              "      <th>Title_ Rev</th>\n",
              "      <th>Title_ Sir</th>\n",
              "      <th>Title_ the Countess</th>\n",
              "      <th>Embarked_C</th>\n",
              "      <th>Embarked_Q</th>\n",
              "      <th>Embarked_S</th>\n",
              "    </tr>\n",
              "  </thead>\n",
              "  <tbody>\n",
              "    <tr>\n",
              "      <th>0</th>\n",
              "      <td>0.271174</td>\n",
              "      <td>0.014151</td>\n",
              "      <td>0.1</td>\n",
              "      <td>0</td>\n",
              "      <td>0</td>\n",
              "      <td>1</td>\n",
              "      <td>0</td>\n",
              "      <td>1</td>\n",
              "      <td>0</td>\n",
              "      <td>0</td>\n",
              "      <td>0</td>\n",
              "      <td>0</td>\n",
              "      <td>0</td>\n",
              "      <td>0</td>\n",
              "      <td>0</td>\n",
              "      <td>0</td>\n",
              "      <td>0</td>\n",
              "      <td>0</td>\n",
              "      <td>0</td>\n",
              "      <td>1</td>\n",
              "      <td>0</td>\n",
              "      <td>0</td>\n",
              "      <td>0</td>\n",
              "      <td>0</td>\n",
              "      <td>0</td>\n",
              "      <td>0</td>\n",
              "      <td>0</td>\n",
              "      <td>1</td>\n",
              "    </tr>\n",
              "    <tr>\n",
              "      <th>1</th>\n",
              "      <td>0.472229</td>\n",
              "      <td>0.139136</td>\n",
              "      <td>0.1</td>\n",
              "      <td>1</td>\n",
              "      <td>0</td>\n",
              "      <td>0</td>\n",
              "      <td>1</td>\n",
              "      <td>0</td>\n",
              "      <td>0</td>\n",
              "      <td>0</td>\n",
              "      <td>0</td>\n",
              "      <td>0</td>\n",
              "      <td>0</td>\n",
              "      <td>0</td>\n",
              "      <td>0</td>\n",
              "      <td>0</td>\n",
              "      <td>0</td>\n",
              "      <td>0</td>\n",
              "      <td>0</td>\n",
              "      <td>0</td>\n",
              "      <td>1</td>\n",
              "      <td>0</td>\n",
              "      <td>0</td>\n",
              "      <td>0</td>\n",
              "      <td>0</td>\n",
              "      <td>1</td>\n",
              "      <td>0</td>\n",
              "      <td>0</td>\n",
              "    </tr>\n",
              "    <tr>\n",
              "      <th>2</th>\n",
              "      <td>0.321438</td>\n",
              "      <td>0.015469</td>\n",
              "      <td>0.0</td>\n",
              "      <td>0</td>\n",
              "      <td>0</td>\n",
              "      <td>1</td>\n",
              "      <td>1</td>\n",
              "      <td>0</td>\n",
              "      <td>0</td>\n",
              "      <td>0</td>\n",
              "      <td>0</td>\n",
              "      <td>0</td>\n",
              "      <td>0</td>\n",
              "      <td>0</td>\n",
              "      <td>0</td>\n",
              "      <td>0</td>\n",
              "      <td>1</td>\n",
              "      <td>0</td>\n",
              "      <td>0</td>\n",
              "      <td>0</td>\n",
              "      <td>0</td>\n",
              "      <td>0</td>\n",
              "      <td>0</td>\n",
              "      <td>0</td>\n",
              "      <td>0</td>\n",
              "      <td>0</td>\n",
              "      <td>0</td>\n",
              "      <td>1</td>\n",
              "    </tr>\n",
              "    <tr>\n",
              "      <th>3</th>\n",
              "      <td>0.434531</td>\n",
              "      <td>0.103644</td>\n",
              "      <td>0.1</td>\n",
              "      <td>1</td>\n",
              "      <td>0</td>\n",
              "      <td>0</td>\n",
              "      <td>1</td>\n",
              "      <td>0</td>\n",
              "      <td>0</td>\n",
              "      <td>0</td>\n",
              "      <td>0</td>\n",
              "      <td>0</td>\n",
              "      <td>0</td>\n",
              "      <td>0</td>\n",
              "      <td>0</td>\n",
              "      <td>0</td>\n",
              "      <td>0</td>\n",
              "      <td>0</td>\n",
              "      <td>0</td>\n",
              "      <td>0</td>\n",
              "      <td>1</td>\n",
              "      <td>0</td>\n",
              "      <td>0</td>\n",
              "      <td>0</td>\n",
              "      <td>0</td>\n",
              "      <td>0</td>\n",
              "      <td>0</td>\n",
              "      <td>1</td>\n",
              "    </tr>\n",
              "    <tr>\n",
              "      <th>4</th>\n",
              "      <td>0.434531</td>\n",
              "      <td>0.015713</td>\n",
              "      <td>0.0</td>\n",
              "      <td>0</td>\n",
              "      <td>0</td>\n",
              "      <td>1</td>\n",
              "      <td>0</td>\n",
              "      <td>1</td>\n",
              "      <td>0</td>\n",
              "      <td>0</td>\n",
              "      <td>0</td>\n",
              "      <td>0</td>\n",
              "      <td>0</td>\n",
              "      <td>0</td>\n",
              "      <td>0</td>\n",
              "      <td>0</td>\n",
              "      <td>0</td>\n",
              "      <td>0</td>\n",
              "      <td>0</td>\n",
              "      <td>1</td>\n",
              "      <td>0</td>\n",
              "      <td>0</td>\n",
              "      <td>0</td>\n",
              "      <td>0</td>\n",
              "      <td>0</td>\n",
              "      <td>0</td>\n",
              "      <td>0</td>\n",
              "      <td>1</td>\n",
              "    </tr>\n",
              "    <tr>\n",
              "      <th>...</th>\n",
              "      <td>...</td>\n",
              "      <td>...</td>\n",
              "      <td>...</td>\n",
              "      <td>...</td>\n",
              "      <td>...</td>\n",
              "      <td>...</td>\n",
              "      <td>...</td>\n",
              "      <td>...</td>\n",
              "      <td>...</td>\n",
              "      <td>...</td>\n",
              "      <td>...</td>\n",
              "      <td>...</td>\n",
              "      <td>...</td>\n",
              "      <td>...</td>\n",
              "      <td>...</td>\n",
              "      <td>...</td>\n",
              "      <td>...</td>\n",
              "      <td>...</td>\n",
              "      <td>...</td>\n",
              "      <td>...</td>\n",
              "      <td>...</td>\n",
              "      <td>...</td>\n",
              "      <td>...</td>\n",
              "      <td>...</td>\n",
              "      <td>...</td>\n",
              "      <td>...</td>\n",
              "      <td>...</td>\n",
              "      <td>...</td>\n",
              "    </tr>\n",
              "    <tr>\n",
              "      <th>886</th>\n",
              "      <td>0.334004</td>\n",
              "      <td>0.025374</td>\n",
              "      <td>0.0</td>\n",
              "      <td>0</td>\n",
              "      <td>1</td>\n",
              "      <td>0</td>\n",
              "      <td>0</td>\n",
              "      <td>1</td>\n",
              "      <td>0</td>\n",
              "      <td>0</td>\n",
              "      <td>0</td>\n",
              "      <td>0</td>\n",
              "      <td>0</td>\n",
              "      <td>0</td>\n",
              "      <td>0</td>\n",
              "      <td>0</td>\n",
              "      <td>0</td>\n",
              "      <td>0</td>\n",
              "      <td>0</td>\n",
              "      <td>0</td>\n",
              "      <td>0</td>\n",
              "      <td>0</td>\n",
              "      <td>1</td>\n",
              "      <td>0</td>\n",
              "      <td>0</td>\n",
              "      <td>0</td>\n",
              "      <td>0</td>\n",
              "      <td>1</td>\n",
              "    </tr>\n",
              "    <tr>\n",
              "      <th>887</th>\n",
              "      <td>0.233476</td>\n",
              "      <td>0.058556</td>\n",
              "      <td>0.0</td>\n",
              "      <td>1</td>\n",
              "      <td>0</td>\n",
              "      <td>0</td>\n",
              "      <td>1</td>\n",
              "      <td>0</td>\n",
              "      <td>0</td>\n",
              "      <td>0</td>\n",
              "      <td>0</td>\n",
              "      <td>0</td>\n",
              "      <td>0</td>\n",
              "      <td>0</td>\n",
              "      <td>0</td>\n",
              "      <td>0</td>\n",
              "      <td>1</td>\n",
              "      <td>0</td>\n",
              "      <td>0</td>\n",
              "      <td>0</td>\n",
              "      <td>0</td>\n",
              "      <td>0</td>\n",
              "      <td>0</td>\n",
              "      <td>0</td>\n",
              "      <td>0</td>\n",
              "      <td>0</td>\n",
              "      <td>0</td>\n",
              "      <td>1</td>\n",
              "    </tr>\n",
              "    <tr>\n",
              "      <th>888</th>\n",
              "      <td>0.367921</td>\n",
              "      <td>0.045771</td>\n",
              "      <td>0.3</td>\n",
              "      <td>0</td>\n",
              "      <td>0</td>\n",
              "      <td>1</td>\n",
              "      <td>1</td>\n",
              "      <td>0</td>\n",
              "      <td>0</td>\n",
              "      <td>0</td>\n",
              "      <td>0</td>\n",
              "      <td>0</td>\n",
              "      <td>0</td>\n",
              "      <td>0</td>\n",
              "      <td>0</td>\n",
              "      <td>0</td>\n",
              "      <td>1</td>\n",
              "      <td>0</td>\n",
              "      <td>0</td>\n",
              "      <td>0</td>\n",
              "      <td>0</td>\n",
              "      <td>0</td>\n",
              "      <td>0</td>\n",
              "      <td>0</td>\n",
              "      <td>0</td>\n",
              "      <td>0</td>\n",
              "      <td>0</td>\n",
              "      <td>1</td>\n",
              "    </tr>\n",
              "    <tr>\n",
              "      <th>889</th>\n",
              "      <td>0.321438</td>\n",
              "      <td>0.058556</td>\n",
              "      <td>0.0</td>\n",
              "      <td>1</td>\n",
              "      <td>0</td>\n",
              "      <td>0</td>\n",
              "      <td>0</td>\n",
              "      <td>1</td>\n",
              "      <td>0</td>\n",
              "      <td>0</td>\n",
              "      <td>0</td>\n",
              "      <td>0</td>\n",
              "      <td>0</td>\n",
              "      <td>0</td>\n",
              "      <td>0</td>\n",
              "      <td>0</td>\n",
              "      <td>0</td>\n",
              "      <td>0</td>\n",
              "      <td>0</td>\n",
              "      <td>1</td>\n",
              "      <td>0</td>\n",
              "      <td>0</td>\n",
              "      <td>0</td>\n",
              "      <td>0</td>\n",
              "      <td>0</td>\n",
              "      <td>1</td>\n",
              "      <td>0</td>\n",
              "      <td>0</td>\n",
              "    </tr>\n",
              "    <tr>\n",
              "      <th>890</th>\n",
              "      <td>0.396833</td>\n",
              "      <td>0.015127</td>\n",
              "      <td>0.0</td>\n",
              "      <td>0</td>\n",
              "      <td>0</td>\n",
              "      <td>1</td>\n",
              "      <td>0</td>\n",
              "      <td>1</td>\n",
              "      <td>0</td>\n",
              "      <td>0</td>\n",
              "      <td>0</td>\n",
              "      <td>0</td>\n",
              "      <td>0</td>\n",
              "      <td>0</td>\n",
              "      <td>0</td>\n",
              "      <td>0</td>\n",
              "      <td>0</td>\n",
              "      <td>0</td>\n",
              "      <td>0</td>\n",
              "      <td>1</td>\n",
              "      <td>0</td>\n",
              "      <td>0</td>\n",
              "      <td>0</td>\n",
              "      <td>0</td>\n",
              "      <td>0</td>\n",
              "      <td>0</td>\n",
              "      <td>1</td>\n",
              "      <td>0</td>\n",
              "    </tr>\n",
              "  </tbody>\n",
              "</table>\n",
              "<p>891 rows × 28 columns</p>\n",
              "</div>"
            ],
            "text/plain": [
              "          Age      Fare  Family_members  ...  Embarked_C  Embarked_Q  Embarked_S\n",
              "0    0.271174  0.014151             0.1  ...           0           0           1\n",
              "1    0.472229  0.139136             0.1  ...           1           0           0\n",
              "2    0.321438  0.015469             0.0  ...           0           0           1\n",
              "3    0.434531  0.103644             0.1  ...           0           0           1\n",
              "4    0.434531  0.015713             0.0  ...           0           0           1\n",
              "..        ...       ...             ...  ...         ...         ...         ...\n",
              "886  0.334004  0.025374             0.0  ...           0           0           1\n",
              "887  0.233476  0.058556             0.0  ...           0           0           1\n",
              "888  0.367921  0.045771             0.3  ...           0           0           1\n",
              "889  0.321438  0.058556             0.0  ...           1           0           0\n",
              "890  0.396833  0.015127             0.0  ...           0           1           0\n",
              "\n",
              "[891 rows x 28 columns]"
            ]
          },
          "metadata": {},
          "execution_count": 269
        }
      ]
    },
    {
      "cell_type": "markdown",
      "metadata": {
        "id": "7ut650pSiIw1"
      },
      "source": [
        "<b>Split the data into train and test. (do a split in the ratio 30:70)</b>"
      ]
    },
    {
      "cell_type": "code",
      "metadata": {
        "id": "phcn_hG7iRIN"
      },
      "source": [
        "#write code here\n",
        "from sklearn.model_selection import train_test_split\n",
        "X_train, X_test, y_train, y_test = train_test_split(X,y,test_size= 0.30,random_state=42)\n"
      ],
      "execution_count": null,
      "outputs": []
    },
    {
      "cell_type": "code",
      "metadata": {
        "colab": {
          "base_uri": "https://localhost:8080/"
        },
        "id": "N_l6kbyrv92W",
        "outputId": "45c89090-9bfc-4356-8f76-2f23dc0c4832"
      },
      "source": [
        "from sklearn.naive_bayes import MultinomialNB\n",
        "classifier = MultinomialNB()\n",
        "classifier.fit(X_train, y_train)"
      ],
      "execution_count": null,
      "outputs": [
        {
          "output_type": "execute_result",
          "data": {
            "text/plain": [
              "MultinomialNB(alpha=1.0, class_prior=None, fit_prior=True)"
            ]
          },
          "metadata": {},
          "execution_count": 271
        }
      ]
    },
    {
      "cell_type": "code",
      "metadata": {
        "id": "ffYfCFWywSvO"
      },
      "source": [
        "y_pred = classifier.predict(X_test)"
      ],
      "execution_count": null,
      "outputs": []
    },
    {
      "cell_type": "code",
      "metadata": {
        "colab": {
          "base_uri": "https://localhost:8080/"
        },
        "id": "mzw341c7wXCV",
        "outputId": "1c4a3f53-f6d3-456c-b052-bfe2ca040782"
      },
      "source": [
        "from sklearn.metrics import confusion_matrix\n",
        "cm = confusion_matrix(y_test , y_pred)\n",
        "print(cm)"
      ],
      "execution_count": null,
      "outputs": [
        {
          "output_type": "stream",
          "name": "stdout",
          "text": [
            "[[133  24]\n",
            " [ 30  81]]\n"
          ]
        }
      ]
    },
    {
      "cell_type": "code",
      "metadata": {
        "colab": {
          "base_uri": "https://localhost:8080/"
        },
        "id": "SMWCOgU6wXfY",
        "outputId": "e455f39b-a29d-4325-b58c-aa4e6f0f2067"
      },
      "source": [
        "from sklearn import metrics\n",
        "print(metrics.classification_report(y_test,y_pred))"
      ],
      "execution_count": null,
      "outputs": [
        {
          "output_type": "stream",
          "name": "stdout",
          "text": [
            "              precision    recall  f1-score   support\n",
            "\n",
            "           0       0.82      0.85      0.83       157\n",
            "           1       0.77      0.73      0.75       111\n",
            "\n",
            "    accuracy                           0.80       268\n",
            "   macro avg       0.79      0.79      0.79       268\n",
            "weighted avg       0.80      0.80      0.80       268\n",
            "\n"
          ]
        }
      ]
    },
    {
      "cell_type": "code",
      "metadata": {
        "colab": {
          "base_uri": "https://localhost:8080/"
        },
        "id": "nLYekXnVwec-",
        "outputId": "06901d1a-2faa-4d4d-9936-1ee40c9dce7b"
      },
      "source": [
        "print(metrics.accuracy_score(y_test,y_pred))"
      ],
      "execution_count": null,
      "outputs": [
        {
          "output_type": "stream",
          "name": "stdout",
          "text": [
            "0.7985074626865671\n"
          ]
        }
      ]
    },
    {
      "cell_type": "markdown",
      "metadata": {
        "id": "sqZl02RsiSbJ"
      },
      "source": [
        "<b>Now that you have the entire preprocessed and split data, implement the decision tree algorithm from sklearn and fit it to this dataset</b> <br>\n",
        "\n",
        "Make sure that you play with the hyperparameters to get a good result. You can even use bagging and boosting methods like random forest or adaboost to improve your accuracy. Visualize results, try different hyperparameters by using a loop, GET CREATIVE!<br>\n",
        "\n",
        "Machine learning is an iteritive process. You will have to keep playing with hyperparameters and algorithms. No fixed algorithm will work on a fixed dataset.\n",
        "\n",
        "Take this up as a challenge. The person with the best accuracy wins the round!"
      ]
    },
    {
      "cell_type": "markdown",
      "metadata": {
        "id": "EVNqRQx2j6iO"
      },
      "source": [
        "<b>Note that the accuracy on the test set will be considered and brownie points for not overfitting the model in the process</b>"
      ]
    },
    {
      "cell_type": "code",
      "metadata": {
        "colab": {
          "base_uri": "https://localhost:8080/"
        },
        "id": "hrdeGYUL0kw0",
        "outputId": "121fcb5c-5dc2-4961-cb72-ad75bfd5bd1c"
      },
      "source": [
        "from sklearn.tree import DecisionTreeClassifier\n",
        "dtc = DecisionTreeClassifier(random_state=10)\n",
        "dtc.fit(X_train,y_train)"
      ],
      "execution_count": null,
      "outputs": [
        {
          "output_type": "execute_result",
          "data": {
            "text/plain": [
              "DecisionTreeClassifier(ccp_alpha=0.0, class_weight=None, criterion='gini',\n",
              "                       max_depth=None, max_features=None, max_leaf_nodes=None,\n",
              "                       min_impurity_decrease=0.0, min_impurity_split=None,\n",
              "                       min_samples_leaf=1, min_samples_split=2,\n",
              "                       min_weight_fraction_leaf=0.0, presort='deprecated',\n",
              "                       random_state=10, splitter='best')"
            ]
          },
          "metadata": {},
          "execution_count": 276
        }
      ]
    },
    {
      "cell_type": "code",
      "metadata": {
        "id": "5IacgpCP0zCh"
      },
      "source": [
        "train_accuracy = []\n",
        "test_accuracy = []\n",
        "for i in range(1,10):\n",
        "  df = DecisionTreeClassifier(max_depth=i,random_state=10)\n",
        "  df.fit(X_train,y_train)\n",
        "  train_accuracy.append(df.score(X_train,y_train))\n",
        "  test_accuracy.append(df.score(X_test,y_test))"
      ],
      "execution_count": null,
      "outputs": []
    },
    {
      "cell_type": "code",
      "metadata": {
        "colab": {
          "base_uri": "https://localhost:8080/",
          "height": 332
        },
        "id": "4HghNgHf2Isu",
        "outputId": "b8c39257-0b00-4227-8309-e008c77e8a96"
      },
      "source": [
        "frame = pd.DataFrame({'max_depth': range(1,10),'train_acc':train_accuracy,'test_acc':test_accuracy})\n",
        "frame"
      ],
      "execution_count": null,
      "outputs": [
        {
          "output_type": "execute_result",
          "data": {
            "text/html": [
              "<div>\n",
              "<style scoped>\n",
              "    .dataframe tbody tr th:only-of-type {\n",
              "        vertical-align: middle;\n",
              "    }\n",
              "\n",
              "    .dataframe tbody tr th {\n",
              "        vertical-align: top;\n",
              "    }\n",
              "\n",
              "    .dataframe thead th {\n",
              "        text-align: right;\n",
              "    }\n",
              "</style>\n",
              "<table border=\"1\" class=\"dataframe\">\n",
              "  <thead>\n",
              "    <tr style=\"text-align: right;\">\n",
              "      <th></th>\n",
              "      <th>max_depth</th>\n",
              "      <th>train_acc</th>\n",
              "      <th>test_acc</th>\n",
              "    </tr>\n",
              "  </thead>\n",
              "  <tbody>\n",
              "    <tr>\n",
              "      <th>0</th>\n",
              "      <td>1</td>\n",
              "      <td>0.778491</td>\n",
              "      <td>0.791045</td>\n",
              "    </tr>\n",
              "    <tr>\n",
              "      <th>1</th>\n",
              "      <td>2</td>\n",
              "      <td>0.796148</td>\n",
              "      <td>0.772388</td>\n",
              "    </tr>\n",
              "    <tr>\n",
              "      <th>2</th>\n",
              "      <td>3</td>\n",
              "      <td>0.839486</td>\n",
              "      <td>0.828358</td>\n",
              "    </tr>\n",
              "    <tr>\n",
              "      <th>3</th>\n",
              "      <td>4</td>\n",
              "      <td>0.853933</td>\n",
              "      <td>0.805970</td>\n",
              "    </tr>\n",
              "    <tr>\n",
              "      <th>4</th>\n",
              "      <td>5</td>\n",
              "      <td>0.858748</td>\n",
              "      <td>0.817164</td>\n",
              "    </tr>\n",
              "    <tr>\n",
              "      <th>5</th>\n",
              "      <td>6</td>\n",
              "      <td>0.869984</td>\n",
              "      <td>0.839552</td>\n",
              "    </tr>\n",
              "    <tr>\n",
              "      <th>6</th>\n",
              "      <td>7</td>\n",
              "      <td>0.894061</td>\n",
              "      <td>0.776119</td>\n",
              "    </tr>\n",
              "    <tr>\n",
              "      <th>7</th>\n",
              "      <td>8</td>\n",
              "      <td>0.908507</td>\n",
              "      <td>0.802239</td>\n",
              "    </tr>\n",
              "    <tr>\n",
              "      <th>8</th>\n",
              "      <td>9</td>\n",
              "      <td>0.922953</td>\n",
              "      <td>0.787313</td>\n",
              "    </tr>\n",
              "  </tbody>\n",
              "</table>\n",
              "</div>"
            ],
            "text/plain": [
              "   max_depth  train_acc  test_acc\n",
              "0          1   0.778491  0.791045\n",
              "1          2   0.796148  0.772388\n",
              "2          3   0.839486  0.828358\n",
              "3          4   0.853933  0.805970\n",
              "4          5   0.858748  0.817164\n",
              "5          6   0.869984  0.839552\n",
              "6          7   0.894061  0.776119\n",
              "7          8   0.908507  0.802239\n",
              "8          9   0.922953  0.787313"
            ]
          },
          "metadata": {},
          "execution_count": 278
        }
      ]
    },
    {
      "cell_type": "code",
      "metadata": {
        "colab": {
          "base_uri": "https://localhost:8080/"
        },
        "id": "sJu99jzs2pxD",
        "outputId": "d1e98f24-6723-49f9-fc15-019a7d64698e"
      },
      "source": [
        "df_model = DecisionTreeClassifier(max_depth=4,max_leaf_nodes=25,random_state=10)\n",
        "df_model.fit(X_train,y_train)"
      ],
      "execution_count": null,
      "outputs": [
        {
          "output_type": "execute_result",
          "data": {
            "text/plain": [
              "DecisionTreeClassifier(ccp_alpha=0.0, class_weight=None, criterion='gini',\n",
              "                       max_depth=4, max_features=None, max_leaf_nodes=25,\n",
              "                       min_impurity_decrease=0.0, min_impurity_split=None,\n",
              "                       min_samples_leaf=1, min_samples_split=2,\n",
              "                       min_weight_fraction_leaf=0.0, presort='deprecated',\n",
              "                       random_state=10, splitter='best')"
            ]
          },
          "metadata": {},
          "execution_count": 279
        }
      ]
    },
    {
      "cell_type": "code",
      "metadata": {
        "colab": {
          "base_uri": "https://localhost:8080/"
        },
        "id": "cUrnWU423B9B",
        "outputId": "4459094e-a650-42ed-b499-0b8ea57282c8"
      },
      "source": [
        "print(\"Train data accuracy is \",df_model.score(X_train,y_train))\n",
        "print(\"Test data accuracy is \",df_model.score(X_test,y_test))\n"
      ],
      "execution_count": null,
      "outputs": [
        {
          "output_type": "stream",
          "name": "stdout",
          "text": [
            "Train data accuracy is  0.8539325842696629\n",
            "Test data accuracy is  0.8059701492537313\n"
          ]
        }
      ]
    },
    {
      "cell_type": "markdown",
      "metadata": {
        "id": "MG9YdhbbjTW3"
      },
      "source": [
        "#Hyperparameters Tuning - Grid Serach "
      ]
    },
    {
      "cell_type": "code",
      "metadata": {
        "id": "9yOfMaM4tEvX"
      },
      "source": [
        "from sklearn import svm\n",
        "from sklearn.ensemble import RandomForestClassifier\n",
        "from sklearn.linear_model import LogisticRegression\n",
        "from sklearn.tree import DecisionTreeClassifier\n",
        "from sklearn.neighbors import KNeighborsClassifier"
      ],
      "execution_count": null,
      "outputs": []
    },
    {
      "cell_type": "code",
      "metadata": {
        "id": "QIJwvPcmtVLJ"
      },
      "source": [
        "model_hyperpara = {\n",
        "    'svm':{\n",
        "        'model':svm.SVC(gamma='auto'),\n",
        "        'params':{\n",
        "            'C':[1,15,25],\n",
        "            'kernel':['rbf','linear']\n",
        "        }\n",
        "    },\n",
        "    'random_forest':{\n",
        "        'model':RandomForestClassifier(),\n",
        "        'params':{\n",
        "            'n_estimators':[1,15,25],\n",
        "            'max_depth':[1,5,15,20,25],\n",
        "            'max_leaf_nodes':[15,20,25,30],\n",
        "            'random_state':[1,10,21,42],\n",
        "        }\n",
        "    },\n",
        "    \n",
        "    'logistic_regression':{\n",
        "        'model':LogisticRegression(),\n",
        "        'params':{\n",
        "            'C':[1,15,25],\n",
        "            'max_iter':[200],\n",
        "        }\n",
        "    },\n",
        "    'knn':{\n",
        "        'model':KNeighborsClassifier(),\n",
        "        'params':{\n",
        "            'n_neighbors':[1,5,10,15,25],\n",
        "            'weights':['uniform','distance'],\n",
        "            'metric':['minkowski','euclidean','manhattan'],\n",
        "            'leaf_size':[50]\n",
        "        }\n",
        "    }\n",
        "}\n",
        "\n"
      ],
      "execution_count": null,
      "outputs": []
    },
    {
      "cell_type": "code",
      "metadata": {
        "colab": {
          "base_uri": "https://localhost:8080/"
        },
        "id": "cTdcw6G-uWgI",
        "outputId": "f07a7c13-cdad-41cc-c850-640e14a41e20"
      },
      "source": [
        "acc_scores=[]\n",
        "for model_name , map in model_hyperpara.items():\n",
        "  clf = GridSearchCV(map['model'],map['params'],cv=5,return_train_score=False)\n",
        "  clf.fit(X_train,y_train)\n",
        "  print(model_name , \" :\" ,clf.best_score_)\n",
        "  print(\"Best Params : \" , clf.best_params_)"
      ],
      "execution_count": null,
      "outputs": [
        {
          "output_type": "stream",
          "name": "stdout",
          "text": [
            "svm  : 0.8314322580645161\n",
            "Best Params :  {'C': 15, 'kernel': 'rbf'}\n",
            "random_forest  : 0.8411225806451613\n",
            "Best Params :  {'max_depth': 15, 'max_leaf_nodes': 15, 'n_estimators': 25, 'random_state': 21}\n",
            "logistic_regression  : 0.8282322580645163\n",
            "Best Params :  {'C': 25, 'max_iter': 200}\n",
            "knn  : 0.8346580645161289\n",
            "Best Params :  {'leaf_size': 50, 'metric': 'minkowski', 'n_neighbors': 15, 'weights': 'uniform'}\n"
          ]
        }
      ]
    },
    {
      "cell_type": "code",
      "metadata": {
        "id": "ZK3pQc1oyKcq"
      },
      "source": [
        ""
      ],
      "execution_count": null,
      "outputs": []
    },
    {
      "cell_type": "markdown",
      "metadata": {
        "id": "qpSDT-ZlkhRS"
      },
      "source": [
        "<b>print the test accuracy and train accuracy here</b>"
      ]
    }
  ]
}