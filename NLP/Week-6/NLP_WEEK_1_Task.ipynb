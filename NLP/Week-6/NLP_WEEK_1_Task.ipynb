{
  "nbformat": 4,
  "nbformat_minor": 0,
  "metadata": {
    "colab": {
      "name": "NLP_WEEK-1_Task.ipynb",
      "provenance": [],
      "collapsed_sections": []
    },
    "interpreter": {
      "hash": "6f6a9d06c0fd64bf60e6e1c5f52d9e61e3a0d126987fc458258eb07643fb7172"
    },
    "kernelspec": {
      "display_name": "Python 3",
      "language": "python",
      "name": "python3"
    },
    "language_info": {
      "codemirror_mode": {
        "name": "ipython",
        "version": 3
      },
      "file_extension": ".py",
      "mimetype": "text/x-python",
      "name": "python",
      "nbconvert_exporter": "python",
      "pygments_lexer": "ipython3",
      "version": "3.6.12"
    }
  },
  "cells": [
    {
      "cell_type": "markdown",
      "metadata": {
        "id": "DXG8z6NmkRDz"
      },
      "source": [
        "# Natural Language Processing:\n",
        "Natural language processing (NLP) is the ability of a computer program to understand human language as it is spoken and written -- referred to as natural language. It is a component of artificial intelligence (AI).\n",
        "\n",
        "NLP has existed for more than 50 years and has roots in the field of linguistics. It has a variety of real-world applications in a number of fields, including medical research, search engines and business intelligence.\n",
        "\n",
        "Natural language processing (NLP) is a form of AI that extracts meaning from human language to make decisions based on the information. This technology is still evolving, but there are already many incredible ways natural language processing is used today. Here are some of the everyday uses of natural language processing are highlighted and five amazing examples of how natural language processing is transforming businesses:\n",
        "\n",
        "**Examples of Natural Language Processing:**\n",
        "\n",
        "\n",
        "*   NLP helps the Livox app be a communication device for people with disabilities. The creation of Carlos Pereira, a father who developed the app to help his non-verbal daughter, who has cerebral palsy communicate, the customizable app is now available in 25 languages. \n",
        "*   Another tool enabled by natural language processing is SignAll that converts sign language into text. This can help individuals who are deaf communicate with those who don’t know sign language.\n",
        "*   Machine translation is a huge application for NLP that allows us to overcome barriers to communicating with individuals from around the world as well as understand tech manuals and catalogs written in a foreign language. Google Translate is used by 500 million people every day to understand more than 100 world languages.\n",
        "*    NLP technology is even being applied for aircraft maintenance. Not only could it help mechanics synthesize information from enormous aircraft manuals it can also find meaning in the descriptions of problems reported verbally or handwritten from pilots and other humans.\n",
        "*    While the issue is complex, there’s even work being done to have NLP assist with predictive police work to specifically identify the motive in crimes.\n",
        "* Chatbots: Another great example of language processing is chatbots. They are very much like virtual assistants but with more specific goals. They are most commonly used on websites where customers visit. They help you to get the information you need without talking to any real person. First, they try to understand your need and then bring the results in front of you.\n",
        "* Web Scraping: Web scraping is another field where language processing is commonly used. It is used to extract information from a web page without even spending time to copy each paragraph one by one. Web scraping is a great way to collect valuable data and train your machine learning model. Web scraping is also a very helpful tool when working with search engine optimization.\n",
        "\n",
        "As industry leaders continue to experiment and develop enhancements to natural language processing such as Amazon’s Alexa division using a neural network to transfer learning, we can expect that NLP will become even better and more influential for business in the very near future.\n",
        "\n",
        "\n",
        "\n",
        "There are two main phases to natural language processing: data preprocessing and algorithm development.\n",
        "\n",
        "Data preprocessing involves preparing and \"cleaning\" text data for machines to be able to analyze it. preprocessing puts data in workable form and highlights features in the text that an algorithm can work with. There are several ways this can be done, including:\n",
        "\n",
        "* **Tokenization**. This is when text is broken down into smaller units to work with.\n",
        "* **Stop word removal**. This is when common words are removed from text so unique words that offer the most information about the text remain.\n",
        "* **Lemmatization and stemming**. This is when words are reduced to their root forms to process.\n",
        "* **Part-of-speech tagging**. This is when words are marked based on the part-of speech they are -- such as nouns, verbs and adjectives\n",
        "\n",
        "Once the data has been preprocessed, an algorithm is developed to process it. There are many different natural language processing algorithms, but two main types are commonly used:\n",
        "\n",
        "* **Rules-based system.** This system uses carefully designed linguistic rules. This approach was used early on in the development of natural language processing, and is still used.\n",
        "* **Machine learning-based system**. Machine learning algorithms use statistical methods. They learn to perform tasks based on training data they are fed, and adjust their methods as more data is processed. Using a combination of machine learning, deep learning and neural networks, natural language processing algorithms hone their own rules through repeated processing and learning.\n",
        "\n",
        "\n",
        "# NLTK (Natural Language Toolkit):\n",
        "NLTK is a leading platform for building Python programs to work with human language data. It provides easy-to-use interfaces to over 50 corpora and lexical resources such as WordNet, along with a suite of text processing libraries for classification, tokenization, stemming, tagging, parsing, and semantic reasoning, wrappers for industrial-strength NLP libraries.\n",
        "\n",
        "Reference: http://www.nltk.org\n",
        "\n",
        "We have to install NLTK module so that we can use it in our project."
      ]
    },
    {
      "cell_type": "markdown",
      "metadata": {
        "id": "P-OUZIF9kREJ"
      },
      "source": [
        "To prepare the text data for the model building we perform text preprocessing. It is the very first step of NLP projects. Some of the preprocessing steps are:\n",
        "\n",
        "* Removing punctuations like . , ! $( ) * % @\n",
        "* Removing URLs\n",
        "* Removing Stop words\n",
        "* Lower casing\n",
        "* Tokenization\n",
        "* Stemming\n",
        "* Lemmatization"
      ]
    },
    {
      "cell_type": "markdown",
      "metadata": {
        "id": "SGo1nmqykREJ"
      },
      "source": [
        "### Follow this tutorial to install and setup nltk: https://www.youtube.com/watch?v=68aHmFcO-W4"
      ]
    },
    {
      "cell_type": "markdown",
      "metadata": {
        "id": "hKXpBEhmkREK"
      },
      "source": [
        "### Go through this blog:<br> https://www.analyticsvidhya.com/blog/2021/06/text-preprocessing-in-nlp-with-python-codes/\n",
        "\n",
        "### Understand how the pre-processing steps are applied and solve the given tasks below. Print the text after every step."
      ]
    },
    {
      "cell_type": "code",
      "metadata": {
        "id": "P6AWPQHWkREL",
        "colab": {
          "base_uri": "https://localhost:8080/"
        },
        "outputId": "d0454eb1-776d-4813-9ff9-786f53220247"
      },
      "source": [
        "#Given below is a string paragraph on which we will perform the various pre processing steps\n",
        "import re\n",
        "import nltk\n",
        "from IPython.core.display import HTML\n",
        "nltk.download('punkt')\n",
        "nltk.download('stopwords')\n",
        "nltk.download('wordnet')\n",
        "text= \"A small sample of texts from Project Gutenberg appears in the NLTK corpus collection. However, you may be interested in analyzing other texts from Project Gutenberg. You can browse the catalog of 25,000 free online books at http://www.gutenberg.org/catalog/, and obtain a URL to an ASCII text file. Although 90% of the texts in Project Gutenberg are in English, it includes material in over 50 other languages, including Catalan, Chinese, Dutch, Finnish, French, German, Italian, Portuguese and Spanish (with more than 100 texts each). Text number 2554 is an English translation of Crime and Punishment, and we can access it as follows.\""
      ],
      "execution_count": null,
      "outputs": [
        {
          "output_type": "stream",
          "name": "stdout",
          "text": [
            "[nltk_data] Downloading package punkt to /root/nltk_data...\n",
            "[nltk_data]   Unzipping tokenizers/punkt.zip.\n",
            "[nltk_data] Downloading package stopwords to /root/nltk_data...\n",
            "[nltk_data]   Unzipping corpora/stopwords.zip.\n",
            "[nltk_data] Downloading package wordnet to /root/nltk_data...\n",
            "[nltk_data]   Unzipping corpora/wordnet.zip.\n"
          ]
        }
      ]
    },
    {
      "cell_type": "markdown",
      "metadata": {
        "id": "cLIwR9HNkREN"
      },
      "source": [
        "## Removing punctuations:\n",
        "### Different ways to remove punctuations: https://www.pythonpool.com/remove-punctuation-python/\n"
      ]
    },
    {
      "cell_type": "code",
      "metadata": {
        "id": "l9ULzbl0kREN",
        "colab": {
          "base_uri": "https://localhost:8080/",
          "height": 109
        },
        "outputId": "db5d40c3-a17c-4ee1-e740-9457abb77e81"
      },
      "source": [
        "#Remove punctuations from text using any of the methods provided in the links above\n",
        "punctuations = '''!()-[]{};:'\"\\,<>./?@#$%^&*_~'''\n",
        "no_punc=''\n",
        "\n",
        "for char in text:\n",
        "   if char not in punctuations:\n",
        "       no_punc = no_punc + char\n",
        " \n",
        "print(\"Punctuation Free String: \")\n",
        "text = no_punc\n",
        "text"
      ],
      "execution_count": null,
      "outputs": [
        {
          "output_type": "stream",
          "name": "stdout",
          "text": [
            "Punctuation Free String: \n"
          ]
        },
        {
          "output_type": "execute_result",
          "data": {
            "application/vnd.google.colaboratory.intrinsic+json": {
              "type": "string"
            },
            "text/plain": [
              "'A small sample of texts from Project Gutenberg appears in the NLTK corpus collection However you may be interested in analyzing other texts from Project Gutenberg You can browse the catalog of 25000 free online books at httpwwwgutenbergorgcatalog and obtain a URL to an ASCII text file Although 90 of the texts in Project Gutenberg are in English it includes material in over 50 other languages including Catalan Chinese Dutch Finnish French German Italian Portuguese and Spanish with more than 100 texts each Text number 2554 is an English translation of Crime and Punishment and we can access it as follows'"
            ]
          },
          "metadata": {},
          "execution_count": 4
        }
      ]
    },
    {
      "cell_type": "markdown",
      "metadata": {
        "id": "qJslFSGONFYX"
      },
      "source": [
        "## Removing URLs:\n",
        "\n",
        "Search up how to remove URLs from text and apply it below"
      ]
    },
    {
      "cell_type": "code",
      "metadata": {
        "colab": {
          "base_uri": "https://localhost:8080/",
          "height": 91
        },
        "id": "TlKhpatxeHD1",
        "outputId": "1f2cba72-3d72-49fd-cd9d-1fd2f99f4a5c"
      },
      "source": [
        "#Write your code below to remove URL from text\n",
        "import re\n",
        "text = re.sub(r'http\\S+', '', text)\n",
        "text"
      ],
      "execution_count": null,
      "outputs": [
        {
          "output_type": "execute_result",
          "data": {
            "application/vnd.google.colaboratory.intrinsic+json": {
              "type": "string"
            },
            "text/plain": [
              "'A small sample of texts from Project Gutenberg appears in the NLTK corpus collection However you may be interested in analyzing other texts from Project Gutenberg You can browse the catalog of 25000 free online books at  and obtain a URL to an ASCII text file Although 90 of the texts in Project Gutenberg are in English it includes material in over 50 other languages including Catalan Chinese Dutch Finnish French German Italian Portuguese and Spanish with more than 100 texts each Text number 2554 is an English translation of Crime and Punishment and we can access it as follows'"
            ]
          },
          "metadata": {},
          "execution_count": 5
        }
      ]
    },
    {
      "cell_type": "markdown",
      "metadata": {
        "id": "JyfbfkstNvZ7"
      },
      "source": [
        "## Removing numbers\n",
        "\n",
        "Search how to remove numbers from text and apply it below"
      ]
    },
    {
      "cell_type": "code",
      "metadata": {
        "id": "j5gsU6lLN2BA",
        "colab": {
          "base_uri": "https://localhost:8080/",
          "height": 91
        },
        "outputId": "067ee0ce-ada8-4637-9743-ba94268bd423"
      },
      "source": [
        "#Write your code below to remove numbers from text\n",
        "text = re.sub(\"\\d+\", \"\", text)\n",
        "text"
      ],
      "execution_count": null,
      "outputs": [
        {
          "output_type": "execute_result",
          "data": {
            "application/vnd.google.colaboratory.intrinsic+json": {
              "type": "string"
            },
            "text/plain": [
              "'A small sample of texts from Project Gutenberg appears in the NLTK corpus collection However you may be interested in analyzing other texts from Project Gutenberg You can browse the catalog of  free online books at  and obtain a URL to an ASCII text file Although  of the texts in Project Gutenberg are in English it includes material in over  other languages including Catalan Chinese Dutch Finnish French German Italian Portuguese and Spanish with more than  texts each Text number  is an English translation of Crime and Punishment and we can access it as follows'"
            ]
          },
          "metadata": {},
          "execution_count": 6
        }
      ]
    },
    {
      "cell_type": "markdown",
      "metadata": {
        "id": "WAu7P6ngkREO"
      },
      "source": [
        "## Lowering the text:\n",
        "Refer to the link mentioned above and lower the case of the text "
      ]
    },
    {
      "cell_type": "code",
      "metadata": {
        "id": "2fLB5btPkREP",
        "colab": {
          "base_uri": "https://localhost:8080/",
          "height": 91
        },
        "outputId": "b6243ddd-9323-4155-b4b4-74532be5861f"
      },
      "source": [
        "#Write your code below to convert text to lowercase:\n",
        "text = text.lower()\n",
        "text"
      ],
      "execution_count": null,
      "outputs": [
        {
          "output_type": "execute_result",
          "data": {
            "application/vnd.google.colaboratory.intrinsic+json": {
              "type": "string"
            },
            "text/plain": [
              "'a small sample of texts from project gutenberg appears in the nltk corpus collection however you may be interested in analyzing other texts from project gutenberg you can browse the catalog of  free online books at  and obtain a url to an ascii text file although  of the texts in project gutenberg are in english it includes material in over  other languages including catalan chinese dutch finnish french german italian portuguese and spanish with more than  texts each text number  is an english translation of crime and punishment and we can access it as follows'"
            ]
          },
          "metadata": {},
          "execution_count": 7
        }
      ]
    },
    {
      "cell_type": "markdown",
      "metadata": {
        "id": "qWZEkPHhkREQ"
      },
      "source": [
        "## Tokenisation:\n",
        "\n",
        " In this step, the text is split into smaller units. We can use either sentence tokenization or word tokenization based on our problem statement.\n",
        "\n",
        "Learn more about tokenization here: https://www.analyticsvidhya.com/blog/2019/07/how-get-started-nlp-6-unique-ways-perform-tokenization/"
      ]
    },
    {
      "cell_type": "code",
      "metadata": {
        "id": "2zmmLqjlkREQ",
        "colab": {
          "base_uri": "https://localhost:8080/"
        },
        "outputId": "9273afa9-e5b2-46cc-b9b6-52e4aa9030a6"
      },
      "source": [
        "#Perform tokenization on our text using nltk\n",
        "tokens = re.findall(\"[\\w']+\", text)\n",
        "tokens"
      ],
      "execution_count": null,
      "outputs": [
        {
          "output_type": "execute_result",
          "data": {
            "text/plain": [
              "['a',\n",
              " 'small',\n",
              " 'sample',\n",
              " 'of',\n",
              " 'texts',\n",
              " 'from',\n",
              " 'project',\n",
              " 'gutenberg',\n",
              " 'appears',\n",
              " 'in',\n",
              " 'the',\n",
              " 'nltk',\n",
              " 'corpus',\n",
              " 'collection',\n",
              " 'however',\n",
              " 'you',\n",
              " 'may',\n",
              " 'be',\n",
              " 'interested',\n",
              " 'in',\n",
              " 'analyzing',\n",
              " 'other',\n",
              " 'texts',\n",
              " 'from',\n",
              " 'project',\n",
              " 'gutenberg',\n",
              " 'you',\n",
              " 'can',\n",
              " 'browse',\n",
              " 'the',\n",
              " 'catalog',\n",
              " 'of',\n",
              " 'free',\n",
              " 'online',\n",
              " 'books',\n",
              " 'at',\n",
              " 'and',\n",
              " 'obtain',\n",
              " 'a',\n",
              " 'url',\n",
              " 'to',\n",
              " 'an',\n",
              " 'ascii',\n",
              " 'text',\n",
              " 'file',\n",
              " 'although',\n",
              " 'of',\n",
              " 'the',\n",
              " 'texts',\n",
              " 'in',\n",
              " 'project',\n",
              " 'gutenberg',\n",
              " 'are',\n",
              " 'in',\n",
              " 'english',\n",
              " 'it',\n",
              " 'includes',\n",
              " 'material',\n",
              " 'in',\n",
              " 'over',\n",
              " 'other',\n",
              " 'languages',\n",
              " 'including',\n",
              " 'catalan',\n",
              " 'chinese',\n",
              " 'dutch',\n",
              " 'finnish',\n",
              " 'french',\n",
              " 'german',\n",
              " 'italian',\n",
              " 'portuguese',\n",
              " 'and',\n",
              " 'spanish',\n",
              " 'with',\n",
              " 'more',\n",
              " 'than',\n",
              " 'texts',\n",
              " 'each',\n",
              " 'text',\n",
              " 'number',\n",
              " 'is',\n",
              " 'an',\n",
              " 'english',\n",
              " 'translation',\n",
              " 'of',\n",
              " 'crime',\n",
              " 'and',\n",
              " 'punishment',\n",
              " 'and',\n",
              " 'we',\n",
              " 'can',\n",
              " 'access',\n",
              " 'it',\n",
              " 'as',\n",
              " 'follows']"
            ]
          },
          "metadata": {},
          "execution_count": 8
        }
      ]
    },
    {
      "cell_type": "markdown",
      "metadata": {
        "id": "l5nEQUpLkREQ"
      },
      "source": [
        "## Stop word removal\n",
        "\n",
        "Stopwords are the commonly used words and are removed from the text as they do not add any value to the analysis. These words carry less or no meaning.\n",
        "\n",
        " NLTK library consists of a list of words that are considered stopwords for the English language. Some of them are : [i, me, my, myself, we, our, ours, ourselves, you, you’re, you’ve, you’ll, you’d, your, yours, yourself, yourselves, he, most, other, some, such, no, nor, not, only, own, same, so, then, too, very, s, t, can, will, just, don, don’t, should, should’ve, now, d, ll, m, o, re, ve, y, ain, aren’t, could, couldn’t, didn’t, didn’t]\n",
        "\n",
        "But it is not necessary to use the provided list as stopwords as they should be chosen wisely based on the project. For example, ‘How’ can be a stop word for a model but can be important for some other problem where we are working on the queries of the customers. We can create a customized list of stop words for different problems."
      ]
    },
    {
      "cell_type": "code",
      "metadata": {
        "id": "mW4oea2fkRER",
        "colab": {
          "base_uri": "https://localhost:8080/"
        },
        "outputId": "624b1c43-771d-4de9-e943-23e8623d2318"
      },
      "source": [
        "#Remove stop words from text using NLTK\n",
        "\n",
        "from nltk.corpus import stopwords\n",
        "nltk.download('stopwords')\n",
        "from nltk.tokenize import word_tokenize\n",
        "\n",
        "text_tokens = word_tokenize(text)\n",
        "\n",
        "tokens_without_sw = [word for word in text_tokens if not word in stopwords.words()]\n",
        "\n",
        "print(tokens_without_sw)\n",
        "convertList = ' '.join(map(str,tokens_without_sw)) # using map funtion  \n",
        "  \n",
        "print(convertList)  "
      ],
      "execution_count": null,
      "outputs": [
        {
          "output_type": "stream",
          "name": "stdout",
          "text": [
            "[nltk_data] Downloading package stopwords to /root/nltk_data...\n",
            "[nltk_data]   Package stopwords is already up-to-date!\n",
            "['small', 'sample', 'texts', 'project', 'gutenberg', 'appears', 'nltk', 'corpus', 'collection', 'however', 'may', 'interested', 'analyzing', 'texts', 'project', 'gutenberg', 'browse', 'catalog', 'free', 'online', 'books', 'obtain', 'url', 'ascii', 'text', 'file', 'although', 'texts', 'project', 'gutenberg', 'english', 'includes', 'material', 'languages', 'including', 'catalan', 'chinese', 'dutch', 'finnish', 'french', 'german', 'italian', 'portuguese', 'spanish', 'texts', 'text', 'number', 'english', 'translation', 'crime', 'punishment', 'access', 'follows']\n",
            "small sample texts project gutenberg appears nltk corpus collection however may interested analyzing texts project gutenberg browse catalog free online books obtain url ascii text file although texts project gutenberg english includes material languages including catalan chinese dutch finnish french german italian portuguese spanish texts text number english translation crime punishment access follows\n"
          ]
        }
      ]
    },
    {
      "cell_type": "markdown",
      "metadata": {
        "id": "77ZcUcXOkRER"
      },
      "source": [
        "## Stemming:<br>\n",
        "Stemming and lemmatization are really important. Read about them here: <br>https://nlp.stanford.edu/IR-book/html/htmledition/stemming-and-lemmatization-1.html\n",
        "<br> Watch some videos on YouTube if you want a deeper understanding!"
      ]
    },
    {
      "cell_type": "code",
      "metadata": {
        "id": "F5hIqgVnkRES",
        "colab": {
          "base_uri": "https://localhost:8080/",
          "height": 73
        },
        "outputId": "bbc62246-231e-45e8-e740-f846737f8a77"
      },
      "source": [
        "#Apply stemming(PorterStemmer) to the text we got after stopword removal and store the resulting list in a\n",
        "# variable called \"stemmed_text\"\n",
        "# Write code here\n",
        "\n",
        "from nltk.stem import PorterStemmer\n",
        "from nltk.tokenize import word_tokenize\n",
        "porter = PorterStemmer()\n",
        "\n",
        "tokenized_eu = word_tokenize(convertList)\n",
        "\n",
        "stemmed_text = [porter.stem(word) for word in tokenized_eu]\n",
        "print(stemmed_text)\n",
        "\n",
        "\n",
        "\n",
        "\n",
        "# DO NOT CHANGE\n",
        "assert stemmed_text == ['small','sampl','text','project','gutenberg','appear','nltk','corpu','collect','howev','may','interest','analyz','text','project','gutenberg','brows','catalog','free','onlin','book','obtain','url','ascii','text','file','although','text','project','gutenberg','english','includ','materi','languag','includ','catalan','chines','dutch','finnish','french','german','italian','portugues','spanish','text','text','number','english','translat','crime','punish','access','follow'], \\\n",
        "       \"Hmmm...your list doesn't seem to match with ours.\"\n",
        "HTML('<div class=\"alert alert-block alert-success\">Your list look good!</div>')"
      ],
      "execution_count": null,
      "outputs": [
        {
          "output_type": "stream",
          "name": "stdout",
          "text": [
            "['small', 'sampl', 'text', 'project', 'gutenberg', 'appear', 'nltk', 'corpu', 'collect', 'howev', 'may', 'interest', 'analyz', 'text', 'project', 'gutenberg', 'brows', 'catalog', 'free', 'onlin', 'book', 'obtain', 'url', 'ascii', 'text', 'file', 'although', 'text', 'project', 'gutenberg', 'english', 'includ', 'materi', 'languag', 'includ', 'catalan', 'chines', 'dutch', 'finnish', 'french', 'german', 'italian', 'portugues', 'spanish', 'text', 'text', 'number', 'english', 'translat', 'crime', 'punish', 'access', 'follow']\n"
          ]
        },
        {
          "output_type": "execute_result",
          "data": {
            "text/html": [
              "<div class=\"alert alert-block alert-success\">Your list look good!</div>"
            ],
            "text/plain": [
              "<IPython.core.display.HTML object>"
            ]
          },
          "metadata": {},
          "execution_count": 10
        }
      ]
    },
    {
      "cell_type": "markdown",
      "metadata": {
        "id": "iYJxJRxJkRES"
      },
      "source": [
        "## Lemmatization:"
      ]
    },
    {
      "cell_type": "code",
      "metadata": {
        "id": "0__C4BLOkRES",
        "colab": {
          "base_uri": "https://localhost:8080/",
          "height": 73
        },
        "outputId": "6c75aaad-8082-4b4a-ae6e-f45fe787a912"
      },
      "source": [
        "#Apply lemmatization (WordNetLemmatizer) to the text we got after stopword removal, and store the resulting list in a\n",
        "# variable called \"lemmatized_text\":\n",
        "# Write code here\n",
        "\n",
        "from nltk.stem import WordNetLemmatizer \n",
        "\n",
        "# Init the Wordnet Lemmatizer\n",
        "lemmatizer = WordNetLemmatizer()\n",
        "\n",
        "tokenized_eu = word_tokenize(convertList)\n",
        "\n",
        "lemmatized_text = [lemmatizer.lemmatize(word) for word in tokenized_eu]\n",
        "print(lemmatized_text)\n",
        "\n",
        "\n",
        "\n",
        "\n",
        "\n",
        "# DO NOT CHANGE\n",
        "assert lemmatized_text == ['small', 'sample', 'text', 'project', 'gutenberg', 'appears', 'nltk', 'corpus', 'collection', 'however', 'may', 'interested', 'analyzing', 'text', 'project', 'gutenberg', 'browse', 'catalog', 'free', 'online', 'book', 'obtain', 'url', 'ascii', 'text', 'file', 'although', 'text', 'project', 'gutenberg', 'english', 'includes', 'material', 'language', 'including', 'catalan', 'chinese', 'dutch', 'finnish', 'french', 'german', 'italian', 'portuguese', 'spanish', 'text', 'text', 'number', 'english', 'translation', 'crime', 'punishment', 'access', 'follows'], \\\n",
        "       \"Hmmm...your list doesn't seem to match with ours.\"\n",
        "HTML('<div class=\"alert alert-block alert-success\">Your list look good!</div>')"
      ],
      "execution_count": null,
      "outputs": [
        {
          "output_type": "stream",
          "name": "stdout",
          "text": [
            "['small', 'sample', 'text', 'project', 'gutenberg', 'appears', 'nltk', 'corpus', 'collection', 'however', 'may', 'interested', 'analyzing', 'text', 'project', 'gutenberg', 'browse', 'catalog', 'free', 'online', 'book', 'obtain', 'url', 'ascii', 'text', 'file', 'although', 'text', 'project', 'gutenberg', 'english', 'includes', 'material', 'language', 'including', 'catalan', 'chinese', 'dutch', 'finnish', 'french', 'german', 'italian', 'portuguese', 'spanish', 'text', 'text', 'number', 'english', 'translation', 'crime', 'punishment', 'access', 'follows']\n"
          ]
        },
        {
          "output_type": "execute_result",
          "data": {
            "text/html": [
              "<div class=\"alert alert-block alert-success\">Your list look good!</div>"
            ],
            "text/plain": [
              "<IPython.core.display.HTML object>"
            ]
          },
          "metadata": {},
          "execution_count": 11
        }
      ]
    },
    {
      "cell_type": "markdown",
      "metadata": {
        "id": "r2g_oA0LcVty"
      },
      "source": [
        "### Now that the text is cleaned, the next step is to transform it into a form that can be fed into a machine learning model. We'll dive deeper into this next week, but let's go through one technique and see what word embeddings are!"
      ]
    },
    {
      "cell_type": "markdown",
      "metadata": {
        "id": "xjn7G8AEcVty"
      },
      "source": [
        "# An Introduction to Word Embeddings"
      ]
    },
    {
      "cell_type": "markdown",
      "metadata": {
        "id": "4mG-S2SucVty"
      },
      "source": [
        "Many people would say the breakthrough of deep learning in Natural Language Processing started with the introduction of word embeddings. Rather than using the words themselves as features, neural network methods typically take as input dense, relatively low-dimensional vectors that model the meaning and usage of a word. Word embeddings were first popularized through the [Word2Vec](https://arxiv.org/abs/1301.3781) model, developed by Thomas Mikolov and colleagues at Google. Since then, scores of alternative approaches have been developed, such as [GloVe](https://nlp.stanford.edu/projects/glove/) and [FastText](https://fasttext.cc/) embeddings. In this notebook, we'll explore word embeddings with the original Word2Vec approach, as implemented in the [Gensim](https://radimrehurek.com/gensim/) library. "
      ]
    },
    {
      "cell_type": "markdown",
      "metadata": {
        "id": "lhU0qTnVcVtz"
      },
      "source": [
        "## Training word embeddings"
      ]
    },
    {
      "cell_type": "markdown",
      "metadata": {
        "id": "N-O0_T3vcVtz"
      },
      "source": [
        "Training word embeddings with Gensim couldn't be easier. The only thing we need is a corpus of sentences in the language under investigation. For our experiments, we're going to use the abstracts of all ArXiv papers in the category cs.CL (computation and language) that were published before mid-April 2021 — a total of around 25,000 documents. We tokenize these abstracts with spaCy. "
      ]
    },
    {
      "cell_type": "code",
      "metadata": {
        "id": "05bNZzm0cVtz",
        "colab": {
          "base_uri": "https://localhost:8080/"
        },
        "outputId": "3ffd1156-2ed0-489d-c4db-200a15bd61c7"
      },
      "source": [
        "import os\n",
        "import csv\n",
        "import spacy\n",
        "class Corpus(object):\n",
        "\n",
        "    def __init__(self, filename):\n",
        "        self.filename = filename\n",
        "        self.nlp = spacy.blank(\"en\")\n",
        "        \n",
        "    def __iter__(self):\n",
        "        with open(self.filename, encoding=\"utf8\") as i:\n",
        "            reader = csv.reader(i, delimiter=\",\")\n",
        "            for _, abstract in reader:\n",
        "                tokens = [t.text.lower() for t in self.nlp(abstract)]\n",
        "                yield tokens\n",
        "                            \n",
        "\n",
        "documents = Corpus(\"./arxiv.csv\")\n",
        "documents"
      ],
      "execution_count": null,
      "outputs": [
        {
          "output_type": "execute_result",
          "data": {
            "text/plain": [
              "<__main__.Corpus at 0x7f67a30842d0>"
            ]
          },
          "metadata": {},
          "execution_count": 71
        }
      ]
    },
    {
      "cell_type": "markdown",
      "metadata": {
        "id": "lR2ap7D2cVt0"
      },
      "source": [
        "When we train our word embeddings, gensim allows us to set a number of parameters. The most important of these are `min_count`, `window`, `vector_size` and `sg`:\n",
        "\n",
        "- `min_count` is the minimum frequency of the words in our corpus. For infrequent words, we just don't have enough information to train reliable word embeddings. It therefore makes sense to set this minimum frequency to at least 10. In these experiments, we'll set it to 100 to limit the size of our model even more.\n",
        "- `window` is the number of words to the left and to the right that make up the context that word2vec will take into account.\n",
        "- `vector_size` is the dimensionality of the word vectors. This is generally between 100 and 1000. This dimensionality often forces us to make a trade-off: embeddings with a higher dimensionality are able to model more information, but also need more data to train.\n",
        "- `sg`: there are two algorithms to train word2vec: skip-gram and CBOW. Skip-gram tries to predict the context on the basis of the target word; CBOW tries to find the target on the basis of the context. By default, Gensim uses CBOW (`sg=0`).\n",
        "\n",
        "We'll investigate the impact of some of these parameters later."
      ]
    },
    {
      "cell_type": "code",
      "metadata": {
        "id": "A9CWn_p6cVt0"
      },
      "source": [
        "import gensim\n",
        "import pandas as pd\n",
        "from nltk.tokenize import sent_tokenize\n",
        "# will take some time to run\n",
        "model = gensim.models.Word2Vec(documents, min_count=100, window=5,size=100)\n"
      ],
      "execution_count": null,
      "outputs": []
    },
    {
      "cell_type": "markdown",
      "metadata": {
        "id": "W1PBGgUHcVt0"
      },
      "source": [
        "## Using word embeddings"
      ]
    },
    {
      "cell_type": "markdown",
      "metadata": {
        "id": "qXFQHMtacVt0"
      },
      "source": [
        "Let's take a look at the trained model. The word embeddings are on its `wv` attribute, and we can access them by the using the token as key. For example, here is the embedding for *nlp*, with the requested 100 dimensions."
      ]
    },
    {
      "cell_type": "code",
      "metadata": {
        "id": "NJyXmJejcVt1",
        "colab": {
          "base_uri": "https://localhost:8080/"
        },
        "outputId": "686eaa87-5b33-4cba-eeb5-d89e2dcffeb7"
      },
      "source": [
        "model.wv[\"nlp\"]"
      ],
      "execution_count": null,
      "outputs": [
        {
          "output_type": "execute_result",
          "data": {
            "text/plain": [
              "array([ 0.07010173, -1.1127704 ,  0.22884898, -1.9075744 , -0.88319397,\n",
              "        2.5027792 ,  0.06840267,  2.771559  ,  1.0612639 ,  0.67689294,\n",
              "        1.0015188 ,  0.5282323 ,  1.4168794 , -1.6353852 ,  0.21331696,\n",
              "       -1.0022851 ,  0.71032345, -0.11810802,  2.2517385 , -1.2205316 ,\n",
              "        0.02542853, -2.104711  , -0.13173932, -1.596929  , -1.8616663 ,\n",
              "        1.9836915 ,  0.537598  , -1.7362139 ,  2.0075722 , -0.7796444 ,\n",
              "       -1.5395561 ,  1.8658342 , -0.3773451 , -2.1355402 , -1.5380086 ,\n",
              "        0.12825479, -2.040591  ,  1.9327495 ,  0.3041552 , -0.6701131 ,\n",
              "        0.57958597,  3.2131035 , -0.06226614,  1.0233603 , -0.01893464,\n",
              "        1.4487734 ,  1.0833938 , -0.04143753, -0.0470958 ,  2.7554765 ,\n",
              "        0.38482568, -2.3880463 ,  0.47599944, -0.32973763,  0.11325235,\n",
              "       -0.5581841 , -0.5032877 ,  2.4193246 , -0.65862453, -2.0884285 ,\n",
              "        1.7006011 ,  0.06511265,  1.7336674 , -0.30768105, -0.10712317,\n",
              "       -2.5253048 , -1.5677782 ,  0.09030009,  1.3509468 ,  1.0166153 ,\n",
              "       -1.9061548 , -0.9456658 , -1.1033267 ,  0.26705903,  0.09923005,\n",
              "       -0.9439915 , -2.5291374 ,  1.5185822 ,  3.0687735 ,  1.4411288 ,\n",
              "        0.35681507, -0.4700521 ,  0.3894156 , -0.32837635, -1.0046403 ,\n",
              "       -1.0782182 ,  0.3036427 ,  1.2579397 ,  1.1816322 ,  0.31065586,\n",
              "       -2.5440123 , -2.2647576 , -1.4525824 , -2.1467624 , -0.39459762,\n",
              "       -1.121883  ,  0.41146532,  0.78105026,  1.9832282 , -1.4693369 ],\n",
              "      dtype=float32)"
            ]
          },
          "metadata": {},
          "execution_count": 73
        }
      ]
    },
    {
      "cell_type": "markdown",
      "metadata": {
        "id": "XR4pv0FFcVt1"
      },
      "source": [
        "We can also easily find the similarity between two words. Similarity is measured as the cosine between the two word embeddings, and therefore ranges between -1 and +1. The higher the cosine, the more similar two words are. As expected, the figures below show that *nmt* (neural machine translation) is closer to *smt* (statistical machine translation) than to *ner* (named entity recognition)."
      ]
    },
    {
      "cell_type": "code",
      "metadata": {
        "id": "9oApCkrIcVt1",
        "colab": {
          "base_uri": "https://localhost:8080/"
        },
        "outputId": "06ce1774-3a33-4bc4-d73a-065be5e14653"
      },
      "source": [
        "print(model.wv.similarity(\"nmt\", \"smt\"))\n",
        "print(model.wv.similarity(\"nmt\", \"ner\"))"
      ],
      "execution_count": null,
      "outputs": [
        {
          "output_type": "stream",
          "name": "stdout",
          "text": [
            "0.67488176\n",
            "0.4318137\n"
          ]
        }
      ]
    },
    {
      "cell_type": "markdown",
      "metadata": {
        "id": "azDxl0-HcVt1"
      },
      "source": [
        "In a similar vein, we can find the words that are most similar to a target word. The words with the most similar embedding to *bert* are all semantically related to it: other types of pretrained models such as *roberta*, *mbert*, *xlm*, as well as the more general model type BERT represents (*transformer* and *transformers*), and more generally related words (*pretrained*)."
      ]
    },
    {
      "cell_type": "code",
      "metadata": {
        "id": "ChXPlHaQcVt1",
        "colab": {
          "base_uri": "https://localhost:8080/"
        },
        "outputId": "e1c07f2c-1bed-4faa-da1c-08e44207cc35"
      },
      "source": [
        "model.wv.similar_by_word(\"bert\", topn=10)"
      ],
      "execution_count": null,
      "outputs": [
        {
          "output_type": "execute_result",
          "data": {
            "text/plain": [
              "[('roberta', 0.7880135774612427),\n",
              " ('transformer', 0.7535030841827393),\n",
              " ('transformers', 0.7175093293190002),\n",
              " ('elmo', 0.71425461769104),\n",
              " ('pretrained', 0.6734962463378906),\n",
              " ('xlm', 0.6656120419502258),\n",
              " ('xlnet', 0.6610942482948303),\n",
              " ('mbert', 0.641146719455719),\n",
              " ('gpt-2', 0.6353326439857483),\n",
              " ('r', 0.6176367402076721)]"
            ]
          },
          "metadata": {},
          "execution_count": 75
        }
      ]
    },
    {
      "cell_type": "markdown",
      "metadata": {
        "id": "XLPNG7ZocVt2"
      },
      "source": [
        "Interestingly, we can look for words that are similar to a set of words and dissimilar to another set of words at the same time. This allows us to look for analogies of the type *BERT is to a transformer like an LSTM is to ...*. Our embedding model correctly predicts that LSTMs are a type of RNN, just like BERT is a particular type of transformer."
      ]
    },
    {
      "cell_type": "code",
      "metadata": {
        "id": "2S1DxgN6cVt2",
        "colab": {
          "base_uri": "https://localhost:8080/"
        },
        "outputId": "fbc21f4c-3bf9-414a-fd0d-e2ff8629b034"
      },
      "source": [
        "model.wv.most_similar(positive=[\"transformer\", \"lstm\"], negative=[\"bert\"], topn=1)"
      ],
      "execution_count": null,
      "outputs": [
        {
          "output_type": "execute_result",
          "data": {
            "text/plain": [
              "[('rnn', 0.8101643323898315)]"
            ]
          },
          "metadata": {},
          "execution_count": 76
        }
      ]
    },
    {
      "cell_type": "markdown",
      "metadata": {
        "id": "-uvh5LxWcVt2"
      },
      "source": [
        "Similarly, we can also zoom in on one of the meanings of ambiguous words. For example, in NLP *tree* has a very specific meaning, which is obvious from its nearest neighbours *constituency*, *parse*, *dependency* and *syntax*. "
      ]
    },
    {
      "cell_type": "code",
      "metadata": {
        "id": "mO6HCqGDcVt2",
        "colab": {
          "base_uri": "https://localhost:8080/"
        },
        "outputId": "53475fc5-617c-4a1d-8135-e489005b8b58"
      },
      "source": [
        "model.wv.most_similar(positive=[\"tree\"], topn=10)"
      ],
      "execution_count": null,
      "outputs": [
        {
          "output_type": "execute_result",
          "data": {
            "text/plain": [
              "[('trees', 0.8094069361686707),\n",
              " ('recursive', 0.7209348082542419),\n",
              " ('constituency', 0.7187314033508301),\n",
              " ('parse', 0.6957783699035645),\n",
              " ('dependency', 0.6453060507774353),\n",
              " ('syntax', 0.6266293525695801),\n",
              " ('hierarchical', 0.6244561672210693),\n",
              " ('grammars', 0.6180517673492432),\n",
              " ('formalism', 0.6063551902770996),\n",
              " ('grammar', 0.6020381450653076)]"
            ]
          },
          "metadata": {},
          "execution_count": 77
        }
      ]
    },
    {
      "cell_type": "markdown",
      "metadata": {
        "id": "0sXhTBn-cVt2"
      },
      "source": [
        "However, if we specify we're looking for words that are similar to *tree*, but dissimilar to *syntax*, suddenly its standard meaning takes over, and *forest* crops up in its nearest neighbours."
      ]
    },
    {
      "cell_type": "code",
      "metadata": {
        "id": "1Xe_TEGkcVt3",
        "colab": {
          "base_uri": "https://localhost:8080/"
        },
        "outputId": "010a3ad0-560e-4778-ea57-b9ee90e05fa4"
      },
      "source": [
        "model.wv.most_similar(positive=[\"tree\"], negative=[\"syntax\"], topn=10)"
      ],
      "execution_count": null,
      "outputs": [
        {
          "output_type": "execute_result",
          "data": {
            "text/plain": [
              "[('forest', 0.5584744811058044),\n",
              " ('random', 0.4825030565261841),\n",
              " ('crf', 0.47457200288772583),\n",
              " ('logistic', 0.45209771394729614),\n",
              " ('modified', 0.43391352891921997),\n",
              " ('bayes', 0.42822855710983276),\n",
              " ('regression', 0.4251348376274109),\n",
              " ('binary', 0.412540078163147),\n",
              " ('conditional', 0.410949170589447),\n",
              " ('normalized', 0.4076083302497864)]"
            ]
          },
          "metadata": {},
          "execution_count": 78
        }
      ]
    },
    {
      "cell_type": "markdown",
      "metadata": {
        "id": "p5uKlRZhcVt3"
      },
      "source": [
        "Finally, we can present the word2vec model with a list of words and ask it to identify the odd one out. It then uses the word embeddings to identify the word that is least similar to the other ones. For example, in the list *lstm cnn gru svm transformer*, it correctly identifies *svm* as the only non-neural model. In the list *bert word2vec gpt-2 roberta xlnet*, it correctly singles out *word2vec* as the only non-transormer model. In *word2vec bert glove fasttext elmo*, *bert* is singled out as the only transformer."
      ]
    },
    {
      "cell_type": "code",
      "metadata": {
        "id": "R2K7ubB3cVt4",
        "colab": {
          "base_uri": "https://localhost:8080/"
        },
        "outputId": "c0f4b306-d769-40df-a201-1ee542e8a25a"
      },
      "source": [
        "print(model.wv.doesnt_match(\"lstm cnn gru svm transformer\".split()))\n",
        "print(model.wv.doesnt_match(\"bert word2vec gpt-2 roberta xlnet\".split()))\n",
        "print(model.wv.doesnt_match(\"word2vec bert glove fasttext elmo\".split()))"
      ],
      "execution_count": null,
      "outputs": [
        {
          "output_type": "stream",
          "name": "stdout",
          "text": [
            "svm\n",
            "word2vec\n",
            "bert\n"
          ]
        },
        {
          "output_type": "stream",
          "name": "stderr",
          "text": [
            "/usr/local/lib/python3.7/dist-packages/gensim/models/keyedvectors.py:895: FutureWarning: arrays to stack must be passed as a \"sequence\" type such as list or tuple. Support for non-sequence iterables such as generators is deprecated as of NumPy 1.16 and will raise an error in the future.\n",
            "  vectors = vstack(self.word_vec(word, use_norm=True) for word in used_words).astype(REAL)\n"
          ]
        }
      ]
    },
    {
      "cell_type": "markdown",
      "metadata": {
        "id": "4gJfSX_mcVt4"
      },
      "source": [
        "## Plotting embeddings"
      ]
    },
    {
      "cell_type": "markdown",
      "metadata": {
        "id": "AK-TgAKQcVt4"
      },
      "source": [
        "Let's now visualize some of our embeddings. To plot embeddings with a dimensionality of 100 or more, we first need to map them to a dimensionality of 2. We do this with the popular [t-SNE](https://lvdmaaten.github.io/tsne/) method. T-SNE, short for t-distributed Stochastic Neighbor Embedding, helps us visualize high-dimensional data by mapping similar data to nearby points and dissimilar data to distance points in the low-dimensional space.\n",
        "\n",
        "T-SNE is present in [Scikit-learn](https://scikit-learn.org/stable/modules/generated/sklearn.manifold.TSNE.html). To run it, we just have to specify the number of dimensions we'd like to map the data to (`n_components`), and the similarity metric that t-SNE should use to compute the similarity between two data points (`metric`). We're going to map to 2 dimensions and use the cosine as our similarity metric. Additionally, we use PCA as an initialization method to remove some noise and speed up computation. The [Scikit-learn user guide](https://scikit-learn.org/stable/modules/manifold.html#t-sne) contains some additional tips for optimizing performance. \n",
        "\n",
        "Plotting all the embeddings in our vector space would result in a very crowded figure where the labels are hardly legible. Therefore we'll focus on a subset of embeddings by selecting the 200 most similar words to a target word. "
      ]
    },
    {
      "cell_type": "code",
      "metadata": {
        "id": "QmRiBR0XcVt5"
      },
      "source": [
        "%matplotlib inline\n",
        "\n",
        "import pandas as pd\n",
        "import matplotlib\n",
        "import matplotlib.pyplot as plt\n",
        "\n",
        "from sklearn.manifold import TSNE\n",
        "\n",
        "target_word = \"bert\"\n",
        "selected_words = [w[0] for w in model.wv.most_similar(positive=[target_word], topn=200)] + [target_word]\n",
        "embeddings = [model.wv[w] for w in selected_words] + model.wv[\"bert\"]\n",
        "\n",
        "mapped_embeddings = TSNE(n_components=2, metric='cosine', init='pca').fit_transform(embeddings)"
      ],
      "execution_count": null,
      "outputs": []
    },
    {
      "cell_type": "markdown",
      "metadata": {
        "id": "SOMyDP-acVt5"
      },
      "source": [
        "If we take *bert* as our target word, the figure shows some interesting patterns. In the immediate vicinity of *bert*, we find the similar transformer models that we already identified as its nearest neighbours earlier: *xlm*, *mbert*, *gpt-2*, and so on. Other parts of the picture have equally informative clusters of NLP tasks and benchmarks (*squad* and *glue*), languages (*german* and *english*), neural-network architectures (*lstm*, *gru*, etc.), embedding types (*word2vec*, *glove*, *fasttext*, *elmo*), etc. "
      ]
    },
    {
      "cell_type": "code",
      "metadata": {
        "id": "RbaRB1aLcVt6",
        "colab": {
          "base_uri": "https://localhost:8080/",
          "height": 923
        },
        "outputId": "e80b8677-a24d-4e67-c245-f8e72bb2a5a5"
      },
      "source": [
        "plt.figure(figsize=(20,20))\n",
        "x = mapped_embeddings[:,0]\n",
        "y = mapped_embeddings[:,1]\n",
        "plt.scatter(x, y)\n",
        "\n",
        "for i, txt in enumerate(selected_words):\n",
        "    plt.annotate(txt, (x[i], y[i]))"
      ],
      "execution_count": null,
      "outputs": [
        {
          "output_type": "display_data",
          "data": {
            "image/png": "[encoded data removed]",
            "text/plain": [
              "<Figure size 1440x1440 with 1 Axes>"
            ]
          },
          "metadata": {
            "needs_background": "light"
          }
        }
      ]
    },
    {
      "cell_type": "markdown",
      "metadata": {
        "id": "ozvVQVr9cVt6"
      },
      "source": [
        "## Conclusions"
      ]
    },
    {
      "cell_type": "markdown",
      "metadata": {
        "id": "WW5QRXdhcVt7"
      },
      "source": [
        "Word embeddings are one of the most exciting trends on Natural Language Processing since the 2000s. They allow us to model the meaning and usage of a word, and discover words that behave similarly. This is crucial for the generalization capacity of many machine learning models. Moving from raw strings to embeddings allows them to generalize across words that have a similar meaning, and discover patterns that had previously escaped them."
      ]
    }
  ]
}