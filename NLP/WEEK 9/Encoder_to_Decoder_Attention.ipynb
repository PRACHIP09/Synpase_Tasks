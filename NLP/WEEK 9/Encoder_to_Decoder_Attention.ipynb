{
  "cells": [
    {
      "cell_type": "code",
      "execution_count": 1,
      "metadata": {
        "colab": {
          "base_uri": "https://localhost:8080/"
        },
        "id": "dBpMVaAInXIJ",
        "outputId": "495fad32-ba0e-4f43-a839-28b79ad6e10b"
      },
      "outputs": [
        {
          "output_type": "stream",
          "name": "stdout",
          "text": [
            "Mounted at /content/drive\n"
          ]
        }
      ],
      "source": [
        "from google.colab import drive\n",
        "drive.mount('/content/drive')"
      ]
    },
    {
      "cell_type": "code",
      "execution_count": 2,
      "metadata": {
        "id": "RHIijx0o5QUq"
      },
      "outputs": [],
      "source": [
        "import pandas as pd\n",
        "from sklearn.model_selection import train_test_split\n",
        "import string\n",
        "from string import digits\n",
        "import re\n",
        "from sklearn.utils import shuffle\n",
        "from tensorflow.keras.preprocessing.sequence import pad_sequences\n",
        "from tensorflow.keras.layers import LSTM, Input, Dense,Embedding, Concatenate, TimeDistributed\n",
        "from tensorflow.keras.models import Model,load_model, model_from_json\n",
        "from tensorflow.keras.utils import plot_model\n",
        "from tensorflow.keras.preprocessing.text import one_hot, Tokenizer\n",
        "from tensorflow.keras.callbacks import EarlyStopping\n",
        "import pickle as pkl\n",
        "import numpy as np"
      ]
    },
    {
      "cell_type": "code",
      "execution_count": 3,
      "metadata": {
        "id": "oOUuxmvN6dMg"
      },
      "outputs": [],
      "source": [
        "with open('/content/drive/MyDrive/deu.txt','r') as f:\n",
        "  transalte = f.read()\n",
        "\n",
        "uncleaned_data_list = transalte.split('\\n')\n",
        "len(uncleaned_data_list)\n",
        "uncleaned_data_list = uncleaned_data_list[:10000]\n",
        "len(uncleaned_data_list)\n",
        "english_word = []\n",
        "german_word = []\n",
        "cleaned_data_list = []\n",
        "for word in uncleaned_data_list:\n",
        "  english_word.append(word.split('\\t')[:-1][0])\n",
        "  german_word.append(word.split('\\t')[:-1][1])\n",
        "language_data = pd.DataFrame(columns=['English','German'])\n",
        "language_data['English'] = english_word\n",
        "language_data['German'] = german_word\n",
        "language_data.to_csv('language_data.csv', index=False)"
      ]
    },
    {
      "cell_type": "code",
      "execution_count": 4,
      "metadata": {
        "colab": {
          "base_uri": "https://localhost:8080/",
          "height": 206
        },
        "id": "K0BuH0dM6dgO",
        "outputId": "3a396a50-95e8-48b5-dd1e-fb0f55a99ea4"
      },
      "outputs": [
        {
          "output_type": "execute_result",
          "data": {
            "text/html": [
              "<div>\n",
              "<style scoped>\n",
              "    .dataframe tbody tr th:only-of-type {\n",
              "        vertical-align: middle;\n",
              "    }\n",
              "\n",
              "    .dataframe tbody tr th {\n",
              "        vertical-align: top;\n",
              "    }\n",
              "\n",
              "    .dataframe thead th {\n",
              "        text-align: right;\n",
              "    }\n",
              "</style>\n",
              "<table border=\"1\" class=\"dataframe\">\n",
              "  <thead>\n",
              "    <tr style=\"text-align: right;\">\n",
              "      <th></th>\n",
              "      <th>English</th>\n",
              "      <th>German</th>\n",
              "    </tr>\n",
              "  </thead>\n",
              "  <tbody>\n",
              "    <tr>\n",
              "      <th>9995</th>\n",
              "      <td>She has a bike.</td>\n",
              "      <td>Sie hat ein Rad.</td>\n",
              "    </tr>\n",
              "    <tr>\n",
              "      <th>9996</th>\n",
              "      <td>She has a book.</td>\n",
              "      <td>Sie hat ein Buch.</td>\n",
              "    </tr>\n",
              "    <tr>\n",
              "      <th>9997</th>\n",
              "      <td>She has a cold.</td>\n",
              "      <td>Sie ist erkältet.</td>\n",
              "    </tr>\n",
              "    <tr>\n",
              "      <th>9998</th>\n",
              "      <td>She has a cold.</td>\n",
              "      <td>Sie hat eine Erkältung.</td>\n",
              "    </tr>\n",
              "    <tr>\n",
              "      <th>9999</th>\n",
              "      <td>She has brains.</td>\n",
              "      <td>Sie ist ein gescheites Köpfchen.</td>\n",
              "    </tr>\n",
              "  </tbody>\n",
              "</table>\n",
              "</div>"
            ],
            "text/plain": [
              "              English                            German\n",
              "9995  She has a bike.                  Sie hat ein Rad.\n",
              "9996  She has a book.                 Sie hat ein Buch.\n",
              "9997  She has a cold.                 Sie ist erkältet.\n",
              "9998  She has a cold.           Sie hat eine Erkältung.\n",
              "9999  She has brains.  Sie ist ein gescheites Köpfchen."
            ]
          },
          "metadata": {},
          "execution_count": 4
        }
      ],
      "source": [
        "language_data.tail()"
      ]
    },
    {
      "cell_type": "markdown",
      "metadata": {
        "id": "XaFlbdZlLHMY"
      },
      "source": [
        "# **Cleaning Data**"
      ]
    },
    {
      "cell_type": "code",
      "execution_count": 5,
      "metadata": {
        "id": "0OX7qsxD6dtf"
      },
      "outputs": [],
      "source": [
        "#lower case\n",
        "language_data['English']=language_data['English'].str.lower()\n",
        "language_data['German']=language_data['German'].str.lower()\n",
        "\n",
        "#removing url\n",
        "def remove_URL(text):\n",
        "    import re\n",
        "    text = re.sub(r'http\\S+', '', str(text))\n",
        "    return text\n",
        "language_data['English'] = language_data['English'].apply(lambda x: remove_URL(x))\n",
        "language_data['German'] = language_data['German'].apply(lambda x: remove_URL(x))\n",
        "\n",
        "#remove punctutaions\n",
        "def remove_punct(text):\n",
        "    import re\n",
        "    text = re.sub(r'[^\\w\\s]', '',str(text) )\n",
        "    return text\n",
        "language_data['English'] = language_data['English'].apply(lambda x: remove_punct(x))\n",
        "language_data['German'] = language_data['German'].apply(lambda x: remove_punct(x))\n",
        "\n",
        "#remove non-asci\n",
        "def remove_non_ascii(text):\n",
        "    import re\n",
        "    text = re.sub(r'[^\\x00-\\x7F]', '',str(text) )\n",
        "    return text\n",
        "language_data['English'] = language_data['English'].apply(lambda x: remove_non_ascii(x))\n",
        "language_data['German'] = language_data['German'].apply(lambda x: remove_non_ascii(x))\n",
        "\n",
        "#remove html tags\n",
        "def remove_html(text):\n",
        "    import re\n",
        "    text = re.sub('<.*?>|&([a-z0-9]+|#[0-9]{1,6}|#x[0-9a-f]{1,6});', '',str(text) )\n",
        "    return text\n",
        "language_data['English'] = language_data['English'].apply(lambda x: remove_html(x))\n",
        "language_data['German'] = language_data['German'].apply(lambda x: remove_html(x))"
      ]
    },
    {
      "cell_type": "code",
      "execution_count": 6,
      "metadata": {
        "colab": {
          "base_uri": "https://localhost:8080/"
        },
        "id": "fspXXoXP6dvy",
        "outputId": "d9693084-d596-4e5e-a3e6-cd4ec47a0eec"
      },
      "outputs": [
        {
          "output_type": "execute_result",
          "data": {
            "text/plain": [
              "(10000, 10000)"
            ]
          },
          "metadata": {},
          "execution_count": 6
        }
      ],
      "source": [
        "english_text = language_data['English'].values\n",
        "german_text = language_data['German'].values\n",
        "len(english_text), len(german_text)"
      ]
    },
    {
      "cell_type": "code",
      "execution_count": 7,
      "metadata": {
        "colab": {
          "base_uri": "https://localhost:8080/",
          "height": 206
        },
        "id": "CuIRI2E76dzP",
        "outputId": "b329166b-226a-4726-cb4b-8e2c27c6a24a"
      },
      "outputs": [
        {
          "output_type": "execute_result",
          "data": {
            "text/html": [
              "<div>\n",
              "<style scoped>\n",
              "    .dataframe tbody tr th:only-of-type {\n",
              "        vertical-align: middle;\n",
              "    }\n",
              "\n",
              "    .dataframe tbody tr th {\n",
              "        vertical-align: top;\n",
              "    }\n",
              "\n",
              "    .dataframe thead th {\n",
              "        text-align: right;\n",
              "    }\n",
              "</style>\n",
              "<table border=\"1\" class=\"dataframe\">\n",
              "  <thead>\n",
              "    <tr style=\"text-align: right;\">\n",
              "      <th></th>\n",
              "      <th>English</th>\n",
              "      <th>German</th>\n",
              "    </tr>\n",
              "  </thead>\n",
              "  <tbody>\n",
              "    <tr>\n",
              "      <th>9995</th>\n",
              "      <td>she has a bike</td>\n",
              "      <td>sie hat ein rad</td>\n",
              "    </tr>\n",
              "    <tr>\n",
              "      <th>9996</th>\n",
              "      <td>she has a book</td>\n",
              "      <td>sie hat ein buch</td>\n",
              "    </tr>\n",
              "    <tr>\n",
              "      <th>9997</th>\n",
              "      <td>she has a cold</td>\n",
              "      <td>sie ist erkltet</td>\n",
              "    </tr>\n",
              "    <tr>\n",
              "      <th>9998</th>\n",
              "      <td>she has a cold</td>\n",
              "      <td>sie hat eine erkltung</td>\n",
              "    </tr>\n",
              "    <tr>\n",
              "      <th>9999</th>\n",
              "      <td>she has brains</td>\n",
              "      <td>sie ist ein gescheites kpfchen</td>\n",
              "    </tr>\n",
              "  </tbody>\n",
              "</table>\n",
              "</div>"
            ],
            "text/plain": [
              "             English                          German\n",
              "9995  she has a bike                 sie hat ein rad\n",
              "9996  she has a book                sie hat ein buch\n",
              "9997  she has a cold                 sie ist erkltet\n",
              "9998  she has a cold           sie hat eine erkltung\n",
              "9999  she has brains  sie ist ein gescheites kpfchen"
            ]
          },
          "metadata": {},
          "execution_count": 7
        }
      ],
      "source": [
        "language_data.tail()"
      ]
    },
    {
      "cell_type": "markdown",
      "metadata": {
        "id": "sy1kOe4tLLU8"
      },
      "source": [
        "## **Split the data in test and train**"
      ]
    },
    {
      "cell_type": "code",
      "execution_count": 8,
      "metadata": {
        "id": "d3tnOg4YGLca"
      },
      "outputs": [],
      "source": [
        "X = english_text\n",
        "Y = german_text\n",
        "X_train, X_test, y_train, y_test=train_test_split(X,Y,test_size=0.2)"
      ]
    },
    {
      "cell_type": "markdown",
      "metadata": {
        "id": "862YfTqFK6SG"
      },
      "source": [
        "# **Tokenization**"
      ]
    },
    {
      "cell_type": "code",
      "execution_count": null,
      "metadata": {
        "id": "LKkYI067qLgL"
      },
      "outputs": [],
      "source": [
        ""
      ]
    },
    {
      "cell_type": "code",
      "execution_count": 9,
      "metadata": {
        "colab": {
          "base_uri": "https://localhost:8080/"
        },
        "id": "6cQwjmunGLxs",
        "outputId": "b3793005-a7bf-4861-f88f-b2be66f7ebe3"
      },
      "outputs": [
        {
          "output_type": "stream",
          "name": "stdout",
          "text": [
            "{1: 'i', 2: 'tom', 3: 'it', 4: 'you', 5: 'im', 6: 'is', 7: 'a', 8: 'me', 9: 'its', 10: 'was', 11: 'he', 12: 'we', 13: 'go', 14: 'do', 15: 'can', 16: 'to', 17: 'are', 18: 'that', 19: 'dont', 20: 'this', 21: 'ill', 22: 'come', 23: 'were', 24: 'youre', 25: 'get', 26: 'my', 27: 'have', 28: 'up', 29: 'be', 30: 'the', 31: 'here', 32: 'like', 33: 'she', 34: 'in', 35: 'not', 36: 'who', 37: 'toms', 38: 'on', 39: 'love', 40: 'him', 41: 'stop', 42: 'did', 43: 'now', 44: 'they', 45: 'keep', 46: 'no', 47: 'take', 48: 'us', 49: 'need', 50: 'home', 51: 'am', 52: 'let', 53: 'one', 54: 'how', 55: 'hes', 56: 'lets', 57: 'well', 58: 'thats', 59: 'lost', 60: 'know', 61: 'saw', 62: 'try', 63: 'away', 64: 'help', 65: 'want', 66: 'see', 67: 'too', 68: 'just', 69: 'got', 70: 'so', 71: 'there', 72: 'may', 73: 'out', 74: 'has', 75: 'down', 76: 'please', 77: 'look', 78: 'theyre', 79: 'eat', 80: 'busy', 81: 'wait', 82: 'hate', 83: 'cant', 84: 'will', 85: 'back', 86: 'ok', 87: 'for', 88: 'stay', 89: 'give', 90: 'what', 91: 'your', 92: 'leave', 93: 'work', 94: 'all', 95: 'hurt', 96: 'had', 97: 'them', 98: 'good', 99: 'happy', 100: 'again', 101: 'ive', 102: 'hot', 103: 'right', 104: 'walk', 105: 'made', 106: 'ask', 107: 'whos', 108: 'her', 109: 'very', 110: 'car', 111: 'ready', 112: 'alone', 113: 'feel', 114: 'must', 115: 'wasnt', 116: 'at', 117: 'found', 118: 'open', 119: 'came', 120: 'an', 121: 'over', 122: 'fun', 123: 'read', 124: 'isnt', 125: 'hurry', 126: 'mine', 127: 'say', 128: 'cold', 129: 'with', 130: 'late', 131: 'bad', 132: 'ate', 133: 'win', 134: 'sing', 135: 'nobody', 136: 'new', 137: 'said', 138: 'went', 139: 'call', 140: 'sad', 141: 'sick', 142: 'knew', 143: 'start', 144: 'mary', 145: 'use', 146: 'off', 147: 'fine', 148: 'hard', 149: 'why', 150: 'drunk', 151: 'watch', 152: 'bed', 153: 'talk', 154: 'hurts', 155: 'dog', 156: 'hold', 157: 'lot', 158: 'easy', 159: 'won', 160: 'bored', 161: 'left', 162: 'show', 163: 'cool', 164: 'nice', 165: 'job', 166: 'door', 167: 'angry', 168: 'didnt', 169: 'lying', 170: 'put', 171: 'knows', 172: 'swim', 173: 'quit', 174: 'money', 175: 'old', 176: 'run', 177: 'miss', 178: 'cry', 179: 'tell', 180: 'wrong', 181: 'upset', 182: 'told', 183: 'ran', 184: 'called', 185: 'fast', 186: 'cook', 187: 'felt', 188: 'turn', 189: 'dying', 190: 'joking', 191: 'by', 192: 'quiet', 193: 'more', 194: 'book', 195: 'wont', 196: 'trust', 197: 'drink', 198: 'bit', 199: 'whats', 200: 'crazy', 201: 'life', 202: 'time', 203: 'move', 204: 'tired', 205: 'beat', 206: 'free', 207: 'yourself', 208: 'never', 209: 'way', 210: 'broke', 211: 'going', 212: 'of', 213: 'fix', 214: 'mad', 215: 'sit', 216: 'die', 217: 'does', 218: 'check', 219: 'tomll', 220: 'young', 221: 'drive', 222: 'shot', 223: 'great', 224: 'lie', 225: 'still', 226: 'sorry', 227: 'cheated', 228: 'kill', 229: 'safe', 230: 'hug', 231: 'close', 232: 'tried', 233: 'find', 234: 'stand', 235: 'listen', 236: 'big', 237: 'early', 238: 'nothing', 239: 'where', 240: 'french', 241: 'make', 242: 'hit', 243: 'play', 244: 'met', 245: 'man', 246: 'shes', 247: 'buy', 248: 'food', 249: 'shy', 250: 'awake', 251: 'fell', 252: 'dogs', 253: 'brave', 254: 'fat', 255: 'begin', 256: 'sure', 257: 'bring', 258: 'stupid', 259: 'looks', 260: 'yours', 261: 'and', 262: 'write', 263: 'forget', 264: 'wine', 265: 'inside', 266: 'itll', 267: 'better', 268: 'tea', 269: 'cut', 270: 'cried', 271: 'hungry', 272: 'break', 273: 'catch', 274: 'mean', 275: 'fired', 276: 'kids', 277: 'hand', 278: 'calm', 279: 'fighting', 280: 'weak', 281: 'step', 282: 'think', 283: 'lied', 284: 'coming', 285: 'true', 286: 'careful', 287: 'dumped', 288: 'rich', 289: 'joke', 290: 'shut', 291: 'boy', 292: 'pay', 293: 'agree', 294: 'touch', 295: 'dead', 296: 'wake', 297: 'sang', 298: 'gone', 299: 'loves', 300: 'beer', 301: 'hope', 302: 'singing', 303: 'join', 304: 'wants', 305: 'rest', 306: 'famous', 307: 'everybody', 308: 'reading', 309: 'guess', 310: 'hello', 311: 'today', 312: 'paid', 313: 'bet', 314: 'men', 315: 'follow', 316: 'gave', 317: 'rude', 318: 'lucky', 319: 'helped', 320: 'mind', 321: 'naive', 322: 'speak', 323: 'these', 324: 'goodbye', 325: 'enough', 326: 'live', 327: 'eyes', 328: 'ones', 329: 'died', 330: 'cat', 331: 'bus', 332: 'map', 333: 'alive', 334: 'coffee', 335: 'id', 336: 'blind', 337: 'crying', 338: 'eating', 339: 'remember', 340: 'first', 341: 'vote', 342: 'study', 343: 'strong', 344: 'walked', 345: 'ugly', 346: 'fair', 347: 'wholl', 348: 'running', 349: 'tall', 350: 'works', 351: 'looked', 352: 'loved', 353: 'done', 354: 'change', 355: 'thanks', 356: 'likes', 357: 'laughed', 358: 'talking', 359: 'warm', 360: 'boston', 361: 'tough', 362: 'funny', 363: 'next', 364: 'seems', 365: 'dark', 366: 'fail', 367: 'lose', 368: 'smiled', 369: 'hired', 370: 'applauded', 371: 'red', 372: 'school', 373: 'hear', 374: 'sweet', 375: 'hugged', 376: 'stood', 377: 'water', 378: 'forward', 379: 'trying', 380: 'cute', 381: 'youve', 382: 'sec', 383: 'caution', 384: 'dizzy', 385: 'seen', 386: 'losing', 387: 'thirsty', 388: 'biased', 389: 'duty', 390: 'send', 391: 'save', 392: 'asleep', 393: 'only', 394: 'closely', 395: 'changed', 396: 'wife', 397: 'something', 398: 'dad', 399: 'ours', 400: 'simple', 401: 'black', 402: 'canceled', 403: 'started', 404: 'blame', 405: 'stopped', 406: 'clean', 407: 'dance', 408: 'hated', 409: 'eggs', 410: 'once', 411: 'teach', 412: 'kiss', 413: 'doctor', 414: 'key', 415: 'watched', 416: 'hang', 417: 'low', 418: 'shame', 419: 'seat', 420: 'tv', 421: 'ahead', 422: 'sat', 423: 'some', 424: 'weird', 425: 'unfair', 426: 'care', 427: 'doing', 428: 'smells', 429: 'fly', 430: 'winning', 431: 'last', 432: 'saved', 433: 'could', 434: 'hide', 435: 'arent', 436: 'smile', 437: 'obey', 438: 'scared', 439: 'spoke', 440: 'lazy', 441: 'curious', 442: 'happened', 443: 'smart', 444: 'humming', 445: 'warn', 446: 'rice', 447: 'patient', 448: 'promised', 449: 'lock', 450: 'lunch', 451: 'dream', 452: 'apologize', 453: 'wet', 454: 'correct', 455: 'moving', 456: 'burned', 457: 'runs', 458: 'woke', 459: 'thin', 460: 'paying', 461: 'survived', 462: 'pick', 463: 'disagreed', 464: 'fool', 465: 'fish', 466: 'half', 467: 'lonely', 468: 'serious', 469: 'poor', 470: 'soon', 471: 'best', 472: 'word', 473: 'working', 474: 'shall', 475: 'god', 476: 'sleep', 477: 'shoot', 478: 'nervous', 479: 'smoke', 480: 'okay', 481: 'stayed', 482: 'took', 483: 'secret', 484: 'asked', 485: 'fire', 486: 'head', 487: 'moved', 488: 'doesnt', 489: 'fit', 490: 'expert', 491: 'kind', 492: 'another', 493: 'sign', 494: 'plan', 495: 'yes', 496: 'needs', 497: 'white', 498: 'dieting', 499: 'his', 500: 'everyone', 501: 'dancing', 502: 'spy', 503: 'outside', 504: 'boil', 505: 'drank', 506: 'moment', 507: 'heres', 508: 'someone', 509: 'theyll', 510: 'jump', 511: 'slowly', 512: 'learn', 513: 'poet', 514: 'aboard', 515: 'single', 516: 'short', 517: 'obese', 518: 'listened', 519: 'ashamed', 520: 'quite', 521: 'adores', 522: 'slept', 523: 'milk', 524: 'truck', 525: 'thank', 526: 'studying', 527: 'kid', 528: 'skate', 529: 'real', 530: 'cats', 531: 'greedy', 532: 'vain', 533: 'excuse', 534: 'useless', 535: 'replace', 536: 'weve', 537: 'full', 538: 'enjoy', 539: 'tries', 540: 'escaped', 541: 'injured', 542: 'wasted', 543: 'friends', 544: 'seriously', 545: 'smell', 546: 'tidy', 547: 'student', 548: 'afraid', 549: 'quick', 550: 'scary', 551: 'fishing', 552: 'sleepy', 553: 'our', 554: 'spit', 555: 'deaf', 556: 'around', 557: 'fruit', 558: 'yoga', 559: 'sharp', 560: 'fear', 561: 'forgive', 562: 'even', 563: 'dj', 564: 'girls', 565: 'silly', 566: 'teacher', 567: 'should', 568: 'bought', 569: 'cruel', 570: 'push', 571: 'sent', 572: 'nuts', 573: 'egg', 574: 'liked', 575: 'war', 576: 'small', 577: 'legal', 578: 'son', 579: 'hi', 580: 'boring', 581: 'gets', 582: 'tomorrow', 583: 'decide', 584: 'helps', 585: 'writing', 586: 'obeyed', 587: 'relax', 588: 'blue', 589: 'age', 590: 'liar', 591: 'prayed', 592: 'manage', 593: 'kept', 594: 'fight', 595: 'arrived', 596: 'admire', 597: 'followed', 598: 'fasting', 599: 'welcome', 600: 'human', 601: 'pity', 602: 'oh', 603: 'hair', 604: 'began', 605: 'nap', 606: 'really', 607: 'snowing', 608: 'monday', 609: 'yelling', 610: 'proof', 611: 'stoned', 612: 'aside', 613: 'hiding', 614: 'doors', 615: 'skinny', 616: 'lungs', 617: 'hey', 618: 'own', 619: 'missed', 620: 'perfect', 621: 'thirty', 622: 'cheat', 623: 'always', 624: 'urgent', 625: 'thisll', 626: 'wash', 627: 'prisoner', 628: 'pale', 629: 'ice', 630: 'hesitated', 631: 'evil', 632: 'knelt', 633: 'wanted', 634: 'livid', 635: 'agreed', 636: 'absent', 637: 'panicked', 638: 'faster', 639: 'enter', 640: 'swam', 641: 'canadian', 642: 'fist', 643: 'people', 644: 'suit', 645: 'tight', 646: 'rain', 647: 'staying', 648: 'nobodys', 649: 'math', 650: 'bike', 651: 'kissed', 652: 'pull', 653: 'unlucky', 654: 'hates', 655: 'drop', 656: 'drove', 657: 'brief', 658: 'cash', 659: 'grown', 660: 'feet', 661: 'chubby', 662: 'everything', 663: 'humor', 664: 'bird', 665: 'grab', 666: 'smiling', 667: 'music', 668: 'retired', 669: 'overslept', 670: 'rush', 671: 'strange', 672: 'roll', 673: 'dice', 674: 'talked', 675: 'laugh', 676: 'waited', 677: 'card', 678: 'worked', 679: 'worried', 680: 'slipped', 681: 'things', 682: 'caught', 683: 'meat', 684: 'course', 685: 'looking', 686: 'problem', 687: 'grumbled', 688: 'relented', 689: 'hung', 690: 'blushed', 691: 'bald', 692: 'face', 693: 'polite', 694: 'aim', 695: 'talks', 696: 'wonderful', 697: 'anybody', 698: 'trusted', 699: 'vanished', 700: 'ignore', 701: 'already', 702: 'naked', 703: 'lay', 704: 'yet', 705: 'as', 706: 'relaxed', 707: 'often', 708: 'walking', 709: 'youll', 710: 'avoids', 711: 'quietly', 712: 'day', 713: 'succeeded', 714: 'horse', 715: 'stick', 716: 'salesman', 717: 'objected', 718: 'rested', 719: 'adore', 720: 'lies', 721: 'showered', 722: 'broken', 723: 'prove', 724: 'diabetic', 725: 'uninsured', 726: 'normal', 727: 'stuck', 728: 'cooks', 729: 'count', 730: 'game', 731: 'voted', 732: 'artist', 733: 'objective', 734: 'adored', 735: 'discreet', 736: 'exhausted', 737: 'set', 738: 'both', 739: 'hurried', 740: 'sports', 741: 'seize', 742: 'pain', 743: 'fall', 744: 'whistled', 745: 'comes', 746: 'witty', 747: 'finish', 748: 'end', 749: 'promise', 750: 'memorize', 751: 'fake', 752: 'bowl', 753: 'loosen', 754: 'action', 755: 'hers', 756: 'downstairs', 757: 'surprise', 758: 'wicked', 759: 'cheese', 760: 'wounded', 761: 'focused', 762: 'ruthless', 763: 'cake', 764: 'became', 765: 'honest', 766: 'pushing', 767: '745', 768: 'vigilant', 769: 'gun', 770: 'long', 771: 'dry', 772: 'confessed', 773: 'cares', 774: 'gate', 775: 'split', 776: 'youd', 777: 'abroad', 778: 'dozed', 779: 'freezing', 780: 'armed', 781: 'frank', 782: 'number', 783: 'punctual', 784: 'using', 785: 'yelled', 786: 'almost', 787: 'minute', 788: 'rope', 789: 'taste', 790: 'recycle', 791: 'ditched', 792: 'far', 793: 'examine', 794: 'mom', 795: 'night', 796: 'fact', 797: 'ski', 798: 'pushy', 799: 'foggy', 800: 'walks', 801: 'cursed', 802: 'judge', 803: 'important', 804: 'mouse', 805: 'bedtime', 806: 'fainted', 807: 'leaving', 808: 'wept', 809: 'robbed', 810: 'winter', 811: 'dreaming', 812: 'moaned', 813: 'awful', 814: 'anyone', 815: 'graduated', 816: 'anyway', 817: 'security', 818: 'hat', 819: 'froze', 820: 'monk', 821: 'allow', 822: 'breathe', 823: 'stink', 824: 'anything', 825: 'snow', 826: 'driving', 827: 'cover', 828: 'wise', 829: 'tag', 830: 'skating', 831: 'suits', 832: 'pointless', 833: 'sale', 834: 'worse', 835: 'driven', 836: 'any', 837: 'boys', 838: 'damaged', 839: 'married', 840: 'second', 841: 'pizza', 842: 'list', 843: 'prefer', 844: 'japanese', 845: 'closer', 846: 'harder', 847: 'built', 848: 'invited', 849: 'cops', 850: 'after', 851: 'led', 852: 'quickly', 853: 'deep', 854: 'swearing', 855: 'threw', 856: 'rushed', 857: 'paused', 858: 'notes', 859: 'explain', 860: 'twin', 861: 'awesome', 862: 'treat', 863: 'about', 864: 'hows', 865: 'higher', 866: 'dreams', 867: 'brand', 868: 'birds', 869: 'nose', 870: 'onions', 871: 'survive', 872: 'ball', 873: 'noticed', 874: 'been', 875: 'coat', 876: 'slow', 877: 'seem', 878: 'guilty', 879: 'phoned', 880: 'cheats', 881: 'idea', 882: 'bath', 883: 'girl', 884: 'sober', 885: 'kite', 886: 'failed', 887: 'two', 888: 'cd', 889: 'tipsy', 890: 'release', 891: 'envy', 892: 'odd', 893: 'answer', 894: 'unhappy', 895: 'kidding', 896: 'whining', 897: 'burn', 898: 'jam', 899: 'later', 900: 'many', 901: 'cheered', 902: 'unkind', 903: 'braces', 904: 'bread', 905: 'shooting', 906: 'nearby', 907: 'stare', 908: 'sweated', 909: 'candy', 910: '30', 911: 'scare', 912: 'aloud', 913: 'positive', 914: 'locked', 915: 'faint', 916: 'pigs', 917: 'jaw', 918: 'twelve', 919: 'tailors', 920: 'begun', 921: 'father', 922: 'fad', 923: 'lawyers', 924: 'fought', 925: 'english', 926: 'needed', 927: 'apples', 928: 'panic', 929: 'unusual', 930: 'tripped', 931: 'dye', 932: 'seldom', 933: 'makes', 934: 'sense', 935: 'shaved', 936: 'terrific', 937: 'tastes', 938: 'hungover', 939: 'suspect', 940: 'parties', 941: 'news', 942: 'filming', 943: 'groaned', 944: 'attentive', 945: 'offended', 946: 'eight', 947: 'scares', 948: 'woman', 949: 'contact', 950: 'raise', 951: 'past', 952: 'forgot', 953: 'adopted', 954: 'needy', 955: 'genius', 956: 'unwell', 957: 'year', 958: 'maid', 959: 'improvised', 960: 'cancel', 961: 'tokyo', 962: 'garlic', 963: 'neck', 964: 'yell', 965: 'empty', 966: 'copy', 967: 'brakes', 968: 'dumb', 969: 'accept', 970: 'gifts', 971: 'paris', 972: 'sickens', 973: 'depressed', 974: 'flu', 975: 'dare', 976: 'whose', 977: 'slower', 978: 'crafty', 979: 'author', 980: 'cage', 981: 'rebel', 982: 'saturday', 983: 'wow', 984: 'upstairs', 985: 'doubts', 986: 'overweight', 987: 'climbing', 988: 'ride', 989: 'swore', 990: 'mums', 991: 'boat', 992: 'amnesia', 993: 'much', 994: 'box', 995: 'obeys', 996: 'stunned', 997: 'air', 998: 'futon', 999: 'dinners', 1000: 'high', 1001: 'divorced', 1002: 'might', 1003: 'order', 1004: 'mahjong', 1005: 'relief', 1006: 'cutie', 1007: 'friend', 1008: 'theres', 1009: 'pretty', 1010: 'gold', 1011: 'innocent', 1012: 'danger', 1013: 'then', 1014: 'approved', 1015: 'cookies', 1016: '19', 1017: 'fixed', 1018: 'page', 1019: 'denied', 1020: 'deal', 1021: 'debt', 1022: 'lawyer', 1023: 'thatd', 1024: 'glad', 1025: 'blood', 1026: 'deny', 1027: 'sympathize', 1028: 'choose', 1029: 'ears', 1030: 'dyslexic', 1031: 'singer', 1032: 'song', 1033: 'thief', 1034: 'wonder', 1035: 'dangerous', 1036: 'unarmed', 1037: 'gasped', 1038: 'rock', 1039: 'salmon', 1040: 'deserve', 1041: 'waiter', 1042: 'spring', 1043: 'finished', 1044: 'north', 1045: 'fox', 1046: 'officer', 1047: 'ruined', 1048: 'baking', 1049: 'accelerated', 1050: 'd', 1051: 'strict', 1052: 'picky', 1053: 'safely', 1054: 'dug', 1055: 'hole', 1056: 'lend', 1057: 'lip', 1058: 'trusts', 1059: 'jazz', 1060: 'flat', 1061: 'reply', 1062: 'insane', 1063: 'boss', 1064: 'whispered', 1065: 'annoy', 1066: 'grouch', 1067: 'dentist', 1068: 'deeply', 1069: 'yawned', 1070: 'shouted', 1071: 'smoking', 1072: 'volunteered', 1073: 'approve', 1074: 'certain', 1075: 'rifle', 1076: 'beautiful', 1077: 'absurd', 1078: 'pear', 1079: 'amazed', 1080: 'autumn', 1081: 'poisoned', 1082: 'smoked', 1083: 'untalented', 1084: 'illiterate', 1085: 'pony', 1086: 'oldest', 1087: 'popular', 1088: 'or', 1089: 'meditating', 1090: 'thatll', 1091: 'learns', 1092: 'having', 1093: 'cab', 1094: 'goodnight', 1095: 'bless', 1096: 'flies', 1097: 'jealous', 1098: 'hour', 1099: 'enlisted', 1100: 'confused', 1101: 'phone', 1102: 'windy', 1103: 'modest', 1104: 'hare', 1105: 'ached', 1106: 'pen', 1107: 'board', 1108: 'spinach', 1109: 'resigned', 1110: 'surrender', 1111: 'movies', 1112: 'grateful', 1113: 'rather', 1114: 'draw', 1115: 'lovely', 1116: 'waved', 1117: 'family', 1118: 'clapping', 1119: 'tempt', 1120: 'chinese', 1121: 'ocd', 1122: 'kneeled', 1123: 'optimistic', 1124: 'cow', 1125: 'frowned', 1126: 'attend', 1127: 'cough', 1128: 'idiot', 1129: 'closed', 1130: 'specific', 1131: 'believe', 1132: 'squinted', 1133: 'sensible', 1134: 'addicted', 1135: 'thought', 1136: 'refused', 1137: 'puking', 1138: 'risk', 1139: 'books', 1140: 'beard', 1141: 'miserable', 1142: 'amuse', 1143: 'bogus', 1144: 'tennis', 1145: 'clever', 1146: 'heroic', 1147: 'deserved', 1148: 'supper', 1149: 'quitter', 1150: 'tasty', 1151: 'freeze', 1152: 'disagree', 1153: 'danced', 1154: 'owe', 1155: 'eighteen', 1156: 'favor', 1157: 'sounds', 1158: 'plane', 1159: 'sue', 1160: 'heard', 1161: 'unlocked', 1162: 'questions', 1163: 'room', 1164: 'rid', 1165: 'support', 1166: 'bug', 1167: 'healthy', 1168: 'betrayed', 1169: 'surrendered', 1170: 'outraged', 1171: 'redhead', 1172: 'moody', 1173: 'burped', 1174: 'return', 1175: 'prepared', 1176: 'plants', 1177: 'grow', 1178: 'law', 1179: 'sell', 1180: 'pays', 1181: 'beef', 1182: 'curse', 1183: 'dislike', 1184: 'nurse', 1185: 'sleeping', 1186: 'pray', 1187: 'sells', 1188: 'wide', 1189: 'expecting', 1190: 'attack', 1191: 'arm', 1192: 'town', 1193: 'green', 1194: 'morons', 1195: 'fussy', 1196: 'annoying', 1197: 'baffled', 1198: 'those', 1199: 'louder', 1200: 'sneaky', 1201: 'winked', 1202: 'fan', 1203: 'repeat', 1204: 'snore', 1205: 'insisted', 1206: 'worry', 1207: 'engine', 1208: 'jeans', 1209: 'exciting', 1210: 'type', 1211: 'violin', 1212: 'feed', 1213: 'control', 1214: 'temp', 1215: 'myself', 1216: 'sushi', 1217: 'pot', 1218: 'peace', 1219: 'wrote', 1220: 'merciful', 1221: 'dirty', 1222: 'believed', 1223: 'fault', 1224: 'comfort', 1225: 'fbi', 1226: 'engaged', 1227: 'saint', 1228: 'watching', 1229: 'raining', 1230: 'command', 1231: 'jumped', 1232: 'missing', 1233: 'wolf', 1234: 'fantastic', 1235: 'giggled', 1236: 'apple', 1237: 'beyond', 1238: 'scream', 1239: 'apologized', 1240: 'wear', 1241: 'glasses', 1242: 'goes', 1243: 'medic', 1244: 'cuff', 1245: 'delicious', 1246: 'happens', 1247: 'grimaced', 1248: 'loud', 1249: 'chuckled', 1250: 'older', 1251: 'dancer', 1252: 'creative', 1253: 'knife', 1254: 'thorough', 1255: 'vomited', 1256: 'american', 1257: 'team', 1258: 'pm', 1259: 'shocked', 1260: 'limped', 1261: 'noodles', 1262: 'answers', 1263: 'replied', 1264: 'screamed', 1265: 'notice', 1266: 'praying', 1267: 'sore', 1268: 'lifes', 1269: 'loner', 1270: 'women', 1271: 'freaked', 1272: 'weary', 1273: 'musician', 1274: 'despised', 1275: 'meddling', 1276: 'disgusts', 1277: 'differ', 1278: 'flowers', 1279: 'bloom', 1280: 'impolite', 1281: 'respect', 1282: 'bull', 1283: 'peas', 1284: 'skeptical', 1285: 'enemies', 1286: 'riddles', 1287: 'ticklish', 1288: 'disliked', 1289: 'animal', 1290: 'cows', 1291: 'grass', 1292: 'making', 1293: '13', 1294: 'answered', 1295: 'listens', 1296: 'cooked', 1297: 'loving', 1298: 'hero', 1299: 'share', 1300: 'act', 1301: 'captured', 1302: 'refuse', 1303: 'loaded', 1304: 'file', 1305: 'disappeared', 1306: 'grounded', 1307: 'bill', 1308: 'danish', 1309: 'van', 1310: 'broom', 1311: 'slim', 1312: 'taught', 1313: 'gardener', 1314: 'stir', 1315: 'soup', 1316: 'paper', 1317: 'mute', 1318: 'name', 1319: 'oysters', 1320: 'unmarried', 1321: 'science', 1322: 'wednesday', 1323: 'farmer', 1324: 'possible', 1325: 'evening', 1326: 'suggested', 1327: 'dinner', 1328: 'frugal', 1329: 'perth', 1330: 'active', 1331: 'eaten', 1332: 'bowed', 1333: 'hunch', 1334: 'wary', 1335: 'bananas', 1336: 'roof', 1337: 'hives', 1338: 'three', 1339: 'ambush', 1340: 'exists', 1341: 'curt', 1342: 'farsighted', 1343: 'successful', 1344: 'ow', 1345: 'hiring', 1346: 'slipping', 1347: 'caviar', 1348: 'lizards', 1349: 'futile', 1350: 'admit', 1351: 'coward', 1352: 'visa', 1353: 'slob', 1354: 'softly', 1355: 'nodded', 1356: 'weapon', 1357: 'loyal', 1358: 'doctors', 1359: 'spies', 1360: 'botanist', 1361: 'describe', 1362: 'foolish', 1363: 'listening', 1364: 'staggered', 1365: 'heart', 1366: 'cycled', 1367: 'drowning', 1368: 'brown', 1369: 'throw', 1370: 'proceed', 1371: 'vet', 1372: 'restless', 1373: 'lion', 1374: 'stinks', 1375: 'visited', 1376: 'hobby', 1377: 'art', 1378: 'responded', 1379: '3', 1380: 'flinched', 1381: 'flattered', 1382: 'addict', 1383: 'till', 1384: 'six', 1385: 'standing', 1386: 'teased', 1387: 'mature', 1388: 'city', 1389: 'clap', 1390: 'brains', 1391: 'kissing', 1392: 'dig', 1393: 'escaping', 1394: 'line', 1395: 'sighed', 1396: 'chair', 1397: 'pandas', 1398: 'clocks', 1399: 'loan', 1400: 'amazing', 1401: 'stuntman', 1402: 'meet', 1403: 'backup', 1404: 'iron', 1405: 'snowed', 1406: 'point', 1407: 'jesus', 1408: 'carry', 1409: 'salad', 1410: 'tango', 1411: 'chest', 1412: 'huge', 1413: 'tires', 1414: 'saturn', 1415: 'pass', 1416: 'cooking', 1417: 'ten', 1418: 'tolerant', 1419: 'house', 1420: 'sugar', 1421: 'coke', 1422: 'child', 1423: 'tempted', 1424: 'radio', 1425: 'deer', 1426: 'cain', 1427: 'paints', 1428: 'bulky', 1429: 'guessed', 1430: 'tricked', 1431: 'truth', 1432: 'jock', 1433: 'hypocrite', 1434: 'blames', 1435: 'stalled', 1436: 'incorrect', 1437: 'jogging', 1438: 'through', 1439: 'shouting', 1440: 'spiders', 1441: 'sneezed', 1442: 'gossip', 1443: 'dancers', 1444: 'courage', 1445: 'church', 1446: 'fry', 1447: 'cured', 1448: 'babe', 1449: 'towel', 1450: 'hell', 1451: 'sea', 1452: 'special', 1453: 'acne', 1454: 'sunsets', 1455: 'holidays', 1456: '99', 1457: 'hassle', 1458: 'reliable', 1459: 'easygoing', 1460: 'seafood', 1461: 'humans', 1462: 'perceptive', 1463: 'snail', 1464: 'obsolete', 1465: 'ketchup', 1466: 'hunt', 1467: 'letter', 1468: 'midnight', 1469: 'dear', 1470: 'stuffed', 1471: 'mole', 1472: 'marry', 1473: 'record', 1474: 'getting', 1475: 'touched', 1476: 'ironic', 1477: 'camels', 1478: '915', 1479: 'seated', 1480: 'tvs', 1481: 'shrugged', 1482: 'circle', 1483: 'beside', 1484: 'shrieked', 1485: 'honor', 1486: 'undressing', 1487: 'peek', 1488: 'bullied', 1489: 'belong', 1490: 'enemy', 1491: 'wood', 1492: 'floats', 1493: 'songs', 1494: 'whatll', 1495: 'salt', 1496: 'rewarded', 1497: 'forgave', 1498: 'detained', 1499: 'kick', 1500: 'trapped', 1501: 'scarce', 1502: 'slacker', 1503: 'skiing', 1504: 'purist', 1505: 'packing', 1506: 'sashimi', 1507: 'taxes', 1508: 'lucid', 1509: 'assume', 1510: 'furious', 1511: 'donuts', 1512: 'anorexic', 1513: '17', 1514: 'nails', 1515: 'snoring', 1516: 'twitter', 1517: 'messy', 1518: 'animals', 1519: 'myth', 1520: 'homemade', 1521: 'summers', 1522: 'sped', 1523: 'turtles', 1524: 'definitely', 1525: 'inhumane', 1526: 'bolt', 1527: 'carrots', 1528: 'flip', 1529: 'coin', 1530: 'hailed', 1531: 'tests', 1532: '1000', 1533: 'blonde', 1534: 'pout', 1535: 'names', 1536: 'unemployed', 1537: 'optimist', 1538: 'fungus', 1539: 'wheres', 1540: 'stutters', 1541: 'nights', 1542: 'straighten', 1543: '100', 1544: 'realistic', 1545: 'lasagna', 1546: 'prison', 1547: 'pregnant', 1548: 'rum', 1549: 'paddling', 1550: 'sand', 1551: 'bled', 1552: 'juice', 1553: 'against', 1554: 'exhale', 1555: 'loser', 1556: 'barbaric', 1557: 'nearly', 1558: 'puzzles', 1559: 'tragic', 1560: 'death', 1561: 'clue', 1562: 'lots', 1563: 'laughing', 1564: 'choking', 1565: 'actor', 1566: 'impatient', 1567: 'cloudy', 1568: 'heroes', 1569: 'aches', 1570: 'risky', 1571: 'mug', 1572: 'feels', 1573: 'wrist', 1574: 'mama', 1575: 'karaoke', 1576: 'star', 1577: 'rejected', 1578: 'doable', 1579: 'cared', 1580: 'bugs', 1581: 'beginner', 1582: 'shaken', 1583: 'honesty', 1584: 'gloated', 1585: 'stalling', 1586: 'trips', 1587: 'chatting', 1588: 'solid', 1589: 'diary', 1590: 'sinned', 1591: 'hearsay', 1592: 'tickles', 1593: 'dude', 1594: 'queasy', 1595: 'shower', 1596: 'weakling', 1597: 'donut', 1598: 'morning', 1599: 'mail', 1600: 'exhausting', 1601: 'nonsense', 1602: 'buying', 1603: 'stamp', 1604: 'cars', 1605: 'puppy', 1606: 'anxious', 1607: 'touching', 1608: 'holiday', 1609: 'rat', 1610: 'uncle', 1611: 'violent', 1612: 'easter', 1613: 'chew', 1614: 'gum', 1615: 'arrogant', 1616: 'worth', 1617: 'screaming', 1618: 'joined', 1619: 'sneeze', 1620: 'nosy', 1621: 'kittens', 1622: 'doll', 1623: 'prosper', 1624: 'form', 1625: 'lines', 1626: 'park', 1627: 'glove', 1628: 'henpecked', 1629: 'duck', 1630: 'ironing', 1631: 'happen', 1632: 'thirteen', 1633: 'pathetic', 1634: 'taller', 1635: 'muslim', 1636: 'superb', 1637: '830', 1638: 'kicked', 1639: 'comb', 1640: 'opened', 1641: 'horrible', 1642: 'managing', 1643: 'remembers', 1644: 'reasonable', 1645: 'fever', 1646: 'pacifist', 1647: 'stingy', 1648: 'blow', 1649: 'homeless', 1650: 'along', 1651: 'stronger', 1652: 'harvard', 1653: 'enjoyed', 1654: 'fled', 1655: 'motion', 1656: 'doomed', 1657: 'japan', 1658: 'convinced', 1659: 'improved', 1660: 'five', 1661: 'escape', 1662: 'returned', 1663: 'when', 1664: 'bark', 1665: 'rescued', 1666: 'means', 1667: 'ham', 1668: 'guys', 1669: 'object', 1670: 'swims', 1671: 'power', 1672: 'speaking', 1673: 'owes', 1674: 'eats', 1675: 'sweaty', 1676: 'rarely', 1677: 'faith', 1678: 'oranges', 1679: 'flew', 1680: 'advises', 1681: 'keeps', 1682: 'glue', 1683: 'romantic', 1684: 'excon', 1685: 'amused', 1686: 'stole', 1687: 'stories', 1688: 'stoic', 1689: 'owls', 1690: 'unbelievable', 1691: 'marvelous', 1692: 'choked', 1693: 'bell', 1694: 'rang', 1695: 'beans', 1696: 'raised', 1697: 'cuss', 1698: 'chef', 1699: 'space', 1700: 'cheer', 1701: 'christmas', 1702: 'drown', 1703: 'remarried', 1704: 'loss', 1705: 'bat', 1706: 'thrilling', 1707: 'recovered', 1708: 'prepaid', 1709: 'clapped', 1710: 'taxi', 1711: 'foot', 1712: 'snack', 1713: 'speed', 1714: 'birthday', 1715: 'bigot', 1716: 'impressed', 1717: 'serve', 1718: 'smokes', 1719: 'poison', 1720: 'vegan', 1721: 'faking', 1722: 'dump', 1723: 'staring', 1724: 'watchful', 1725: 'apart', 1726: 'caused', 1727: 'giddy', 1728: 'gorgeous', 1729: 'aah', 1730: 'sexy', 1731: 'dived', 1732: 'understand', 1733: 'travel', 1734: 'rely', 1735: 'llama', 1736: 'diet', 1737: 'hopeless', 1738: 'tortured', 1739: 'sobbed', 1740: 'voices', 1741: 'asian', 1742: '18', 1743: 'selfish', 1744: 'boats', 1745: 'sink', 1746: 'trash', 1747: 'crew', 1748: 'celery', 1749: 'admirable', 1750: 'unlikely', 1751: 'itches', 1752: 'kitty', 1753: 'outlaw', 1754: 'dedicated', 1755: 'coach', 1756: 'else', 1757: 'stroke', 1758: 'painter', 1759: 'giving', 1760: 'blinked', 1761: 'pack', 1762: 'gear', 1763: 'nature', 1764: 'bankrupt', 1765: 'lips', 1766: 'dies', 1767: 'brace', 1768: 'beds', 1769: 'goofed', 1770: 'ninja', 1771: 'disgusting', 1772: 'leg', 1773: 'clear', 1774: 'zoomed', 1775: 'resist', 1776: 'cnn', 1777: 'sweep', 1778: 'abandon', 1779: 'ship', 1780: 'lead', 1781: 'beers', 1782: 'hailing', 1783: 'taking', 1784: 'shiny', 1785: 'gullible', 1786: 'robe', 1787: 'fold', 1788: 'baker', 1789: 'guarantee', 1790: 'complain', 1791: 'hint', 1792: 'mondays', 1793: 'moms', 1794: 'writer', 1795: 'ex', 1796: 'helping', 1797: 'warned', 1798: 'tools', 1799: 'ptsd', 1800: 'add', 1801: 'waiting', 1802: 'cheers', 1803: 'honey', 1804: 'mother', 1805: 'slave', 1806: 'sinking', 1807: 'stew', 1808: 'wealthy', 1809: 'their', 1810: 'gamble', 1811: 'ladies', 1812: 'butcher', 1813: 'exercised', 1814: 'uneasy', 1815: 'games', 1816: 'fascinated', 1817: 'oppose', 1818: 'finicky', 1819: 'autistic', 1820: 'schools', 1821: 'optional', 1822: 'brought', 1823: 'cancer', 1824: 'agrees', 1825: 'contributed', 1826: 'clock', 1827: 'interested', 1828: 'hiccup', 1829: 'ufo', 1830: 'rocks', 1831: 'luck', 1832: 'drawing', 1833: 'devastated', 1834: 'qualified', 1835: 'sneezing', 1836: 'unlock', 1837: 'grotesque', 1838: 'surgery', 1839: 'guy', 1840: 'exhaled', 1841: 'outdoors', 1842: 'naughty', 1843: 'stamps', 1844: 'touchy', 1845: 'soccer', 1846: 'dress', 1847: 'warmly', 1848: 'samurai', 1849: 'hydrated', 1850: 'trees', 1851: 'without', 1852: 'swiss', 1853: 'calls', 1854: 'trouble', 1855: 'idiots', 1856: 'bore', 1857: 'costs', 1858: 'starving', 1859: 'also', 1860: 'immune', 1861: 'row', 1862: 'unscrew', 1863: 'despise', 1864: 'desk', 1865: 'parents', 1866: 'lettuce', 1867: 'below', 1868: 'being', 1869: 'used', 1870: 'bleeding', 1871: 'blog', 1872: 'sweating', 1873: 'plead', 1874: 'knits', 1875: 'hens', 1876: 'worn', 1877: 'tooth', 1878: 'flying', 1879: 'generous', 1880: 'ensued', 1881: 'colonel', 1882: 'gas', 1883: 'falling', 1884: 'continue', 1885: 'sued', 1886: 'table', 1887: 'date', 1888: 'approves', 1889: 'suppose', 1890: 'fools', 1891: 'takes', 1892: 'resting', 1893: 'soldier', 1894: 'handle', 1895: 'austrian', 1896: 'piano', 1897: 'tourist', 1898: 'blink', 1899: 'sincere', 1900: 'difficult', 1901: 'frail', 1902: 'heavy', 1903: 'insects', 1904: 'hands', 1905: 'prepare', 1906: 'shadow', 1907: 'klutz', 1908: 'overworked', 1909: 'succeed', 1910: 'coughed', 1911: 'ring', 1912: 'gift', 1913: 'babbling', 1914: 'fee', 1915: 'rules', 1916: 'struggled', 1917: 'across', 1918: 'cup', 1919: 'inhaled', 1920: 'plans', 1921: '200', 1922: 'starve', 1923: 'meant', 1924: 'business', 1925: 'fed', 1926: 'drives', 1927: 'jerk', 1928: 'wig', 1929: 'october', 1930: 'dislikes', 1931: 'reggae', 1932: 'mice', 1933: 'pool', 1934: 'mechanic', 1935: 'decline', 1936: 'chilly', 1937: 'mortal', 1938: 'together', 1939: 'turned', 1940: 'castles', 1941: 'dozing', 1942: 'assumed', 1943: 'banana', 1944: 'classic', 1945: 'cds', 1946: 'hop', 1947: 'few', 1948: 'stammered', 1949: 'baby', 1950: 'fill', 1951: 'privacy', 1952: 'facts', 1953: 'tigers', 1954: 'purr', 1955: 'rule', 1956: 'gives', 1957: 'usually', 1958: 'humble', 1959: 'says', 1960: 'burp', 1961: 'times', 1962: 'respond', 1963: 'insult', 1964: 'jesuit', 1965: 'knee', 1966: 'justice', 1967: 'pleased', 1968: 'large', 1969: 'motivated', 1970: 'chicken', 1971: 'protested', 1972: 'dances', 1973: 'borrow', 1974: 'glass', 1975: 'starved', 1976: 'comment', 1977: 'expected', 1978: 'drowned', 1979: 'korean', 1980: 'timing', 1981: 'alert', 1982: 'burns', 1983: 'scold', 1984: 'limping', 1985: 'cranky', 1986: '800', 1987: 'gross'}\n",
            "{1: 'ich', 2: 'tom', 3: 'ist', 4: 'es', 5: 'sie', 6: 'das', 7: 'bin', 8: 'nicht', 9: 'wir', 10: 'habe', 11: 'er', 12: 'hat', 13: 'du', 14: 'mich', 15: 'zu', 16: 'war', 17: 'ein', 18: 'mir', 19: 'sind', 20: 'auf', 21: 'dich', 22: 'uns', 23: 'wer', 24: 'kann', 25: 'eine', 26: 'werde', 27: 'die', 28: 'an', 29: 'hier', 30: 'bist', 31: 'gehen', 32: 'ihr', 33: 'sich', 34: 'haben', 35: 'einen', 36: 'ihn', 37: 'jetzt', 38: 'lass', 39: 'gut', 40: 'wird', 41: 'in', 42: 'wie', 43: 'mal', 44: 'liebe', 45: 'dir', 46: 'mach', 47: 'euch', 48: 'was', 49: 'mag', 50: 'aus', 51: 'komm', 52: 'den', 53: 'nach', 54: 'da', 55: 'hause', 56: 'geh', 57: 'mein', 58: 'geht', 59: 'bitte', 60: 'knnen', 61: 'mit', 62: 'so', 63: 'der', 64: 'will', 65: 'noch', 66: 'machen', 67: 'werden', 68: 'seid', 69: 'kommen', 70: 'niemand', 71: 'einfach', 72: 'meine', 73: 'gesehen', 74: 'wurde', 75: 'sei', 76: 'fr', 77: 'hatte', 78: 'weg', 79: 'sehr', 80: 'hasse', 81: 'darf', 82: 'macht', 83: 'muss', 84: 'weiter', 85: 'hr', 86: 'hast', 87: 'beschftigt', 88: 'gehe', 89: 'tun', 90: 'brauche', 91: 'essen', 92: 'sein', 93: 'gerade', 94: 'kommt', 95: 'gib', 96: 'nimm', 97: 'tut', 98: 'kein', 99: 'krank', 100: 'versuchen', 101: 'lasst', 102: 'helfen', 103: 'doch', 104: 'gemacht', 105: 'alle', 106: 'kannst', 107: 'wei', 108: 'recht', 109: 'bleiben', 110: 'leben', 111: 'hei', 112: 'gefunden', 113: 'sah', 114: 'im', 115: 'ab', 116: 'verloren', 117: 'weh', 118: 'glcklich', 119: 'nichts', 120: 'allein', 121: 'auto', 122: 'sterben', 123: 'kam', 124: 'schnell', 125: 'sicher', 126: 'bleib', 127: 'ihm', 128: 'ging', 129: 'alt', 130: 'spa', 131: 'etwas', 132: 'dem', 133: 'spt', 134: 'auch', 135: 'gehrt', 136: 'sehen', 137: 'fhle', 138: 'zeit', 139: 'zurck', 140: 'gegangen', 141: 'ruhig', 142: 'brauchen', 143: 'viel', 144: 'und', 145: 'herein', 146: 'gerne', 147: 'hund', 148: 'wieder', 149: 'mehr', 150: 'fu', 151: 'warten', 152: 'gro', 153: 'verrckt', 154: 'hin', 155: 'traurig', 156: 'vor', 157: 'ja', 158: 'gewonnen', 159: 'am', 160: 'gern', 161: 'ordnung', 162: 'fertig', 163: 'ihnen', 164: 'komme', 165: 'thomas', 166: 'schlecht', 167: 'gegessen', 168: 'mde', 169: 'frei', 170: 'nur', 171: 'lassen', 172: 'schau', 173: 'kalt', 174: 'geld', 175: 'los', 176: 'bei', 177: 'nehmen', 178: 'maria', 179: 'warte', 180: 'rein', 181: 'dran', 182: 'gehts', 183: 'singen', 184: 'tr', 185: 'buch', 186: 'arbeit', 187: 'sag', 188: 'betrunken', 189: 'sagte', 190: 'nett', 191: 'schon', 192: 'alles', 193: 'keine', 194: 'mache', 195: 'stehen', 196: 'verletzt', 197: 'seien', 198: 'gesagt', 199: 'hrt', 200: 'nie', 201: 'laufen', 202: 'versucht', 203: 'mann', 204: 'fahren', 205: 'setz', 206: 'wach', 207: 'wo', 208: 'dabei', 209: 'kurz', 210: 'dort', 211: 'kennen', 212: 'schn', 213: 'iss', 214: 'fragen', 215: 'knnt', 216: 'schlafen', 217: 'jung', 218: 'behalten', 219: 'lesen', 220: 'gewinnen', 221: 'wissen', 222: 'vorsichtig', 223: 'hren', 224: 'angst', 225: 'her', 226: 'tee', 227: 'eins', 228: 'sehe', 229: 'liebt', 230: 'arbeiten', 231: 'esse', 232: 'wtend', 233: 'um', 234: 'einmal', 235: 'halte', 236: 'von', 237: 'bett', 238: 'sieht', 239: 'meinen', 240: 'bereit', 241: 'habt', 242: 'vorbei', 243: 'ganz', 244: 'zieh', 245: 'tu', 246: 'raus', 247: 'leid', 248: 'diese', 249: 'probier', 250: 'schwimmen', 251: 'neu', 252: 'aufhren', 253: 'weinen', 254: 'wohl', 255: 'drauen', 256: 'wusste', 257: 'still', 258: 'hallo', 259: 'deine', 260: 'hol', 261: 'fangen', 262: 'getan', 263: 'okay', 264: 'geschafft', 265: 'fhlte', 266: 'waren', 267: 'einverstanden', 268: 'fang', 269: 'warum', 270: 'kochen', 271: 'zum', 272: 'mchte', 273: 'franzsisch', 274: 'knnte', 275: 'wein', 276: 'gebissen', 277: 'hunde', 278: 'getroffen', 279: 'kenne', 280: 'immer', 281: 'keiner', 282: 'ins', 283: 'gekommen', 284: 'schchtern', 285: 'langweilig', 286: 'bier', 287: 'frh', 288: 'rot', 289: 'witze', 290: 'gefallen', 291: 'kinder', 292: 'kaputt', 293: 'weit', 294: 'heute', 295: 'verlieren', 296: 'funktioniert', 297: 'schwach', 298: 'gibt', 299: 'schlie', 300: 'besser', 301: 'gelogen', 302: 'gab', 303: 'verrgert', 304: 'bring', 305: 'ffne', 306: 'arm', 307: 'kennt', 308: 'reden', 309: 'schule', 310: 'wollen', 311: 'berhmt', 312: 'wette', 313: 'zur', 314: 'danke', 315: 'cool', 316: 'glck', 317: 'hilfe', 318: 'angerufen', 319: 'nehme', 320: 'reich', 321: 'wagen', 322: 'ernst', 323: 'bse', 324: 'zuhause', 325: 'bleibt', 326: 'nein', 327: 'weinte', 328: 'schuld', 329: 'braucht', 330: 'katze', 331: 'hab', 332: 'bus', 333: 'mutig', 334: 'tanzen', 335: 'zeig', 336: 'karte', 337: 'liegt', 338: 'tot', 339: 'dein', 340: 'kaffee', 341: 'fort', 342: 'scher', 343: 'warst', 344: 'hierher', 345: 'geben', 346: 'schade', 347: 'verirrt', 348: 'bord', 349: 's', 350: 'lgen', 351: 'vielleicht', 352: 'sieh', 353: 'stark', 354: 'wirklich', 355: 'unhflich', 356: 'leise', 357: 'ruhe', 358: 'siehst', 359: 'beeilen', 360: 'frau', 361: 'meins', 362: 'als', 363: 'kmpfen', 364: 'neues', 365: 'warm', 366: 'boston', 367: 'bezahlt', 368: 'uhr', 369: 'lies', 370: 'sies', 371: 'lese', 372: 'dunkel', 373: 'augen', 374: 'gestorben', 375: 'bestrzt', 376: 'fett', 377: 'dick', 378: 'dumm', 379: 'hunger', 380: 'klar', 381: 'gegeben', 382: 'arzt', 383: 'gelangweilt', 384: 'halten', 385: 'frag', 386: 'blind', 387: 'hoffe', 388: 'worden', 389: 'damit', 390: 'rannte', 391: 'selbst', 392: 'komisch', 393: 'lief', 394: 'stand', 395: 'wirst', 396: 'wasser', 397: 'legen', 398: 'langsam', 399: 'anfangen', 400: 'haltet', 401: 'ausruhen', 402: 'sprich', 403: 'lgt', 404: 'vater', 405: 'hatten', 406: 'spazieren', 407: 'vergessen', 408: 'esst', 409: 'vertraue', 410: 'habs', 411: 'trinke', 412: 'beeil', 413: 'mnner', 414: 'schmerzen', 415: 'echt', 416: 'genau', 417: 'rauchen', 418: 'geschlagen', 419: 'leine', 420: 'lustig', 421: 'koch', 422: 'reicht', 423: 'scheint', 424: 'job', 425: 'klein', 426: 'beginnen', 427: 'gott', 428: 'schwarz', 429: 'nehmt', 430: 'dies', 431: 'eier', 432: 'verschwinde', 433: 'geholfen', 434: 'wrde', 435: 'gebe', 436: 'trinken', 437: 'gesungen', 438: 'mssen', 439: 'halt', 440: 'gemein', 441: 'schlssel', 442: 'bekommen', 443: 'fehlt', 444: 'nochmal', 445: 'durch', 446: 'schauen', 447: 'versuchs', 448: 'dit', 449: 'fahre', 450: 'steht', 451: 'lieben', 452: 'vermisse', 453: 'verstehe', 454: 'bezahlen', 455: 'kaufen', 456: 'bringen', 457: 'entlassen', 458: 'leicht', 459: 'runter', 460: 'seltsam', 461: 'hilf', 462: 'geweint', 463: 'erinnere', 464: 'jahre', 465: 'gerettet', 466: 'panik', 467: 'singe', 468: 'augenblick', 469: 'unrecht', 470: 'oben', 471: 'fest', 472: 'suchen', 473: 'lcheln', 474: 'ding', 475: 'faul', 476: 'beeilt', 477: 'rufen', 478: 'reis', 479: 'ruf', 480: 'setzen', 481: 'man', 482: 'wahr', 483: 'vom', 484: 'dreiig', 485: 'schneller', 486: 'dnn', 487: 'zh', 488: 'lge', 489: 'heraus', 490: 'witz', 491: 'unsere', 492: 'trink', 493: 'musste', 494: 'bald', 495: 'kniete', 496: 'hoch', 497: 'lie', 498: 'sofort', 499: 'reparieren', 500: 'bestes', 501: 'reinkommen', 502: 'nhe', 503: 'fangt', 504: 'schwer', 505: 'brav', 506: 'klug', 507: 'menschen', 508: 'nervs', 509: 'schieen', 510: 'willst', 511: 'laufpass', 512: 'sang', 513: 'mdchen', 514: 'pleite', 515: 'vertraut', 516: 'gekauft', 517: 'arbeite', 518: 'stimmt', 519: 'rief', 520: 'leg', 521: 'fernsehen', 522: 'rede', 523: 'toms', 524: 'dass', 525: 'gewinne', 526: 'luft', 527: 'rufe', 528: 'morgen', 529: 'hilft', 530: 'blau', 531: 'kennst', 532: 'stoppen', 533: 'gerufen', 534: 'unten', 535: 'anderer', 536: 'na', 537: 'hielt', 538: 'bel', 539: 'verlassen', 540: 'alter', 541: 'riecht', 542: 'toll', 543: 'lernen', 544: 'junge', 545: 'schreiben', 546: 'mhe', 547: 'fliegen', 548: 'mensch', 549: 'sauer', 550: 'wehgetan', 551: 'tte', 552: 'hsslich', 553: 'bescheid', 554: 'gehorchen', 555: 'kocht', 556: 'ziemlich', 557: 'schlief', 558: 'milch', 559: 'schreien', 560: 'gerecht', 561: 'darum', 562: 'kmmern', 563: 'seite', 564: 'drin', 565: 'versprochen', 566: 'verstanden', 567: 'kind', 568: 'gelassen', 569: 'durst', 570: 'grund', 571: 'geliebt', 572: 'helfe', 573: 'hart', 574: 'ne', 575: 'fliege', 576: 'katzen', 577: 'beweg', 578: 'neugierig', 579: 'gefllt', 580: 'legt', 581: 'erzhlt', 582: 'wiedersehen', 583: 'bis', 584: 'ordentlich', 585: 'tat', 586: 'schalte', 587: 'wort', 588: 'verdufte', 589: 'anrufen', 590: 'repariere', 591: 'ok', 592: 'sollen', 593: 'kannte', 594: 'sauber', 595: 'groartig', 596: 'musst', 597: 'blieb', 598: 'yoga', 599: 'wre', 600: 'bewegen', 601: 'lieber', 602: 'lauf', 603: 'fass', 604: 'pflicht', 605: 'fuhr', 606: 'zusammen', 607: 'mund', 608: 'drum', 609: 'pech', 610: 'eines', 611: 'lchelte', 612: 'spielen', 613: 'folgen', 614: 'dieses', 615: 'pingelig', 616: 'fiel', 617: 'trumen', 618: 'passt', 619: 'machs', 620: 'einsam', 621: 'verlor', 622: 'plan', 623: 'tief', 624: 'grausam', 625: 'weise', 626: 'soweit', 627: 'sprach', 628: 'geschickt', 629: 'davon', 630: 'lernt', 631: 'krieg', 632: 'verlasse', 633: 'freundlich', 634: 'sohn', 635: 'ihre', 636: 'nchste', 637: 'tritt', 638: 'dagegen', 639: 'meinung', 640: 'jemand', 641: 'nass', 642: 'egal', 643: 'gefeuert', 644: 'vertrauen', 645: 'brauchst', 646: 'wunderbar', 647: 'weint', 648: 'oft', 649: 'behaltet', 650: 'dafr', 651: 'dazu', 652: 'spiele', 653: 'steh', 654: 'entschuldigung', 655: 'geschummelt', 656: 'isst', 657: 'geantwortet', 658: 'bleibe', 659: 'zuerst', 660: 'schmerzt', 661: 'sprechen', 662: 'mary', 663: 'letzte', 664: 'leiden', 665: 'herunter', 666: 'behalt', 667: 'verstecken', 668: 'rate', 669: 'nickerchen', 670: 'schwindlig', 671: 'schreib', 672: 'versuch', 673: 'gesprochen', 674: 'montag', 675: 'geschehen', 676: 'versuche', 677: 'gewarnt', 678: 'folge', 679: 'acht', 680: 'geduldig', 681: 'tren', 682: 'scharf', 683: 'fassen', 684: 'mittagessen', 685: 'schlimm', 686: 'schlittschuh', 687: 'mager', 688: 'beruhige', 689: 'tten', 690: 'nochmals', 691: 'fallen', 692: 'schlft', 693: 'gierig', 694: 'lungen', 695: 'nummer', 696: 'satt', 697: 'problem', 698: 'spricht', 699: 'nutzlos', 700: 'perfekt', 701: 'verndert', 702: 'acker', 703: 'half', 704: 'bld', 705: 'gelacht', 706: 'lachte', 707: 'aufgehrt', 708: 'verzieh', 709: 'wasch', 710: 'schluss', 711: 'zahn', 712: 'schlau', 713: 'wachsam', 714: 'tapfer', 715: 'richtig', 716: 'waffe', 717: 'eis', 718: 'wollte', 719: 'mgen', 720: 'jungen', 721: 'deins', 722: 'erfolgreich', 723: 'faust', 724: 'frage', 725: 'siegen', 726: 'schlfrig', 727: 'taub', 728: 'maus', 729: 'hre', 730: 'zisch', 731: 'aufrichtig', 732: 'obst', 733: 'aber', 734: 'umarmen', 735: 'fahrrad', 736: 'pnktlich', 737: 'glaube', 738: 'gibts', 739: 'hasst', 740: 'stirbt', 741: 'a', 742: 'stimmte', 743: 'geheimnis', 744: 'landkarte', 745: 'schwirr', 746: 'angeschossen', 747: 'benutze', 748: 'nacht', 749: 'froh', 750: 'ski', 751: 'kssen', 752: 'entkommen', 753: 'pack', 754: 'dmlich', 755: 'wichtig', 756: 'finden', 757: 'verdient', 758: 'arbeitet', 759: 'schreibt', 760: 'koche', 761: 'gas', 762: 'bekam', 763: 'wart', 764: 'machst', 765: 'wussten', 766: 'geirrt', 767: 'fachmann', 768: 'hungrig', 769: 'verschwunden', 770: 'gewachsen', 771: 'hut', 772: 'hingehen', 773: 'rennt', 774: 'beliebt', 775: 'bins', 776: 'meinem', 777: 'holen', 778: 'sing', 779: 'nher', 780: 'vogel', 781: 'drinnen', 782: 'platz', 783: 'wartet', 784: 'verlaufen', 785: 'musik', 786: 'mochte', 787: 'setzte', 788: 'klappt', 789: 'scherz', 790: 'verschlafen', 791: 'ffnen', 792: 'sagten', 793: 'sagen', 794: 'tue', 795: 'lachen', 796: 'entscheiden', 797: 'studiere', 798: 'mitmachen', 799: 'schwierig', 800: 'spion', 801: 'vergiss', 802: 'sorgen', 803: 'schaffen', 804: 'moment', 805: 'ndern', 806: 'fleisch', 807: 'unfair', 808: 'entspann', 809: 'vorne', 810: 'hand', 811: 'unglcklich', 812: 'glatze', 813: 'lgner', 814: 'hflich', 815: 'berlass', 816: 'vorsicht', 817: 'gefragt', 818: 'sage', 819: 'weine', 820: 'eingestellt', 821: 'vgel', 822: 'trank', 823: 'angekommen', 824: 'fhrt', 825: 'mutter', 826: 'guter', 827: 'machte', 828: 'ungerecht', 829: 'nackt', 830: 'leichtglubig', 831: 'frchte', 832: 'kopf', 833: 'rcken', 834: 'dummkopf', 835: 'spreche', 836: 'ziehen', 837: 'tag', 838: 'hau', 839: 'pferd', 840: 'ei', 841: 'willkommen', 842: 'vermisst', 843: 'dichter', 844: 'bentige', 845: 'antworten', 846: 'alleine', 847: 'ihres', 848: 'ohnmchtig', 849: 'geworden', 850: 'bemerkt', 851: 'bete', 852: 'hrte', 853: 'langweile', 854: 'ntig', 855: 'selten', 856: 'sinn', 857: 'werke', 858: 'normal', 859: 'steckt', 860: 'hervorragend', 861: 'schwimme', 862: 'aufgeben', 863: 'fair', 864: 'verlass', 865: 'drauf', 866: 'gewhlt', 867: 'sthnte', 868: 'beweise', 869: 'bekifft', 870: 'knstler', 871: 'objektiv', 872: 'diskret', 873: 'enttuscht', 874: 'schummelte', 875: 'verbindung', 876: 'beide', 877: 'gelaufen', 878: 'sport', 879: 'gehst', 880: 'schaute', 881: 'traum', 882: 'entschuldigen', 883: 'gehabt', 884: 'gleich', 885: 'biss', 886: 'schicken', 887: 'zeigs', 888: 'verndern', 889: 'denk', 890: 'entlang', 891: 'bringe', 892: 'gewitzt', 893: 'hey', 894: 'freude', 895: 'groe', 896: 'gefangen', 897: 'dreh', 898: 'schreit', 899: 'treten', 900: 'verschwand', 901: 'wozu', 902: 'verbrannt', 903: 'lnger', 904: 'wachte', 905: 'berlebt', 906: 'rechnung', 907: 'freunde', 908: 'funktionieren', 909: 'naiv', 910: 'kuchen', 911: 'rhr', 912: 'schaut', 913: 'stimme', 914: 'drngeln', 915: 'fisch', 916: 'zwei', 917: 'findet', 918: 'blass', 919: 'spter', 920: 'genug', 921: 'berlebte', 922: 'gebt', 923: 'hlfte', 924: 'raten', 925: 'abendessen', 926: 'sagt', 927: 'voreingenommen', 928: 'tre', 929: 'wrdest', 930: 'ahnung', 931: 'schlagen', 932: 'ausland', 933: 'gar', 934: 'zahlen', 935: 'fische', 936: 'weitermachen', 937: 'schoss', 938: 'se', 939: 'bewaffnet', 940: 'heim', 941: 'ffnet', 942: 'bisschen', 943: 'regnet', 944: 'geschlafen', 945: 'sicherheit', 946: 'minute', 947: 'seil', 948: 'berprfen', 949: 'sollten', 950: 'gefahren', 951: 'anhalten', 952: 'daran', 953: 'log', 954: 'dj', 955: 'fahr', 956: 'fragte', 957: 'mama', 958: 'stadt', 959: 'kontrollieren', 960: 'klatschen', 961: 'suche', 962: 'frieden', 963: 'rennen', 964: 'keinen', 965: 'such', 966: 'gerhrt', 967: 'deckung', 968: 'stimmen', 969: 'umarmt', 970: 'streng', 971: 'winter', 972: 'verstecke', 973: 'schloss', 974: 'fe', 975: 'trotzdem', 976: 'sicherheitsdienst', 977: 'haus', 978: 'betete', 979: 'absage', 980: 'fragt', 981: 'mnch', 982: 'wahnsinnig', 983: 'freiwillig', 984: 'scherzen', 985: 'geraten', 986: 'traf', 987: 'umarme', 988: 'sahen', 989: 'gelchelt', 990: 'eure', 991: 'herbst', 992: 'lebt', 993: 'bewegt', 994: 'joggen', 995: 'mathe', 996: 'seinen', 997: 'nieder', 998: 'einer', 999: 'erkltung', 1000: 'taxi', 1001: 'legal', 1002: 'reizend', 1003: 'sause', 1004: 'bescheiden', 1005: 'verkauf', 1006: 'bekomme', 1007: 'schlimmer', 1008: 'hoffnung', 1009: 'super', 1010: 'beschdigt', 1011: 'regen', 1012: 'ziehe', 1013: 'brach', 1014: 'lang', 1015: 'gucken', 1016: 'pizza', 1017: 'liste', 1018: 'schwimmt', 1019: 'wecke', 1020: 'fhre', 1021: 'probieren', 1022: 'bewegte', 1023: 'wurden', 1024: 'feuer', 1025: 'dinge', 1026: 'unterrichten', 1027: 'erwischt', 1028: 'lehrer', 1029: 'idiot', 1030: 'japaner', 1031: 'gebaut', 1032: 'betrogen', 1033: 'schneit', 1034: 'eingeladen', 1035: 'angestellt', 1036: 'vernnftig', 1037: 'fluchen', 1038: 'unterschreiben', 1039: 'schneide', 1040: 'hinein', 1041: 'nutze', 1042: 'beim', 1043: 'legte', 1044: 'amsiert', 1045: 'gesicht', 1046: 'notizen', 1047: 'erklren', 1048: 'zwilling', 1049: 'fantastisch', 1050: 'verstehen', 1051: 'summen', 1052: 'hher', 1053: 'htte', 1054: 'gebetet', 1055: 'nahm', 1056: 'spring', 1057: 'wohnung', 1058: 'finde', 1059: 'versagen', 1060: 'nase', 1061: 'zwiebeln', 1062: 'gearbeitet', 1063: 'berleben', 1064: 'untersttze', 1065: 'unseres', 1066: 'ball', 1067: 'springen', 1068: 'fasst', 1069: 'boden', 1070: 'niedergeschlagen', 1071: 'drck', 1072: 'zugehrt', 1073: 'bewundern', 1074: 'abgesagt', 1075: 'dorthin', 1076: 'nchtern', 1077: 'hasste', 1078: 'lgst', 1079: 'angefangen', 1080: 'cd', 1081: 'gerannt', 1082: 'einfltig', 1083: 'groer', 1084: 'beneide', 1085: 'aufregend', 1086: 'gefolgt', 1087: 'einzuwenden', 1088: 'schuldig', 1089: 'tanze', 1090: 'bernehmen', 1091: 'verliebt', 1092: 'jammern', 1093: 'bernimm', 1094: 'guck', 1095: 'dahin', 1096: 'kicherte', 1097: 'hats', 1098: 'brot', 1099: 'sterbe', 1100: 'beeile', 1101: 'schwindelig', 1102: 'abgeschlossen', 1103: 'ohr', 1104: 'gehauen', 1105: 'schrie', 1106: 'schweine', 1107: 'kiefer', 1108: 'rastete', 1109: 'single', 1110: 'geduscht', 1111: 'laune', 1112: 'kmpfte', 1113: 'verkrmele', 1114: 'frauen', 1115: 'ach', 1116: 'pfel', 1117: 'beweisen', 1118: 'weggegangen', 1119: 'ungewhnlich', 1120: 'erzhl', 1121: 'diabetiker', 1122: 'versichert', 1123: 'frbe', 1124: 'haare', 1125: 'studiert', 1126: 'davongekommen', 1127: 'schaden', 1128: 'gewesen', 1129: 'kapiert', 1130: 'raufen', 1131: 'geschneit', 1132: 'tatverdchtiger', 1133: 'partys', 1134: 'fing', 1135: 'filmen', 1136: 'pass', 1137: 'aufmerksam', 1138: 'clever', 1139: 'summe', 1140: 'beleidigt', 1141: 'liebte', 1142: 'versteckt', 1143: 'laufe', 1144: 'gaben', 1145: 'gehaltserhhung', 1146: 'eilte', 1147: 'probiert', 1148: 'vorurteile', 1149: 'haar', 1150: 'adoptiert', 1151: 'bedrftig', 1152: 'dreizehn', 1153: 'gingen', 1154: 'genie', 1155: 'eingebildet', 1156: 'lachten', 1157: 'verzeihung', 1158: 'pfiff', 1159: 'rollschuh', 1160: 'pfeife', 1161: 'ruiniert', 1162: 'jahr', 1163: 'verliert', 1164: 'letzter', 1165: 'teilen', 1166: 'abbrechen', 1167: 'tokyo', 1168: 'knoblauch', 1169: 'kaufe', 1170: 'leer', 1171: 'losgehen', 1172: 'hinunter', 1173: 'bremse', 1174: 'verrucht', 1175: 'lufer', 1176: 'geschenke', 1177: 'hole', 1178: 'erledigt', 1179: 'steig', 1180: 'nchstes', 1181: 'paris', 1182: 'ehrlich', 1183: 'ledig', 1184: 'grippe', 1185: 'wem', 1186: 'werd', 1187: 'locker', 1188: 'schickt', 1189: '745', 1190: 'versuchten', 1191: 'langsamer', 1192: 'liege', 1193: 'kfig', 1194: 'trocken', 1195: 'zgerte', 1196: 'kannten', 1197: 'studentin', 1198: 'mglich', 1199: 'abend', 1200: 'samstag', 1201: 'zweifel', 1202: 'zubereitet', 1203: 'mitfahren', 1204: 'euer', 1205: 'niemanden', 1206: 'beheben', 1207: 'boot', 1208: 'durchfallen', 1209: 'schlage', 1210: 'zeige', 1211: 'schwamm', 1212: 'lchelten', 1213: 'kostet', 1214: 'betrog', 1215: 'stellen', 1216: 'kanadier', 1217: 'futon', 1218: 'ntzlich', 1219: 'geschieden', 1220: 'dste', 1221: 'hineingehen', 1222: 'aufstehen', 1223: 'erleichterung', 1224: 'scherze', 1225: 'umziehen', 1226: 'freund', 1227: 'herz', 1228: 'abgeschnitten', 1229: 'gold', 1230: 'verwende', 1231: 'unschuldig', 1232: 'geschrien', 1233: 'beinahe', 1234: 'gefahr', 1235: 'hrst', 1236: 'knapp', 1237: 'stinkt', 1238: 'dann', 1239: 'kekse', 1240: '19', 1241: 'repariert', 1242: 'aen', 1243: 'lern', 1244: 'vergib', 1245: 'kuss', 1246: 'entkam', 1247: 'daheim', 1248: 'behalte', 1249: 'quitt', 1250: 'wurdest', 1251: 'sieger', 1252: 'stehe', 1253: 'untersuchen', 1254: 'tatsache', 1255: 'blut', 1256: 'nahrung', 1257: 'zudringlich', 1258: 'neblig', 1259: 'kopie', 1260: 'lied', 1261: 'paar', 1262: 'fluchte', 1263: 'dieb', 1264: 'gefhrlich', 1265: 'unbewaffnet', 1266: 'stecke', 1267: 'rock', 1268: 'lachs', 1269: 'verpiss', 1270: 'frhling', 1271: 'richtung', 1272: 'norden', 1273: 'lecker', 1274: 'treffen', 1275: 'gehasst', 1276: 'entschuldige', 1277: 'lehrerin', 1278: 'reingehen', 1279: 'salat', 1280: 'loch', 1281: 'schrecklich', 1282: 'poet', 1283: 'lippen', 1284: 'irrst', 1285: 'irgendwen', 1286: 'zhl', 1287: 'lerne', 1288: 'chef', 1289: 'friert', 1290: 'flsterte', 1291: 'nerv', 1292: 'fehlen', 1293: 'ghnte', 1294: 'warnen', 1295: 'gemeldet', 1296: 'spiel', 1297: 'beobachtet', 1298: 'erschoss', 1299: 'gewehr', 1300: 'kmmere', 1301: 'unsinn', 1302: 'birne', 1303: 'schafft', 1304: 'genommen', 1305: 'vergiftet', 1306: 'zeigen', 1307: 'willen', 1308: 'beobachte', 1309: 'geblieben', 1310: 'tnzer', 1311: 'beobachten', 1312: 'schnee', 1313: 'lteste', 1314: 'mitnehmen', 1315: 'oder', 1316: 'meditiere', 1317: 'troll', 1318: 'sitzenlassen', 1319: 'stopp', 1320: 'wert', 1321: 'schaust', 1322: 'weggehen', 1323: 'gute', 1324: 'denn', 1325: 'nachlassen', 1326: 'vergeht', 1327: 'frohe', 1328: 'eiferschtig', 1329: 'mge', 1330: 'interessiert', 1331: 'nahe', 1332: 'eintreten', 1333: 'erzhlen', 1334: 'tschss', 1335: 'zurckkommen', 1336: 'windig', 1337: 'umarmte', 1338: 'hase', 1339: 'klarkommen', 1340: 'kuli', 1341: 'ehrgeizig', 1342: 'klatschte', 1343: 'zugesehen', 1344: 'spinat', 1345: 'hingegangen', 1346: 'bezahlte', 1347: 'kopfweh', 1348: 'fernseher', 1349: 'trat', 1350: 'jungs', 1351: 'ergeben', 1352: 'falsch', 1353: 'dankbar', 1354: 'schick', 1355: 'zeichne', 1356: 'verheiratet', 1357: 'versuchte', 1358: 'wirkst', 1359: 'gehre', 1360: 'familie', 1361: 'anwesend', 1362: 'meinte', 1363: 'gehorchte', 1364: 'zugelassen', 1365: 'versuchung', 1366: 'ausgerutscht', 1367: 'schreibe', 1368: 'spionin', 1369: 'leidet', 1370: 'optimist', 1371: 'kuh', 1372: 'ausgeraubt', 1373: 'nachdenken', 1374: 'spezifisch', 1375: 'zahle', 1376: 'hnde', 1377: 'polizei', 1378: 'ohne', 1379: 'seins', 1380: 'berliner', 1381: 'loslegen', 1382: 'abgelehnt', 1383: 'getrunken', 1384: 'gekotzt', 1385: 'erkltet', 1386: 'mittag', 1387: 'risiko', 1388: 'beschleunigte', 1389: 'gespuckt', 1390: 'strmte', 1391: 'durstig', 1392: 'bcher', 1393: 'bart', 1394: 'tor', 1395: 'jeden', 1396: 'fall', 1397: 'wieso', 1398: 'nerven', 1399: 'strzte', 1400: 'tennis', 1401: 'sollst', 1402: 'heldenhaft', 1403: 'betet', 1404: 'anfassen', 1405: 'passiert', 1406: 'kontrollier', 1407: 'erledigen', 1408: 'kauf', 1409: 'verspte', 1410: 'abendbrot', 1411: 'zurechtkommen', 1412: 'rausgegangen', 1413: 'sangen', 1414: 'rechts', 1415: 'irgendjemand', 1416: 'schubsen', 1417: 'geschwommen', 1418: 'fast', 1419: 'trume', 1420: 'bitten', 1421: 'klingt', 1422: 'tanz', 1423: 'besitze', 1424: 'flugzeug', 1425: 'drfen', 1426: 'nagelneu', 1427: 'schwanger', 1428: 'irgendwer', 1429: 'getrennt', 1430: 'zimmer', 1431: 'ihrer', 1432: 'strengt', 1433: 'beweis', 1434: 'raucht', 1435: 'gesund', 1436: 'bedient', 1437: 'erschossen', 1438: 'kommst', 1439: 'mantel', 1440: 'menge', 1441: 'verraten', 1442: 'emprt', 1443: 'rotschopf', 1444: 'vertraute', 1445: 'ansehen', 1446: 'aufgelegt', 1447: 'bewundere', 1448: 'tatsachen', 1449: 'ausreichend', 1450: 'gewappnet', 1451: 'pflanzen', 1452: 'gesetz', 1453: 'insekten', 1454: 'artig', 1455: 'ratet', 1456: 'zahlt', 1457: 'standen', 1458: 'berlassen', 1459: 'hinter', 1460: 'lage', 1461: 'rindfleisch', 1462: 'aufgegeben', 1463: 'fluche', 1464: 'setzten', 1465: 'oh', 1466: 'idee', 1467: 'singt', 1468: 'bereits', 1469: 'verkauft', 1470: 'beruhigen', 1471: 'halts', 1472: 'maul', 1473: 'baden', 1474: 'gruselig', 1475: 'fach', 1476: 'bargeld', 1477: 'hinten', 1478: 'schchterner', 1479: 'abserviert', 1480: 'gebrauch', 1481: 'niese', 1482: 'ktzchen', 1483: 'gelegen', 1484: 'besorgt', 1485: 'verschwindet', 1486: 'entspannt', 1487: 'grn', 1488: 'idioten', 1489: 'mochten', 1490: 'verliere', 1491: 'gebracht', 1492: 'aha', 1493: 'warteten', 1494: 'heult', 1495: 'jemanden', 1496: 'herum', 1497: 'verwirrt', 1498: 'sucht', 1499: 'berlasst', 1500: 'lauter', 1501: 'zielen', 1502: 'zieht', 1503: 'anschlieen', 1504: 'gnadenlos', 1505: 'niemandem', 1506: '18', 1507: 'lenkte', 1508: 'bergeben', 1509: 'ruhestand', 1510: 'menschlich', 1511: 'schnen', 1512: 'motor', 1513: 'nietenhose', 1514: 'real', 1515: 'rette', 1516: 'typ', 1517: 'unter', 1518: 'voran', 1519: 'applaudiert', 1520: 'kontrolle', 1521: 'solche', 1522: 'sushi', 1523: 'bewege', 1524: 'rutschte', 1525: 'heier', 1526: 'geschrieben', 1527: 'daraus', 1528: 'ekelhaft', 1529: 'gndig', 1530: 'trum', 1531: 'ses', 1532: 'schmutzig', 1533: 'geglaubt', 1534: 'darauf', 1535: 'wachen', 1536: 'fbi', 1537: 'verlobt', 1538: 'eitel', 1539: 'blickte', 1540: 'meines', 1541: 'zahlte', 1542: 'marmelade', 1543: 'schaue', 1544: 'kommando', 1545: 'gesprungen', 1546: 'wolf', 1547: 'aufgabe', 1548: 'frhzeitig', 1549: 'ob', 1550: 'fasten', 1551: 'meidet', 1552: 'apfel', 1553: 'starren', 1554: 'beifall', 1555: 'schm', 1556: 'drber', 1557: 'chzte', 1558: 'handschellen', 1559: 'zwinkerte', 1560: 'las', 1561: 'hosentrger', 1562: 'jeder', 1563: 'ttet', 1564: 'schme', 1565: 'laut', 1566: 'eilig', 1567: 'verachte', 1568: 'besoffen', 1569: 'geheim', 1570: 'pummelig', 1571: 'ausstehen', 1572: 'fastet', 1573: 'schriftsteller', 1574: 'lange', 1575: 'bewegung', 1576: 'geschlossen', 1577: 'angeln', 1578: 'lter', 1579: 'gewartet', 1580: 'urlaub', 1581: 'vermissen', 1582: 'scherzt', 1583: 'vielen', 1584: 'dank', 1585: 'student', 1586: 'mitgebracht', 1587: 'verwundet', 1588: 'fehlst', 1589: 'sigkeiten', 1590: 'genieen', 1591: 'steige', 1592: 'heran', 1593: 'kreativ', 1594: 'messer', 1595: 'grndlich', 1596: 'unfreundlich', 1597: 'verhungern', 1598: 'ernsthaft', 1599: 'gehorcht', 1600: 'fuchsteufelswild', 1601: 'geschwitzt', 1602: 'erschpft', 1603: 'rieche', 1604: 'amerikaner', 1605: 'kanadierin', 1606: 'bldmann', 1607: 'aufgestanden', 1608: 'benutzt', 1609: 'pause', 1610: 'wirs', 1611: 'hellwach', 1612: 'bengstigen', 1613: 'nudeln', 1614: 'zuversichtlich', 1615: 'bers', 1616: 'vertreter', 1617: 'vorbeikommen', 1618: 'widersprach', 1619: '12', 1620: 'schneider', 1621: 'eigenbrtler', 1622: 'begonnen', 1623: 'stell', 1624: 'drben', 1625: 'fettleibig', 1626: 'vorbergehende', 1627: 'verehre', 1628: 'rechtsanwlte', 1629: 'ausgerastet', 1630: 'englisch', 1631: 'ausbrechen', 1632: 'stolperte', 1633: 'schlagt', 1634: 'musiker', 1635: 'begann', 1636: 'abstimmen', 1637: 'verachtet', 1638: 'unseren', 1639: 'bezahlten', 1640: 'rasiert', 1641: 'misch', 1642: 'widert', 1643: 'khl', 1644: 'erfunden', 1645: 'geschmcker', 1646: 'verschieden', 1647: 'kater', 1648: 'abfhren', 1649: 'blumen', 1650: 'blhen', 1651: 'hochgehen', 1652: 'rgere', 1653: 'schmen', 1654: 'respektiere', 1655: 'trinkst', 1656: 'nachrichten', 1657: 'schwrmt', 1658: 'erhitzt', 1659: 'bulle', 1660: 'merkwrdig', 1661: 'erbsen', 1662: 'bedienen', 1663: 'skeptisch', 1664: 'feinde', 1665: 'whlte', 1666: 'fand', 1667: 'lkw', 1668: 'abgttisch', 1669: 'rtsel', 1670: 'sekunde', 1671: 'angriff', 1672: 'denken', 1673: 'kitzlig', 1674: 'gefiel', 1675: 'tier', 1676: 'drcken', 1677: 'erster', 1678: 'verga', 1679: 'dienst', 1680: 'khe', 1681: 'fressen', 1682: 'gras', 1683: 'feuchtes', 1684: 'begegnet', 1685: 'nah', 1686: 'bereite', 1687: 'rettet', 1688: 'lasse', 1689: 'antwortete', 1690: 'taten', 1691: 'kontrolliers', 1692: 'hilfst', 1693: 'diabetikerin', 1694: 'zwlf', 1695: 'schneite', 1696: 'ersetzt', 1697: 'hasts', 1698: 'dus', 1699: 'glckliches', 1700: 'versprechen', 1701: 'prg', 1702: 'geflscht', 1703: 'kochte', 1704: 'held', 1705: 'hausangestellte', 1706: 'benimm', 1707: 'improvisiert', 1708: 'kegelst', 1709: 'merk', 1710: 'handele', 1711: 'weigere', 1712: 'unverletzt', 1713: 'entkamen', 1714: 'nacken', 1715: 'stinkreich', 1716: 'trauen', 1717: 'berrasche', 1718: 'kopiere', 1719: 'datei', 1720: 'hausarrest', 1721: 'betrgen', 1722: 'entgegen', 1723: 'kse', 1724: 'kmmer', 1725: 'einsteigen', 1726: 'teilchen', 1727: 'lieferwagen', 1728: 'besen', 1729: 'konzentrieren', 1730: 'erbarmen', 1731: 'passierte', 1732: 'rasierte', 1733: 'seh', 1734: 'riechst', 1735: 'heb', 1736: 'schlank', 1737: 'diskutierte', 1738: 'zeigte', 1739: 'grtner', 1740: 'suppe', 1741: 'papier', 1742: 'stumm', 1743: 'name', 1744: 'austern', 1745: 'strafgefangener', 1746: 'wissenschaft', 1747: 'depressiv', 1748: 'narr', 1749: 'mittwoch', 1750: 'schneiden', 1751: 'hlften', 1752: 'autor', 1753: 'ernstes', 1754: 'lebensmittel', 1755: 'aufstndischer', 1756: 'landwirt', 1757: 'guten', 1758: 'donnerwetter', 1759: 'treppe', 1760: 'gebeichtet', 1761: 'bergewichtig', 1762: 'vorgeschlagen', 1763: 'klettert', 1764: 'achtzig', 1765: 'schwur', 1766: 'interessierts', 1767: 'sparsam', 1768: 'behalts', 1769: 'perth', 1770: 'schnupfen', 1771: 'gestolpert', 1772: 'aktiv', 1773: 'schliee', 1774: 'heben', 1775: 'verneigte', 1776: 'ausgebrochen', 1777: 'bananen', 1778: 'erste', 1779: 'dach', 1780: 'improvisierte', 1781: 'gedchtnisverlust', 1782: 'nesselsucht', 1783: 'briggeblieben', 1784: 'drei', 1785: 'hinterhalt', 1786: 'existiert', 1787: 'schroff', 1788: 'beachte', 1789: 'angestrengt', 1790: 'weitsichtig', 1791: 'spinne', 1792: 'erschieen', 1793: 'hngt', 1794: 'au', 1795: 'rutsche', 1796: 'kiste', 1797: 'hrig', 1798: 'gelhmt', 1799: 'kaviar', 1800: 'wrs', 1801: 'ausreden', 1802: 'lfte', 1803: 'welche', 1804: 'hhe', 1805: 'eidechsen', 1806: 'geb', 1807: 'bengstigend', 1808: 'befehl', 1809: 'angsthase', 1810: 'visum', 1811: 'chaot', 1812: 'nickte', 1813: 'hrten', 1814: 'mahjongg', 1815: 'spuck', 1816: 'eiskalt', 1817: 'treu', 1818: 'rzte', 1819: 'spione', 1820: 'rauche', 1821: 'botanikerin', 1822: 'beschreibe', 1823: 'wankte', 1824: 'verlierst', 1825: 'umbringen', 1826: 'verbrannte', 1827: 'harre', 1828: 'hingefahren', 1829: 'lernte', 1830: 'hbsch', 1831: 'ertrinken', 1832: 'braun', 1833: 'gezgert', 1834: 'kanns', 1835: 'wirf', 1836: 'schiech', 1837: 'mchten', 1838: 'fortfahren', 1839: 'betreibst', 1840: 'veteran', 1841: 'potzdonner', 1842: 'ruhelos', 1843: 'lwen', 1844: 'angelogen', 1845: 'mathematik', 1846: 'zurecht', 1847: 'kasse', 1848: 'sers', 1849: 'himmelt', 1850: 'spaziergang', 1851: 'lieg', 1852: 'grme', 1853: 'besucht', 1854: 'verabscheute', 1855: 'anderes', 1856: 'hobby', 1857: 'durchtrieben', 1858: 'kontrolliert', 1859: 'frchtet', 1860: 'kunst', 1861: '3', 1862: 'schmecken', 1863: 'recycelst', 1864: 'erinnern', 1865: 'erblasste', 1866: 'aufstndische', 1867: 'geschmeichelt', 1868: 'kssten', 1869: 'schtiger', 1870: 'stritt', 1871: 'untersttzen', 1872: 'sechs', 1873: 'teile', 1874: 'geneckt', 1875: 'zog', 1876: 'herauf', 1877: 'reif', 1878: 'buchstabier', 1879: 'sputen', 1880: 'schulden', 1881: 'anwalt', 1882: 'gescheites', 1883: 'kpfchen', 1884: 'bestreite', 1885: 'franzsischunterricht', 1886: 'laster', 1887: 'legastheniker', 1888: 'sngerin', 1889: 'grab', 1890: 'hingesehen', 1891: 'zeilen', 1892: 'seufzte', 1893: 'verurteil', 1894: 'stuhl', 1895: 'japste', 1896: 'kndigten', 1897: 'pandas', 1898: 'uhren', 1899: 'prfe', 1900: 'feuern', 1901: 'kredit', 1902: 'ober', 1903: 'sags', 1904: 'fielen', 1905: 'fuchs', 1906: 'erstaunlich', 1907: 'stuntman', 1908: 'offizier', 1909: 'verdorben', 1910: 'verstrkung', 1911: 'unterbrechen', 1912: 'bares', 1913: 'eisen', 1914: 'vier', 1915: 'brechen', 1916: 'nun', 1917: 'jesus', 1918: 'versage', 1919: 'deprimiert', 1920: 'bestellen', 1921: 'starb', 1922: 'trag', 1923: 'deinen', 1924: 'beraubte', 1925: 'tango', 1926: 'dringend', 1927: 'gegraben', 1928: 'borg', 1929: 'brust', 1930: 'liebenswrdig', 1931: 'hochschule', 1932: 'jazz', 1933: 'verirrte', 1934: 'enorm', 1935: 'ihrs', 1936: 'platten', 1937: 'saturn', 1938: 'drehe', 1939: 'betrblich', 1940: 'zehn', 1941: 'tolerant', 1942: 'solltet', 1943: 'gefroren', 1944: 'zeichen', 1945: 'zucker', 1946: 'erteilen', 1947: 'gengen', 1948: 'erlaube', 1949: 'aufgebracht', 1950: 'nrgler', 1951: 'bescheuert', 1952: 'cola', 1953: 'verkufer', 1954: 'duschte', 1955: 'zahnrztin', 1956: 'atmen', 1957: 'stinken', 1958: 'schubst', 1959: 'radio', 1960: 'hirsch', 1961: 'kain', 1962: 'heien', 1963: 'rckenschmerzen', 1964: 'malt', 1965: 'unhandlich', 1966: 'redete', 1967: 'hereingelegt', 1968: 'mollig', 1969: 'befangen', 1970: 'rauchst', 1971: 'todmde', 1972: 'wahrheit', 1973: 'gefangener', 1974: 'reicher', 1975: 'fngst', 1976: 'sportler', 1977: 'heuchler', 1978: 'dringlich', 1979: 'erstaunt', 1980: 'stocken', 1981: 'inkorrekt', 1982: 'vorbeigekommen', 1983: 'hinauf', 1984: 'klatschten', 1985: 'regnen', 1986: 'rauchte', 1987: 'strafgefangene', 1988: 'talent', 1989: 'mattscheibe', 1990: 'spinnen', 1991: 'nieste', 1992: 'tratsche', 1993: 'legasthenikerin', 1994: 'erzhls', 1995: 'analphabet', 1996: 'pferdchen', 1997: 'erhob', 1998: 'einspruch', 1999: 'frohes', 2000: 'kirche', 2001: 'hieressen', 2002: 'geil', 2003: 'guckte', 2004: 'spiegelei', 2005: 'aufgegossen', 2006: 'rasch', 2007: 'geheilt', 2008: 'erblindete', 2009: 'amsiere', 2010: 'grub', 2011: 'hammer', 2012: 'vati', 2013: 'unterschreibe', 2014: 'rechtsanwalt', 2015: 'handtuch', 2016: 'hlle', 2017: 'gesundheit', 2018: 'meer', 2019: 'handeln', 2020: 'besonders', 2021: 'verurteilt', 2022: 'akne', 2023: 'sonnenuntergnge', 2024: 'absagen', 2025: 'feiertage', 2026: 'folgt', 2027: 'rente', 2028: 'rannten', 2029: '99', 2030: 'stozeit', 2031: 'verzeihen', 2032: 'verabschiedet', 2033: 'sache', 2034: 'blickten', 2035: 'beruhigt', 2036: 'zurckgehen', 2037: 'frs', 2038: 'zirkus', 2039: 'zuverlssig', 2040: 'unsers', 2041: 'gr', 2042: 'gezahlt', 2043: 'meeresfrchte', 2044: 'anwerben', 2045: 'kennengelernt', 2046: 'scharfsinnig', 2047: 'handelsvertreter', 2048: 'schnecke', 2049: 'auswendig', 2050: 'veraltet', 2051: 'ketchup', 2052: 'jagen', 2053: 'wrfel', 2054: 'verwirrte', 2055: 'erhielt', 2056: 'brief', 2057: 'mitternacht', 2058: 'aufwachen', 2059: 'liebes', 2060: 'ber', 2061: 'runden', 2062: 'pappsatt', 2063: 'schummeln', 2064: 'maulwurf', 2065: 'heirate', 2066: 'greif', 2067: 'sollte', 2068: 'ironisch', 2069: 'beginne', 2070: 'kopfschmerzen', 2071: 'bleibst', 2072: 'wartete', 2073: 'erschreckte', 2074: 'kamele', 2075: 'kontakt', 2076: 'viertel', 2077: 'neun', 2078: 'langweilst', 2079: 'versprach', 2080: 'gegen', 2081: 'befreundet', 2082: 'beliebige', 2083: 'zuckte', 2084: 'achseln', 2085: 'spielfilme', 2086: 'kontrollierts', 2087: 'gewinnt', 2088: 'kreis', 2089: 'setze', 2090: 'neben', 2091: 'saen', 2092: 'knnten', 2093: 'dienstmdchen', 2094: 'arbeitete', 2095: 'entzckend', 2096: 'kreischte', 2097: 'stirb', 2098: 'ehre', 2099: 'rauskommst', 2100: 'gewunken', 2101: 'gehnselt', 2102: 'soll', 2103: 'habens', 2104: 'analphabetin', 2105: 'fischen', 2106: 'feind', 2107: 'holz', 2108: 'aufdringlich', 2109: 'irren', 2110: 'darfst', 2111: 'wahnsinn', 2112: 'berrascht', 2113: 'kchin', 2114: 'probiere', 2115: 'chinese', 2116: 'lieder', 2117: 'zwangserkrankung', 2118: 'liegenlassen', 2119: 'salz', 2120: 'untrstlich', 2121: 'schlerin', 2122: 'eindruck', 2123: 'vorangehen', 2124: 'belohnte', 2125: 'verziehen', 2126: 'zeichnen', 2127: 'warne', 2128: 'handelt', 2129: 'aufgehalten', 2130: 'runzelte', 2131: 'stirn', 2132: 'faulpelz', 2133: 'huste', 2134: 'scheitern', 2135: 'schlieen', 2136: 'zahnarzt', 2137: 'frhaufsteher', 2138: 'zugemacht', 2139: 'purist', 2140: 'verzieht', 2141: 'packt', 2142: 'saschimi', 2143: 'sprache', 2144: 'steuern', 2145: 'klarem', 2146: 'verstand', 2147: 'umsonst', 2148: 'geblinzelt', 2149: 'zurckgetan', 2150: 'wiederschauen', 2151: 'unserer', 2152: 'vorgemacht', 2153: 'probleme', 2154: 'bewusstsein', 2155: 'schwimm', 2156: 'stockbetrunken', 2157: 'fhren', 2158: 'zufrieden', 2159: 'schtig', 2160: 'dachte', 2161: 'magerschtig', 2162: 'gratis', 2163: 'merkt', 2164: 'siebzehn', 2165: 'motzte', 2166: 'erbricht', 2167: 'selber', 2168: 'absurd', 2169: 'wrfele', 2170: 'ngel', 2171: 'geschnarcht', 2172: 'meinst', 2173: 'twitter', 2174: 'inne', 2175: 'unordentlich', 2176: 'einigermaen', 2177: 'meldet', 2178: 'gekndigt', 2179: 'tiere', 2180: 'mythos', 2181: 'rutsch', 2182: 'stck', 2183: 'hausgemacht', 2184: 'trgt', 2185: '30', 2186: 'ausgegangen', 2187: 'sommer', 2188: 'geschworen', 2189: 'fortgehen', 2190: 'schildkrten', 2191: 'mies', 2192: 'unmenschlich', 2193: 'verriegle', 2194: 'karotten', 2195: 'eng', 2196: 'walten', 2197: 'seht', 2198: 'werfen', 2199: 'mnze', 2200: 'gefiele', 2201: 'versprechs', 2202: 'gehrlos', 2203: 'diesmal', 2204: 'tests', 2205: 'rad', 2206: '1000', 2207: 'darber', 2208: 'hinweg', 2209: 'prfen', 2210: 'zielt', 2211: 'sieben', 2212: 'fnfundvierzig', 2213: 'blond', 2214: 'zustimmen', 2215: 'zumute', 2216: 'schmoll', 2217: 'schande', 2218: 'abbiegen', 2219: 'redet', 2220: 'schmeckts', 2221: 'msst', 2222: 'gefressen', 2223: 'lippe', 2224: 'heie', 2225: 'arbeitslos', 2226: 'verkatert', 2227: 'helft', 2228: 'stehenbleiben', 2229: 'pilz', 2230: 'geriet', 2231: 'trge', 2232: 'tanzte', 2233: 'unverschmt', 2234: 'stottert', 2235: 'kamen', 2236: 'geheult', 2237: 'nachts', 2238: 'richte', 2239: 'schulde', 2240: '100', 2241: 'treuherzig', 2242: 'hinaus', 2243: 'realistisch', 2244: 'erledige', 2245: 'achtzehn', 2246: 'fngt', 2247: 'lufst', 2248: 'anstrengen', 2249: 'behilflich', 2250: 'unterhalten', 2251: 'lasagne', 2252: 'anzeigen', 2253: 'gefngnis', 2254: 'reihe', 2255: 'aussichtslos', 2256: 'rum', 2257: 'paddeln', 2258: 'sand', 2259: 'vorzeitig', 2260: 'peinlich', 2261: 'seine', 2262: 'blutete', 2263: 'entsperrt', 2264: 'optimistisch', 2265: 'saft', 2266: 'geksst', 2267: 'benutzen', 2268: 'patient', 2269: 'klappen', 2270: 'einziehen', 2271: 'irgendwelche', 2272: 'herrlich', 2273: 'zutritt', 2274: 'reinige', 2275: 'entledigen', 2276: 'ausatmen', 2277: 'whlen', 2278: 'hetz', 2279: 'niete', 2280: 'barbarisch', 2281: 'regiert', 2282: 'welt', 2283: 'anfang', 2284: 'fix', 2285: 'nichtsnutz', 2286: 'hauptgeschftszeit', 2287: 'puzzles', 2288: 'tragisch', 2289: 'skateboard', 2290: 'tod', 2291: 'woran', 2292: 'sitz', 2293: 'brig', 2294: 'gehorch', 2295: 'konzentrier', 2296: 'sinnlos', 2297: 'wrgen', 2298: 'schauspieler', 2299: 'ungeduldig', 2300: 'bewlkt', 2301: 'danken', 2302: 'husten', 2303: 'ofen', 2304: 'helden', 2305: 'launisch', 2306: 'melde', 2307: 'ersetze', 2308: 'rlpste', 2309: 'riskant', 2310: 'becher', 2311: 'leb', 2312: 'fhlt', 2313: 'streitet', 2314: 'geklatscht', 2315: 'handgelenk', 2316: 'schuss', 2317: 'tauscht', 2318: 'karaoke', 2319: 'wiederkommen', 2320: 'stern', 2321: 'wachsen', 2322: 'schlechtes', 2323: 'gewissen', 2324: 'korb', 2325: 'murrte', 2326: 'gesteinigt', 2327: 'machbar', 2328: 'scherte', 2329: 'kegelt', 2330: 'angel', 2331: 'verkaufen', 2332: 'anfnger', 2333: 'erschttert', 2334: 'ehrlichkeit', 2335: 'faktum', 2336: 'freute', 2337: 'hmisch', 2338: 'telefoniert', 2339: 'schreibs', 2340: 'fhrst', 2341: 'schinden', 2342: 'polizist', 2343: 'reisen', 2344: 'labern', 2345: 'verschwanden', 2346: 'fgte', 2347: 'hebe', 2348: 'dachschaden', 2349: 'tagebuch', 2350: 'bedien', 2351: 'ignoriere', 2352: 'meint', 2353: 'gesndigt', 2354: 'gercht', 2355: 'belieben', 2356: 'schummelt', 2357: 'kitzelt', 2358: 'weckte', 2359: 'zornig', 2360: 'vertrau', 2361: 'behebe', 2362: 'flau', 2363: 'duschen', 2364: 'schwchling', 2365: 'krankenpfleger', 2366: 'abwarten', 2367: 'steigt', 2368: 'schlafe', 2369: 'scheinen', 2370: 'ksse', 2371: 'post', 2372: 'anstrengend', 2373: 'geknuddelt', 2374: 'kauft', 2375: 'gebrauchen', 2376: 'entledige', 2377: 'porzellankiste', 2378: 'briefmarke', 2379: 'autos', 2380: 'hundewelpen', 2381: 'gehren', 2382: 'verunsichert', 2383: 'hols', 2384: 'beschftige', 2385: 'untalentiert', 2386: 'berhrend', 2387: 'breit', 2388: 'halfen', 2389: 'ferien', 2390: 'krankenschwester', 2391: 'obacht', 2392: 'schmeck', 2393: 'pausierte', 2394: 'blicke', 2395: 'trafen', 2396: 'sachte', 2397: 'onkel', 2398: 'gewaltttig', 2399: 'ausgeschieden', 2400: 'dankst', 2401: 'verabschiede', 2402: 'gefgt', 2403: 'prgen', 2404: 'attacke', 2405: 'kostenlos', 2406: 'ostern', 2407: 'gewannen', 2408: 'schmte', 2409: 'denkt', 2410: 'kaue', 2411: 'kaugummi', 2412: 'arrogant', 2413: 'verschuldet', 2414: 'mitbringen', 2415: 'tausche', 2416: 'schreie', 2417: 'summt', 2418: 'ihren', 2419: 'fen', 2420: 'geweckt', 2421: 'kleine', 2422: 'puppe', 2423: 'bahnhof', 2424: 'lastwagen', 2425: 'leide', 2426: 'magst', 2427: 'trockne', 2428: 'trnen', 2429: 'greifen', 2430: 'tretet', 2431: 'drckte', 2432: 'eilt', 2433: 'lebendig', 2434: 'verlie', 2435: 'kegeln', 2436: 'bildet', 2437: 'reihen', 2438: 'park', 2439: 'rausgehen', 2440: 'federn', 2441: 'handschuh', 2442: 'unterhalte', 2443: 'pantoffelheld', 2444: 'bgeln', 2445: 'graus', 2446: 'berraschen', 2447: 'dazwischengehen', 2448: 'lchle', 2449: 'schlug', 2450: 'erbrmlich', 2451: 'grer', 2452: 'moslem', 2453: 'recycelt', 2454: 'lstig', 2455: 'hinreiend', 2456: '830', 2457: 'getreten', 2458: 'nannte', 2459: 'zusehen', 2460: 'abschluss', 2461: 'gefangene', 2462: 'kandidiert', 2463: 'kmm', 2464: 'ffnete', 2465: 'erinnert', 2466: 'beschwipst', 2467: 'fieber', 2468: 'bringt', 2469: 'pazifistin', 2470: 'gesorgt', 2471: 'dieser', 2472: 'zweck', 2473: 'gestatten', 2474: 'geizig', 2475: 'unterrichtet', 2476: 'verurteilen', 2477: 'raffiniert', 2478: 'blendend', 2479: 'putz', 2480: 'obdachlos', 2481: 'rasteten', 2482: 'strker', 2483: 'harvard', 2484: 'geflchtet', 2485: 'stillgestanden', 2486: 'blinzelte', 2487: 'antrag', 2488: 'japan', 2489: 'hndige', 2490: 'berzeugt', 2491: 'verbessert', 2492: 'ventilator', 2493: 'wiederhole', 2494: 'bestens', 2495: 'schnarcht', 2496: 'bullen', 2497: 'gehalten', 2498: '5', 2499: 'beharrte', 2500: 'gedanken', 2501: 'erteil', 2502: 'beides', 2503: 'ignoriert', 2504: 'zurckgekommen', 2505: 'wann', 2506: 'beruf', 2507: 'trug', 2508: 'untersuch', 2509: 'bellen', 2510: 'rettete', 2511: 'geraucht', 2512: 'bedeutung', 2513: 'beachtet', 2514: 'fhl', 2515: 'schinken', 2516: 'gepfiffen', 2517: 'ausgeschlossen', 2518: 'manches', 2519: 'leute', 2520: 'miserabel', 2521: 'ksst', 2522: 'begreifst', 2523: 'dazusetzen', 2524: 'vorausschauend', 2525: 'bemht', 2526: 'heulen', 2527: 'bereiteten', 2528: 'traue', 2529: 'keinem', 2530: 'kaputtgemacht', 2531: 'stie', 2532: 'unheimlich', 2533: 'freundinnen', 2534: 'geige', 2535: 'fttere', 2536: 'betrgt', 2537: 'gestand', 2538: 'erbrochen', 2539: 'verschwitzt', 2540: 'kamst', 2541: 'stirbst', 2542: 'albern', 2543: 'renn', 2544: 'klettern', 2545: 'ausgeruht', 2546: 'orangen', 2547: 'gestanden', 2548: 'zeitarbeiterin', 2549: 'verantwortlich', 2550: 'gebacken', 2551: 'setzt', 2552: 'angehalten', 2553: 'decke', 2554: 'topf', 2555: 'konnte', 2556: 'blttern', 2557: 'mdels', 2558: 'drachen', 2559: 'steigen', 2560: 'bert', 2561: 'hlt', 2562: 'stockbesoffen', 2563: 'verschwinden', 2564: 'kleber', 2565: 'romantisch', 2566: 'exknacki', 2567: 'wiederholt', 2568: 'wrfeln', 2569: 'gestohlen', 2570: 'nebel', 2571: 'gewann', 2572: 'geschichten', 2573: 'stoisch', 2574: 'bade', 2575: 'eulen', 2576: 'niedlich', 2577: 'red', 2578: 'kss', 2579: 'zubereiten', 2580: 'kaufs', 2581: 'unterrichtest', 2582: 'glauben', 2583: 'bestand', 2584: 'erwrgt', 2585: 'mogelt', 2586: 'unser', 2587: 'glocke', 2588: 'lutete', 2589: 'bohnen', 2590: 'aufgezogen', 2591: 'hfen', 2592: 'weigerten', 2593: 'trstet', 2594: 'ndere', 2595: 'verspreche', 2596: 'weihnachten', 2597: 'niedrig', 2598: 'ertrunken', 2599: 'nimms', 2600: 'geheiratet', 2601: 'trsten', 2602: 'statt', 2603: 'verlust', 2604: 'zulassen', 2605: 'kapier', 2606: 'heilige', 2607: 'finster', 2608: 'drein', 2609: 'grauslich', 2610: 'erfolg', 2611: 'fledermaus', 2612: 'absolut', 2613: 'verbrennen', 2614: 'erholt', 2615: 'eigenartig', 2616: 'violine', 2617: 'tust', 2618: 'englnder', 2619: 'zuhren', 2620: 'meiner', 2621: 'feger', 2622: 'voraus', 2623: 'geffnet', 2624: 'nachgegeben', 2625: 'absicht', 2626: 'werdens', 2627: 'imbiss', 2628: 'zwngen', 2629: 'n', 2630: 'schneidet', 2631: 'deinem', 2632: 'applaudierten', 2633: 'gesellen', 2634: 'schlechte', 2635: 'fluch', 2636: 'scheitere', 2637: 'atmet', 2638: 'herzlichen', 2639: 'glckwunsch', 2640: 'geburtstag', 2641: 'wars', 2642: 'religiser', 2643: 'eiferer', 2644: 'beeindruckt', 2645: 'lege', 2646: 'tresor', 2647: 'folgte', 2648: 'diene', 2649: 'gift', 2650: 'veganer', 2651: 'belogen', 2652: 'verklagen', 2653: 'nachprfen', 2654: 'riefen', 2655: 'kmpf', 2656: 'bersteigt', 2657: 'horizont', 2658: 'drecksloch', 2659: 'kmmert', 2660: 'geschossen', 2661: 'telefonierte', 2662: 'keinster', 2663: 'deinetwegen', 2664: 'siegten', 2665: 'papa', 2666: 'gedacht', 2667: 'tus', 2668: 'liegst', 2669: 'pickup', 2670: 'stellte', 2671: 'herbeigefhrt', 2672: 'furchtbar', 2673: 'hinterher', 2674: 'wunderschn', 2675: 'ah', 2676: 'gespendet', 2677: 'sexy', 2678: 'habgierig', 2679: 'nervt', 2680: 'tauchte', 2681: 'schallplattenunterhalter', 2682: 'bezahlst', 2683: 'beibringen', 2684: 'hassen', 2685: 'reise', 2686: 'kenntnis', 2687: 'gesetzt', 2688: 'lama', 2689: 'winkte', 2690: 'geschnitten', 2691: 'hoffnungslos', 2692: 'gefoltert', 2693: 'bergewicht', 2694: 'sogar', 2695: 'schluchzte', 2696: 'entschuldigt', 2697: 'amsieren', 2698: 'asiaten', 2699: 'ende', 2700: 'spre', 2701: 'sitzen', 2702: 'brillentrger', 2703: 'jubelten', 2704: 'egoistisch', 2705: 'boote', 2706: 'untergehen', 2707: 'patientin', 2708: 'denke', 2709: 'gedchtnis', 2710: 'witzig', 2711: 'mll', 2712: 'beichtete', 2713: 'konzentriert', 2714: 'crew', 2715: 'freier', 2716: 'maulte', 2717: 'backen', 2718: 'liest', 2719: 'lufts', 2720: 'lchel', 2721: 'doof', 2722: 'sellerie', 2723: 'bewundernswert', 2724: 'unwahrscheinlich', 2725: 'juckt', 2726: 'freigeschaltet', 2727: 'kmpfe', 2728: 'plattenaufleger', 2729: 'leugnest', 2730: 'jazzmusik', 2731: 'wenig', 2732: 'antworte', 2733: 'gesetzloser', 2734: 'engagiert', 2735: 'schmeckt', 2736: 'allen', 2737: 'trainer', 2738: 'verfallen', 2739: 'detailliere', 2740: 'eintritt', 2741: 'verboten', 2742: 'sonst', 2743: 'zahnspange', 2744: 'neuer', 2745: 'schlaganfall', 2746: 'maler', 2747: 'bekannt', 2748: 'zeug', 2749: 'natur', 2750: 'ehefrau', 2751: 'gesetzlich', 2752: 'arbeitsstelle', 2753: 'niederlegen', 2754: 'ersetzen', 2755: 'bereiten', 2756: 'betten', 2757: 'dummen', 2758: 'fehler', 2759: 'ignorier', 2760: 'ninja', 2761: 'nackenschmerzen', 2762: 'bein', 2763: 'gebrochen', 2764: 'gemogelt', 2765: 'schiee', 2766: 'verzog', 2767: 'modeerscheinung', 2768: 'neuigkeiten', 2769: 'stoppte', 2770: 'brannten', 2771: 'zoomte', 2772: 'ankmpfen', 2773: 'cnn', 2774: 'feg', 2775: 'gejubelt', 2776: 'weggelaufen', 2777: 'franzsische', 2778: 'durcheinander', 2779: 'fttert', 2780: 'schlicht', 2781: 'tanzten', 2782: 'verwendung', 2783: 'lebe', 2784: 'spendete', 2785: 'hagelt', 2786: 'glnzt', 2787: 'bademantel', 2788: 'falte', 2789: 'bcker', 2790: 'garantiere', 2791: 'beschwer', 2792: 'wink', 2793: 'vergebt', 2794: 'kellner', 2795: 'versagt', 2796: 'kaum', 2797: 'erwarten', 2798: 'gluckste', 2799: 'ausgehen', 2800: 'montage', 2801: 'irrt', 2802: 'eingeschlafen', 2803: 'ex', 2804: 'lieb', 2805: 'unverheiratet', 2806: 'whle', 2807: 'davor', 2808: 'ziel', 2809: 'werkzeug', 2810: 'einem', 2811: 'stau', 2812: 'leitung', 2813: 'unversichert', 2814: 'fror', 2815: 'beachten', 2816: 'posttraumatische', 2817: 'belastungsstrung', 2818: 'auszugehen', 2819: 'schimpfte', 2820: 'entspannte', 2821: 'zerbrochen', 2822: 'gebeten', 2823: 'betreiben', 2824: 'ksste', 2825: 'schubs', 2826: 'honig', 2827: 'abreien', 2828: 'abgestimmt', 2829: 'verwenden', 2830: 'sklave', 2831: 'gehrst', 2832: 'sinken', 2833: 'weitergehen', 2834: 'recyceln', 2835: 'aufhrt', 2836: 'eintopf', 2837: 'wohlhabend', 2838: 'betrbt', 2839: 'beraus', 2840: 'betrge', 2841: 'treibe', 2842: 'glcksspiel', 2843: 'erteilt', 2844: 'fahrt', 2845: 'einladen', 2846: 'nderte', 2847: 'augenblickchen', 2848: 'nenne', 2849: 'kmpft', 2850: 'hltst', 2851: 'fleischhauer', 2852: 'trainiert', 2853: 'wnsche', 2854: 'unwohl', 2855: 'fasziniert', 2856: 'schachtel', 2857: 'aufgeblasen', 2858: 'sge', 2859: 'autist', 2860: 'entferne', 2861: 'krebs', 2862: 'drumrum', 2863: 'irre', 2864: 'voll', 2865: 'heiliger', 2866: 'beigetragen', 2867: 'stehts', 2868: 'meckerfritze', 2869: 'retten', 2870: 'schluckauf', 2871: 'tnzerin', 2872: 'ufo', 2873: 'ansicht', 2874: 'brauchte', 2875: 'zerstrt', 2876: 'geeignet', 2877: 'geflucht', 2878: 'schlfst', 2879: 'bemerkte', 2880: 'untersttzt', 2881: 'schaffst', 2882: 'versagte', 2883: 'skurril', 2884: 'operiert', 2885: 'atmete', 2886: 'ungezogen', 2887: 'fragst', 2888: 'bergibt', 2889: 'falsche', 2890: 'hoffnungen', 2891: 'weier', 2892: 'wirkte', 2893: 'ruppig', 2894: 'feier', 2895: 'schwitzten', 2896: 'entzwei', 2897: 'faste', 2898: 'rckendeckung', 2899: 'beschtze', 2900: 'briefmarken', 2901: 'zgerten', 2902: 'empfindlich', 2903: 'fuball', 2904: 'samurai', 2905: 'gefehlt', 2906: 'bume', 2907: 'auer', 2908: 'wut', 2909: 'rechtens', 2910: 'tuts', 2911: 'vorfhrung', 2912: 'schweizer', 2913: 'ruft', 2914: 'unterrichte', 2915: 'verbrennt', 2916: 'blen', 2917: 'geruch', 2918: 'mogeln', 2919: 'schwierigkeiten', 2920: 'entschuldigte', 2921: 'doofkpfe', 2922: 'richtiger', 2923: 'nachschauen', 2924: 'hingefallen', 2925: 'bernehmt', 2926: 'immun', 2927: 'rudert', 2928: 'verabschiedete', 2929: 'bestimmst', 2930: 'parteiisch', 2931: 'drehte', 2932: 'schraubs', 2933: 'camion', 2934: 'zuschieben', 2935: 'chinesin', 2936: 'aufwrmen', 2937: 'eben', 2938: 'schreibtisch', 2939: 'eltern', 2940: 'siehe', 2941: 'starrt', 2942: 'ausgenutzt', 2943: 'ergebe', 2944: 'brannte', 2945: 'zurckgetreten', 2946: 'fge', 2947: 'blute', 2948: 'fan', 2949: 'schnarche', 2950: 'netztagebuch', 2951: 'sprecht', 2952: 'angle', 2953: 'lgnerin', 2954: 'verehrte', 2955: 'zug', 2956: 'bekenne', 2957: 'strickt', 2958: 'hhner', 2959: 'entspanne', 2960: 'vllig', 2961: 'bernehme', 2962: 'drckten', 2963: 'begreift', 2964: 'grozgig', 2965: 'beenden', 2966: 'hinfahren', 2967: 'reingelegt', 2968: 'stinkst', 2969: 'wrfle', 2970: 'schuldest', 2971: 'sagtet', 2972: 'kampf', 2973: 'trage', 2974: 'brille', 2975: 'oberst', 2976: 'meldete', 2977: 'hinterlistig', 2978: 'benzin', 2979: 'lag', 2980: 'natrlich', 2981: 'skatet', 2982: 'vergeben', 2983: 'fllt', 2984: 'pummel', 2985: 'verklagt', 2986: 'tisch', 2987: 'verabredung', 2988: 'dummkpfe', 2989: 'versteck', 2990: 'schmerzten', 2991: 'beglckt', 2992: 'snger', 2993: 'berlasse', 2994: 'soldat', 2995: 'schwammen', 2996: 'sterreicher', 2997: 'jubelte', 2998: 'klavier', 2999: 'juristen', 3000: 'haut', 3001: 'tourist', 3002: 'warmherzig', 3003: 'blinzeln', 3004: 'frucht', 3005: 'gebrechlich', 3006: 'stecken', 3007: 'hammertyp', 3008: 'filme', 3009: 'verkaufe', 3010: 'schiet', 3011: 'unterschrieben', 3012: 'schlag', 3013: 'erzhlte', 3014: 'friere', 3015: 'runterkommen', 3016: 'mchtig', 3017: 'reingehauen', 3018: 'liebst', 3019: 'wurdet', 3020: 'spuckte', 3021: 'tollpatsch', 3022: 'verbrenne', 3023: 'fies', 3024: 'rber', 3025: 'berarbeitet', 3026: 'liegen', 3027: 'grimassierte', 3028: 'schie', 3029: 'lasset', 3030: 'beten', 3031: 'gewusst', 3032: 'hustete', 3033: 'ring', 3034: 'reg', 3035: 'kstlich', 3036: 'geschenk', 3037: 'quasseln', 3038: 'wehtun', 3039: 'gebhr', 3040: 'regeln', 3041: 'hinber', 3042: 'bar', 3043: 'form', 3044: 'team', 3045: 'tasse', 3046: 'zerbrach', 3047: 'eingeatmet', 3048: 'endlich', 3049: 'erwachsen', 3050: 'schwitzte', 3051: 'dageblieben', 3052: 'plne', 3053: 'starr', 3054: '14', 3055: 'mahjong', 3056: 'geschft', 3057: 'verblfft', 3058: 'gefttert', 3059: 'schnitt', 3060: 'grimasse', 3061: 'enspann', 3062: 'whlt', 3063: 'percke', 3064: 'fallengelassen', 3065: 'beteten', 3066: 'aufgibt', 3067: 'erschrocken', 3068: 'oktober', 3069: 'reggae', 3070: 'umarmung', 3071: 'muse', 3072: 'schneiderinnen', 3073: 'jacke', 3074: 'schwimmbecken', 3075: 'errtete', 3076: 'nachsehen', 3077: 'mannschaft', 3078: 'unmglich', 3079: 'lach', 3080: 'mechaniker', 3081: 'ablehnen', 3082: 'brandneu', 3083: 'belassen', 3084: 'mitkriegen', 3085: 'geschmt', 3086: 'hinsetzen', 3087: 'sagtest', 3088: 'umarmten', 3089: 'frostig', 3090: 'schnappte', 3091: 'sterblich', 3092: 'abgebogen', 3093: 'schlsser', 3094: 'dst', 3095: 'entspannen', 3096: 'frchterlich', 3097: 'schockiert', 3098: 'mitten', 3099: 'vermutet', 3100: 'banane', 3101: 'atme', 3102: 'klassiker', 3103: 'kniff', 3104: 'cds', 3105: 'offen', 3106: 'nchster', 3107: 'verstehst', 3108: 'stammelte', 3109: 'pony', 3110: 'baby', 3111: 'volltanken', 3112: 'privatsphre', 3113: 'leih', 3114: 'helfende', 3115: 'hinkte', 3116: 'schnurren', 3117: 'tiger', 3118: 'regel', 3119: 'trab', 3120: 'schauten', 3121: 'langweilen', 3122: 'erstarrte', 3123: 'schrieb', 3124: 'flschung', 3125: 'funktionierts', 3126: 'pfiffig', 3127: 'langweilt', 3128: 'gutgehen', 3129: 'untergliedere', 3130: 'speist', 3131: 'normalerweise', 3132: 'spren', 3133: 'entscheidung', 3134: 'rlpse', 3135: 'rztin', 3136: 'aussteigen', 3137: 'reinigen', 3138: 'reagier', 3139: 'melden', 3140: 'beleidigung', 3141: 'jesuit', 3142: 'knie', 3143: 'langweilte', 3144: 'gerechtigkeit', 3145: 'versteht', 3146: 'stelle', 3147: 'erfreut', 3148: 'kndigen', 3149: 'brllte', 3150: 'motiviert', 3151: 'feigling', 3152: 'riech', 3153: 'protestierte', 3154: 'tanzt', 3155: 'leihe', 3156: 'veranlasst', 3157: 'trinkt', 3158: 'glas', 3159: 'gerissen', 3160: 'hielten', 3161: 'fassungslos', 3162: 'junggeselle', 3163: 'schaffte', 3164: 'kommentarlos', 3165: 'lftet', 3166: 'erwartet', 3167: 'viele', 3168: 'starben', 3169: 'heiratete', 3170: 'knaben', 3171: 'ertrank', 3172: 'koreanisch', 3173: 'gutes', 3174: 'timing', 3175: 'schlichtweg', 3176: 'zeitarbeiter', 3177: 'hinkten', 3178: 'brennt', 3179: 'schimpfen', 3180: 'humpelt', 3181: 'unleidlich', 3182: 'ohren', 3183: 'ohnmacht', 3184: 'begreifen', 3185: 'pension', 3186: 'abends', 3187: 'eklig'}\n"
          ]
        }
      ],
      "source": [
        "englishTokenizer = Tokenizer()\n",
        "englishTokenizer.fit_on_texts(X_train)\n",
        "Eword2index = englishTokenizer.word_index\n",
        "\n",
        "vocab_size_source = len(Eword2index) + 1\n",
        "X_train = englishTokenizer.texts_to_sequences(X_train)\n",
        "X_train = pad_sequences(X_train, padding='post')\n",
        "\n",
        "X_test = englishTokenizer.texts_to_sequences(X_test)\n",
        "X_test = pad_sequences(X_test, padding='post')\n",
        "\n",
        "germanTokenizer = Tokenizer()\n",
        "germanTokenizer.fit_on_texts(y_train)\n",
        "Gword2index = germanTokenizer.word_index\n",
        "\n",
        "vocab_size_target = len(Gword2index) + 1\n",
        "y_train = germanTokenizer.texts_to_sequences(y_train)\n",
        "\n",
        "y_train = pad_sequences(y_train, padding='post')\n",
        "y_test = germanTokenizer.texts_to_sequences(y_test)\n",
        "y_test = pad_sequences(y_test, padding='post')\n",
        "vocab_size_source, vocab_size_target\n",
        "Eword2index = dict([(value, key) for key, value in Eword2index.items()])\n",
        "Gword2index = dict([(value, key) for key, value in Gword2index.items()])\n",
        "print(Eword2index)\n",
        "print(Gword2index)"
      ]
    },
    {
      "cell_type": "code",
      "execution_count": 10,
      "metadata": {
        "id": "cHERKGxEWI2d"
      },
      "outputs": [],
      "source": [
        "max_eng_len = 0\n",
        "for i in range(len(X_train)):\n",
        "  if len(X_train[i]) > max_eng_len:\n",
        "    max_eng_len= len(X_train[i])\n",
        "\n",
        "max_ger_len = 0\n",
        "for i in range(len(y_train)):\n",
        "  if len(y_train[i]) > max_ger_len:\n",
        "    max_ger_len= len(y_train[i])"
      ]
    },
    {
      "cell_type": "code",
      "execution_count": 11,
      "metadata": {
        "id": "YOuzt-F_2HNh"
      },
      "outputs": [],
      "source": [
        "import tensorflow as tf\n",
        "import os\n",
        "from tensorflow.python.keras.layers import Layer\n",
        "from tensorflow.python.keras import backend as K\n",
        " \n",
        " \n",
        "class AttentionLayer(Layer):\n",
        "    \"\"\"\n",
        "    This class implements Bahdanau attention (https://arxiv.org/pdf/1409.0473.pdf).\n",
        "    There are three sets of weights introduced W_a, U_a, and V_a\n",
        "     \"\"\"\n",
        " \n",
        "    def __init__(self, **kwargs):\n",
        "        super(AttentionLayer, self).__init__(**kwargs)\n",
        " \n",
        "    def build(self, input_shape):\n",
        "        assert isinstance(input_shape, list)\n",
        "        # Create a trainable weight variable for this layer.\n",
        " \n",
        "        self.W_a = self.add_weight(name='W_a',\n",
        "                                   shape=tf.TensorShape((input_shape[0][2], input_shape[0][2])),\n",
        "                                   initializer='uniform',\n",
        "                                   trainable=True)\n",
        "        self.U_a = self.add_weight(name='U_a',\n",
        "                                   shape=tf.TensorShape((input_shape[1][2], input_shape[0][2])),\n",
        "                                   initializer='uniform',\n",
        "                                   trainable=True)\n",
        "        self.V_a = self.add_weight(name='V_a',\n",
        "                                   shape=tf.TensorShape((input_shape[0][2], 1)),\n",
        "                                   initializer='uniform',\n",
        "                                   trainable=True)\n",
        " \n",
        "        super(AttentionLayer, self).build(input_shape)  # Be sure to call this at the end\n",
        " \n",
        "    def call(self, inputs, verbose=False):\n",
        "        \"\"\"\n",
        "        inputs: [encoder_output_sequence, decoder_output_sequence]\n",
        "        \"\"\"\n",
        "        assert type(inputs) == list\n",
        "        encoder_out_seq, decoder_out_seq = inputs\n",
        "        if verbose:\n",
        "            print('encoder_out_seq>', encoder_out_seq.shape)\n",
        "            print('decoder_out_seq>', decoder_out_seq.shape)\n",
        " \n",
        "        def energy_step(inputs, states):\n",
        "            \"\"\" Step function for computing energy for a single decoder state \"\"\"\n",
        " \n",
        "            assert_msg = \"States must be a list. However states {} is of type {}\".format(states, type(states))\n",
        "            assert isinstance(states, list) or isinstance(states, tuple), assert_msg\n",
        " \n",
        "            \"\"\" Some parameters required for shaping tensors\"\"\"\n",
        "            en_seq_len, en_hidden = encoder_out_seq.shape[1], encoder_out_seq.shape[2]\n",
        "            de_hidden = inputs.shape[-1]\n",
        " \n",
        "            \"\"\" Computing S.Wa where S=[s0, s1, ..., si]\"\"\"\n",
        "            # <= batch_size*en_seq_len, latent_dim\n",
        "            reshaped_enc_outputs = K.reshape(encoder_out_seq, (-1, en_hidden))\n",
        "            # <= batch_size*en_seq_len, latent_dim\n",
        "            W_a_dot_s = K.reshape(K.dot(reshaped_enc_outputs, self.W_a), (-1, en_seq_len, en_hidden))\n",
        "            if verbose:\n",
        "                print('wa.s>',W_a_dot_s.shape)\n",
        " \n",
        "            \"\"\" Computing hj.Ua \"\"\"\n",
        "            U_a_dot_h = K.expand_dims(K.dot(inputs, self.U_a), 1)  # <= batch_size, 1, latent_dim\n",
        "            if verbose:\n",
        "                print('Ua.h>',U_a_dot_h.shape)\n",
        " \n",
        "            \"\"\" tanh(S.Wa + hj.Ua) \"\"\"\n",
        "            # <= batch_size*en_seq_len, latent_dim\n",
        "            reshaped_Ws_plus_Uh = K.tanh(K.reshape(W_a_dot_s + U_a_dot_h, (-1, en_hidden)))\n",
        "            if verbose:\n",
        "                print('Ws+Uh>', reshaped_Ws_plus_Uh.shape)\n",
        " \n",
        "            \"\"\" softmax(va.tanh(S.Wa + hj.Ua)) \"\"\"\n",
        "            # <= batch_size, en_seq_len\n",
        "            e_i = K.reshape(K.dot(reshaped_Ws_plus_Uh, self.V_a), (-1, en_seq_len))\n",
        "            # <= batch_size, en_seq_len\n",
        "            e_i = K.softmax(e_i)\n",
        " \n",
        "            if verbose:\n",
        "                print('ei>', e_i.shape)\n",
        " \n",
        "            return e_i, [e_i]\n",
        " \n",
        "        def context_step(inputs, states):\n",
        "            \"\"\" Step function for computing ci using ei \"\"\"\n",
        "            # <= batch_size, hidden_size\n",
        "            c_i = K.sum(encoder_out_seq * K.expand_dims(inputs, -1), axis=1)\n",
        "            if verbose:\n",
        "                print('ci>', c_i.shape)\n",
        "            return c_i, [c_i]\n",
        " \n",
        "        def create_inital_state(inputs, hidden_size):\n",
        "            # We are not using initial states, but need to pass something to K.rnn funciton\n",
        "            fake_state = K.zeros_like(inputs)  # <= (batch_size, enc_seq_len, latent_dim\n",
        "            fake_state = K.sum(fake_state, axis=[1, 2])  # <= (batch_size)\n",
        "            fake_state = K.expand_dims(fake_state)  # <= (batch_size, 1)\n",
        "            fake_state = K.tile(fake_state, [1, hidden_size])  # <= (batch_size, latent_dim\n",
        "            return fake_state\n",
        " \n",
        "        fake_state_c = create_inital_state(encoder_out_seq, encoder_out_seq.shape[-1])\n",
        "        fake_state_e = create_inital_state(encoder_out_seq, encoder_out_seq.shape[1])  # <= (batch_size, enc_seq_len, latent_dim\n",
        " \n",
        "        \"\"\" Computing energy outputs \"\"\"\n",
        "        # e_outputs => (batch_size, de_seq_len, en_seq_len)\n",
        "        last_out, e_outputs, _ = K.rnn(\n",
        "            energy_step, decoder_out_seq, [fake_state_e],\n",
        "        )\n",
        " \n",
        "        \"\"\" Computing context vectors \"\"\"\n",
        "        last_out, c_outputs, _ = K.rnn(\n",
        "            context_step, e_outputs, [fake_state_c],\n",
        "        )\n",
        " \n",
        "        return c_outputs, e_outputs\n",
        " \n",
        "    def compute_output_shape(self, input_shape):\n",
        "        \"\"\" Outputs produced by the layer \"\"\"\n",
        "        return [\n",
        "            tf.TensorShape((input_shape[1][0], input_shape[1][1], input_shape[1][2])),\n",
        "            tf.TensorShape((input_shape[1][0], input_shape[1][1], input_shape[0][1]))\n",
        "        ]"
      ]
    },
    {
      "cell_type": "code",
      "execution_count": 12,
      "metadata": {
        "id": "sY8Lsh1sGMTM"
      },
      "outputs": [],
      "source": [
        "from tensorflow.keras.layers import Dense, LSTM, Bidirectional, Embedding, Concatenate\n",
        "from tensorflow.keras import Input, Model\n",
        "\n",
        "# Encoder input\n",
        "encoder_inputs = Input(shape=(max_eng_len,)) \n",
        "\n",
        "# Embedding layer- i am using 1024 output-dim for embedding you can try diff values 100,256,512,1000\n",
        "enc_emb = Embedding(vocab_size_source, 1024)(encoder_inputs)\n",
        "\n",
        "# Bidirectional lstm layer\n",
        "enc_lstm1 = Bidirectional(LSTM(256,return_sequences=True,return_state=True))\n",
        "encoder_outputs1, forw_state_h, forw_state_c, back_state_h, back_state_c = enc_lstm1(enc_emb)\n",
        "\n",
        "# Concatenate both h and c \n",
        "final_enc_h = Concatenate()([forw_state_h,back_state_h])\n",
        "final_enc_c = Concatenate()([forw_state_c,back_state_c])\n",
        "\n",
        "# get Context vector\n",
        "encoder_states =[final_enc_h, final_enc_c]"
      ]
    },
    {
      "cell_type": "code",
      "execution_count": 13,
      "metadata": {
        "id": "FoPHr3IgGMVG"
      },
      "outputs": [],
      "source": [
        "#  decoder input\n",
        "decoder_inputs = Input(shape=(None,)) \n",
        "\n",
        "# decoder embedding with same number as encoder embedding\n",
        "dec_emb_layer = Embedding(vocab_size_target, 1024) \n",
        "dec_emb = dec_emb_layer(decoder_inputs)   # apply this way because we need embedding layer for prediction \n",
        "\n",
        "# In encoder we used Bidirectional so it's having two LSTM's so we have to take double units(256*2=512) for single decoder lstm\n",
        "# LSTM using encoder's final states as initial state\n",
        "decoder_lstm = LSTM(512, return_sequences=True, return_state=True) \n",
        "decoder_outputs, _, _ = decoder_lstm(dec_emb, initial_state=encoder_states)\n",
        "\n",
        "\"\"\"# Using Attention Layer\n",
        "attention_layer = AttentionLayer()\n",
        "attention_result, attention_weights = attention_layer([encoder_outputs1, decoder_outputs])\n",
        "\n",
        "# Concat attention output and decoder LSTM output \n",
        "decoder_concat_input = Concatenate(axis=-1, name='concat_layer')([decoder_outputs, attention_result])\n",
        "\"\"\"\n",
        "# Dense layer with softmax\n",
        "decoder_dense = Dense(vocab_size_target, activation='softmax')\n",
        "decoder_outputs = decoder_dense(decoder_outputs)\n",
        "\n",
        "\n",
        "# Define the model\n",
        "model = Model([encoder_inputs, decoder_inputs], decoder_outputs) "
      ]
    },
    {
      "cell_type": "code",
      "execution_count": 14,
      "metadata": {
        "colab": {
          "base_uri": "https://localhost:8080/"
        },
        "id": "R5Nnu8KGGMXs",
        "outputId": "cb01643c-9831-4a69-8dcd-2c7bf5d0e8db"
      },
      "outputs": [
        {
          "output_type": "stream",
          "name": "stdout",
          "text": [
            "Model: \"model\"\n",
            "__________________________________________________________________________________________________\n",
            " Layer (type)                   Output Shape         Param #     Connected to                     \n",
            "==================================================================================================\n",
            " input_1 (InputLayer)           [(None, 5)]          0           []                               \n",
            "                                                                                                  \n",
            " embedding (Embedding)          (None, 5, 1024)      2035712     ['input_1[0][0]']                \n",
            "                                                                                                  \n",
            " input_2 (InputLayer)           [(None, None)]       0           []                               \n",
            "                                                                                                  \n",
            " bidirectional (Bidirectional)  [(None, 5, 512),     2623488     ['embedding[0][0]']              \n",
            "                                 (None, 256),                                                     \n",
            "                                 (None, 256),                                                     \n",
            "                                 (None, 256),                                                     \n",
            "                                 (None, 256)]                                                     \n",
            "                                                                                                  \n",
            " embedding_1 (Embedding)        (None, None, 1024)   3264512     ['input_2[0][0]']                \n",
            "                                                                                                  \n",
            " concatenate (Concatenate)      (None, 512)          0           ['bidirectional[0][1]',          \n",
            "                                                                  'bidirectional[0][3]']          \n",
            "                                                                                                  \n",
            " concatenate_1 (Concatenate)    (None, 512)          0           ['bidirectional[0][2]',          \n",
            "                                                                  'bidirectional[0][4]']          \n",
            "                                                                                                  \n",
            " lstm_1 (LSTM)                  [(None, None, 512),  3147776     ['embedding_1[0][0]',            \n",
            "                                 (None, 512),                     'concatenate[0][0]',            \n",
            "                                 (None, 512)]                     'concatenate_1[0][0]']          \n",
            "                                                                                                  \n",
            " dense (Dense)                  (None, None, 3188)   1635444     ['lstm_1[0][0]']                 \n",
            "                                                                                                  \n",
            "==================================================================================================\n",
            "Total params: 12,706,932\n",
            "Trainable params: 12,706,932\n",
            "Non-trainable params: 0\n",
            "__________________________________________________________________________________________________\n"
          ]
        }
      ],
      "source": [
        "model.summary()"
      ]
    },
    {
      "cell_type": "code",
      "execution_count": 15,
      "metadata": {
        "colab": {
          "base_uri": "https://localhost:8080/"
        },
        "id": "TLk0MYvsGMZ3",
        "outputId": "bb8e5f06-ee38-40af-b432-54574efa0eaa"
      },
      "outputs": [
        {
          "output_type": "stream",
          "name": "stdout",
          "text": [
            "Epoch 1/5\n",
            "63/63 [==============================] - 70s 1s/step - loss: 2.2008 - accuracy: 0.7099\n",
            "Epoch 2/5\n",
            "63/63 [==============================] - 64s 1s/step - loss: 1.6654 - accuracy: 0.7464\n",
            "Epoch 3/5\n",
            "63/63 [==============================] - 64s 1s/step - loss: 1.4413 - accuracy: 0.7752\n",
            "Epoch 4/5\n",
            "63/63 [==============================] - 64s 1s/step - loss: 1.2622 - accuracy: 0.7955\n",
            "Epoch 5/5\n",
            "63/63 [==============================] - 64s 1s/step - loss: 1.1035 - accuracy: 0.8136\n"
          ]
        }
      ],
      "source": [
        "# compile model\n",
        "model.compile(optimizer='rmsprop', loss='sparse_categorical_crossentropy', metrics=['accuracy'])\n",
        "\n",
        "# Define callbacks\n",
        "from tensorflow.keras.callbacks import ModelCheckpoint, EarlyStopping\n",
        "checkpoint = ModelCheckpoint(\"give Your path to save check points\", monitor='val_accuracy')\n",
        "early_stopping = EarlyStopping(monitor='val_accuracy', patience=5)\n",
        "callbacks_list = [checkpoint, early_stopping]\n",
        "\n",
        "# Training set\n",
        "encoder_input_data = X_train\n",
        "# To make same as target data skip last number which is just padding\n",
        "decoder_input_data = y_train[:,:-1]\n",
        "# Decoder target data has to be one step ahead so we are taking from 1 as told in keras docs\n",
        "decoder_target_data =  y_train[:,1:]\n",
        "\n",
        "# devlopment set\n",
        "encoder_input_test = X_test\n",
        "decoder_input_test = y_test[:,:-1]\n",
        "decoder_target_test=  y_test[:,1:]\n",
        "\n",
        "history = model.fit([encoder_input_data, decoder_input_data],decoder_target_data, \n",
        "                    epochs= 5, \n",
        "                    batch_size=128)\n",
        "\n",
        "# Don't forget to save weights of trained model \n",
        "model.save_weights(\"model.h5\") # can give whole path to save model"
      ]
    },
    {
      "cell_type": "code",
      "execution_count": 16,
      "metadata": {
        "id": "3OGjpA_aGMdN"
      },
      "outputs": [],
      "source": [
        "model.load_weights(\"model.h5\")\n",
        "\n",
        "# INFERENCE MODEL\n",
        "# encoder Inference model\n",
        "encoder_model = Model(encoder_inputs, outputs = [encoder_outputs1, final_enc_h, final_enc_c])\n",
        "\n",
        "# Decoder Inference\n",
        "decoder_state_h = Input(shape=(512,)) # This numbers has to be same as units of lstm's on which model is trained\n",
        "decoder_state_c = Input(shape=(512,))\n",
        "\n",
        "# we need hidden state for attention layer\n",
        "# 36 is maximum length if english sentence It has to same as input taken by attention layer can see in model plot\n",
        "decoder_hidden_state_input = Input(shape=(36,512)) \n",
        "# get decoder states\n",
        "dec_states = [decoder_state_h, decoder_state_c]\n",
        "\n",
        "# embedding layer \n",
        "dec_emb2 = dec_emb_layer(decoder_inputs)\n",
        "decoder_outputs2, state_h2, state_c2 = decoder_lstm(dec_emb2, initial_state=dec_states)\n",
        "\n",
        "\"\"\"# Attention inference\n",
        "attention_result_inf, attention_weights_inf = attention_layer([decoder_hidden_state_input, decoder_outputs2])\n",
        "decoder_concat_input_inf = Concatenate(axis=-1, name='concat_layer')([decoder_outputs2, attention_result_inf])\n",
        "\"\"\"\n",
        "dec_states2= [state_h2, state_c2]\n",
        "decoder_outputs2 = decoder_dense(decoder_outputs2)\n",
        "\n",
        "# get decoder model\n",
        "decoder_model= Model(\n",
        "                    [decoder_inputs] + [decoder_hidden_state_input, decoder_state_h, decoder_state_c],\n",
        "                     [decoder_outputs2]+ dec_states2)"
      ]
    },
    {
      "cell_type": "code",
      "execution_count": 17,
      "metadata": {
        "id": "eYSnfTzY6NBP"
      },
      "outputs": [],
      "source": [
        "def get_predicted_sentence(input_seq):\n",
        "    # Encode the input as state vectors.\n",
        "    enc_output, enc_h, enc_c = encoder_model.predict(input_seq)\n",
        "  \n",
        "    # Generate empty target sequence of length 1.\n",
        "    target_seq = np.zeros((1,1))\n",
        "    \n",
        "    # Populate the first character of target sequence with the start character.\n",
        "    target_seq[0, 0] = mar_word_index['sos']\n",
        "    \n",
        "    # Sampling loop for a batch of sequences\n",
        "    # (to simplify, here we assume a batch of size 1).\n",
        "    stop_condition = False\n",
        "    decoded_sentence = ''\n",
        "    \n",
        "    while not stop_condition:\n",
        "        output_tokens, h, c = decoder_model.predict([target_seq] + [enc_output, enc_h, enc_c ])\n",
        "        # Sample a token\n",
        "        sampled_token_index = np.argmax(output_tokens[0, -1, :])\n",
        "        # convert max index number to marathi word\n",
        "        sampled_char = mar_index_word[sampled_token_index]\n",
        "        # aapend it to decoded sent\n",
        "        decoded_sentence += ' '+sampled_char\n",
        "        \n",
        "        # Exit condition: either hit max length or find stop token.\n",
        "        if (sampled_char == 'eos' or len(decoded_sentence.split()) >= 36):\n",
        "            stop_condition = True\n",
        "        \n",
        "        # Update the target sequence (of length 1).\n",
        "        target_seq = np.zeros((1,1))\n",
        "        target_seq[0, 0] = sampled_token_index\n",
        "        \n",
        "        # Update states\n",
        "        enc_h, enc_c = h, c\n",
        "    \n",
        "    return decoded_sentence"
      ]
    },
    {
      "cell_type": "code",
      "execution_count": 24,
      "metadata": {
        "colab": {
          "base_uri": "https://localhost:8080/",
          "height": 877
        },
        "id": "0u20pyT96S-i",
        "outputId": "dffa3fbb-1fc9-47b9-eeef-086b929fad36"
      },
      "outputs": [
        {
          "output_type": "stream",
          "name": "stdout",
          "text": [
            "English Sentence: please smile \n",
            "Actual German Sentence: e lch\n",
            "WARNING:tensorflow:Model was constructed with shape (None, 5) for input KerasTensor(type_spec=TensorSpec(shape=(None, 5), dtype=tf.float32, name='input_1'), name='input_1', description=\"created by layer 'input_1'\"), but it was called on an input with incompatible shape (None,).\n"
          ]
        },
        {
          "output_type": "error",
          "ename": "ValueError",
          "evalue": "ignored",
          "traceback": [
            "\u001b[0;31m---------------------------------------------------------------------------\u001b[0m",
            "\u001b[0;31mValueError\u001b[0m                                Traceback (most recent call last)",
            "\u001b[0;32m<ipython-input-24-381374e084b5>\u001b[0m in \u001b[0;36m<module>\u001b[0;34m()\u001b[0m\n\u001b[1;32m     19\u001b[0m   \u001b[0mprint\u001b[0m\u001b[0;34m(\u001b[0m\u001b[0;34m\"Actual German Sentence:\"\u001b[0m\u001b[0;34m,\u001b[0m\u001b[0mget_german_sentence\u001b[0m\u001b[0;34m(\u001b[0m\u001b[0my_test\u001b[0m\u001b[0;34m[\u001b[0m\u001b[0mi\u001b[0m\u001b[0;34m]\u001b[0m\u001b[0;34m)\u001b[0m\u001b[0;34m[\u001b[0m\u001b[0;36m4\u001b[0m\u001b[0;34m:\u001b[0m\u001b[0;34m-\u001b[0m\u001b[0;36m4\u001b[0m\u001b[0;34m]\u001b[0m\u001b[0;34m)\u001b[0m\u001b[0;34m\u001b[0m\u001b[0;34m\u001b[0m\u001b[0m\n\u001b[1;32m     20\u001b[0m   \u001b[0;31m# Before passing input it has to be reshape as following\u001b[0m\u001b[0;34m\u001b[0m\u001b[0;34m\u001b[0m\u001b[0;34m\u001b[0m\u001b[0m\n\u001b[0;32m---> 21\u001b[0;31m   \u001b[0mprint\u001b[0m\u001b[0;34m(\u001b[0m\u001b[0;34m\"Predicted German Translation:\"\u001b[0m\u001b[0;34m,\u001b[0m\u001b[0mget_predicted_sentence\u001b[0m\u001b[0;34m(\u001b[0m\u001b[0mX_test\u001b[0m\u001b[0;34m[\u001b[0m\u001b[0mi\u001b[0m\u001b[0;34m]\u001b[0m\u001b[0;34m)\u001b[0m\u001b[0;34m)\u001b[0m\u001b[0;34m\u001b[0m\u001b[0;34m\u001b[0m\u001b[0m\n\u001b[0m\u001b[1;32m     22\u001b[0m   \u001b[0mprint\u001b[0m\u001b[0;34m(\u001b[0m\u001b[0;34m\"----------------------------------------------------------------------------------------\"\u001b[0m\u001b[0;34m)\u001b[0m\u001b[0;34m\u001b[0m\u001b[0;34m\u001b[0m\u001b[0m\n\u001b[1;32m     23\u001b[0m \u001b[0;34m\u001b[0m\u001b[0m\n",
            "\u001b[0;32m<ipython-input-17-8bf99f33b10b>\u001b[0m in \u001b[0;36mget_predicted_sentence\u001b[0;34m(input_seq)\u001b[0m\n\u001b[1;32m      1\u001b[0m \u001b[0;32mdef\u001b[0m \u001b[0mget_predicted_sentence\u001b[0m\u001b[0;34m(\u001b[0m\u001b[0minput_seq\u001b[0m\u001b[0;34m)\u001b[0m\u001b[0;34m:\u001b[0m\u001b[0;34m\u001b[0m\u001b[0;34m\u001b[0m\u001b[0m\n\u001b[1;32m      2\u001b[0m     \u001b[0;31m# Encode the input as state vectors.\u001b[0m\u001b[0;34m\u001b[0m\u001b[0;34m\u001b[0m\u001b[0;34m\u001b[0m\u001b[0m\n\u001b[0;32m----> 3\u001b[0;31m     \u001b[0menc_output\u001b[0m\u001b[0;34m,\u001b[0m \u001b[0menc_h\u001b[0m\u001b[0;34m,\u001b[0m \u001b[0menc_c\u001b[0m \u001b[0;34m=\u001b[0m \u001b[0mencoder_model\u001b[0m\u001b[0;34m.\u001b[0m\u001b[0mpredict\u001b[0m\u001b[0;34m(\u001b[0m\u001b[0minput_seq\u001b[0m\u001b[0;34m)\u001b[0m\u001b[0;34m\u001b[0m\u001b[0;34m\u001b[0m\u001b[0m\n\u001b[0m\u001b[1;32m      4\u001b[0m \u001b[0;34m\u001b[0m\u001b[0m\n\u001b[1;32m      5\u001b[0m     \u001b[0;31m# Generate empty target sequence of length 1.\u001b[0m\u001b[0;34m\u001b[0m\u001b[0;34m\u001b[0m\u001b[0;34m\u001b[0m\u001b[0m\n",
            "\u001b[0;32m/usr/local/lib/python3.7/dist-packages/keras/utils/traceback_utils.py\u001b[0m in \u001b[0;36merror_handler\u001b[0;34m(*args, **kwargs)\u001b[0m\n\u001b[1;32m     65\u001b[0m     \u001b[0;32mexcept\u001b[0m \u001b[0mException\u001b[0m \u001b[0;32mas\u001b[0m \u001b[0me\u001b[0m\u001b[0;34m:\u001b[0m  \u001b[0;31m# pylint: disable=broad-except\u001b[0m\u001b[0;34m\u001b[0m\u001b[0;34m\u001b[0m\u001b[0m\n\u001b[1;32m     66\u001b[0m       \u001b[0mfiltered_tb\u001b[0m \u001b[0;34m=\u001b[0m \u001b[0m_process_traceback_frames\u001b[0m\u001b[0;34m(\u001b[0m\u001b[0me\u001b[0m\u001b[0;34m.\u001b[0m\u001b[0m__traceback__\u001b[0m\u001b[0;34m)\u001b[0m\u001b[0;34m\u001b[0m\u001b[0;34m\u001b[0m\u001b[0m\n\u001b[0;32m---> 67\u001b[0;31m       \u001b[0;32mraise\u001b[0m \u001b[0me\u001b[0m\u001b[0;34m.\u001b[0m\u001b[0mwith_traceback\u001b[0m\u001b[0;34m(\u001b[0m\u001b[0mfiltered_tb\u001b[0m\u001b[0;34m)\u001b[0m \u001b[0;32mfrom\u001b[0m \u001b[0;32mNone\u001b[0m\u001b[0;34m\u001b[0m\u001b[0;34m\u001b[0m\u001b[0m\n\u001b[0m\u001b[1;32m     68\u001b[0m     \u001b[0;32mfinally\u001b[0m\u001b[0;34m:\u001b[0m\u001b[0;34m\u001b[0m\u001b[0;34m\u001b[0m\u001b[0m\n\u001b[1;32m     69\u001b[0m       \u001b[0;32mdel\u001b[0m \u001b[0mfiltered_tb\u001b[0m\u001b[0;34m\u001b[0m\u001b[0;34m\u001b[0m\u001b[0m\n",
            "\u001b[0;32m/usr/local/lib/python3.7/dist-packages/tensorflow/python/framework/func_graph.py\u001b[0m in \u001b[0;36mautograph_handler\u001b[0;34m(*args, **kwargs)\u001b[0m\n\u001b[1;32m   1127\u001b[0m           \u001b[0;32mexcept\u001b[0m \u001b[0mException\u001b[0m \u001b[0;32mas\u001b[0m \u001b[0me\u001b[0m\u001b[0;34m:\u001b[0m  \u001b[0;31m# pylint:disable=broad-except\u001b[0m\u001b[0;34m\u001b[0m\u001b[0;34m\u001b[0m\u001b[0m\n\u001b[1;32m   1128\u001b[0m             \u001b[0;32mif\u001b[0m \u001b[0mhasattr\u001b[0m\u001b[0;34m(\u001b[0m\u001b[0me\u001b[0m\u001b[0;34m,\u001b[0m \u001b[0;34m\"ag_error_metadata\"\u001b[0m\u001b[0;34m)\u001b[0m\u001b[0;34m:\u001b[0m\u001b[0;34m\u001b[0m\u001b[0;34m\u001b[0m\u001b[0m\n\u001b[0;32m-> 1129\u001b[0;31m               \u001b[0;32mraise\u001b[0m \u001b[0me\u001b[0m\u001b[0;34m.\u001b[0m\u001b[0mag_error_metadata\u001b[0m\u001b[0;34m.\u001b[0m\u001b[0mto_exception\u001b[0m\u001b[0;34m(\u001b[0m\u001b[0me\u001b[0m\u001b[0;34m)\u001b[0m\u001b[0;34m\u001b[0m\u001b[0;34m\u001b[0m\u001b[0m\n\u001b[0m\u001b[1;32m   1130\u001b[0m             \u001b[0;32melse\u001b[0m\u001b[0;34m:\u001b[0m\u001b[0;34m\u001b[0m\u001b[0;34m\u001b[0m\u001b[0m\n\u001b[1;32m   1131\u001b[0m               \u001b[0;32mraise\u001b[0m\u001b[0;34m\u001b[0m\u001b[0;34m\u001b[0m\u001b[0m\n",
            "\u001b[0;31mValueError\u001b[0m: in user code:\n\n    File \"/usr/local/lib/python3.7/dist-packages/keras/engine/training.py\", line 1621, in predict_function  *\n        return step_function(self, iterator)\n    File \"/usr/local/lib/python3.7/dist-packages/keras/engine/training.py\", line 1611, in step_function  **\n        outputs = model.distribute_strategy.run(run_step, args=(data,))\n    File \"/usr/local/lib/python3.7/dist-packages/keras/engine/training.py\", line 1604, in run_step  **\n        outputs = model.predict_step(data)\n    File \"/usr/local/lib/python3.7/dist-packages/keras/engine/training.py\", line 1572, in predict_step\n        return self(x, training=False)\n    File \"/usr/local/lib/python3.7/dist-packages/keras/utils/traceback_utils.py\", line 67, in error_handler\n        raise e.with_traceback(filtered_tb) from None\n    File \"/usr/local/lib/python3.7/dist-packages/keras/engine/input_spec.py\", line 213, in assert_input_compatibility\n        raise ValueError(f'Input {input_index} of layer \"{layer_name}\" '\n\n    ValueError: Exception encountered when calling layer \"model_1\" (type Functional).\n    \n    Input 0 of layer \"bidirectional\" is incompatible with the layer: expected ndim=3, found ndim=2. Full shape received: (None, 1024)\n    \n    Call arguments received:\n      • inputs=tf.Tensor(shape=(None,), dtype=int32)\n      • training=False\n      • mask=None\n"
          ]
        }
      ],
      "source": [
        "def get_german_sentence(input_sequence):\n",
        "    sentence =''\n",
        "    for i in input_sequence:\n",
        "      if i!=0 :\n",
        "        sentence =sentence + Gword2index[i]+' '\n",
        "    return sentence \n",
        "\n",
        "# same as above we want input english sentence so create function\n",
        "def get_english_sentence(input_sequence):\n",
        "    sentence =''\n",
        "    for i in input_sequence:\n",
        "      if i!=0:\n",
        "        sentence =sentence + Eword2index[i] +' '\n",
        "    return sentence     \n",
        "\n",
        "# using simple loop we will take 15 random numbers from x_test and get results\n",
        "for i in np.random.randint(10, 1000, size=15):\n",
        "  print(\"English Sentence:\",get_english_sentence(X_test[i]))\n",
        "  print(\"Actual German Sentence:\",get_german_sentence(y_test[i])[4:-4])\n",
        "  # Before passing input it has to be reshape as following\n",
        "  print(\"Predicted German Translation:\",get_predicted_sentence(X_test[i]))\n",
        "  print(\"----------------------------------------------------------------------------------------\")\n",
        "   "
      ]
    }
  ],
  "metadata": {
    "colab": {
      "collapsed_sections": [],
      "name": "Encoder to Decoder - Attention.ipynb",
      "provenance": []
    },
    "kernelspec": {
      "display_name": "Python 3",
      "name": "python3"
    },
    "language_info": {
      "name": "python"
    }
  },
  "nbformat": 4,
  "nbformat_minor": 0
}