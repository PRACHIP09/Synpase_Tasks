{
  "nbformat": 4,
  "nbformat_minor": 0,
  "metadata": {
    "kernelspec": {
      "display_name": "Python 3",
      "language": "python",
      "name": "python3"
    },
    "language_info": {
      "codemirror_mode": {
        "name": "ipython",
        "version": 3
      },
      "file_extension": ".py",
      "mimetype": "text/x-python",
      "name": "python",
      "nbconvert_exporter": "python",
      "pygments_lexer": "ipython3",
      "version": "3.6.12"
    },
    "colab": {
      "name": "Week7- Latent_Dirichlet_Allocation.ipynb",
      "provenance": [],
      "collapsed_sections": []
    }
  },
  "cells": [
    {
      "cell_type": "markdown",
      "metadata": {
        "id": "YCuDOCLvTwm2"
      },
      "source": [
        "## Latent Dirichlet Allocation ##\n",
        "**Watch these videos:**\n",
        "- https://www.youtube.com/watch?v=azXCzI57Yfc\n",
        "- https://www.youtube.com/watch?v=T05t-SqKArY\n",
        "- https://www.youtube.com/watch?v=BaM1uiCpj_E\n",
        "\n",
        "LDA is used to classify text in a document to a particular topic. It builds a topic per document model and words per topic model, modeled as Dirichlet distributions. \n",
        "\n",
        "* Each document is modeled as a multinomial distribution of topics and each topic is modeled as a multinomial distribution of words.\n",
        "* LDA assumes that the every chunk of text we feed into it will contain words that are somehow related. Therefore choosing the right corpus of data is crucial. \n",
        "* It also assumes documents are produced from a mixture of topics. Those topics then generate words based on their probability distribution. "
      ]
    },
    {
      "cell_type": "markdown",
      "metadata": {
        "id": "_6HaDN9WTwnA"
      },
      "source": [
        "## Step 1: Load the dataset\n",
        "\n",
        "The dataset we'll use is a list of over one million news headlines published over a period of 15 years. We'll start by loading it from the `abcnews-date-text.csv` file."
      ]
    },
    {
      "cell_type": "code",
      "metadata": {
        "id": "RGUJhyMCTwnD",
        "colab": {
          "base_uri": "https://localhost:8080/"
        },
        "outputId": "f6cd8bae-2f1b-4d81-fe1f-bf3486a97a43"
      },
      "source": [
        "'''\n",
        "Load the dataset from the CSV and save it to 'data_text'. We only need the'headline_text' column,\n",
        "so drop the rest of the columns. Call the final dataframe \"documents\" \n",
        "Then, add an 'index' column to the dataframe. Be sure to name it index.\n",
        "Hint: dataframe.index\n",
        "'''\n",
        "import pandas as pd\n",
        "data = pd.read_csv('/content/drive/MyDrive/abcnews-date-text.csv')\n",
        "data_text = data[:300000][['headline_text']]\n",
        "data_text['index'] = data_text.index\n",
        "documents = data_text\n",
        "\n",
        "print(documents['index'])"
      ],
      "execution_count": null,
      "outputs": [
        {
          "output_type": "stream",
          "name": "stdout",
          "text": [
            "0              0\n",
            "1              1\n",
            "2              2\n",
            "3              3\n",
            "4              4\n",
            "           ...  \n",
            "299995    299995\n",
            "299996    299996\n",
            "299997    299997\n",
            "299998    299998\n",
            "299999    299999\n",
            "Name: index, Length: 300000, dtype: int64\n"
          ]
        }
      ]
    },
    {
      "cell_type": "code",
      "metadata": {
        "colab": {
          "base_uri": "https://localhost:8080/"
        },
        "id": "-Yr5jJWWkY8I",
        "outputId": "0d615ee2-8a73-4f20-f8c9-ed7d287abaa1"
      },
      "source": [
        "from google.colab import drive\n",
        "drive.mount('/content/drive')"
      ],
      "execution_count": null,
      "outputs": [
        {
          "output_type": "stream",
          "name": "stdout",
          "text": [
            "Drive already mounted at /content/drive; to attempt to forcibly remount, call drive.mount(\"/content/drive\", force_remount=True).\n"
          ]
        }
      ]
    },
    {
      "cell_type": "markdown",
      "metadata": {
        "id": "LsWB6iM8TwnF"
      },
      "source": [
        "Let's glance at the dataset:"
      ]
    },
    {
      "cell_type": "code",
      "metadata": {
        "id": "9FaFH4YnTwnH",
        "colab": {
          "base_uri": "https://localhost:8080/"
        },
        "outputId": "ba5bb089-185c-4a16-b3a4-11355dbb8419"
      },
      "source": [
        "'''\n",
        "print the total number of documents\n",
        "'''\n",
        "print(len(documents))"
      ],
      "execution_count": null,
      "outputs": [
        {
          "output_type": "stream",
          "name": "stdout",
          "text": [
            "300000\n"
          ]
        }
      ]
    },
    {
      "cell_type": "code",
      "metadata": {
        "id": "YAPXis1GTwnI",
        "colab": {
          "base_uri": "https://localhost:8080/",
          "height": 206
        },
        "outputId": "b62b05bb-948c-4c4b-fd75-cea60303ad80"
      },
      "source": [
        "documents[:5]"
      ],
      "execution_count": null,
      "outputs": [
        {
          "output_type": "execute_result",
          "data": {
            "text/html": [
              "<div>\n",
              "<style scoped>\n",
              "    .dataframe tbody tr th:only-of-type {\n",
              "        vertical-align: middle;\n",
              "    }\n",
              "\n",
              "    .dataframe tbody tr th {\n",
              "        vertical-align: top;\n",
              "    }\n",
              "\n",
              "    .dataframe thead th {\n",
              "        text-align: right;\n",
              "    }\n",
              "</style>\n",
              "<table border=\"1\" class=\"dataframe\">\n",
              "  <thead>\n",
              "    <tr style=\"text-align: right;\">\n",
              "      <th></th>\n",
              "      <th>headline_text</th>\n",
              "      <th>index</th>\n",
              "    </tr>\n",
              "  </thead>\n",
              "  <tbody>\n",
              "    <tr>\n",
              "      <th>0</th>\n",
              "      <td>aba decides against community broadcasting lic...</td>\n",
              "      <td>0</td>\n",
              "    </tr>\n",
              "    <tr>\n",
              "      <th>1</th>\n",
              "      <td>act fire witnesses must be aware of defamation</td>\n",
              "      <td>1</td>\n",
              "    </tr>\n",
              "    <tr>\n",
              "      <th>2</th>\n",
              "      <td>a g calls for infrastructure protection summit</td>\n",
              "      <td>2</td>\n",
              "    </tr>\n",
              "    <tr>\n",
              "      <th>3</th>\n",
              "      <td>air nz staff in aust strike for pay rise</td>\n",
              "      <td>3</td>\n",
              "    </tr>\n",
              "    <tr>\n",
              "      <th>4</th>\n",
              "      <td>air nz strike to affect australian travellers</td>\n",
              "      <td>4</td>\n",
              "    </tr>\n",
              "  </tbody>\n",
              "</table>\n",
              "</div>"
            ],
            "text/plain": [
              "                                       headline_text  index\n",
              "0  aba decides against community broadcasting lic...      0\n",
              "1     act fire witnesses must be aware of defamation      1\n",
              "2     a g calls for infrastructure protection summit      2\n",
              "3           air nz staff in aust strike for pay rise      3\n",
              "4      air nz strike to affect australian travellers      4"
            ]
          },
          "metadata": {},
          "execution_count": 9
        }
      ]
    },
    {
      "cell_type": "markdown",
      "metadata": {
        "id": "_7XOyMbrTwnJ"
      },
      "source": [
        "## Step 2: Data Preprocessing ##\n",
        "\n",
        "We will perform the following steps:\n",
        "\n",
        "* **Tokenization**: Split the text into sentences and the sentences into words. Lowercase the words and remove punctuation.\n",
        "* Words that have fewer than 3 characters are removed.\n",
        "* All **stopwords** are removed.\n",
        "* Words are **lemmatized** - words in third person are changed to first person and verbs in past and future tenses are changed into present.\n",
        "* Words are **stemmed** - words are reduced to their root form.\n",
        "\n",
        "This time, we'll make use of the gensim library and show you how  to preprocess text easily. "
      ]
    },
    {
      "cell_type": "code",
      "metadata": {
        "id": "ElnB2rJHTwnK"
      },
      "source": [
        "'''\n",
        "Loading Gensim and nltk libraries\n",
        "'''\n",
        "# pip install gensim\n",
        "import gensim\n",
        "from gensim.utils import simple_preprocess\n",
        "from gensim.parsing.preprocessing import STOPWORDS\n",
        "from nltk.stem import WordNetLemmatizer, SnowballStemmer\n",
        "from nltk.stem.porter import *\n",
        "import numpy as np\n",
        "np.random.seed(400)"
      ],
      "execution_count": null,
      "outputs": []
    },
    {
      "cell_type": "code",
      "metadata": {
        "id": "vO4938yXTwnN",
        "colab": {
          "base_uri": "https://localhost:8080/"
        },
        "outputId": "7ca0b192-9c29-482c-89bf-99fe2bafbc40"
      },
      "source": [
        "import nltk\n",
        "nltk.download('wordnet')"
      ],
      "execution_count": null,
      "outputs": [
        {
          "output_type": "stream",
          "name": "stdout",
          "text": [
            "[nltk_data] Downloading package wordnet to /root/nltk_data...\n",
            "[nltk_data]   Unzipping corpora/wordnet.zip.\n"
          ]
        },
        {
          "output_type": "execute_result",
          "data": {
            "text/plain": [
              "True"
            ]
          },
          "metadata": {},
          "execution_count": 11
        }
      ]
    },
    {
      "cell_type": "markdown",
      "metadata": {
        "id": "MPUHD8ZyTwnP"
      },
      "source": [
        "### Lemmatizer Example\n",
        "Before preprocessing our dataset, let's first look at an lemmatizing example. What would be the output if we lemmatized the word 'went':"
      ]
    },
    {
      "cell_type": "code",
      "metadata": {
        "id": "Xfw_vIjdTwnQ",
        "colab": {
          "base_uri": "https://localhost:8080/"
        },
        "outputId": "9d555b27-b988-4493-ec7f-4cd445f61fec"
      },
      "source": [
        "print(WordNetLemmatizer().lemmatize('went', pos = 'v')) # past tense to present tense\n"
      ],
      "execution_count": null,
      "outputs": [
        {
          "output_type": "stream",
          "name": "stdout",
          "text": [
            "go\n"
          ]
        }
      ]
    },
    {
      "cell_type": "markdown",
      "metadata": {
        "id": "dguUFJanTwnR"
      },
      "source": [
        "### Stemmer Example\n",
        "Let's also look at a stemming example. Let's throw a number of words at the stemmer and see how it deals with each one:"
      ]
    },
    {
      "cell_type": "code",
      "metadata": {
        "id": "jLO7aGVCTwnS",
        "colab": {
          "base_uri": "https://localhost:8080/",
          "height": 645
        },
        "outputId": "1435fdfd-55b6-4500-d1f4-c522801c156b"
      },
      "source": [
        "stemmer = SnowballStemmer(\"english\")\n",
        "original_words = ['caresses', 'flies', 'dies', 'mules', 'denied','died', 'agreed', 'owned', \n",
        "           'humbled', 'sized','meeting', 'stating', 'siezing', 'itemization','sensational', \n",
        "           'traditional', 'reference', 'colonizer','plotted']\n",
        "singles = [stemmer.stem(plural) for plural in original_words]\n",
        "\n",
        "pd.DataFrame(data={'original word':original_words, 'stemmed':singles })"
      ],
      "execution_count": null,
      "outputs": [
        {
          "output_type": "execute_result",
          "data": {
            "text/html": [
              "<div>\n",
              "<style scoped>\n",
              "    .dataframe tbody tr th:only-of-type {\n",
              "        vertical-align: middle;\n",
              "    }\n",
              "\n",
              "    .dataframe tbody tr th {\n",
              "        vertical-align: top;\n",
              "    }\n",
              "\n",
              "    .dataframe thead th {\n",
              "        text-align: right;\n",
              "    }\n",
              "</style>\n",
              "<table border=\"1\" class=\"dataframe\">\n",
              "  <thead>\n",
              "    <tr style=\"text-align: right;\">\n",
              "      <th></th>\n",
              "      <th>original word</th>\n",
              "      <th>stemmed</th>\n",
              "    </tr>\n",
              "  </thead>\n",
              "  <tbody>\n",
              "    <tr>\n",
              "      <th>0</th>\n",
              "      <td>caresses</td>\n",
              "      <td>caress</td>\n",
              "    </tr>\n",
              "    <tr>\n",
              "      <th>1</th>\n",
              "      <td>flies</td>\n",
              "      <td>fli</td>\n",
              "    </tr>\n",
              "    <tr>\n",
              "      <th>2</th>\n",
              "      <td>dies</td>\n",
              "      <td>die</td>\n",
              "    </tr>\n",
              "    <tr>\n",
              "      <th>3</th>\n",
              "      <td>mules</td>\n",
              "      <td>mule</td>\n",
              "    </tr>\n",
              "    <tr>\n",
              "      <th>4</th>\n",
              "      <td>denied</td>\n",
              "      <td>deni</td>\n",
              "    </tr>\n",
              "    <tr>\n",
              "      <th>5</th>\n",
              "      <td>died</td>\n",
              "      <td>die</td>\n",
              "    </tr>\n",
              "    <tr>\n",
              "      <th>6</th>\n",
              "      <td>agreed</td>\n",
              "      <td>agre</td>\n",
              "    </tr>\n",
              "    <tr>\n",
              "      <th>7</th>\n",
              "      <td>owned</td>\n",
              "      <td>own</td>\n",
              "    </tr>\n",
              "    <tr>\n",
              "      <th>8</th>\n",
              "      <td>humbled</td>\n",
              "      <td>humbl</td>\n",
              "    </tr>\n",
              "    <tr>\n",
              "      <th>9</th>\n",
              "      <td>sized</td>\n",
              "      <td>size</td>\n",
              "    </tr>\n",
              "    <tr>\n",
              "      <th>10</th>\n",
              "      <td>meeting</td>\n",
              "      <td>meet</td>\n",
              "    </tr>\n",
              "    <tr>\n",
              "      <th>11</th>\n",
              "      <td>stating</td>\n",
              "      <td>state</td>\n",
              "    </tr>\n",
              "    <tr>\n",
              "      <th>12</th>\n",
              "      <td>siezing</td>\n",
              "      <td>siez</td>\n",
              "    </tr>\n",
              "    <tr>\n",
              "      <th>13</th>\n",
              "      <td>itemization</td>\n",
              "      <td>item</td>\n",
              "    </tr>\n",
              "    <tr>\n",
              "      <th>14</th>\n",
              "      <td>sensational</td>\n",
              "      <td>sensat</td>\n",
              "    </tr>\n",
              "    <tr>\n",
              "      <th>15</th>\n",
              "      <td>traditional</td>\n",
              "      <td>tradit</td>\n",
              "    </tr>\n",
              "    <tr>\n",
              "      <th>16</th>\n",
              "      <td>reference</td>\n",
              "      <td>refer</td>\n",
              "    </tr>\n",
              "    <tr>\n",
              "      <th>17</th>\n",
              "      <td>colonizer</td>\n",
              "      <td>colon</td>\n",
              "    </tr>\n",
              "    <tr>\n",
              "      <th>18</th>\n",
              "      <td>plotted</td>\n",
              "      <td>plot</td>\n",
              "    </tr>\n",
              "  </tbody>\n",
              "</table>\n",
              "</div>"
            ],
            "text/plain": [
              "   original word stemmed\n",
              "0       caresses  caress\n",
              "1          flies     fli\n",
              "2           dies     die\n",
              "3          mules    mule\n",
              "4         denied    deni\n",
              "5           died     die\n",
              "6         agreed    agre\n",
              "7          owned     own\n",
              "8        humbled   humbl\n",
              "9          sized    size\n",
              "10       meeting    meet\n",
              "11       stating   state\n",
              "12       siezing    siez\n",
              "13   itemization    item\n",
              "14   sensational  sensat\n",
              "15   traditional  tradit\n",
              "16     reference   refer\n",
              "17     colonizer   colon\n",
              "18       plotted    plot"
            ]
          },
          "metadata": {},
          "execution_count": 13
        }
      ]
    },
    {
      "cell_type": "code",
      "metadata": {
        "id": "aAfKeivHTwnU"
      },
      "source": [
        "'''\n",
        "Write a function to perform the pre processing steps on the entire dataset\n",
        "'''\n",
        "\"\"\"def lemmatize_stemming(text):\n",
        "    '''\n",
        "        1) Lemmatize the text\n",
        "        2) Then, stem the text\n",
        "        3) return final text\n",
        "    '''\n",
        "    pass\n",
        "\n",
        "\n",
        "\n",
        "# Tokenize and lemmatize. Look up how preprocessing is being done\n",
        "def preprocess(text):\n",
        "    result=[]\n",
        "    for token in gensim.utils.simple_preprocess(text) :\n",
        "        if token not in gensim.parsing.preprocessing.STOPWORDS and len(token) > 3:\n",
        "             result.append(lemmatize_stemming(token))\n",
        "        \n",
        "            # TODO: Apply lemmatize_stemming on the token, then add to the results list\n",
        "        #pass\n",
        "        \n",
        "        \n",
        "    return result\"\"\"\n",
        "\n",
        "\n",
        "\n",
        "stemmer = SnowballStemmer(\"english\")\n",
        "def lemmatize_stemming(text):\n",
        "    return stemmer.stem(WordNetLemmatizer().lemmatize(text, pos='v'))\n",
        "\n",
        "# Tokenize and Lemmatize\n",
        "def preprocess(text):\n",
        "    result=[]\n",
        "    for token in gensim.utils.simple_preprocess(text) :\n",
        "        if token not in gensim.parsing.preprocessing.STOPWORDS and len(token) > 3:\n",
        "            result.append(lemmatize_stemming(token))\n",
        "    return result"
      ],
      "execution_count": null,
      "outputs": []
    },
    {
      "cell_type": "code",
      "metadata": {
        "id": "eLca_PnNTwnU",
        "colab": {
          "base_uri": "https://localhost:8080/"
        },
        "outputId": "3a66e850-6331-4037-8e4c-c2a33fedde21"
      },
      "source": [
        "'''\n",
        "Preview a document after preprocessing\n",
        "'''\n",
        "document_num = 4310\n",
        "doc_sample = documents[documents['index'] == document_num].values[0][0]\n",
        "\n",
        "print(\"Original document: \")\n",
        "words = []\n",
        "for word in doc_sample.split(' '):\n",
        "    words.append(word)\n",
        "print(words)\n",
        "print(\"\\n\\nTokenized and lemmatized document: \")\n",
        "print(preprocess(doc_sample))"
      ],
      "execution_count": null,
      "outputs": [
        {
          "output_type": "stream",
          "name": "stdout",
          "text": [
            "Original document: \n",
            "['rain', 'helps', 'dampen', 'bushfires']\n",
            "\n",
            "\n",
            "Tokenized and lemmatized document: \n",
            "['rain', 'help', 'dampen', 'bushfir']\n"
          ]
        }
      ]
    },
    {
      "cell_type": "markdown",
      "metadata": {
        "id": "Iv7o2WttTwnW"
      },
      "source": [
        "Let's now preprocess all the news headlines we have. To do that, let's use the [map](https://pandas.pydata.org/pandas-docs/stable/generated/pandas.Series.map.html) function from pandas to apply `preprocess()` to the `headline_text` column\n",
        "\n",
        "**Note**: This may take a few minutes"
      ]
    },
    {
      "cell_type": "code",
      "metadata": {
        "id": "fwO65XyhTwnX"
      },
      "source": [
        "# TODO: preprocess all the headlines, saving the list of results as 'processed_docs'\n",
        "processed_docs = documents['headline_text'].map(preprocess)"
      ],
      "execution_count": null,
      "outputs": []
    },
    {
      "cell_type": "code",
      "metadata": {
        "id": "7A9hdjg_TwnX",
        "colab": {
          "base_uri": "https://localhost:8080/"
        },
        "outputId": "d9347b52-e0a9-470d-b898-3d246cf9d8ff"
      },
      "source": [
        "'''\n",
        "Preview 'processed_docs'\n",
        "'''\n",
        "processed_docs[:10]"
      ],
      "execution_count": null,
      "outputs": [
        {
          "output_type": "execute_result",
          "data": {
            "text/plain": [
              "0            [decid, communiti, broadcast, licenc]\n",
              "1                               [wit, awar, defam]\n",
              "2           [call, infrastructur, protect, summit]\n",
              "3                      [staff, aust, strike, rise]\n",
              "4             [strike, affect, australian, travel]\n",
              "5               [ambiti, olsson, win, tripl, jump]\n",
              "6           [antic, delight, record, break, barca]\n",
              "7    [aussi, qualifi, stosur, wast, memphi, match]\n",
              "8            [aust, address, secur, council, iraq]\n",
              "9                         [australia, lock, timet]\n",
              "Name: headline_text, dtype: object"
            ]
          },
          "metadata": {},
          "execution_count": 17
        }
      ]
    },
    {
      "cell_type": "markdown",
      "metadata": {
        "id": "JN7Up_2QTwnY"
      },
      "source": [
        "## Step 3.1: Bag of words on the dataset\n",
        "\n",
        "Now let's create a dictionary from 'processed_docs' containing the number of times a word appears in the training set. To do that, let's pass `processed_docs` to [`gensim.corpora.Dictionary()`](https://radimrehurek.com/gensim/corpora/dictionary.html) and call it '`dictionary`'."
      ]
    },
    {
      "cell_type": "code",
      "metadata": {
        "id": "6Qio7cMCTwnZ"
      },
      "source": [
        "'''\n",
        "Create a dictionary from 'processed_docs' containing the number of times a word appears \n",
        "in the training set using gensim.corpora.Dictionary and call it 'dictionary'\n",
        "'''\n",
        "#  Todo\n",
        "dictionary = gensim.corpora.Dictionary(processed_docs)"
      ],
      "execution_count": null,
      "outputs": []
    },
    {
      "cell_type": "code",
      "metadata": {
        "id": "nQobfa0oTwna",
        "colab": {
          "base_uri": "https://localhost:8080/"
        },
        "outputId": "e42cfb08-e61e-4bdf-c7da-72e5b9bdd424"
      },
      "source": [
        "'''\n",
        "Checking dictionary created\n",
        "'''\n",
        "count = 0\n",
        "for k, v in dictionary.iteritems():\n",
        "    print(k, v)\n",
        "    count += 1\n",
        "    if count > 10:\n",
        "        break"
      ],
      "execution_count": null,
      "outputs": [
        {
          "output_type": "stream",
          "name": "stdout",
          "text": [
            "0 broadcast\n",
            "1 communiti\n",
            "2 decid\n",
            "3 licenc\n",
            "4 awar\n",
            "5 defam\n",
            "6 wit\n",
            "7 call\n",
            "8 infrastructur\n",
            "9 protect\n",
            "10 summit\n"
          ]
        }
      ]
    },
    {
      "cell_type": "markdown",
      "metadata": {
        "id": "GTHJVVEsTwnb"
      },
      "source": [
        "** Gensim filter_extremes **\n",
        "\n",
        "[`filter_extremes(no_below=5, no_above=0.5, keep_n=100000)`](https://radimrehurek.com/gensim/corpora/dictionary.html#gensim.corpora.dictionary.Dictionary.filter_extremes)\n",
        "\n",
        "Filter out tokens that appear in\n",
        "\n",
        "* less than no_below documents (absolute number) or\n",
        "* more than no_above documents (fraction of total corpus size, not absolute number).\n",
        "* after (1) and (2), keep only the first keep_n most frequent tokens (or keep all if None)."
      ]
    },
    {
      "cell_type": "code",
      "metadata": {
        "id": "LCLIb-YMTwnb"
      },
      "source": [
        "'''\n",
        "Remove very rare and very common words:\n",
        "\n",
        "- words appearing less than 15 times\n",
        "- words appearing in more than 10% of all documents\n",
        "- keep 100000 most frequent tokens\n",
        "'''\n",
        "# TODO: apply dictionary.filter_extremes() with the parameters mentioned above\n",
        "dictionary.filter_extremes(no_below=15, no_above=0.1, keep_n=100000)"
      ],
      "execution_count": null,
      "outputs": []
    },
    {
      "cell_type": "markdown",
      "metadata": {
        "id": "BorTUkRkTwnc"
      },
      "source": [
        "** Gensim doc2bow **\n",
        "\n",
        "[`doc2bow(document)`](https://radimrehurek.com/gensim/corpora/dictionary.html#gensim.corpora.dictionary.Dictionary.doc2bow)\n",
        "\n",
        "* Convert document (a list of words) into the bag-of-words format = list of (token_id, token_count) 2-tuples. Each word is assumed to be a tokenized and normalized string (either unicode or utf8-encoded). No further preprocessing is done on the words in document; apply tokenization, stemming etc. before calling this method."
      ]
    },
    {
      "cell_type": "code",
      "metadata": {
        "id": "cPSLLr3dTwnd"
      },
      "source": [
        "'''\n",
        "Create the Bag-of-words model for each document i.e for each document we create a dictionary reporting how many\n",
        "words and how many times those words appear. Save this to 'bow_corpus'.\n",
        "Hint: Since we want a BoW model for each document, you can use list comprehension instead of for loops. List\n",
        "comprehension is the more pythonic way.\n",
        "'''\n",
        "#  Todo:\n",
        "bow_corpus = [dictionary.doc2bow(doc) for doc in processed_docs]"
      ],
      "execution_count": null,
      "outputs": []
    },
    {
      "cell_type": "code",
      "metadata": {
        "id": "HyCgV5fjTwnd",
        "colab": {
          "base_uri": "https://localhost:8080/"
        },
        "outputId": "5a4571e5-028c-43b7-cb98-63fc6911de4a"
      },
      "source": [
        "'''\n",
        "Checking Bag of Words corpus for our sample document --> (token_id, token_count)\n",
        "'''\n",
        "bow_corpus[document_num]"
      ],
      "execution_count": null,
      "outputs": [
        {
          "output_type": "execute_result",
          "data": {
            "text/plain": [
              "[(71, 1), (107, 1), (462, 1), (3530, 1)]"
            ]
          },
          "metadata": {},
          "execution_count": 22
        }
      ]
    },
    {
      "cell_type": "code",
      "metadata": {
        "id": "8gHQRiQvTwnf",
        "colab": {
          "base_uri": "https://localhost:8080/"
        },
        "outputId": "6aa75c11-5352-4838-ec0a-0f7071c39830"
      },
      "source": [
        "'''\n",
        "Preview BOW for our sample preprocessed document\n",
        "'''\n",
        "# Here document_num is document number 4310 which we have checked in Step 2\n",
        "bow_doc_4310 = bow_corpus[document_num]\n",
        "\n",
        "for i in range(len(bow_doc_4310)):\n",
        "    print(\"Word {} (\\\"{}\\\") appears {} time.\".format(bow_doc_4310[i][0], \n",
        "                                                     dictionary[bow_doc_4310[i][0]], \n",
        "                                                     bow_doc_4310[i][1]))"
      ],
      "execution_count": null,
      "outputs": [
        {
          "output_type": "stream",
          "name": "stdout",
          "text": [
            "Word 71 (\"bushfir\") appears 1 time.\n",
            "Word 107 (\"help\") appears 1 time.\n",
            "Word 462 (\"rain\") appears 1 time.\n",
            "Word 3530 (\"dampen\") appears 1 time.\n"
          ]
        }
      ]
    },
    {
      "cell_type": "markdown",
      "metadata": {
        "id": "WTARdjEzTwnf"
      },
      "source": [
        "## Step 3.2: TF-IDF on our document set ##\n",
        "\n",
        "While performing TF-IDF on the corpus is not necessary for LDA implemention using the gensim model, it is recemmended. TF-IDF expects a bag-of-words (integer values) training corpus during initialization. During transformation, it will take a vector and return another vector of the same dimensionality.\n",
        "\n",
        "*Please note: The author of Gensim dictates the standard procedure for LDA to be using the Bag of Words model.*"
      ]
    },
    {
      "cell_type": "markdown",
      "metadata": {
        "id": "9T80Xly-Twng"
      },
      "source": [
        "** TF-IDF stands for \"Term Frequency, Inverse Document Frequency\".**\n",
        "\n",
        "* It is a way to score the importance of words (or \"terms\") in a document based on how frequently they appear across multiple documents.\n",
        "* If a word appears frequently in a document, it's important. Give the word a high score. But if a word appears in many documents, it's not a unique identifier. Give the word a low score.\n",
        "* Therefore, common words like \"the\" and \"for\", which appear in many documents, will be scaled down. Words that appear frequently in a single document will be scaled up.\n",
        "\n",
        "In other words:\n",
        "\n",
        "* TF(w) = `(Number of times term w appears in a document) / (Total number of terms in the document)`.\n",
        "* IDF(w) = `log_e(Total number of documents / Number of documents with term w in it)`.\n",
        "\n",
        "** For example **\n",
        "\n",
        "* Consider a document containing `100` words wherein the word 'tiger' appears 3 times. \n",
        "* The term frequency (i.e., tf) for 'tiger' is then: \n",
        "    - `TF = (3 / 100) = 0.03`. \n",
        "\n",
        "* Now, assume we have `10 million` documents and the word 'tiger' appears in `1000` of these. Then, the inverse document frequency (i.e., idf) is calculated as:\n",
        "    - `IDF = log(10,000,000 / 1,000) = 4`. \n",
        "\n",
        "* Thus, the Tf-idf weight is the product of these quantities: \n",
        "    - `TF-IDF = 0.03 * 4 = 0.12`."
      ]
    },
    {
      "cell_type": "code",
      "metadata": {
        "id": "s76jn0kGTwnh"
      },
      "source": [
        "'''\n",
        "Create tf-idf model object using models.TfidfModel on 'bow_corpus' and save it to 'tfidf'\n",
        "'''\n",
        "from gensim import corpora, models\n",
        "# TODO\n",
        "tfidf = models.TfidfModel(bow_corpus)\n"
      ],
      "execution_count": null,
      "outputs": []
    },
    {
      "cell_type": "code",
      "metadata": {
        "id": "o0n-6_RmTwnh"
      },
      "source": [
        "'''\n",
        "Apply transformation to the entire corpus and call it 'corpus_tfidf'\n",
        "'''\n",
        "# TODO\n",
        "corpus_tfidf = tfidf[bow_corpus]"
      ],
      "execution_count": null,
      "outputs": []
    },
    {
      "cell_type": "code",
      "metadata": {
        "id": "umZNlm5bTwni",
        "colab": {
          "base_uri": "https://localhost:8080/"
        },
        "outputId": "b8b9e7ac-676a-49c2-8cce-5a928278ee9c"
      },
      "source": [
        "'''\n",
        "Preview TF-IDF scores for our first document --> --> (token_id, tfidf score)\n",
        "'''\n",
        "from pprint import pprint\n",
        "for doc in corpus_tfidf:\n",
        "    pprint(doc)\n",
        "    break"
      ],
      "execution_count": null,
      "outputs": [
        {
          "output_type": "stream",
          "name": "stdout",
          "text": [
            "[(0, 0.5959813347777092),\n",
            " (1, 0.39204529549491984),\n",
            " (2, 0.48531419274988147),\n",
            " (3, 0.5055461098578569)]\n"
          ]
        }
      ]
    },
    {
      "cell_type": "markdown",
      "metadata": {
        "id": "uLZAS31WTwnj"
      },
      "source": [
        "## Step 4.1: Running LDA using Bag of Words ##\n",
        "\n",
        "We are going for 10 topics in the document corpus.\n",
        "\n",
        "** We will be running LDA using all CPU cores to parallelize and speed up model training.**\n",
        "\n",
        "Some of the parameters we will be tweaking are:\n",
        "\n",
        "* **num_topics** is the number of requested latent topics to be extracted from the training corpus.\n",
        "* **id2word** is a mapping from word ids (integers) to words (strings). It is used to determine the vocabulary size, as well as for debugging and topic printing.\n",
        "* **workers** is the number of extra processes to use for parallelization. Uses all available cores by default.\n",
        "* **alpha** and **eta** are hyperparameters that affect sparsity of the document-topic (theta) and topic-word (lambda) distributions. We will let these be the default values for now(default value is `1/num_topics`)\n",
        "    - Alpha is the per document topic distribution.\n",
        "        * High alpha: Every document has a mixture of all topics(documents appear similar to each other).\n",
        "        * Low alpha: Every document has a mixture of very few topics\n",
        "\n",
        "    - Eta is the per topic word distribution.\n",
        "        * High eta: Each topic has a mixture of most words(topics appear similar to each other).\n",
        "        * Low eta: Each topic has a mixture of few words.\n",
        "\n",
        "* ** passes ** is the number of training passes through the corpus. For  example, if the training corpus has 50,000 documents, chunksize is  10,000, passes is 2, then online training is done in 10 updates: \n",
        "    * `#1 documents 0-9,999 `\n",
        "    * `#2 documents 10,000-19,999 `\n",
        "    * `#3 documents 20,000-29,999 `\n",
        "    * `#4 documents 30,000-39,999 `\n",
        "    * `#5 documents 40,000-49,999 `\n",
        "    * `#6 documents 0-9,999 `\n",
        "    * `#7 documents 10,000-19,999 `\n",
        "    * `#8 documents 20,000-29,999 `\n",
        "    * `#9 documents 30,000-39,999 `\n",
        "    * `#10 documents 40,000-49,999` "
      ]
    },
    {
      "cell_type": "code",
      "metadata": {
        "id": "ff6HcF46Twnj"
      },
      "source": [
        "# LDA multicore \n",
        "'''\n",
        "Train your lda model using gensim.models.LdaMulticore and save it to 'lda_model'\n",
        "\n",
        "If Multicore is throwing errors on you laptop, use LDA mono-core, gensim.models.LdaModel\n",
        "'''\n",
        "# TODO\n",
        "\n",
        "lda_model = gensim.models.LdaMulticore(bow_corpus, \n",
        "                                       num_topics=10, \n",
        "                                       id2word = dictionary, \n",
        "                                       passes = 2, \n",
        "                                       workers=2)"
      ],
      "execution_count": null,
      "outputs": []
    },
    {
      "cell_type": "code",
      "metadata": {
        "id": "vr8DL91ITwnk",
        "colab": {
          "base_uri": "https://localhost:8080/"
        },
        "outputId": "075e8e5a-95f6-4379-f8a5-8652ff8f4845"
      },
      "source": [
        "'''\n",
        "For each topic, we will explore the words occuring in that topic and its relative weight\n",
        "'''\n",
        "for idx, topic in lda_model.print_topics(-1):\n",
        "    print(\"Topic: {} \\nWords: {}\".format(idx, topic))\n",
        "    print(\"\\n\")"
      ],
      "execution_count": null,
      "outputs": [
        {
          "output_type": "stream",
          "name": "stdout",
          "text": [
            "Topic: 0 \n",
            "Words: 0.022*\"closer\" + 0.021*\"test\" + 0.020*\"lead\" + 0.017*\"talk\" + 0.014*\"south\" + 0.013*\"law\" + 0.012*\"take\" + 0.012*\"timor\" + 0.010*\"clash\" + 0.010*\"west\"\n",
            "\n",
            "\n",
            "Topic: 1 \n",
            "Words: 0.091*\"polic\" + 0.028*\"seek\" + 0.025*\"investig\" + 0.022*\"miss\" + 0.016*\"search\" + 0.015*\"probe\" + 0.013*\"region\" + 0.011*\"offic\" + 0.011*\"bodi\" + 0.011*\"shoot\"\n",
            "\n",
            "\n",
            "Topic: 2 \n",
            "Words: 0.016*\"record\" + 0.014*\"break\" + 0.014*\"australia\" + 0.014*\"look\" + 0.012*\"drought\" + 0.012*\"rain\" + 0.012*\"price\" + 0.012*\"dead\" + 0.010*\"crew\" + 0.009*\"fall\"\n",
            "\n",
            "\n",
            "Topic: 3 \n",
            "Words: 0.051*\"water\" + 0.032*\"warn\" + 0.018*\"urg\" + 0.015*\"industri\" + 0.014*\"continu\" + 0.013*\"farmer\" + 0.012*\"busi\" + 0.012*\"begin\" + 0.011*\"worker\" + 0.010*\"threat\"\n",
            "\n",
            "\n",
            "Topic: 4 \n",
            "Words: 0.016*\"elect\" + 0.016*\"iraq\" + 0.014*\"howard\" + 0.013*\"labor\" + 0.013*\"market\" + 0.013*\"deal\" + 0.013*\"reject\" + 0.012*\"council\" + 0.012*\"say\" + 0.012*\"appeal\"\n",
            "\n",
            "\n",
            "Topic: 5 \n",
            "Words: 0.040*\"charg\" + 0.035*\"court\" + 0.033*\"face\" + 0.022*\"kill\" + 0.020*\"murder\" + 0.020*\"accus\" + 0.020*\"forc\" + 0.019*\"attack\" + 0.016*\"case\" + 0.013*\"trial\"\n",
            "\n",
            "\n",
            "Topic: 6 \n",
            "Words: 0.018*\"return\" + 0.017*\"hold\" + 0.014*\"question\" + 0.014*\"work\" + 0.014*\"resid\" + 0.012*\"firefight\" + 0.011*\"blaze\" + 0.010*\"rais\" + 0.010*\"unit\" + 0.010*\"battl\"\n",
            "\n",
            "\n",
            "Topic: 7 \n",
            "Words: 0.038*\"crash\" + 0.025*\"jail\" + 0.021*\"road\" + 0.017*\"die\" + 0.016*\"death\" + 0.016*\"coast\" + 0.014*\"get\" + 0.013*\"year\" + 0.013*\"driver\" + 0.013*\"prompt\"\n",
            "\n",
            "\n",
            "Topic: 8 \n",
            "Words: 0.061*\"govt\" + 0.029*\"council\" + 0.024*\"fund\" + 0.022*\"plan\" + 0.017*\"urg\" + 0.017*\"boost\" + 0.013*\"servic\" + 0.012*\"rise\" + 0.012*\"defend\" + 0.011*\"health\"\n",
            "\n",
            "\n",
            "Topic: 9 \n",
            "Words: 0.036*\"report\" + 0.024*\"opposit\" + 0.023*\"power\" + 0.014*\"win\" + 0.013*\"final\" + 0.012*\"say\" + 0.012*\"state\" + 0.011*\"compani\" + 0.009*\"join\" + 0.009*\"nuclear\"\n",
            "\n",
            "\n"
          ]
        }
      ]
    },
    {
      "cell_type": "markdown",
      "metadata": {
        "id": "ym2xg1ESTwnk"
      },
      "source": [
        "### Classification of the topics ###\n",
        "\n",
        "Using the words in each topic and their corresponding weights, what categories were you able to infer?\n",
        "\n",
        "* 0: \n",
        "* 1: \n",
        "* 2: \n",
        "* 3: \n",
        "* 4: \n",
        "* 5: \n",
        "* 6: \n",
        "* 7:  \n",
        "* 8: \n",
        "* 9: "
      ]
    },
    {
      "cell_type": "markdown",
      "metadata": {
        "id": "oogD-poqTwnl"
      },
      "source": [
        "## Step 4.2 Running LDA using TF-IDF ##"
      ]
    },
    {
      "cell_type": "code",
      "metadata": {
        "id": "qb2K5PudTwnm"
      },
      "source": [
        "'''\n",
        "Define lda model using corpus_tfidf\n",
        "'''\n",
        "# TODO\n",
        "lda_model_tfidf = gensim.models.LdaMulticore(corpus_tfidf, \n",
        "                                       num_topics=10, \n",
        "                                       id2word = dictionary, \n",
        "                                       passes = 2, \n",
        "                                       workers=2)"
      ],
      "execution_count": null,
      "outputs": []
    },
    {
      "cell_type": "code",
      "metadata": {
        "id": "00XG3JI0Twnm",
        "colab": {
          "base_uri": "https://localhost:8080/"
        },
        "outputId": "dd6c1595-50dd-4bde-b347-db678a800af5"
      },
      "source": [
        "'''\n",
        "For each topic, we will explore the words occuring in that topic and its relative weight\n",
        "'''\n",
        "for idx, topic in lda_model_tfidf.print_topics(-1):\n",
        "    print(\"Topic: {} Word: {}\".format(idx, topic))\n",
        "    print(\"\\n\")"
      ],
      "execution_count": null,
      "outputs": [
        {
          "output_type": "stream",
          "name": "stdout",
          "text": [
            "Topic: 0 Word: 0.013*\"rudd\" + 0.008*\"solomon\" + 0.008*\"liber\" + 0.006*\"south\" + 0.006*\"honour\" + 0.005*\"ralli\" + 0.005*\"pipelin\" + 0.005*\"poll\" + 0.005*\"resourc\" + 0.005*\"pulp\"\n",
            "\n",
            "\n",
            "Topic: 1 Word: 0.008*\"coast\" + 0.007*\"price\" + 0.006*\"gold\" + 0.006*\"nurs\" + 0.006*\"toll\" + 0.006*\"staff\" + 0.006*\"rise\" + 0.006*\"govt\" + 0.006*\"rais\" + 0.006*\"qanta\"\n",
            "\n",
            "\n",
            "Topic: 2 Word: 0.016*\"kill\" + 0.013*\"iraq\" + 0.013*\"arrest\" + 0.011*\"bomb\" + 0.008*\"firefight\" + 0.008*\"troop\" + 0.007*\"polic\" + 0.007*\"blast\" + 0.007*\"cyclon\" + 0.006*\"attack\"\n",
            "\n",
            "\n",
            "Topic: 3 Word: 0.009*\"england\" + 0.008*\"plead\" + 0.007*\"guilti\" + 0.007*\"uranium\" + 0.007*\"season\" + 0.006*\"elect\" + 0.006*\"blue\" + 0.006*\"dismiss\" + 0.006*\"fin\" + 0.006*\"comment\"\n",
            "\n",
            "\n",
            "Topic: 4 Word: 0.012*\"hick\" + 0.007*\"israel\" + 0.007*\"iemma\" + 0.006*\"isra\" + 0.006*\"restrict\" + 0.006*\"palestinian\" + 0.006*\"afghanistan\" + 0.006*\"eas\" + 0.006*\"coal\" + 0.006*\"withdraw\"\n",
            "\n",
            "\n",
            "Topic: 5 Word: 0.021*\"charg\" + 0.018*\"court\" + 0.018*\"polic\" + 0.015*\"murder\" + 0.013*\"search\" + 0.011*\"face\" + 0.011*\"miss\" + 0.011*\"teen\" + 0.011*\"jail\" + 0.010*\"assault\"\n",
            "\n",
            "\n",
            "Topic: 6 Word: 0.040*\"closer\" + 0.029*\"crash\" + 0.013*\"die\" + 0.010*\"fatal\" + 0.009*\"polic\" + 0.009*\"road\" + 0.009*\"accid\" + 0.008*\"plane\" + 0.008*\"investig\" + 0.007*\"highway\"\n",
            "\n",
            "\n",
            "Topic: 7 Word: 0.009*\"storm\" + 0.008*\"control\" + 0.008*\"burn\" + 0.006*\"damag\" + 0.005*\"flag\" + 0.005*\"energi\" + 0.005*\"line\" + 0.005*\"open\" + 0.005*\"strong\" + 0.005*\"spend\"\n",
            "\n",
            "\n",
            "Topic: 8 Word: 0.013*\"drought\" + 0.009*\"govt\" + 0.008*\"plan\" + 0.008*\"nuclear\" + 0.008*\"water\" + 0.008*\"council\" + 0.007*\"rate\" + 0.006*\"farmer\" + 0.006*\"rat\" + 0.006*\"worri\"\n",
            "\n",
            "\n",
            "Topic: 9 Word: 0.011*\"govt\" + 0.010*\"health\" + 0.008*\"fund\" + 0.008*\"water\" + 0.007*\"indigen\" + 0.007*\"urg\" + 0.007*\"servic\" + 0.007*\"council\" + 0.006*\"plan\" + 0.006*\"farm\"\n",
            "\n",
            "\n"
          ]
        }
      ]
    },
    {
      "cell_type": "markdown",
      "metadata": {
        "id": "iijHu0iKTwnn"
      },
      "source": [
        "### Classification of the topics ###\n",
        "\n",
        "As we can see, when using tf-idf, heavier weights are given to words that are not as frequent which results in nouns being factored in. That makes it harder to figure out the categories as nouns can be hard to categorize. This goes to show that the models we apply depend on the type of corpus of text we are dealing with. \n",
        "\n",
        "Using the words in each topic and their corresponding weights, what categories could you find?\n",
        "\n",
        "* 0: \n",
        "* 1:  \n",
        "* 2: \n",
        "* 3: \n",
        "* 4:  \n",
        "* 5: \n",
        "* 6: \n",
        "* 7: \n",
        "* 8: \n",
        "* 9: "
      ]
    },
    {
      "cell_type": "markdown",
      "metadata": {
        "id": "OXvcdR94Twno"
      },
      "source": [
        "## Step 5.1: Performance evaluation by classifying sample document using LDA Bag of Words model\n",
        "\n",
        "We will check to see where our test document would be classified. "
      ]
    },
    {
      "cell_type": "code",
      "metadata": {
        "id": "_UAnemCoTwnp",
        "colab": {
          "base_uri": "https://localhost:8080/"
        },
        "outputId": "d7915cc6-ff86-410e-f47c-6f97df9ad28c"
      },
      "source": [
        "'''\n",
        "Text of sample document 4310\n",
        "'''\n",
        "processed_docs[4310]"
      ],
      "execution_count": null,
      "outputs": [
        {
          "output_type": "execute_result",
          "data": {
            "text/plain": [
              "['rain', 'help', 'dampen', 'bushfir']"
            ]
          },
          "metadata": {},
          "execution_count": 32
        }
      ]
    },
    {
      "cell_type": "code",
      "metadata": {
        "id": "SVKPLVNlTwnp",
        "colab": {
          "base_uri": "https://localhost:8080/"
        },
        "outputId": "759ac0a1-adec-437f-9aa5-c2ea54058b3c"
      },
      "source": [
        "'''\n",
        "Check which topic our test document belongs to using the LDA Bag of Words model.\n",
        "'''\n",
        "\n",
        "# Our test document is document number 4310\n",
        "for index, score in sorted(lda_model[bow_corpus[document_num]], key=lambda tup: -1*tup[1]):\n",
        "    print(\"\\nScore: {}\\t \\nTopic: {}\".format(score, lda_model.print_topic(index, 10)))"
      ],
      "execution_count": null,
      "outputs": [
        {
          "output_type": "stream",
          "name": "stdout",
          "text": [
            "\n",
            "Score: 0.48661112785339355\t \n",
            "Topic: 0.016*\"record\" + 0.014*\"break\" + 0.014*\"australia\" + 0.014*\"look\" + 0.012*\"drought\" + 0.012*\"rain\" + 0.012*\"price\" + 0.012*\"dead\" + 0.010*\"crew\" + 0.009*\"fall\"\n",
            "\n",
            "Score: 0.35336190462112427\t \n",
            "Topic: 0.091*\"polic\" + 0.028*\"seek\" + 0.025*\"investig\" + 0.022*\"miss\" + 0.016*\"search\" + 0.015*\"probe\" + 0.013*\"region\" + 0.011*\"offic\" + 0.011*\"bodi\" + 0.011*\"shoot\"\n",
            "\n",
            "Score: 0.020010266453027725\t \n",
            "Topic: 0.051*\"water\" + 0.032*\"warn\" + 0.018*\"urg\" + 0.015*\"industri\" + 0.014*\"continu\" + 0.013*\"farmer\" + 0.012*\"busi\" + 0.012*\"begin\" + 0.011*\"worker\" + 0.010*\"threat\"\n",
            "\n",
            "Score: 0.020006544888019562\t \n",
            "Topic: 0.018*\"return\" + 0.017*\"hold\" + 0.014*\"question\" + 0.014*\"work\" + 0.014*\"resid\" + 0.012*\"firefight\" + 0.011*\"blaze\" + 0.010*\"rais\" + 0.010*\"unit\" + 0.010*\"battl\"\n",
            "\n",
            "Score: 0.020003756508231163\t \n",
            "Topic: 0.061*\"govt\" + 0.029*\"council\" + 0.024*\"fund\" + 0.022*\"plan\" + 0.017*\"urg\" + 0.017*\"boost\" + 0.013*\"servic\" + 0.012*\"rise\" + 0.012*\"defend\" + 0.011*\"health\"\n",
            "\n",
            "Score: 0.020003383979201317\t \n",
            "Topic: 0.022*\"closer\" + 0.021*\"test\" + 0.020*\"lead\" + 0.017*\"talk\" + 0.014*\"south\" + 0.013*\"law\" + 0.012*\"take\" + 0.012*\"timor\" + 0.010*\"clash\" + 0.010*\"west\"\n",
            "\n",
            "Score: 0.020001616328954697\t \n",
            "Topic: 0.038*\"crash\" + 0.025*\"jail\" + 0.021*\"road\" + 0.017*\"die\" + 0.016*\"death\" + 0.016*\"coast\" + 0.014*\"get\" + 0.013*\"year\" + 0.013*\"driver\" + 0.013*\"prompt\"\n",
            "\n",
            "Score: 0.020001335069537163\t \n",
            "Topic: 0.016*\"elect\" + 0.016*\"iraq\" + 0.014*\"howard\" + 0.013*\"labor\" + 0.013*\"market\" + 0.013*\"deal\" + 0.013*\"reject\" + 0.012*\"council\" + 0.012*\"say\" + 0.012*\"appeal\"\n",
            "\n",
            "Score: 0.02000007964670658\t \n",
            "Topic: 0.036*\"report\" + 0.024*\"opposit\" + 0.023*\"power\" + 0.014*\"win\" + 0.013*\"final\" + 0.012*\"say\" + 0.012*\"state\" + 0.011*\"compani\" + 0.009*\"join\" + 0.009*\"nuclear\"\n",
            "\n",
            "Score: 0.020000001415610313\t \n",
            "Topic: 0.040*\"charg\" + 0.035*\"court\" + 0.033*\"face\" + 0.022*\"kill\" + 0.020*\"murder\" + 0.020*\"accus\" + 0.020*\"forc\" + 0.019*\"attack\" + 0.016*\"case\" + 0.013*\"trial\"\n"
          ]
        }
      ]
    },
    {
      "cell_type": "markdown",
      "metadata": {
        "id": "u8aVPsksTwnq"
      },
      "source": [
        "## Step 5.2: Performance evaluation by classifying sample document using LDA TF-IDF model"
      ]
    },
    {
      "cell_type": "code",
      "metadata": {
        "id": "wl6Z8X3BTwnq",
        "colab": {
          "base_uri": "https://localhost:8080/"
        },
        "outputId": "b0b775dc-16f7-46bb-aab5-afcb10086c92"
      },
      "source": [
        "'''\n",
        "Check which topic our test document belongs to using the LDA TF-IDF model.\n",
        "Code would be similar to above\n",
        "'''\n",
        "# Todo\n",
        "for index, score in sorted(lda_model_tfidf[bow_corpus[document_num]], key=lambda tup: -1*tup[1]):\n",
        "    print(\"\\nScore: {}\\t \\nTopic: {}\".format(score, lda_model_tfidf.print_topic(index, 10)))"
      ],
      "execution_count": null,
      "outputs": [
        {
          "output_type": "stream",
          "name": "stdout",
          "text": [
            "\n",
            "Score: 0.819951057434082\t \n",
            "Topic: 0.012*\"hick\" + 0.007*\"israel\" + 0.007*\"iemma\" + 0.006*\"isra\" + 0.006*\"restrict\" + 0.006*\"palestinian\" + 0.006*\"afghanistan\" + 0.006*\"eas\" + 0.006*\"coal\" + 0.006*\"withdraw\"\n",
            "\n",
            "Score: 0.020011229440569878\t \n",
            "Topic: 0.011*\"govt\" + 0.010*\"health\" + 0.008*\"fund\" + 0.008*\"water\" + 0.007*\"indigen\" + 0.007*\"urg\" + 0.007*\"servic\" + 0.007*\"council\" + 0.006*\"plan\" + 0.006*\"farm\"\n",
            "\n",
            "Score: 0.020007509738206863\t \n",
            "Topic: 0.016*\"kill\" + 0.013*\"iraq\" + 0.013*\"arrest\" + 0.011*\"bomb\" + 0.008*\"firefight\" + 0.008*\"troop\" + 0.007*\"polic\" + 0.007*\"blast\" + 0.007*\"cyclon\" + 0.006*\"attack\"\n",
            "\n",
            "Score: 0.020006822422146797\t \n",
            "Topic: 0.013*\"drought\" + 0.009*\"govt\" + 0.008*\"plan\" + 0.008*\"nuclear\" + 0.008*\"water\" + 0.008*\"council\" + 0.007*\"rate\" + 0.006*\"farmer\" + 0.006*\"rat\" + 0.006*\"worri\"\n",
            "\n",
            "Score: 0.02000528946518898\t \n",
            "Topic: 0.040*\"closer\" + 0.029*\"crash\" + 0.013*\"die\" + 0.010*\"fatal\" + 0.009*\"polic\" + 0.009*\"road\" + 0.009*\"accid\" + 0.008*\"plane\" + 0.008*\"investig\" + 0.007*\"highway\"\n",
            "\n",
            "Score: 0.020004689693450928\t \n",
            "Topic: 0.009*\"storm\" + 0.008*\"control\" + 0.008*\"burn\" + 0.006*\"damag\" + 0.005*\"flag\" + 0.005*\"energi\" + 0.005*\"line\" + 0.005*\"open\" + 0.005*\"strong\" + 0.005*\"spend\"\n",
            "\n",
            "Score: 0.02000458352267742\t \n",
            "Topic: 0.021*\"charg\" + 0.018*\"court\" + 0.018*\"polic\" + 0.015*\"murder\" + 0.013*\"search\" + 0.011*\"face\" + 0.011*\"miss\" + 0.011*\"teen\" + 0.011*\"jail\" + 0.010*\"assault\"\n",
            "\n",
            "Score: 0.02000419981777668\t \n",
            "Topic: 0.008*\"coast\" + 0.007*\"price\" + 0.006*\"gold\" + 0.006*\"nurs\" + 0.006*\"toll\" + 0.006*\"staff\" + 0.006*\"rise\" + 0.006*\"govt\" + 0.006*\"rais\" + 0.006*\"qanta\"\n",
            "\n",
            "Score: 0.02000274695456028\t \n",
            "Topic: 0.009*\"england\" + 0.008*\"plead\" + 0.007*\"guilti\" + 0.007*\"uranium\" + 0.007*\"season\" + 0.006*\"elect\" + 0.006*\"blue\" + 0.006*\"dismiss\" + 0.006*\"fin\" + 0.006*\"comment\"\n",
            "\n",
            "Score: 0.020001882687211037\t \n",
            "Topic: 0.013*\"rudd\" + 0.008*\"solomon\" + 0.008*\"liber\" + 0.006*\"south\" + 0.006*\"honour\" + 0.005*\"ralli\" + 0.005*\"pipelin\" + 0.005*\"poll\" + 0.005*\"resourc\" + 0.005*\"pulp\"\n"
          ]
        }
      ]
    },
    {
      "cell_type": "markdown",
      "metadata": {
        "id": "MVjJgePNTwnr"
      },
      "source": [
        "## Step 6: Testing model on unseen document ##"
      ]
    },
    {
      "cell_type": "code",
      "metadata": {
        "id": "75y_l5xqTwnr",
        "colab": {
          "base_uri": "https://localhost:8080/"
        },
        "outputId": "5a5e55be-018e-4ffb-9871-238798b50038"
      },
      "source": [
        "unseen_document = \"My favorite sports activities are running and swimming.\"\n",
        "\n",
        "# Data preprocessing step for the unseen document\n",
        "bow_vector = dictionary.doc2bow(preprocess(unseen_document))\n",
        "\n",
        "for index, score in sorted(lda_model[bow_vector], key=lambda tup: -1*tup[1]):\n",
        "    print(\"Score: {}\\t Topic: {}\".format(score, lda_model.print_topic(index, 5)))"
      ],
      "execution_count": null,
      "outputs": [
        {
          "output_type": "stream",
          "name": "stdout",
          "text": [
            "Score: 0.4200000762939453\t Topic: 0.022*\"closer\" + 0.021*\"test\" + 0.020*\"lead\" + 0.017*\"talk\" + 0.014*\"south\"\n",
            "Score: 0.2199999839067459\t Topic: 0.018*\"return\" + 0.017*\"hold\" + 0.014*\"question\" + 0.014*\"work\" + 0.014*\"resid\"\n",
            "Score: 0.21999235451221466\t Topic: 0.040*\"charg\" + 0.035*\"court\" + 0.033*\"face\" + 0.022*\"kill\" + 0.020*\"murder\"\n",
            "Score: 0.020003903657197952\t Topic: 0.038*\"crash\" + 0.025*\"jail\" + 0.021*\"road\" + 0.017*\"die\" + 0.016*\"death\"\n",
            "Score: 0.02000369131565094\t Topic: 0.036*\"report\" + 0.024*\"opposit\" + 0.023*\"power\" + 0.014*\"win\" + 0.013*\"final\"\n",
            "Score: 0.019999999552965164\t Topic: 0.091*\"polic\" + 0.028*\"seek\" + 0.025*\"investig\" + 0.022*\"miss\" + 0.016*\"search\"\n",
            "Score: 0.019999999552965164\t Topic: 0.016*\"record\" + 0.014*\"break\" + 0.014*\"australia\" + 0.014*\"look\" + 0.012*\"drought\"\n",
            "Score: 0.019999999552965164\t Topic: 0.051*\"water\" + 0.032*\"warn\" + 0.018*\"urg\" + 0.015*\"industri\" + 0.014*\"continu\"\n",
            "Score: 0.019999999552965164\t Topic: 0.016*\"elect\" + 0.016*\"iraq\" + 0.014*\"howard\" + 0.013*\"labor\" + 0.013*\"market\"\n",
            "Score: 0.019999999552965164\t Topic: 0.061*\"govt\" + 0.029*\"council\" + 0.024*\"fund\" + 0.022*\"plan\" + 0.017*\"urg\"\n"
          ]
        }
      ]
    },
    {
      "cell_type": "markdown",
      "metadata": {
        "id": "M9Ku46KWTwnt"
      },
      "source": [
        "### Now, look up different ways we can transform our words or use different techniques or improvements that we can make to make our Topic Classifier more accurate. Write them down below:"
      ]
    },
    {
      "cell_type": "markdown",
      "metadata": {
        "id": "grenf0xKTwnu"
      },
      "source": [
        "**We can:**\n",
        "- Append points here\n",
        "- "
      ]
    }
  ]
}